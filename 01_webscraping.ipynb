{
 "cells": [
  {
   "cell_type": "markdown",
   "metadata": {},
   "source": [
    "# <ins>Predicting Poetic Movements</ins>\n",
    "\n",
    "# Webscraping\n",
    "\n",
    "### Using Selenium and BeautifulSoup\n",
    "\n",
    "- This notebook details my process for scraping genre-labeled poetry from [PoetryFoundation.org](https://www.poetryfoundation.org/).\n",
    "\n",
    "#### Important note\n",
    "Due to the imperfection and idiosyncracies of scraping text from images, a lot of rescraping was necessary, sometimes in a manner that is best described, rather unfortunately, as nonprogrammatic. As a result, this notebook is extremely messy, which is not a reflection on the other notebooks for this project.\n",
    "\n",
    "Thank you for understanding :)\n",
    "\n",
    "## Table of contents\n",
    "\n",
    "1. [Import necessary packages](#Import-necessary-packages)\n",
    "2. [Initial scrape](#Initial-scrape)\n",
    "\n",
    "    - [Text poems](#Text-poems)\n",
    "    - [Scanned poems](#Scanned-poems)\n",
    "\n",
    "\n",
    "3. [Rescrape](#Rescrape)\n",
    "\n",
    "    - [Combine DataFrames](#Combine-DataFrames)\n",
    "    \n",
    "    \n",
    "4. [Next notebook: Data Cleaning](#Next-notebook:-Data-Cleaning)\n",
    "    \n",
    "## Import necessary packages\n",
    "\n",
    "[[go back to the top](#Predicting-Poetic-Movements)]"
   ]
  },
  {
   "cell_type": "code",
   "execution_count": 170,
   "metadata": {},
   "outputs": [
    {
     "name": "stdout",
     "output_type": "stream",
     "text": [
      "The autoreload extension is already loaded. To reload it, use:\n",
      "  %reload_ext autoreload\n"
     ]
    }
   ],
   "source": [
    "# custom functions for webscraping\n",
    "from functions_webscraping import *\n",
    "\n",
    "# standard dataframe packages\n",
    "import pandas as pd\n",
    "import numpy as np\n",
    "\n",
    "# timekeeping/progress packages\n",
    "import time\n",
    "from tqdm import tqdm\n",
    "\n",
    "# reload functions/libraries when edited\n",
    "%load_ext autoreload\n",
    "%autoreload 2\n",
    "\n",
    "# ignore warnings\n",
    "import warnings\n",
    "warnings.filterwarnings('ignore')\n",
    "\n",
    "# increase column width of dataframe\n",
    "pd.set_option('max_colwidth', 150)"
   ]
  },
  {
   "cell_type": "markdown",
   "metadata": {},
   "source": [
    "## Initial scrape\n",
    "\n",
    "[[go back to the top](#Predicting-Poetic-Movements)]\n",
    "\n",
    "- Load URL codes for each genre.\n",
    "- Create dictionary of URLs to poets' pages within each genre.\n",
    "    - *NOTE: The function for this process uses Selenium, which will open dummy browser windows, so to speak.*\n",
    "- Scrape URLs to poems' pages within each genre, separating into two groups:\n",
    "    - Poems known to be in text format on the site.\n",
    "    - Poem suspected to be within scanned images.\n",
    "- Attempt to scrape each variety of poem."
   ]
  },
  {
   "cell_type": "code",
   "execution_count": 536,
   "metadata": {},
   "outputs": [
    {
     "data": {
      "text/plain": [
       "{'augustan': 149,\n",
       " 'beat': 150,\n",
       " 'black_arts_movement': 304,\n",
       " 'black_mountain': 151,\n",
       " 'confessional': 152,\n",
       " 'fugitive': 153,\n",
       " 'georgian': 154,\n",
       " 'harlem_renaissance': 155,\n",
       " 'imagist': 156,\n",
       " 'language_poetry': 157,\n",
       " 'middle_english': 158,\n",
       " 'modern': 159,\n",
       " 'new_york_school': 160,\n",
       " 'new_york_school_2nd_generation': 161,\n",
       " 'objectivist': 162,\n",
       " 'renaissance': 163,\n",
       " 'romantic': 164,\n",
       " 'victorian': 165}"
      ]
     },
     "execution_count": 536,
     "metadata": {},
     "output_type": "execute_result"
    }
   ],
   "source": [
    "# dictionary of genre codes found in poetryfoundation.org urls\n",
    "genre_codes = load_genre_codes()\n",
    "genre_codes"
   ]
  },
  {
   "cell_type": "markdown",
   "metadata": {},
   "source": [
    "- Run function in a loop to create dictionary of poet urls."
   ]
  },
  {
   "cell_type": "code",
   "execution_count": null,
   "metadata": {},
   "outputs": [],
   "source": [
    "# dictionary creation using custom function\n",
    "poet_urls = {genre: poet_urls_by_genre(genre_code, 3) for genre, genre_code in genre_codes.items()}\n",
    "\n",
    "# check a genre\n",
    "poet_urls['augustan']"
   ]
  },
  {
   "cell_type": "markdown",
   "metadata": {},
   "source": [
    "- Selenium can be finicky, so the loop only partially worked.\n",
    "- I'll re-run sections in which some URLs are missing."
   ]
  },
  {
   "cell_type": "code",
   "execution_count": 196,
   "metadata": {},
   "outputs": [],
   "source": [
    "# re-run on genre\n",
    "poet_urls['black_arts_movement'] = poet_urls_by_genre(genre_codes['black_arts_movement'])"
   ]
  },
  {
   "cell_type": "code",
   "execution_count": 198,
   "metadata": {},
   "outputs": [],
   "source": [
    "# re-run on genre\n",
    "poet_urls['modern'] = poet_urls_by_genre(genre_codes['modern'])"
   ]
  },
  {
   "cell_type": "code",
   "execution_count": 200,
   "metadata": {},
   "outputs": [],
   "source": [
    "# re-run on genre\n",
    "poet_urls['renaissance'] = poet_urls_by_genre(genre_codes['renaissance'])"
   ]
  },
  {
   "cell_type": "code",
   "execution_count": 203,
   "metadata": {},
   "outputs": [],
   "source": [
    "# re-run on genre\n",
    "poet_urls['romantic'] = poet_urls_by_genre(genre_codes['romantic'])"
   ]
  },
  {
   "cell_type": "code",
   "execution_count": 206,
   "metadata": {},
   "outputs": [],
   "source": [
    "# re-run on genre\n",
    "poet_urls['victorian'] = poet_urls_by_genre(genre_codes['victorian'])"
   ]
  },
  {
   "cell_type": "code",
   "execution_count": 207,
   "metadata": {},
   "outputs": [
    {
     "data": {
      "text/plain": [
       "{'augustan': 23,\n",
       " 'beat': 13,\n",
       " 'black_arts_movement': 23,\n",
       " 'black_mountain': 10,\n",
       " 'confessional': 7,\n",
       " 'fugitive': 7,\n",
       " 'georgian': 22,\n",
       " 'harlem_renaissance': 17,\n",
       " 'imagist': 6,\n",
       " 'language_poetry': 18,\n",
       " 'middle_english': 3,\n",
       " 'modern': 54,\n",
       " 'new_york_school': 9,\n",
       " 'new_york_school_2nd_generation': 16,\n",
       " 'objectivist': 5,\n",
       " 'renaissance': 41,\n",
       " 'romantic': 51,\n",
       " 'victorian': 55}"
      ]
     },
     "execution_count": 207,
     "metadata": {},
     "output_type": "execute_result"
    }
   ],
   "source": [
    "# confirm all urls have been grabbed\n",
    "url_lens = {k:len(v) for k,v in poet_urls.items()}\n",
    "url_lens"
   ]
  },
  {
   "cell_type": "markdown",
   "metadata": {},
   "source": [
    "- Ezra Pound and Richard Aldington both appear in two genres: Imagist and Modern.\n",
    "- Since Modern has so many poets within it, and Imagist so few, I'll give them to the Imagists."
   ]
  },
  {
   "cell_type": "code",
   "execution_count": 541,
   "metadata": {},
   "outputs": [],
   "source": [
    "# remove urls that appear in two genres\n",
    "poet_urls['modern'] = [url for url in poet_urls['modern'] \\\n",
    "                        if url not in \\\n",
    "                        ['https://www.poetryfoundation.org/poets/richard-aldington', \n",
    "                         'https://www.poetryfoundation.org/poets/ezra-pound']]"
   ]
  },
  {
   "cell_type": "code",
   "execution_count": 544,
   "metadata": {},
   "outputs": [
    {
     "data": {
      "text/plain": [
       "52"
      ]
     },
     "execution_count": 544,
     "metadata": {},
     "output_type": "execute_result"
    }
   ],
   "source": [
    "# confirm drop\n",
    "url_lens = {k:len(v) for k,v in poet_urls.items()}\n",
    "url_lens['modern']"
   ]
  },
  {
   "cell_type": "markdown",
   "metadata": {},
   "source": [
    "#### 💾 Save/Load poet URLs dictionary"
   ]
  },
  {
   "cell_type": "code",
   "execution_count": 545,
   "metadata": {},
   "outputs": [],
   "source": [
    "# # uncomment to save\n",
    "# with gzip.open('data/poet_url_dict.pkl', 'wb') as goodbye:\n",
    "#     pickle.dump(poet_urls, goodbye, protocol=pickle.HIGHEST_PROTOCOL)\n",
    "\n",
    "# # uncomment to load\n",
    "# with gzip.open('data/poet_url_dict.pkl', 'rb') as hello:\n",
    "#     poet_url_dict = pickle.load(hello)"
   ]
  },
  {
   "cell_type": "markdown",
   "metadata": {},
   "source": [
    "- Scrape poem URLs.\n",
    "\n",
    "⏰ *NOTE*: Next cell takes about 10 minutes to run."
   ]
  },
  {
   "cell_type": "code",
   "execution_count": 7,
   "metadata": {},
   "outputs": [
    {
     "name": "stdout",
     "output_type": "stream",
     "text": [
      "CPU times: user 41.1 s, sys: 699 ms, total: 41.8 s\n",
      "Wall time: 9min 32s\n"
     ]
    }
   ],
   "source": [
    "%%time\n",
    "\n",
    "# loop over keys and values of dictionary\n",
    "for genre, poet_urls in poet_url_dict.items():\n",
    "    # scrape poem urls (text and scan poems) for each poet in each genre\n",
    "    # now each poet's url with be a key and\n",
    "    # the value will be a tuple of their text poems' urls and their scan poems' urls \n",
    "    poet_url_dict[genre] = [{poet_url: poem_url_scraper(poet_url)} for poet_url in poet_urls]"
   ]
  },
  {
   "cell_type": "markdown",
   "metadata": {},
   "source": [
    "- Simplify the structure of the dictionary."
   ]
  },
  {
   "cell_type": "code",
   "execution_count": 8,
   "metadata": {},
   "outputs": [],
   "source": [
    "# instantiate dictionaries of text and scan urls in each genre\n",
    "poem_url_dict = {genre:{'text_urls':[],'scan_urls':[]} for genre in poet_url_dict}\n",
    "\n",
    "# fill in empty lists with each type of url\n",
    "for genre, poets in poet_url_dict.items():\n",
    "    for poet in poets:\n",
    "        for poet_url, poems in poet.items():\n",
    "            poem_url_dict[genre]['text_urls'].extend(poems[0])\n",
    "            poem_url_dict[genre]['scan_urls'].extend(poems[1])"
   ]
  },
  {
   "cell_type": "code",
   "execution_count": 12,
   "metadata": {},
   "outputs": [],
   "source": [
    "#-------DATA STRUCTURE--------#\n",
    "#\n",
    "# genre ==> 'text_urls' ==> list of urls known to be text-based\n",
    "#    \\\n",
    "#     ==> 'scan_urls' ==> list of urls thought to be scanned images"
   ]
  },
  {
   "cell_type": "markdown",
   "metadata": {},
   "source": [
    "#### 💾 Save/Load poem URLs dictionary"
   ]
  },
  {
   "cell_type": "code",
   "execution_count": 9,
   "metadata": {},
   "outputs": [],
   "source": [
    "# # uncomment to save\n",
    "# with gzip.open('data/poem_url_dict.pkl', 'wb') as goodbye:\n",
    "#     pickle.dump(poem_url_dict, goodbye, protocol=pickle.HIGHEST_PROTOCOL)\n",
    "\n",
    "# # uncomment to load\n",
    "# with gzip.open('data/poem_url_dict.pkl', 'rb') as hello:\n",
    "#     poem_url_dict = pickle.load(hello)"
   ]
  },
  {
   "cell_type": "code",
   "execution_count": 10,
   "metadata": {},
   "outputs": [
    {
     "data": {
      "text/plain": [
       "dict_keys(['augustan', 'beat', 'black_arts_movement', 'black_mountain', 'confessional', 'fugitive', 'georgian', 'harlem_renaissance', 'imagist', 'language_poetry', 'middle_english', 'modern', 'new_york_school', 'new_york_school_2nd_generation', 'objectivist', 'renaissance', 'romantic', 'victorian'])"
      ]
     },
     "execution_count": 10,
     "metadata": {},
     "output_type": "execute_result"
    }
   ],
   "source": [
    "# confirm everything's there\n",
    "poem_url_dict.keys()"
   ]
  },
  {
   "cell_type": "markdown",
   "metadata": {},
   "source": [
    "### Text poems\n",
    "\n",
    "[[go back to the top](#Predicting-Poetic-Movements)]\n",
    "\n",
    "- Scrape poems I know are already in text format.\n",
    "\n",
    "⏰ *NOTE*: Next cell takes about an hour and a half to run."
   ]
  },
  {
   "cell_type": "code",
   "execution_count": 17,
   "metadata": {},
   "outputs": [
    {
     "name": "stderr",
     "output_type": "stream",
     "text": [
      "100%|██████████| 18/18 [1:26:33<00:00, 288.51s/it]"
     ]
    },
    {
     "name": "stdout",
     "output_type": "stream",
     "text": [
      "CPU times: user 5min 46s, sys: 38.3 s, total: 6min 25s\n",
      "Wall time: 1h 26min 33s\n"
     ]
    },
    {
     "name": "stderr",
     "output_type": "stream",
     "text": [
      "\n"
     ]
    }
   ],
   "source": [
    "%%time\n",
    "\n",
    "# instantiate list for dictionaries\n",
    "text_poems = []\n",
    "\n",
    "# loop through text_urls of each genre\n",
    "for genre in tqdm(poem_url_dict.keys()):\n",
    "    for text_url in poem_url_dict[genre]['text_urls']:\n",
    "        \n",
    "        # scrape poem, title, and poet\n",
    "        poem = text_poem_scraper(text_url)\n",
    "        \n",
    "        # add genre and url\n",
    "        poem['genre'] = genre\n",
    "        poem['poem_url'] = text_url\n",
    "        \n",
    "        # add to big list\n",
    "        text_poems.append(poem)\n",
    "        \n",
    "        # timeout so I don't get flagged\n",
    "        time.sleep(0.01)"
   ]
  },
  {
   "cell_type": "code",
   "execution_count": 18,
   "metadata": {},
   "outputs": [
    {
     "data": {
      "text/plain": [
       "(3261, 6)"
      ]
     },
     "execution_count": 18,
     "metadata": {},
     "output_type": "execute_result"
    }
   ],
   "source": [
    "# convert to dataframe\n",
    "text_poems_df = pd.DataFrame(text_poems)\n",
    "text_poems_df.shape"
   ]
  },
  {
   "cell_type": "code",
   "execution_count": 19,
   "metadata": {},
   "outputs": [
    {
     "data": {
      "text/html": [
       "<div>\n",
       "<style scoped>\n",
       "    .dataframe tbody tr th:only-of-type {\n",
       "        vertical-align: middle;\n",
       "    }\n",
       "\n",
       "    .dataframe tbody tr th {\n",
       "        vertical-align: top;\n",
       "    }\n",
       "\n",
       "    .dataframe thead th {\n",
       "        text-align: right;\n",
       "    }\n",
       "</style>\n",
       "<table border=\"1\" class=\"dataframe\">\n",
       "  <thead>\n",
       "    <tr style=\"text-align: right;\">\n",
       "      <th></th>\n",
       "      <th>poet</th>\n",
       "      <th>poem_url</th>\n",
       "      <th>title</th>\n",
       "      <th>poem_lines</th>\n",
       "      <th>poem_string</th>\n",
       "      <th>genre</th>\n",
       "    </tr>\n",
       "  </thead>\n",
       "  <tbody>\n",
       "    <tr>\n",
       "      <th>154</th>\n",
       "      <td>Allen Ginsberg</td>\n",
       "      <td>https://www.poetryfoundation.org/poems/47660/a-supermarket-in-california</td>\n",
       "      <td>A Supermarket in California</td>\n",
       "      <td>[]</td>\n",
       "      <td></td>\n",
       "      <td>beat</td>\n",
       "    </tr>\n",
       "    <tr>\n",
       "      <th>166</th>\n",
       "      <td>Bob Kaufman</td>\n",
       "      <td>https://www.poetryfoundation.org/poems/55713/a-terror-is-more-certain-</td>\n",
       "      <td>A Terror is More Certain . . .</td>\n",
       "      <td>[]</td>\n",
       "      <td></td>\n",
       "      <td>beat</td>\n",
       "    </tr>\n",
       "    <tr>\n",
       "      <th>210</th>\n",
       "      <td>Lawrence Ferlinghetti</td>\n",
       "      <td>https://www.poetryfoundation.org/poetrymagazine/poems/58150/beatitudes-visuales-mexicanas</td>\n",
       "      <td>Beatitudes Visuales Mexicanas</td>\n",
       "      <td>[]</td>\n",
       "      <td></td>\n",
       "      <td>beat</td>\n",
       "    </tr>\n",
       "    <tr>\n",
       "      <th>268</th>\n",
       "      <td>Henry Dumas</td>\n",
       "      <td>https://www.poetryfoundation.org/poems/53477/kef-21</td>\n",
       "      <td>Kef 21</td>\n",
       "      <td>[]</td>\n",
       "      <td></td>\n",
       "      <td>black_arts_movement</td>\n",
       "    </tr>\n",
       "    <tr>\n",
       "      <th>288</th>\n",
       "      <td>Nikki Giovanni</td>\n",
       "      <td>https://www.poetryfoundation.org/poems/90181/no-complaints</td>\n",
       "      <td>No Complaints</td>\n",
       "      <td>[]</td>\n",
       "      <td></td>\n",
       "      <td>black_arts_movement</td>\n",
       "    </tr>\n",
       "    <tr>\n",
       "      <th>290</th>\n",
       "      <td>Nikki Giovanni</td>\n",
       "      <td>https://www.poetryfoundation.org/poems/90180/rosa-parks</td>\n",
       "      <td>Rosa Parks</td>\n",
       "      <td>[]</td>\n",
       "      <td></td>\n",
       "      <td>black_arts_movement</td>\n",
       "    </tr>\n",
       "    <tr>\n",
       "      <th>298</th>\n",
       "      <td>Etheridge Knight</td>\n",
       "      <td>https://www.poetryfoundation.org/poems/51371/a-fable-56d22f0fa5920</td>\n",
       "      <td>A Fable</td>\n",
       "      <td>[]</td>\n",
       "      <td></td>\n",
       "      <td>black_arts_movement</td>\n",
       "    </tr>\n",
       "    <tr>\n",
       "      <th>401</th>\n",
       "      <td>Robert Duncan</td>\n",
       "      <td>https://www.poetryfoundation.org/poems/46316/a-poem-beginning-with-a-line-by-pindar</td>\n",
       "      <td>A Poem Beginning with a Line by Pindar</td>\n",
       "      <td>[]</td>\n",
       "      <td></td>\n",
       "      <td>black_mountain</td>\n",
       "    </tr>\n",
       "    <tr>\n",
       "      <th>505</th>\n",
       "      <td>Anne Sexton</td>\n",
       "      <td>https://www.poetryfoundation.org/poems/152252/o-ye-tongues</td>\n",
       "      <td>O Ye Tongues</td>\n",
       "      <td>[]</td>\n",
       "      <td></td>\n",
       "      <td>confessional</td>\n",
       "    </tr>\n",
       "    <tr>\n",
       "      <th>683</th>\n",
       "      <td>W. E. B. Du Bois</td>\n",
       "      <td>https://www.poetryfoundation.org/poems/43026/my-country-tis-of-thee</td>\n",
       "      <td>My Country ’Tis of Thee</td>\n",
       "      <td>[]</td>\n",
       "      <td></td>\n",
       "      <td>harlem_renaissance</td>\n",
       "    </tr>\n",
       "    <tr>\n",
       "      <th>720</th>\n",
       "      <td>Georgia Douglas Johnson</td>\n",
       "      <td>https://www.poetryfoundation.org/poems/52500/my-little-dreams</td>\n",
       "      <td>My Little Dreams</td>\n",
       "      <td>[]</td>\n",
       "      <td></td>\n",
       "      <td>harlem_renaissance</td>\n",
       "    </tr>\n",
       "    <tr>\n",
       "      <th>802</th>\n",
       "      <td>Amy Lowell</td>\n",
       "      <td>https://www.poetryfoundation.org/poems/53773/towns-in-colour</td>\n",
       "      <td>Towns in Colour</td>\n",
       "      <td>[]</td>\n",
       "      <td></td>\n",
       "      <td>imagist</td>\n",
       "    </tr>\n",
       "    <tr>\n",
       "      <th>803</th>\n",
       "      <td>Amy Lowell</td>\n",
       "      <td>https://www.poetryfoundation.org/poems/42993/bath-56d221a8c0d0c</td>\n",
       "      <td>Bath</td>\n",
       "      <td>[]</td>\n",
       "      <td></td>\n",
       "      <td>imagist</td>\n",
       "    </tr>\n",
       "    <tr>\n",
       "      <th>807</th>\n",
       "      <td>Amy Lowell</td>\n",
       "      <td>https://www.poetryfoundation.org/poems/53772/spring-day-56d233626c49b</td>\n",
       "      <td>Spring Day</td>\n",
       "      <td>[]</td>\n",
       "      <td></td>\n",
       "      <td>imagist</td>\n",
       "    </tr>\n",
       "    <tr>\n",
       "      <th>843</th>\n",
       "      <td>William Carlos Williams</td>\n",
       "      <td>https://www.poetryfoundation.org/poems/54525/kora-in-hell-improvisations-ii</td>\n",
       "      <td>Kora in Hell: Improvisations II</td>\n",
       "      <td>[]</td>\n",
       "      <td></td>\n",
       "      <td>imagist</td>\n",
       "    </tr>\n",
       "    <tr>\n",
       "      <th>853</th>\n",
       "      <td>William Carlos Williams</td>\n",
       "      <td>https://www.poetryfoundation.org/poems/54566/kora-in-hell-improvisations-xiv</td>\n",
       "      <td>Kora in Hell: Improvisations XI﻿V</td>\n",
       "      <td>[]</td>\n",
       "      <td></td>\n",
       "      <td>imagist</td>\n",
       "    </tr>\n",
       "    <tr>\n",
       "      <th>854</th>\n",
       "      <td>William Carlos Williams</td>\n",
       "      <td>https://www.poetryfoundation.org/poems/54565/kora-in-hell-improvisations-xxii</td>\n",
       "      <td>Kora in Hell: Improvisations XXII</td>\n",
       "      <td>[]</td>\n",
       "      <td></td>\n",
       "      <td>imagist</td>\n",
       "    </tr>\n",
       "    <tr>\n",
       "      <th>863</th>\n",
       "      <td>William Carlos Williams</td>\n",
       "      <td>https://www.poetryfoundation.org/poems/54564/kora-in-hell-improvisations-xxvii</td>\n",
       "      <td>Kora in Hell: Improvisations XXVII</td>\n",
       "      <td>[]</td>\n",
       "      <td></td>\n",
       "      <td>imagist</td>\n",
       "    </tr>\n",
       "    <tr>\n",
       "      <th>865</th>\n",
       "      <td>William Carlos Williams</td>\n",
       "      <td>https://www.poetryfoundation.org/poems/54567/kora-in-hell-improvisations-xi</td>\n",
       "      <td>Kora in Hell: Improvisations XI</td>\n",
       "      <td>[]</td>\n",
       "      <td></td>\n",
       "      <td>imagist</td>\n",
       "    </tr>\n",
       "    <tr>\n",
       "      <th>890</th>\n",
       "      <td>Rae Armantrout</td>\n",
       "      <td>https://www.poetryfoundation.org/poems/46588/covers</td>\n",
       "      <td>Covers</td>\n",
       "      <td>[]</td>\n",
       "      <td></td>\n",
       "      <td>language_poetry</td>\n",
       "    </tr>\n",
       "    <tr>\n",
       "      <th>928</th>\n",
       "      <td>Lyn Hejinian</td>\n",
       "      <td>https://www.poetryfoundation.org/poems/47892/my-life-a-name-trimmed-with-colored-ribbons</td>\n",
       "      <td>My Life: A name trimmed with colored ribbons</td>\n",
       "      <td>[]</td>\n",
       "      <td></td>\n",
       "      <td>language_poetry</td>\n",
       "    </tr>\n",
       "    <tr>\n",
       "      <th>930</th>\n",
       "      <td>Lyn Hejinian</td>\n",
       "      <td>https://www.poetryfoundation.org/poems/47893/my-life-reason-looks-for-two-then-arranges-it-from-there</td>\n",
       "      <td>My Life: Reason looks for two, then arranges it from there</td>\n",
       "      <td>[]</td>\n",
       "      <td></td>\n",
       "      <td>language_poetry</td>\n",
       "    </tr>\n",
       "    <tr>\n",
       "      <th>942</th>\n",
       "      <td>Fanny Howe</td>\n",
       "      <td>https://www.poetryfoundation.org/poems/46763/you-cant-warm-your-hands-in-front-of-a-book-but-you-can-warm-your-hopes-there</td>\n",
       "      <td>You Can’t Warm Your Hands in Front of a Book but You Can Warm Your Hopes There</td>\n",
       "      <td>[]</td>\n",
       "      <td></td>\n",
       "      <td>language_poetry</td>\n",
       "    </tr>\n",
       "    <tr>\n",
       "      <th>945</th>\n",
       "      <td>Fanny Howe</td>\n",
       "      <td>https://www.poetryfoundation.org/poems/46762/everythings-a-fake</td>\n",
       "      <td>Everything’s a Fake</td>\n",
       "      <td>[]</td>\n",
       "      <td></td>\n",
       "      <td>language_poetry</td>\n",
       "    </tr>\n",
       "    <tr>\n",
       "      <th>952</th>\n",
       "      <td>Susan Howe</td>\n",
       "      <td>https://www.poetryfoundation.org/poems/53265/from-my-emily-dickinson</td>\n",
       "      <td>My Emily Dickinson</td>\n",
       "      <td>[]</td>\n",
       "      <td></td>\n",
       "      <td>language_poetry</td>\n",
       "    </tr>\n",
       "    <tr>\n",
       "      <th>977</th>\n",
       "      <td>Bernadette Mayer</td>\n",
       "      <td>https://www.poetryfoundation.org/poems/49731/incandescent-war-poem-sonnet</td>\n",
       "      <td>Incandescent War Poem Sonnet</td>\n",
       "      <td>[]</td>\n",
       "      <td></td>\n",
       "      <td>language_poetry</td>\n",
       "    </tr>\n",
       "    <tr>\n",
       "      <th>994</th>\n",
       "      <td>Ron Silliman</td>\n",
       "      <td>https://www.poetryfoundation.org/poems/55564/you-part-xii</td>\n",
       "      <td>You, part XII</td>\n",
       "      <td>[]</td>\n",
       "      <td></td>\n",
       "      <td>language_poetry</td>\n",
       "    </tr>\n",
       "    <tr>\n",
       "      <th>995</th>\n",
       "      <td>Ron Silliman</td>\n",
       "      <td>https://www.poetryfoundation.org/poems/55563/you-part-i</td>\n",
       "      <td>You, part I</td>\n",
       "      <td>[]</td>\n",
       "      <td></td>\n",
       "      <td>language_poetry</td>\n",
       "    </tr>\n",
       "    <tr>\n",
       "      <th>1131</th>\n",
       "      <td>T. S. Eliot</td>\n",
       "      <td>https://www.poetryfoundation.org/poems/44211/hysteria</td>\n",
       "      <td>Hysteria</td>\n",
       "      <td>[]</td>\n",
       "      <td></td>\n",
       "      <td>modern</td>\n",
       "    </tr>\n",
       "    <tr>\n",
       "      <th>1207</th>\n",
       "      <td>Archibald MacLeish</td>\n",
       "      <td>https://www.poetryfoundation.org/poems/43006/definition-of-the-frontiers</td>\n",
       "      <td>Definition of the Frontiers</td>\n",
       "      <td>[]</td>\n",
       "      <td></td>\n",
       "      <td>modern</td>\n",
       "    </tr>\n",
       "    <tr>\n",
       "      <th>1322</th>\n",
       "      <td>Gertrude Stein</td>\n",
       "      <td>https://www.poetryfoundation.org/poems/51215/a-carafe-that-is-a-blind-glass</td>\n",
       "      <td>A Carafe, that is a Blind Glass</td>\n",
       "      <td>[]</td>\n",
       "      <td></td>\n",
       "      <td>modern</td>\n",
       "    </tr>\n",
       "    <tr>\n",
       "      <th>1324</th>\n",
       "      <td>Gertrude Stein</td>\n",
       "      <td>https://www.poetryfoundation.org/poems/51212/sugar-56d22ece1df6d</td>\n",
       "      <td>Sugar</td>\n",
       "      <td>[]</td>\n",
       "      <td></td>\n",
       "      <td>modern</td>\n",
       "    </tr>\n",
       "    <tr>\n",
       "      <th>1325</th>\n",
       "      <td>Gertrude Stein</td>\n",
       "      <td>https://www.poetryfoundation.org/poems/51214/a-substance-in-a-cushion</td>\n",
       "      <td>A Substance in a Cushion</td>\n",
       "      <td>[]</td>\n",
       "      <td></td>\n",
       "      <td>modern</td>\n",
       "    </tr>\n",
       "    <tr>\n",
       "      <th>1330</th>\n",
       "      <td>Gertrude Stein</td>\n",
       "      <td>https://www.poetryfoundation.org/poems/52610/a-little-called-pauline</td>\n",
       "      <td>A Little Called Pauline</td>\n",
       "      <td>[]</td>\n",
       "      <td></td>\n",
       "      <td>modern</td>\n",
       "    </tr>\n",
       "    <tr>\n",
       "      <th>1331</th>\n",
       "      <td>Gertrude Stein</td>\n",
       "      <td>https://www.poetryfoundation.org/poems/55213/idem-the-same-a-valentine-to-sherwood-anderson</td>\n",
       "      <td>Idem the Same: A Valentine to Sherwood Anderson</td>\n",
       "      <td>[]</td>\n",
       "      <td></td>\n",
       "      <td>modern</td>\n",
       "    </tr>\n",
       "    <tr>\n",
       "      <th>1339</th>\n",
       "      <td>Gertrude Stein</td>\n",
       "      <td>https://www.poetryfoundation.org/poems/47987/hotel-francois-1er</td>\n",
       "      <td>Hotel François 1er</td>\n",
       "      <td>[]</td>\n",
       "      <td></td>\n",
       "      <td>modern</td>\n",
       "    </tr>\n",
       "    <tr>\n",
       "      <th>1341</th>\n",
       "      <td>Gertrude Stein</td>\n",
       "      <td>https://www.poetryfoundation.org/poems/55214/matisse</td>\n",
       "      <td>Matisse</td>\n",
       "      <td>[]</td>\n",
       "      <td></td>\n",
       "      <td>modern</td>\n",
       "    </tr>\n",
       "    <tr>\n",
       "      <th>1388</th>\n",
       "      <td>Dylan Thomas</td>\n",
       "      <td>https://www.poetryfoundation.org/poems/26804/poem-on-his-birthday-facs-drafts</td>\n",
       "      <td>Poem on His Birthday [Facs. drafts]</td>\n",
       "      <td>[]</td>\n",
       "      <td></td>\n",
       "      <td>modern</td>\n",
       "    </tr>\n",
       "    <tr>\n",
       "      <th>1522</th>\n",
       "      <td>John Ashbery</td>\n",
       "      <td>https://www.poetryfoundation.org/poems/52166/if-you-said-you-would-come-with-me</td>\n",
       "      <td>If You Said You Would Come With Me</td>\n",
       "      <td>[]</td>\n",
       "      <td></td>\n",
       "      <td>new_york_school</td>\n",
       "    </tr>\n",
       "    <tr>\n",
       "      <th>1540</th>\n",
       "      <td>Barbara Guest</td>\n",
       "      <td>https://www.poetryfoundation.org/poems/49367/imagined-room</td>\n",
       "      <td>Imagined Room</td>\n",
       "      <td>[]</td>\n",
       "      <td></td>\n",
       "      <td>new_york_school</td>\n",
       "    </tr>\n",
       "    <tr>\n",
       "      <th>1580</th>\n",
       "      <td>Arthur Rimbaud</td>\n",
       "      <td>https://www.poetryfoundation.org/poetrymagazine/poems/54558/morning-of-drunkenness</td>\n",
       "      <td>Morning of Drunkenness</td>\n",
       "      <td>[]</td>\n",
       "      <td></td>\n",
       "      <td>new_york_school</td>\n",
       "    </tr>\n",
       "    <tr>\n",
       "      <th>1586</th>\n",
       "      <td>Arthur Rimbaud</td>\n",
       "      <td>https://www.poetryfoundation.org/poetrymagazine/poems/54556/royalty-56d2350a1824d</td>\n",
       "      <td>Royalty</td>\n",
       "      <td>[]</td>\n",
       "      <td></td>\n",
       "      <td>new_york_school</td>\n",
       "    </tr>\n",
       "    <tr>\n",
       "      <th>1594</th>\n",
       "      <td>Arthur Rimbaud</td>\n",
       "      <td>https://www.poetryfoundation.org/poetrymagazine/poems/54559/genie</td>\n",
       "      <td>Genie</td>\n",
       "      <td>[]</td>\n",
       "      <td></td>\n",
       "      <td>new_york_school</td>\n",
       "    </tr>\n",
       "    <tr>\n",
       "      <th>1603</th>\n",
       "      <td>Frank O'Hara</td>\n",
       "      <td>https://www.poetryfoundation.org/poetrymagazine/poems/26538/meditations-in-an-emergency</td>\n",
       "      <td>Meditations in an Emergency</td>\n",
       "      <td>[]</td>\n",
       "      <td></td>\n",
       "      <td>new_york_school</td>\n",
       "    </tr>\n",
       "    <tr>\n",
       "      <th>1636</th>\n",
       "      <td>Tom Clark</td>\n",
       "      <td>https://www.poetryfoundation.org/poems/47073/eternity-56d22745e6964</td>\n",
       "      <td>Eternity</td>\n",
       "      <td>[]</td>\n",
       "      <td></td>\n",
       "      <td>new_york_school_2nd_generation</td>\n",
       "    </tr>\n",
       "    <tr>\n",
       "      <th>1676</th>\n",
       "      <td>Ron Padgett</td>\n",
       "      <td>https://www.poetryfoundation.org/poems/57242/prose-poem-the-morning-coffee</td>\n",
       "      <td>Prose Poem (\"The morning coffee.\")</td>\n",
       "      <td>[]</td>\n",
       "      <td></td>\n",
       "      <td>new_york_school_2nd_generation</td>\n",
       "    </tr>\n",
       "    <tr>\n",
       "      <th>2093</th>\n",
       "      <td>William Shakespeare</td>\n",
       "      <td>https://www.poetryfoundation.org/poems/58139/speech-bottoms-dream</td>\n",
       "      <td>Speech: Bottom's Dream</td>\n",
       "      <td>[]</td>\n",
       "      <td></td>\n",
       "      <td>renaissance</td>\n",
       "    </tr>\n",
       "    <tr>\n",
       "      <th>2617</th>\n",
       "      <td>Friedrich Hölderlin</td>\n",
       "      <td>https://www.poetryfoundation.org/poetrymagazine/poems/52408/in-lovely-blue</td>\n",
       "      <td>In Lovely Blue</td>\n",
       "      <td>[]</td>\n",
       "      <td></td>\n",
       "      <td>romantic</td>\n",
       "    </tr>\n",
       "    <tr>\n",
       "      <th>2895</th>\n",
       "      <td>Emma Lazarus</td>\n",
       "      <td>https://www.poetryfoundation.org/poems/46791/by-the-waters-of-babylon</td>\n",
       "      <td>By the Waters of Babylon</td>\n",
       "      <td>[]</td>\n",
       "      <td></td>\n",
       "      <td>victorian</td>\n",
       "    </tr>\n",
       "  </tbody>\n",
       "</table>\n",
       "</div>"
      ],
      "text/plain": [
       "                         poet  \\\n",
       "154            Allen Ginsberg   \n",
       "166               Bob Kaufman   \n",
       "210     Lawrence Ferlinghetti   \n",
       "268               Henry Dumas   \n",
       "288            Nikki Giovanni   \n",
       "290            Nikki Giovanni   \n",
       "298          Etheridge Knight   \n",
       "401             Robert Duncan   \n",
       "505               Anne Sexton   \n",
       "683          W. E. B. Du Bois   \n",
       "720   Georgia Douglas Johnson   \n",
       "802                Amy Lowell   \n",
       "803                Amy Lowell   \n",
       "807                Amy Lowell   \n",
       "843   William Carlos Williams   \n",
       "853   William Carlos Williams   \n",
       "854   William Carlos Williams   \n",
       "863   William Carlos Williams   \n",
       "865   William Carlos Williams   \n",
       "890            Rae Armantrout   \n",
       "928              Lyn Hejinian   \n",
       "930              Lyn Hejinian   \n",
       "942                Fanny Howe   \n",
       "945                Fanny Howe   \n",
       "952                Susan Howe   \n",
       "977          Bernadette Mayer   \n",
       "994              Ron Silliman   \n",
       "995              Ron Silliman   \n",
       "1131              T. S. Eliot   \n",
       "1207       Archibald MacLeish   \n",
       "1322           Gertrude Stein   \n",
       "1324           Gertrude Stein   \n",
       "1325           Gertrude Stein   \n",
       "1330           Gertrude Stein   \n",
       "1331           Gertrude Stein   \n",
       "1339           Gertrude Stein   \n",
       "1341           Gertrude Stein   \n",
       "1388             Dylan Thomas   \n",
       "1522             John Ashbery   \n",
       "1540            Barbara Guest   \n",
       "1580           Arthur Rimbaud   \n",
       "1586           Arthur Rimbaud   \n",
       "1594           Arthur Rimbaud   \n",
       "1603             Frank O'Hara   \n",
       "1636                Tom Clark   \n",
       "1676              Ron Padgett   \n",
       "2093      William Shakespeare   \n",
       "2617      Friedrich Hölderlin   \n",
       "2895             Emma Lazarus   \n",
       "\n",
       "                                                                                                                        poem_url  \\\n",
       "154                                                     https://www.poetryfoundation.org/poems/47660/a-supermarket-in-california   \n",
       "166                                                       https://www.poetryfoundation.org/poems/55713/a-terror-is-more-certain-   \n",
       "210                                    https://www.poetryfoundation.org/poetrymagazine/poems/58150/beatitudes-visuales-mexicanas   \n",
       "268                                                                          https://www.poetryfoundation.org/poems/53477/kef-21   \n",
       "288                                                                   https://www.poetryfoundation.org/poems/90181/no-complaints   \n",
       "290                                                                      https://www.poetryfoundation.org/poems/90180/rosa-parks   \n",
       "298                                                           https://www.poetryfoundation.org/poems/51371/a-fable-56d22f0fa5920   \n",
       "401                                          https://www.poetryfoundation.org/poems/46316/a-poem-beginning-with-a-line-by-pindar   \n",
       "505                                                                   https://www.poetryfoundation.org/poems/152252/o-ye-tongues   \n",
       "683                                                          https://www.poetryfoundation.org/poems/43026/my-country-tis-of-thee   \n",
       "720                                                                https://www.poetryfoundation.org/poems/52500/my-little-dreams   \n",
       "802                                                                 https://www.poetryfoundation.org/poems/53773/towns-in-colour   \n",
       "803                                                              https://www.poetryfoundation.org/poems/42993/bath-56d221a8c0d0c   \n",
       "807                                                        https://www.poetryfoundation.org/poems/53772/spring-day-56d233626c49b   \n",
       "843                                                  https://www.poetryfoundation.org/poems/54525/kora-in-hell-improvisations-ii   \n",
       "853                                                 https://www.poetryfoundation.org/poems/54566/kora-in-hell-improvisations-xiv   \n",
       "854                                                https://www.poetryfoundation.org/poems/54565/kora-in-hell-improvisations-xxii   \n",
       "863                                               https://www.poetryfoundation.org/poems/54564/kora-in-hell-improvisations-xxvii   \n",
       "865                                                  https://www.poetryfoundation.org/poems/54567/kora-in-hell-improvisations-xi   \n",
       "890                                                                          https://www.poetryfoundation.org/poems/46588/covers   \n",
       "928                                     https://www.poetryfoundation.org/poems/47892/my-life-a-name-trimmed-with-colored-ribbons   \n",
       "930                        https://www.poetryfoundation.org/poems/47893/my-life-reason-looks-for-two-then-arranges-it-from-there   \n",
       "942   https://www.poetryfoundation.org/poems/46763/you-cant-warm-your-hands-in-front-of-a-book-but-you-can-warm-your-hopes-there   \n",
       "945                                                              https://www.poetryfoundation.org/poems/46762/everythings-a-fake   \n",
       "952                                                         https://www.poetryfoundation.org/poems/53265/from-my-emily-dickinson   \n",
       "977                                                    https://www.poetryfoundation.org/poems/49731/incandescent-war-poem-sonnet   \n",
       "994                                                                    https://www.poetryfoundation.org/poems/55564/you-part-xii   \n",
       "995                                                                      https://www.poetryfoundation.org/poems/55563/you-part-i   \n",
       "1131                                                                       https://www.poetryfoundation.org/poems/44211/hysteria   \n",
       "1207                                                    https://www.poetryfoundation.org/poems/43006/definition-of-the-frontiers   \n",
       "1322                                                 https://www.poetryfoundation.org/poems/51215/a-carafe-that-is-a-blind-glass   \n",
       "1324                                                            https://www.poetryfoundation.org/poems/51212/sugar-56d22ece1df6d   \n",
       "1325                                                       https://www.poetryfoundation.org/poems/51214/a-substance-in-a-cushion   \n",
       "1330                                                        https://www.poetryfoundation.org/poems/52610/a-little-called-pauline   \n",
       "1331                                 https://www.poetryfoundation.org/poems/55213/idem-the-same-a-valentine-to-sherwood-anderson   \n",
       "1339                                                             https://www.poetryfoundation.org/poems/47987/hotel-francois-1er   \n",
       "1341                                                                        https://www.poetryfoundation.org/poems/55214/matisse   \n",
       "1388                                               https://www.poetryfoundation.org/poems/26804/poem-on-his-birthday-facs-drafts   \n",
       "1522                                             https://www.poetryfoundation.org/poems/52166/if-you-said-you-would-come-with-me   \n",
       "1540                                                                  https://www.poetryfoundation.org/poems/49367/imagined-room   \n",
       "1580                                          https://www.poetryfoundation.org/poetrymagazine/poems/54558/morning-of-drunkenness   \n",
       "1586                                           https://www.poetryfoundation.org/poetrymagazine/poems/54556/royalty-56d2350a1824d   \n",
       "1594                                                           https://www.poetryfoundation.org/poetrymagazine/poems/54559/genie   \n",
       "1603                                     https://www.poetryfoundation.org/poetrymagazine/poems/26538/meditations-in-an-emergency   \n",
       "1636                                                         https://www.poetryfoundation.org/poems/47073/eternity-56d22745e6964   \n",
       "1676                                                  https://www.poetryfoundation.org/poems/57242/prose-poem-the-morning-coffee   \n",
       "2093                                                           https://www.poetryfoundation.org/poems/58139/speech-bottoms-dream   \n",
       "2617                                                  https://www.poetryfoundation.org/poetrymagazine/poems/52408/in-lovely-blue   \n",
       "2895                                                       https://www.poetryfoundation.org/poems/46791/by-the-waters-of-babylon   \n",
       "\n",
       "                                                                               title  \\\n",
       "154                                                      A Supermarket in California   \n",
       "166                                                   A Terror is More Certain . . .   \n",
       "210                                                    Beatitudes Visuales Mexicanas   \n",
       "268                                                                           Kef 21   \n",
       "288                                                                    No Complaints   \n",
       "290                                                                       Rosa Parks   \n",
       "298                                                                          A Fable   \n",
       "401                                           A Poem Beginning with a Line by Pindar   \n",
       "505                                                                     O Ye Tongues   \n",
       "683                                                          My Country ’Tis of Thee   \n",
       "720                                                                 My Little Dreams   \n",
       "802                                                                  Towns in Colour   \n",
       "803                                                                             Bath   \n",
       "807                                                                       Spring Day   \n",
       "843                                                  Kora in Hell: Improvisations II   \n",
       "853                                                Kora in Hell: Improvisations XI﻿V   \n",
       "854                                                Kora in Hell: Improvisations XXII   \n",
       "863                                               Kora in Hell: Improvisations XXVII   \n",
       "865                                                  Kora in Hell: Improvisations XI   \n",
       "890                                                                           Covers   \n",
       "928                                     My Life: A name trimmed with colored ribbons   \n",
       "930                       My Life: Reason looks for two, then arranges it from there   \n",
       "942   You Can’t Warm Your Hands in Front of a Book but You Can Warm Your Hopes There   \n",
       "945                                                              Everything’s a Fake   \n",
       "952                                                               My Emily Dickinson   \n",
       "977                                                     Incandescent War Poem Sonnet   \n",
       "994                                                                    You, part XII   \n",
       "995                                                                      You, part I   \n",
       "1131                                                                        Hysteria   \n",
       "1207                                                     Definition of the Frontiers   \n",
       "1322                                                 A Carafe, that is a Blind Glass   \n",
       "1324                                                                           Sugar   \n",
       "1325                                                        A Substance in a Cushion   \n",
       "1330                                                         A Little Called Pauline   \n",
       "1331                                 Idem the Same: A Valentine to Sherwood Anderson   \n",
       "1339                                                              Hotel François 1er   \n",
       "1341                                                                         Matisse   \n",
       "1388                                             Poem on His Birthday [Facs. drafts]   \n",
       "1522                                              If You Said You Would Come With Me   \n",
       "1540                                                                   Imagined Room   \n",
       "1580                                                          Morning of Drunkenness   \n",
       "1586                                                                         Royalty   \n",
       "1594                                                                           Genie   \n",
       "1603                                                     Meditations in an Emergency   \n",
       "1636                                                                        Eternity   \n",
       "1676                                              Prose Poem (\"The morning coffee.\")   \n",
       "2093                                                          Speech: Bottom's Dream   \n",
       "2617                                                                  In Lovely Blue   \n",
       "2895                                                        By the Waters of Babylon   \n",
       "\n",
       "     poem_lines poem_string                           genre  \n",
       "154          []                                        beat  \n",
       "166          []                                        beat  \n",
       "210          []                                        beat  \n",
       "268          []                         black_arts_movement  \n",
       "288          []                         black_arts_movement  \n",
       "290          []                         black_arts_movement  \n",
       "298          []                         black_arts_movement  \n",
       "401          []                              black_mountain  \n",
       "505          []                                confessional  \n",
       "683          []                          harlem_renaissance  \n",
       "720          []                          harlem_renaissance  \n",
       "802          []                                     imagist  \n",
       "803          []                                     imagist  \n",
       "807          []                                     imagist  \n",
       "843          []                                     imagist  \n",
       "853          []                                     imagist  \n",
       "854          []                                     imagist  \n",
       "863          []                                     imagist  \n",
       "865          []                                     imagist  \n",
       "890          []                             language_poetry  \n",
       "928          []                             language_poetry  \n",
       "930          []                             language_poetry  \n",
       "942          []                             language_poetry  \n",
       "945          []                             language_poetry  \n",
       "952          []                             language_poetry  \n",
       "977          []                             language_poetry  \n",
       "994          []                             language_poetry  \n",
       "995          []                             language_poetry  \n",
       "1131         []                                      modern  \n",
       "1207         []                                      modern  \n",
       "1322         []                                      modern  \n",
       "1324         []                                      modern  \n",
       "1325         []                                      modern  \n",
       "1330         []                                      modern  \n",
       "1331         []                                      modern  \n",
       "1339         []                                      modern  \n",
       "1341         []                                      modern  \n",
       "1388         []                                      modern  \n",
       "1522         []                             new_york_school  \n",
       "1540         []                             new_york_school  \n",
       "1580         []                             new_york_school  \n",
       "1586         []                             new_york_school  \n",
       "1594         []                             new_york_school  \n",
       "1603         []                             new_york_school  \n",
       "1636         []              new_york_school_2nd_generation  \n",
       "1676         []              new_york_school_2nd_generation  \n",
       "2093         []                                 renaissance  \n",
       "2617         []                                    romantic  \n",
       "2895         []                                   victorian  "
      ]
     },
     "execution_count": 19,
     "metadata": {},
     "output_type": "execute_result"
    }
   ],
   "source": [
    "# check for bad scrapes\n",
    "text_poems_df[text_poems_df.poem_string == '']"
   ]
  },
  {
   "cell_type": "code",
   "execution_count": 20,
   "metadata": {},
   "outputs": [],
   "source": [
    "# use custom function to rescrape poems that were in a slightly different format\n",
    "# NOTE: overwrites the rows shown above\n",
    "for index in text_poems_df[text_poems_df.poem_string == ''].index:\n",
    "    try:\n",
    "        text_poems_df.loc[index,'poem_lines'] = PoemView_rescraper(text_poems_df.loc[index,'poem_url'])[0]\n",
    "        text_poems_df.loc[index,'poem_string'] = PoemView_rescraper(text_poems_df.loc[index,'poem_url'])[1]\n",
    "    except:\n",
    "        print(index)"
   ]
  },
  {
   "cell_type": "code",
   "execution_count": 21,
   "metadata": {},
   "outputs": [
    {
     "data": {
      "text/html": [
       "<div>\n",
       "<style scoped>\n",
       "    .dataframe tbody tr th:only-of-type {\n",
       "        vertical-align: middle;\n",
       "    }\n",
       "\n",
       "    .dataframe tbody tr th {\n",
       "        vertical-align: top;\n",
       "    }\n",
       "\n",
       "    .dataframe thead th {\n",
       "        text-align: right;\n",
       "    }\n",
       "</style>\n",
       "<table border=\"1\" class=\"dataframe\">\n",
       "  <thead>\n",
       "    <tr style=\"text-align: right;\">\n",
       "      <th></th>\n",
       "      <th>poet</th>\n",
       "      <th>poem_url</th>\n",
       "      <th>title</th>\n",
       "      <th>poem_lines</th>\n",
       "      <th>poem_string</th>\n",
       "      <th>genre</th>\n",
       "    </tr>\n",
       "  </thead>\n",
       "  <tbody>\n",
       "    <tr>\n",
       "      <th>1388</th>\n",
       "      <td>Dylan Thomas</td>\n",
       "      <td>https://www.poetryfoundation.org/poems/26804/poem-on-his-birthday-facs-drafts</td>\n",
       "      <td>Poem on His Birthday [Facs. drafts]</td>\n",
       "      <td>[]</td>\n",
       "      <td></td>\n",
       "      <td>modern</td>\n",
       "    </tr>\n",
       "    <tr>\n",
       "      <th>1540</th>\n",
       "      <td>Barbara Guest</td>\n",
       "      <td>https://www.poetryfoundation.org/poems/49367/imagined-room</td>\n",
       "      <td>Imagined Room</td>\n",
       "      <td>[]</td>\n",
       "      <td></td>\n",
       "      <td>new_york_school</td>\n",
       "    </tr>\n",
       "  </tbody>\n",
       "</table>\n",
       "</div>"
      ],
      "text/plain": [
       "               poet  \\\n",
       "1388   Dylan Thomas   \n",
       "1540  Barbara Guest   \n",
       "\n",
       "                                                                           poem_url  \\\n",
       "1388  https://www.poetryfoundation.org/poems/26804/poem-on-his-birthday-facs-drafts   \n",
       "1540                     https://www.poetryfoundation.org/poems/49367/imagined-room   \n",
       "\n",
       "                                    title poem_lines poem_string  \\\n",
       "1388  Poem on His Birthday [Facs. drafts]         []               \n",
       "1540                        Imagined Room         []               \n",
       "\n",
       "                genre  \n",
       "1388           modern  \n",
       "1540  new_york_school  "
      ]
     },
     "execution_count": 21,
     "metadata": {},
     "output_type": "execute_result"
    }
   ],
   "source": [
    "# confirm it worked\n",
    "text_poems_df[text_poems_df.poem_string == '']"
   ]
  },
  {
   "cell_type": "markdown",
   "metadata": {},
   "source": [
    "- The remaining two poems are blank on the website, so I'll just get rid of those."
   ]
  },
  {
   "cell_type": "code",
   "execution_count": 548,
   "metadata": {},
   "outputs": [
    {
     "data": {
      "text/plain": [
       "(3259, 6)"
      ]
     },
     "execution_count": 548,
     "metadata": {},
     "output_type": "execute_result"
    }
   ],
   "source": [
    "# remove empty poems\n",
    "text_poems_df = text_poems_df[text_poems_df.poem_string != '']\n",
    "text_poems_df.shape"
   ]
  },
  {
   "cell_type": "markdown",
   "metadata": {},
   "source": [
    "#### 💾 Save/Load text poems DataFrame"
   ]
  },
  {
   "cell_type": "code",
   "execution_count": 556,
   "metadata": {},
   "outputs": [],
   "source": [
    "# # uncomment to save\n",
    "# text_poems_df.to_csv('data/text_poems_df.csv')\n",
    "\n",
    "# # uncomment to load\n",
    "# text_poems_df = pd.read_csv('data/text_poems_df.csv', index_col=0)"
   ]
  },
  {
   "cell_type": "markdown",
   "metadata": {},
   "source": [
    "### Scanned poems\n",
    "\n",
    "[[go back to the top](#Predicting-Poetic-Movements)]\n",
    "\n",
    "- Scrape poems I suspect are in image format (magazine page scans) because of their URLs, though some may be already in text format.\n",
    "\n",
    "#### Important note\n",
    "The cell immediately below is what I originally ran. The cell below that (marked by stars) is what I would run if I did it over again, as that would scrape poems if they were indeed in text format and expedite some of the later process.\n",
    "\n",
    "This would also require some additional work such as converting these text poems to a dataframe and saving separately.\n",
    "\n",
    "⏰ *NOTE*: Next cell takes about three and a half hours to run."
   ]
  },
  {
   "cell_type": "code",
   "execution_count": 203,
   "metadata": {},
   "outputs": [
    {
     "name": "stderr",
     "output_type": "stream",
     "text": [
      "100%|██████████| 18/18 [3:25:25<00:00, 684.77s/it]   "
     ]
    },
    {
     "name": "stdout",
     "output_type": "stream",
     "text": [
      "CPU times: user 7min 49s, sys: 5min 10s, total: 12min 59s\n",
      "Wall time: 3h 25min 25s\n"
     ]
    },
    {
     "name": "stderr",
     "output_type": "stream",
     "text": [
      "\n"
     ]
    }
   ],
   "source": [
    "%%time\n",
    "\n",
    "# instantiate list for dictionaries\n",
    "scan_poem_dicts = []\n",
    "\n",
    "# instantiate list of urls that need to be rescraped\n",
    "need_to_rescrape = []\n",
    "\n",
    "# loop through scan_urls of each genre\n",
    "for genre in tqdm(poem_url_dict.keys()):\n",
    "    for scan_url in poem_url_dict[genre]['scan_urls']:\n",
    "        try:\n",
    "            # attempt to scrape poem, title, and poet\n",
    "            poem = scan_poem_scraper(scan_url)\n",
    "            \n",
    "            # add genre and url\n",
    "            poem['genre'] = genre\n",
    "            poem['poem_url'] = scan_url\n",
    "            \n",
    "            # add to big list\n",
    "            scan_poem_dicts.append(poem)\n",
    "            \n",
    "        except:\n",
    "            # add to list of rescrape urls if an error occurs\n",
    "            need_to_rescrape.append(scan_url)"
   ]
  },
  {
   "cell_type": "code",
   "execution_count": 204,
   "metadata": {},
   "outputs": [
    {
     "data": {
      "text/plain": [
       "(1775, 161)"
      ]
     },
     "execution_count": 204,
     "metadata": {},
     "output_type": "execute_result"
    }
   ],
   "source": [
    "# check the numbers\n",
    "len(scan_poem_dicts), len(need_to_rescrape)"
   ]
  },
  {
   "cell_type": "markdown",
   "metadata": {},
   "source": [
    "⏰ *NOTE*: Next cell takes about three and a half hours to run."
   ]
  },
  {
   "cell_type": "code",
   "execution_count": null,
   "metadata": {},
   "outputs": [],
   "source": [
    "# ⭐⭐⭐⭐⭐⭐⭐⭐⭐⭐⭐ #\n",
    "\n",
    "%%time\n",
    "\n",
    "# instantiate list for dictionaries\n",
    "more_text_poem_dicts = []\n",
    "\n",
    "# instantiate list for dictionaries\n",
    "scan_poem_dicts = []\n",
    "\n",
    "# instantiate list of urls that need to be rescraped\n",
    "need_to_rescrape = []\n",
    "\n",
    "# loop through scan_urls of each genre\n",
    "for genre in tqdm(poem_url_dict.keys()):\n",
    "    for scan_url in poem_url_dict[genre]['scan_urls']:\n",
    "        try:\n",
    "            # attempt to scrape poem, title, and poet as text format\n",
    "            poem = text_poem_scraper(text_url)\n",
    "\n",
    "            # add genre and url\n",
    "            poem['genre'] = genre\n",
    "            poem['poem_url'] = text_url\n",
    "\n",
    "            # add to big list\n",
    "            more_text_poem_dicts.append(poem)\n",
    "            \n",
    "        except:\n",
    "            # if not text format (or error)\n",
    "            try:\n",
    "                # attempt to scrape poem, title, and poet as image format\n",
    "                poem = scan_poem_scraper(scan_url)\n",
    "\n",
    "                # add genre and url\n",
    "                poem['genre'] = genre\n",
    "                poem['poem_url'] = scan_url\n",
    "\n",
    "                # add to big list\n",
    "                scan_poem_dicts.append(poem)\n",
    "\n",
    "            except:\n",
    "                # add to list of rescrape urls if an error occurs\n",
    "                need_to_rescrape.append(scan_url)"
   ]
  },
  {
   "cell_type": "code",
   "execution_count": 205,
   "metadata": {},
   "outputs": [
    {
     "data": {
      "text/html": [
       "<div>\n",
       "<style scoped>\n",
       "    .dataframe tbody tr th:only-of-type {\n",
       "        vertical-align: middle;\n",
       "    }\n",
       "\n",
       "    .dataframe tbody tr th {\n",
       "        vertical-align: top;\n",
       "    }\n",
       "\n",
       "    .dataframe thead th {\n",
       "        text-align: right;\n",
       "    }\n",
       "</style>\n",
       "<table border=\"1\" class=\"dataframe\">\n",
       "  <thead>\n",
       "    <tr style=\"text-align: right;\">\n",
       "      <th></th>\n",
       "      <th>poet</th>\n",
       "      <th>poem_url</th>\n",
       "      <th>title</th>\n",
       "      <th>poem_lines</th>\n",
       "      <th>poem_string</th>\n",
       "      <th>genre</th>\n",
       "    </tr>\n",
       "  </thead>\n",
       "  <tbody>\n",
       "    <tr>\n",
       "      <th>0</th>\n",
       "      <td>Richard Brautigan</td>\n",
       "      <td>https://www.poetryfoundation.org/poetrymagazine/poems/31338/wood</td>\n",
       "      <td>Wood</td>\n",
       "      <td>[We age in darkness like wood, and watch our phantoms change, eir clothes, of shingles and boards, for a purpose that can only be, described as wo...</td>\n",
       "      <td>We age in darkness like wood\\nand watch our phantoms change\\neir clothes\\nof shingles and boards\\nfor a purpose that can only be\\ndescribed as wood.</td>\n",
       "      <td>beat</td>\n",
       "    </tr>\n",
       "    <tr>\n",
       "      <th>1</th>\n",
       "      <td>William Everson</td>\n",
       "      <td>https://www.poetryfoundation.org/poetrymagazine/poems/21676/dust-and-the-glory</td>\n",
       "      <td>Dust And The Glory</td>\n",
       "      <td>[On a low Lorrainian knoll a leaning peasant sinking a pit, Meets rotted rock and a slab., The slab cracks and is split, the old grave opened,, Hi...</td>\n",
       "      <td>On a low Lorrainian knoll a leaning peasant sinking a pit\\nMeets rotted rock and a slab.\\nThe slab cracks and is split, the old grave opened,\\nHis...</td>\n",
       "      <td>beat</td>\n",
       "    </tr>\n",
       "    <tr>\n",
       "      <th>2</th>\n",
       "      <td>William Everson</td>\n",
       "      <td>https://www.poetryfoundation.org/poetrymagazine/poems/21675/we-in-the-fields</td>\n",
       "      <td>We In The Fields</td>\n",
       "      <td>[Dawn and a high film, the sun burned it,, But noon had a thick sheet, and the clouds coming,, The low rain-bringers, trooping in from the north,,...</td>\n",
       "      <td>Dawn and a high film, the sun burned it,\\nBut noon had a thick sheet, and the clouds coming,\\nThe low rain-bringers, trooping in from the north,\\n...</td>\n",
       "      <td>beat</td>\n",
       "    </tr>\n",
       "    <tr>\n",
       "      <th>3</th>\n",
       "      <td>Allen Ginsberg</td>\n",
       "      <td>https://www.poetryfoundation.org/poetrymagazine/poems/36505/written-in-my-dream-by-w-c-williams</td>\n",
       "      <td>Written In My Dream By W C Williams</td>\n",
       "      <td>[“As Is, you're bearing, a common, Truth, Commonly known, as desire, No need, to dress, it up, as beauty, No need, to distort, what’s not, standar...</td>\n",
       "      <td>“As Is\\nyou're bearing\\na common\\nTruth\\nCommonly known\\nas desire\\nNo need\\nto dress\\nit up\\nas beauty\\nNo need\\nto distort\\nwhat’s not\\nstandard...</td>\n",
       "      <td>beat</td>\n",
       "    </tr>\n",
       "    <tr>\n",
       "      <th>4</th>\n",
       "      <td>Jack Hirschman</td>\n",
       "      <td>https://www.poetryfoundation.org/poetrymagazine/poems/30162/the-baseball-poem</td>\n",
       "      <td>The Baseball Poem</td>\n",
       "      <td>[A wrist (to repeat, with a shift, of ac-, cent, mood, of emphasis, attentive to) now, needed, The wrist I lost, hold of, of, what was most, loved...</td>\n",
       "      <td>A wrist (to repeat\\nwith a shift\\nof ac-\\ncent, mood, of emphasis\\nattentive to) now\\nneeded\\nThe wrist I lost\\nhold of, of\\nwhat was most\\nloved ...</td>\n",
       "      <td>beat</td>\n",
       "    </tr>\n",
       "  </tbody>\n",
       "</table>\n",
       "</div>"
      ],
      "text/plain": [
       "                poet  \\\n",
       "0  Richard Brautigan   \n",
       "1    William Everson   \n",
       "2    William Everson   \n",
       "3     Allen Ginsberg   \n",
       "4     Jack Hirschman   \n",
       "\n",
       "                                                                                          poem_url  \\\n",
       "0                                 https://www.poetryfoundation.org/poetrymagazine/poems/31338/wood   \n",
       "1                   https://www.poetryfoundation.org/poetrymagazine/poems/21676/dust-and-the-glory   \n",
       "2                     https://www.poetryfoundation.org/poetrymagazine/poems/21675/we-in-the-fields   \n",
       "3  https://www.poetryfoundation.org/poetrymagazine/poems/36505/written-in-my-dream-by-w-c-williams   \n",
       "4                    https://www.poetryfoundation.org/poetrymagazine/poems/30162/the-baseball-poem   \n",
       "\n",
       "                                 title  \\\n",
       "0                                 Wood   \n",
       "1                   Dust And The Glory   \n",
       "2                     We In The Fields   \n",
       "3  Written In My Dream By W C Williams   \n",
       "4                    The Baseball Poem   \n",
       "\n",
       "                                                                                                                                              poem_lines  \\\n",
       "0  [We age in darkness like wood, and watch our phantoms change, eir clothes, of shingles and boards, for a purpose that can only be, described as wo...   \n",
       "1  [On a low Lorrainian knoll a leaning peasant sinking a pit, Meets rotted rock and a slab., The slab cracks and is split, the old grave opened,, Hi...   \n",
       "2  [Dawn and a high film, the sun burned it,, But noon had a thick sheet, and the clouds coming,, The low rain-bringers, trooping in from the north,,...   \n",
       "3  [“As Is, you're bearing, a common, Truth, Commonly known, as desire, No need, to dress, it up, as beauty, No need, to distort, what’s not, standar...   \n",
       "4  [A wrist (to repeat, with a shift, of ac-, cent, mood, of emphasis, attentive to) now, needed, The wrist I lost, hold of, of, what was most, loved...   \n",
       "\n",
       "                                                                                                                                             poem_string  \\\n",
       "0   We age in darkness like wood\\nand watch our phantoms change\\neir clothes\\nof shingles and boards\\nfor a purpose that can only be\\ndescribed as wood.   \n",
       "1  On a low Lorrainian knoll a leaning peasant sinking a pit\\nMeets rotted rock and a slab.\\nThe slab cracks and is split, the old grave opened,\\nHis...   \n",
       "2  Dawn and a high film, the sun burned it,\\nBut noon had a thick sheet, and the clouds coming,\\nThe low rain-bringers, trooping in from the north,\\n...   \n",
       "3  “As Is\\nyou're bearing\\na common\\nTruth\\nCommonly known\\nas desire\\nNo need\\nto dress\\nit up\\nas beauty\\nNo need\\nto distort\\nwhat’s not\\nstandard...   \n",
       "4  A wrist (to repeat\\nwith a shift\\nof ac-\\ncent, mood, of emphasis\\nattentive to) now\\nneeded\\nThe wrist I lost\\nhold of, of\\nwhat was most\\nloved ...   \n",
       "\n",
       "  genre  \n",
       "0  beat  \n",
       "1  beat  \n",
       "2  beat  \n",
       "3  beat  \n",
       "4  beat  "
      ]
     },
     "execution_count": 205,
     "metadata": {},
     "output_type": "execute_result"
    }
   ],
   "source": [
    "# convert to dataframe\n",
    "scan_poems_df = pd.DataFrame(scan_poem_dicts)\n",
    "scan_poems_df.head()"
   ]
  },
  {
   "cell_type": "markdown",
   "metadata": {},
   "source": [
    "#### 💾 Save/Load text poems DataFrame"
   ]
  },
  {
   "cell_type": "code",
   "execution_count": 522,
   "metadata": {},
   "outputs": [],
   "source": [
    "# # uncomment to save\n",
    "# scan_poems_df.to_csv('data/scan_poems_df.csv')\n",
    "\n",
    "# # uncomment to load\n",
    "# scan_poems_df = pd.read_csv('data/scan_poems_df.csv', index_col=0)"
   ]
  },
  {
   "cell_type": "markdown",
   "metadata": {},
   "source": [
    "## Rescrape\n",
    "\n",
    "[[go back to the top](#Predicting-Poetic-Movements)]\n",
    "\n",
    "- So here is the messy bit. In the interest of my sanity, I will refrain from commenting on this code for the time being.\n",
    "- Click [here](#Load-pre-cleaned-DataFrame) to skip to the post-rescraped product.\n",
    "\n",
    "#### Part 1"
   ]
  },
  {
   "cell_type": "code",
   "execution_count": 263,
   "metadata": {},
   "outputs": [
    {
     "data": {
      "text/html": [
       "<div>\n",
       "<style scoped>\n",
       "    .dataframe tbody tr th:only-of-type {\n",
       "        vertical-align: middle;\n",
       "    }\n",
       "\n",
       "    .dataframe tbody tr th {\n",
       "        vertical-align: top;\n",
       "    }\n",
       "\n",
       "    .dataframe thead th {\n",
       "        text-align: right;\n",
       "    }\n",
       "</style>\n",
       "<table border=\"1\" class=\"dataframe\">\n",
       "  <thead>\n",
       "    <tr style=\"text-align: right;\">\n",
       "      <th></th>\n",
       "      <th>poet</th>\n",
       "      <th>poem_url</th>\n",
       "      <th>title</th>\n",
       "      <th>poem_lines</th>\n",
       "      <th>poem_string</th>\n",
       "      <th>genre</th>\n",
       "    </tr>\n",
       "  </thead>\n",
       "  <tbody>\n",
       "    <tr>\n",
       "      <th>6</th>\n",
       "      <td>Michael McClure</td>\n",
       "      <td>https://www.poetryfoundation.org/poetrymagazine/poems/26838/2-for-theodore-roethke</td>\n",
       "      <td>2 For Theodore Roethke</td>\n",
       "      <td>[]</td>\n",
       "      <td></td>\n",
       "      <td>beat</td>\n",
       "    </tr>\n",
       "    <tr>\n",
       "      <th>23</th>\n",
       "      <td>Kenneth Patchen</td>\n",
       "      <td>https://www.poetryfoundation.org/poetrymagazine/poems/27128/poemscapes</td>\n",
       "      <td>Poemscapes</td>\n",
       "      <td>[]</td>\n",
       "      <td></td>\n",
       "      <td>beat</td>\n",
       "    </tr>\n",
       "    <tr>\n",
       "      <th>606</th>\n",
       "      <td>William Carlos Williams</td>\n",
       "      <td>https://www.poetryfoundation.org/poetrymagazine/poems/27969/some-simple-measures-in-the-american-idiom-and-the-variable-foot</td>\n",
       "      <td>Some Simple Measures In The American Idiom And The Variable Foot</td>\n",
       "      <td>[]</td>\n",
       "      <td></td>\n",
       "      <td>imagist</td>\n",
       "    </tr>\n",
       "    <tr>\n",
       "      <th>723</th>\n",
       "      <td>Guillaume Apollinaire</td>\n",
       "      <td>https://www.poetryfoundation.org/poetrymagazine/poems/25655/toward-the-south-tr-by-harry-duncan</td>\n",
       "      <td>Toward The South Tr By Harry Duncan</td>\n",
       "      <td>[]</td>\n",
       "      <td></td>\n",
       "      <td>modern</td>\n",
       "    </tr>\n",
       "    <tr>\n",
       "      <th>775</th>\n",
       "      <td>Malcolm Cowley</td>\n",
       "      <td>https://www.poetryfoundation.org/poetrymagazine/poems/30954/a-countryside-1918-1968</td>\n",
       "      <td>A Countryside 1918 1968</td>\n",
       "      <td>[]</td>\n",
       "      <td></td>\n",
       "      <td>modern</td>\n",
       "    </tr>\n",
       "    <tr>\n",
       "      <th>778</th>\n",
       "      <td>Hart Crane</td>\n",
       "      <td>https://www.poetryfoundation.org/poetrymagazine/poems/19926/the-urn-enrich-my-resignation</td>\n",
       "      <td>The Urn Enrich My Resignation</td>\n",
       "      <td>[]</td>\n",
       "      <td></td>\n",
       "      <td>modern</td>\n",
       "    </tr>\n",
       "    <tr>\n",
       "      <th>779</th>\n",
       "      <td>Hart Crane</td>\n",
       "      <td>https://www.poetryfoundation.org/poetrymagazine/poems/19916/the-urn-purgatorio</td>\n",
       "      <td>The Urn Purgatorio</td>\n",
       "      <td>[]</td>\n",
       "      <td></td>\n",
       "      <td>modern</td>\n",
       "    </tr>\n",
       "    <tr>\n",
       "      <th>780</th>\n",
       "      <td>Hart Crane</td>\n",
       "      <td>https://www.poetryfoundation.org/poetrymagazine/poems/19922/the-urn-reply</td>\n",
       "      <td>The Urn Reply</td>\n",
       "      <td>[]</td>\n",
       "      <td></td>\n",
       "      <td>modern</td>\n",
       "    </tr>\n",
       "    <tr>\n",
       "      <th>782</th>\n",
       "      <td>Hart Crane</td>\n",
       "      <td>https://www.poetryfoundation.org/poetrymagazine/poems/19920/the-urn-the-sad-indian</td>\n",
       "      <td>The Urn The Sad Indian</td>\n",
       "      <td>[]</td>\n",
       "      <td></td>\n",
       "      <td>modern</td>\n",
       "    </tr>\n",
       "    <tr>\n",
       "      <th>1170</th>\n",
       "      <td>Stephen Spender</td>\n",
       "      <td>https://www.poetryfoundation.org/poetrymagazine/poems/22310/poem-after-the-wrestling</td>\n",
       "      <td>Poem After The Wrestling</td>\n",
       "      <td>[]</td>\n",
       "      <td></td>\n",
       "      <td>modern</td>\n",
       "    </tr>\n",
       "    <tr>\n",
       "      <th>1486</th>\n",
       "      <td>William Butler Yeats</td>\n",
       "      <td>https://www.poetryfoundation.org/poetrymagazine/poems/20737/a-full-moon-in-march</td>\n",
       "      <td>A Full Moon In March</td>\n",
       "      <td>[]</td>\n",
       "      <td></td>\n",
       "      <td>modern</td>\n",
       "    </tr>\n",
       "    <tr>\n",
       "      <th>1594</th>\n",
       "      <td>Frank O'Hara</td>\n",
       "      <td>https://www.poetryfoundation.org/poetrymagazine/poems/31123/places-for-oscar-salvador</td>\n",
       "      <td>Places For Oscar Salvador</td>\n",
       "      <td>[]</td>\n",
       "      <td></td>\n",
       "      <td>new_york_school</td>\n",
       "    </tr>\n",
       "    <tr>\n",
       "      <th>1666</th>\n",
       "      <td>Tom Clark</td>\n",
       "      <td>https://www.poetryfoundation.org/poetrymagazine/poems/30773/fig-1</td>\n",
       "      <td>Fig 1</td>\n",
       "      <td>[]</td>\n",
       "      <td></td>\n",
       "      <td>new_york_school_2nd_generation</td>\n",
       "    </tr>\n",
       "  </tbody>\n",
       "</table>\n",
       "</div>"
      ],
      "text/plain": [
       "                         poet  \\\n",
       "6             Michael McClure   \n",
       "23            Kenneth Patchen   \n",
       "606   William Carlos Williams   \n",
       "723     Guillaume Apollinaire   \n",
       "775            Malcolm Cowley   \n",
       "778                Hart Crane   \n",
       "779                Hart Crane   \n",
       "780                Hart Crane   \n",
       "782                Hart Crane   \n",
       "1170          Stephen Spender   \n",
       "1486     William Butler Yeats   \n",
       "1594             Frank O'Hara   \n",
       "1666                Tom Clark   \n",
       "\n",
       "                                                                                                                          poem_url  \\\n",
       "6                                               https://www.poetryfoundation.org/poetrymagazine/poems/26838/2-for-theodore-roethke   \n",
       "23                                                          https://www.poetryfoundation.org/poetrymagazine/poems/27128/poemscapes   \n",
       "606   https://www.poetryfoundation.org/poetrymagazine/poems/27969/some-simple-measures-in-the-american-idiom-and-the-variable-foot   \n",
       "723                                https://www.poetryfoundation.org/poetrymagazine/poems/25655/toward-the-south-tr-by-harry-duncan   \n",
       "775                                            https://www.poetryfoundation.org/poetrymagazine/poems/30954/a-countryside-1918-1968   \n",
       "778                                      https://www.poetryfoundation.org/poetrymagazine/poems/19926/the-urn-enrich-my-resignation   \n",
       "779                                                 https://www.poetryfoundation.org/poetrymagazine/poems/19916/the-urn-purgatorio   \n",
       "780                                                      https://www.poetryfoundation.org/poetrymagazine/poems/19922/the-urn-reply   \n",
       "782                                             https://www.poetryfoundation.org/poetrymagazine/poems/19920/the-urn-the-sad-indian   \n",
       "1170                                          https://www.poetryfoundation.org/poetrymagazine/poems/22310/poem-after-the-wrestling   \n",
       "1486                                              https://www.poetryfoundation.org/poetrymagazine/poems/20737/a-full-moon-in-march   \n",
       "1594                                         https://www.poetryfoundation.org/poetrymagazine/poems/31123/places-for-oscar-salvador   \n",
       "1666                                                             https://www.poetryfoundation.org/poetrymagazine/poems/30773/fig-1   \n",
       "\n",
       "                                                                 title  \\\n",
       "6                                               2 For Theodore Roethke   \n",
       "23                                                          Poemscapes   \n",
       "606   Some Simple Measures In The American Idiom And The Variable Foot   \n",
       "723                                Toward The South Tr By Harry Duncan   \n",
       "775                                            A Countryside 1918 1968   \n",
       "778                                      The Urn Enrich My Resignation   \n",
       "779                                                 The Urn Purgatorio   \n",
       "780                                                      The Urn Reply   \n",
       "782                                             The Urn The Sad Indian   \n",
       "1170                                          Poem After The Wrestling   \n",
       "1486                                              A Full Moon In March   \n",
       "1594                                         Places For Oscar Salvador   \n",
       "1666                                                             Fig 1   \n",
       "\n",
       "     poem_lines poem_string                           genre  \n",
       "6            []                                        beat  \n",
       "23           []                                        beat  \n",
       "606          []                                     imagist  \n",
       "723          []                                      modern  \n",
       "775          []                                      modern  \n",
       "778          []                                      modern  \n",
       "779          []                                      modern  \n",
       "780          []                                      modern  \n",
       "782          []                                      modern  \n",
       "1170         []                                      modern  \n",
       "1486         []                                      modern  \n",
       "1594         []                             new_york_school  \n",
       "1666         []              new_york_school_2nd_generation  "
      ]
     },
     "execution_count": 263,
     "metadata": {},
     "output_type": "execute_result"
    }
   ],
   "source": [
    "scan_poem_df[scan_poem_df.poem_string == '']"
   ]
  },
  {
   "cell_type": "code",
   "execution_count": 71,
   "metadata": {},
   "outputs": [],
   "source": [
    "rescrapes = []"
   ]
  },
  {
   "cell_type": "code",
   "execution_count": 72,
   "metadata": {},
   "outputs": [],
   "source": [
    "url = 'https://www.poetryfoundation.org/poetrymagazine/poems/26838/2-for-theodore-roethke'\n",
    "rescrape = scan_poem_scraper(url, input_poet='Michael McClure', input_title='2 For Theodore Roethke: Premonition')\n",
    "rescrape['poem_url'] = url\n",
    "rescrape['genre'] = 'beat'\n",
    "rescrapes.append(rescrape)"
   ]
  },
  {
   "cell_type": "code",
   "execution_count": 73,
   "metadata": {},
   "outputs": [],
   "source": [
    "url = 'https://www.poetryfoundation.org/poetrymagazine/browse?volume=87&issue=4&page=28'\n",
    "rescrape = scan_poem_scraper(url, input_poet='Michael McClure', input_title='2 For Theodore Roethke: 2')\n",
    "rescrape['poem_url'] = url\n",
    "rescrape['genre'] = 'beat'\n",
    "rescrapes.append(rescrape)"
   ]
  },
  {
   "cell_type": "code",
   "execution_count": 74,
   "metadata": {},
   "outputs": [],
   "source": [
    "url = 'https://www.poetryfoundation.org/poetrymagazine/poems/30954/a-countryside-1918-1968'\n",
    "rescrape = scan_poem_scraper(url, input_poet='Malcolm Cowley', input_title='A Countryside 1918 1968: Boy in Sunlight')\n",
    "rescrape['poem_url'] = url\n",
    "rescrape['genre'] = 'modern'\n",
    "rescrapes.append(rescrape)"
   ]
  },
  {
   "cell_type": "code",
   "execution_count": 75,
   "metadata": {},
   "outputs": [],
   "source": [
    "url = 'https://www.poetryfoundation.org/poetrymagazine/poems/27969/some-simple-measures-in-the-american-idiom-and-the-variable-foot'\n",
    "rescrape = scan_poem_scraper(url, \n",
    "                             input_poet='William Carlos Williams',\n",
    "                             input_title='Some Simple Measures In The American Idiom And The Variable Foot',\n",
    "                             first_pattern='.*((?:\\r?\\n.*)*)',\n",
    "                             next_pattern='\\n((?:\\r?\\n(?!COMMENT).*)*)')\n",
    "rescrape['poem_url'] = url\n",
    "rescrape['genre'] = 'imagist'\n",
    "rescrapes.append(rescrape)"
   ]
  },
  {
   "cell_type": "code",
   "execution_count": 76,
   "metadata": {},
   "outputs": [],
   "source": [
    "url = 'https://www.poetryfoundation.org/poetrymagazine/poems/27128/poemscapes'\n",
    "rescrape = scan_poem_scraper(url, \n",
    "                             input_poet='Kenneth Patchen',\n",
    "                             first_pattern='.*((?:\\r?\\n.*)*)',\n",
    "                             next_pattern='\\n((?:\\r?\\n(?!comment).*)*)')\n",
    "rescrape['poem_url'] = url\n",
    "rescrape['genre'] = 'beat'\n",
    "rescrapes.append(rescrape)"
   ]
  },
  {
   "cell_type": "code",
   "execution_count": 79,
   "metadata": {},
   "outputs": [],
   "source": [
    "url = 'https://www.poetryfoundation.org/poetrymagazine/poems/19915/the-urn-reliquary'\n",
    "rescrape = scan_poem_scraper(url, input_poet='Hart Crane')\n",
    "rescrape['poem_url'] = url\n",
    "rescrape['genre'] = 'modern'\n",
    "rescrapes.append(rescrape)"
   ]
  },
  {
   "cell_type": "code",
   "execution_count": 81,
   "metadata": {},
   "outputs": [],
   "source": [
    "actual_url = 'https://www.poetryfoundation.org/poetrymagazine/browse?volume=41&issue=4&page=2'\n",
    "url = 'https://www.poetryfoundation.org/poetrymagazine/poems/19916/the-urn-purgatorio'\n",
    "rescrape = scan_poem_scraper(actual_url, input_poet='Hart Crane', input_title='The Urn: Purgatorio')\n",
    "rescrape['poem_url'] = url\n",
    "rescrape['genre'] = 'modern'\n",
    "rescrapes.append(rescrape)"
   ]
  },
  {
   "cell_type": "code",
   "execution_count": 83,
   "metadata": {},
   "outputs": [],
   "source": [
    "actual_url = 'https://www.poetryfoundation.org/poetrymagazine/browse?volume=41&issue=4&page=6'\n",
    "url = 'https://www.poetryfoundation.org/poetrymagazine/poems/19920/the-urn-the-sad-indian'\n",
    "rescrape = scan_poem_scraper(actual_url, input_poet='Hart Crane', input_title='The Urn: The Sad Indian')\n",
    "rescrape['poem_url'] = url\n",
    "rescrape['genre'] = 'modern'\n",
    "rescrapes.append(rescrape)"
   ]
  },
  {
   "cell_type": "code",
   "execution_count": 85,
   "metadata": {},
   "outputs": [],
   "source": [
    "actual_url = 'https://www.poetryfoundation.org/poetrymagazine/browse?volume=41&issue=4&page=7'\n",
    "url = 'https://www.poetryfoundation.org/poetrymagazine/poems/19922/the-urn-reply'\n",
    "rescrape = scan_poem_scraper(actual_url, input_poet='Hart Crane', input_title='The Urn: Reply')\n",
    "rescrape['poem_url'] = url\n",
    "rescrape['genre'] = 'modern'\n",
    "rescrapes.append(rescrape)"
   ]
  },
  {
   "cell_type": "code",
   "execution_count": 87,
   "metadata": {},
   "outputs": [],
   "source": [
    "actual_url = 'https://www.poetryfoundation.org/poetrymagazine/browse?volume=41&issue=4&page=10'\n",
    "url = 'https://www.poetryfoundation.org/poetrymagazine/poems/19922/the-urn-reply'\n",
    "rescrape = scan_poem_scraper(actual_url, input_poet='Hart Crane', input_title='The Urn: Enrich My Resignation')\n",
    "rescrape['poem_url'] = url\n",
    "rescrape['genre'] = 'modern'\n",
    "rescrapes.append(rescrape)"
   ]
  },
  {
   "cell_type": "code",
   "execution_count": 94,
   "metadata": {},
   "outputs": [],
   "source": [
    "url = 'https://www.poetryfoundation.org/poetrymagazine/poems/31123/places-for-oscar-salvador'\n",
    "rescrape = scan_poem_scraper(url, \n",
    "                             input_poet=\"Frank O'Hara\",\n",
    "                             input_title='Places for Oscar Salvador',\n",
    "                             first_pattern='.*((?:\\r?\\n.*)*)',\n",
    "                             next_pattern='\\n((?:\\r?\\n(?!SUDDEN SNOW).*)*)')\n",
    "rescrape['poem_url'] = url\n",
    "rescrape['genre'] = 'new_york_school'\n",
    "rescrapes.append(rescrape)"
   ]
  },
  {
   "cell_type": "code",
   "execution_count": 523,
   "metadata": {},
   "outputs": [
    {
     "data": {
      "text/html": [
       "<div>\n",
       "<style scoped>\n",
       "    .dataframe tbody tr th:only-of-type {\n",
       "        vertical-align: middle;\n",
       "    }\n",
       "\n",
       "    .dataframe tbody tr th {\n",
       "        vertical-align: top;\n",
       "    }\n",
       "\n",
       "    .dataframe thead th {\n",
       "        text-align: right;\n",
       "    }\n",
       "</style>\n",
       "<table border=\"1\" class=\"dataframe\">\n",
       "  <thead>\n",
       "    <tr style=\"text-align: right;\">\n",
       "      <th></th>\n",
       "      <th>poet</th>\n",
       "      <th>poem_url</th>\n",
       "      <th>title</th>\n",
       "      <th>poem_lines</th>\n",
       "      <th>poem_string</th>\n",
       "      <th>genre</th>\n",
       "    </tr>\n",
       "  </thead>\n",
       "  <tbody>\n",
       "    <tr>\n",
       "      <th>0</th>\n",
       "      <td>Michael McClure</td>\n",
       "      <td>https://www.poetryfoundation.org/poetrymagazine/poems/26838/2-for-theodore-roethke</td>\n",
       "      <td>2 For Theodore Roethke: Premonition</td>\n",
       "      <td>[My bones ascend by arsenics of sight., Where noise is all the sound there is to hear,, Beginning in the heart I work towards light., My toes are ...</td>\n",
       "      <td>My bones ascend by arsenics of sight.\\nWhere noise is all the sound there is to hear,\\nBeginning in the heart I work towards light.\\nMy toes are c...</td>\n",
       "      <td>beat</td>\n",
       "    </tr>\n",
       "    <tr>\n",
       "      <th>1</th>\n",
       "      <td>Michael McClure</td>\n",
       "      <td>https://www.poetryfoundation.org/poetrymagazine/browse?volume=87&amp;issue=4&amp;page=28</td>\n",
       "      <td>2 For Theodore Roethke: 2</td>\n",
       "      <td>[This copse is earth’s cockade, this corpse my drum, To beat upon and play the mole a dance;, These hands are my defeat, these eyes my thumb., Opp...</td>\n",
       "      <td>This copse is earth’s cockade, this corpse my drum\\nTo beat upon and play the mole a dance;\\nThese hands are my defeat, these eyes my thumb.\\nOppo...</td>\n",
       "      <td>beat</td>\n",
       "    </tr>\n",
       "    <tr>\n",
       "      <th>2</th>\n",
       "      <td>Malcolm Cowley</td>\n",
       "      <td>https://www.poetryfoundation.org/poetrymagazine/poems/30954/a-countryside-1918-1968</td>\n",
       "      <td>A Countryside 1918 1968: Boy in Sunlight</td>\n",
       "      <td>[The boy having fished alone, down Empfield Run from where it started on stony ground,, in oak and chestnut timber,, then crossed the Nicktown Roa...</td>\n",
       "      <td>The boy having fished alone\\ndown Empfield Run from where it started on stony ground,\\nin oak and chestnut timber,\\nthen crossed the Nicktown Road...</td>\n",
       "      <td>modern</td>\n",
       "    </tr>\n",
       "    <tr>\n",
       "      <th>3</th>\n",
       "      <td>William Carlos Williams</td>\n",
       "      <td>https://www.poetryfoundation.org/poetrymagazine/poems/27969/some-simple-measures-in-the-american-idiom-and-the-variable-foot</td>\n",
       "      <td>Some Simple Measures In The American Idiom And The Variable Foot</td>\n",
       "      <td>[EXERCISE IN TIMING, Oh, the sumac died, it’s, the first time, I, noticed it, HISTOLOGY, There is, the, microscopic, anatomy, of, the whale, this ...</td>\n",
       "      <td>EXERCISE IN TIMING\\nOh\\nthe sumac died\\nit’s\\nthe first time\\nI\\nnoticed it\\nHISTOLOGY\\nThere is\\nthe\\nmicroscopic\\nanatomy\\nof\\nthe whale\\nthis i...</td>\n",
       "      <td>imagist</td>\n",
       "    </tr>\n",
       "    <tr>\n",
       "      <th>4</th>\n",
       "      <td>Kenneth Patchen</td>\n",
       "      <td>https://www.poetryfoundation.org/poetrymagazine/poems/27128/poemscapes</td>\n",
       "      <td>Poemscapes</td>\n",
       "      <td>[XVI, No sooner had the clowns got a new house built,, a worse wind than the first blew it down. And it also, re-blew down the old house which the...</td>\n",
       "      <td>XVI\\nNo sooner had the clowns got a new house built,\\na worse wind than the first blew it down. And it also\\nre-blew down the old house which they...</td>\n",
       "      <td>beat</td>\n",
       "    </tr>\n",
       "    <tr>\n",
       "      <th>5</th>\n",
       "      <td>Hart Crane</td>\n",
       "      <td>https://www.poetryfoundation.org/poetrymagazine/poems/19915/the-urn-reliquary</td>\n",
       "      <td>The Urn Reliquary</td>\n",
       "      <td>[ENDERNESS and resolution!, What is our life without a sudden pillow,, What is death without a ditch?, The harvest laugh of bright Apollo, And the...</td>\n",
       "      <td>ENDERNESS and resolution!\\nWhat is our life without a sudden pillow,\\nWhat is death without a ditch?\\nThe harvest laugh of bright Apollo\\nAnd the ...</td>\n",
       "      <td>modern</td>\n",
       "    </tr>\n",
       "    <tr>\n",
       "      <th>6</th>\n",
       "      <td>Hart Crane</td>\n",
       "      <td>https://www.poetryfoundation.org/poetrymagazine/poems/19916/the-urn-purgatorio</td>\n",
       "      <td>The Urn: Purgatorio</td>\n",
       "      <td>[My country, O my land, my friends—, Am I apart—here from you in a land, Where all your gas-lights, faces, sputum gleam, Like something left, fors...</td>\n",
       "      <td>My country, O my land, my friends—\\nAm I apart—here from you in a land\\nWhere all your gas-lights, faces, sputum gleam\\nLike something left, forsa...</td>\n",
       "      <td>modern</td>\n",
       "    </tr>\n",
       "    <tr>\n",
       "      <th>7</th>\n",
       "      <td>Hart Crane</td>\n",
       "      <td>https://www.poetryfoundation.org/poetrymagazine/poems/19920/the-urn-the-sad-indian</td>\n",
       "      <td>The Urn: The Sad Indian</td>\n",
       "      <td>[Sad heart, the gymnast of inertia, does not count, Hours, days—and scarcely sun and moon., The warp is in his woof, and his keen vision, Spells w...</td>\n",
       "      <td>Sad heart, the gymnast of inertia, does not count\\nHours, days—and scarcely sun and moon.\\nThe warp is in his woof, and his keen vision\\nSpells wh...</td>\n",
       "      <td>modern</td>\n",
       "    </tr>\n",
       "    <tr>\n",
       "      <th>8</th>\n",
       "      <td>Hart Crane</td>\n",
       "      <td>https://www.poetryfoundation.org/poetrymagazine/poems/19922/the-urn-reply</td>\n",
       "      <td>The Urn: Reply</td>\n",
       "      <td>[Thou canst read nothing except through appetite,, And here we join eyes in that sanctity, Where brother passes brother without sight,, But finall...</td>\n",
       "      <td>Thou canst read nothing except through appetite,\\nAnd here we join eyes in that sanctity\\nWhere brother passes brother without sight,\\nBut finally...</td>\n",
       "      <td>modern</td>\n",
       "    </tr>\n",
       "    <tr>\n",
       "      <th>9</th>\n",
       "      <td>Hart Crane</td>\n",
       "      <td>https://www.poetryfoundation.org/poetrymagazine/poems/19922/the-urn-reply</td>\n",
       "      <td>The Urn: Enrich My Resignation</td>\n",
       "      <td>[Enrich my resignation as I usurp those far, Feints of control, hear rifles blown out on the stag, Below the aeroplane, and see the fox’s brush, W...</td>\n",
       "      <td>Enrich my resignation as I usurp those far\\nFeints of control, hear rifles blown out on the stag\\nBelow the aeroplane, and see the fox’s brush\\nWh...</td>\n",
       "      <td>modern</td>\n",
       "    </tr>\n",
       "    <tr>\n",
       "      <th>10</th>\n",
       "      <td>Frank O'Hara</td>\n",
       "      <td>https://www.poetryfoundation.org/poetrymagazine/poems/31123/places-for-oscar-salvador</td>\n",
       "      <td>Places for Oscar Salvador</td>\n",
       "      <td>[EL ESCORIAL, After a sun lunch the burning landscape, from a stone and Saint Theresa’s heated, manuscripts the inks as dry as yesterdays so, many...</td>\n",
       "      <td>EL ESCORIAL\\nAfter a sun lunch the burning landscape\\nfrom a stone and Saint Theresa’s heated\\nmanuscripts the inks as dry as yesterdays so\\nmany ...</td>\n",
       "      <td>new_york_school</td>\n",
       "    </tr>\n",
       "  </tbody>\n",
       "</table>\n",
       "</div>"
      ],
      "text/plain": [
       "                       poet  \\\n",
       "0           Michael McClure   \n",
       "1           Michael McClure   \n",
       "2            Malcolm Cowley   \n",
       "3   William Carlos Williams   \n",
       "4           Kenneth Patchen   \n",
       "5                Hart Crane   \n",
       "6                Hart Crane   \n",
       "7                Hart Crane   \n",
       "8                Hart Crane   \n",
       "9                Hart Crane   \n",
       "10             Frank O'Hara   \n",
       "\n",
       "                                                                                                                        poem_url  \\\n",
       "0                                             https://www.poetryfoundation.org/poetrymagazine/poems/26838/2-for-theodore-roethke   \n",
       "1                                               https://www.poetryfoundation.org/poetrymagazine/browse?volume=87&issue=4&page=28   \n",
       "2                                            https://www.poetryfoundation.org/poetrymagazine/poems/30954/a-countryside-1918-1968   \n",
       "3   https://www.poetryfoundation.org/poetrymagazine/poems/27969/some-simple-measures-in-the-american-idiom-and-the-variable-foot   \n",
       "4                                                         https://www.poetryfoundation.org/poetrymagazine/poems/27128/poemscapes   \n",
       "5                                                  https://www.poetryfoundation.org/poetrymagazine/poems/19915/the-urn-reliquary   \n",
       "6                                                 https://www.poetryfoundation.org/poetrymagazine/poems/19916/the-urn-purgatorio   \n",
       "7                                             https://www.poetryfoundation.org/poetrymagazine/poems/19920/the-urn-the-sad-indian   \n",
       "8                                                      https://www.poetryfoundation.org/poetrymagazine/poems/19922/the-urn-reply   \n",
       "9                                                      https://www.poetryfoundation.org/poetrymagazine/poems/19922/the-urn-reply   \n",
       "10                                         https://www.poetryfoundation.org/poetrymagazine/poems/31123/places-for-oscar-salvador   \n",
       "\n",
       "                                                               title  \\\n",
       "0                                2 For Theodore Roethke: Premonition   \n",
       "1                                          2 For Theodore Roethke: 2   \n",
       "2                           A Countryside 1918 1968: Boy in Sunlight   \n",
       "3   Some Simple Measures In The American Idiom And The Variable Foot   \n",
       "4                                                         Poemscapes   \n",
       "5                                                  The Urn Reliquary   \n",
       "6                                                The Urn: Purgatorio   \n",
       "7                                            The Urn: The Sad Indian   \n",
       "8                                                     The Urn: Reply   \n",
       "9                                     The Urn: Enrich My Resignation   \n",
       "10                                         Places for Oscar Salvador   \n",
       "\n",
       "                                                                                                                                               poem_lines  \\\n",
       "0   [My bones ascend by arsenics of sight., Where noise is all the sound there is to hear,, Beginning in the heart I work towards light., My toes are ...   \n",
       "1   [This copse is earth’s cockade, this corpse my drum, To beat upon and play the mole a dance;, These hands are my defeat, these eyes my thumb., Opp...   \n",
       "2   [The boy having fished alone, down Empfield Run from where it started on stony ground,, in oak and chestnut timber,, then crossed the Nicktown Roa...   \n",
       "3   [EXERCISE IN TIMING, Oh, the sumac died, it’s, the first time, I, noticed it, HISTOLOGY, There is, the, microscopic, anatomy, of, the whale, this ...   \n",
       "4   [XVI, No sooner had the clowns got a new house built,, a worse wind than the first blew it down. And it also, re-blew down the old house which the...   \n",
       "5   [ENDERNESS and resolution!, What is our life without a sudden pillow,, What is death without a ditch?, The harvest laugh of bright Apollo, And the...   \n",
       "6   [My country, O my land, my friends—, Am I apart—here from you in a land, Where all your gas-lights, faces, sputum gleam, Like something left, fors...   \n",
       "7   [Sad heart, the gymnast of inertia, does not count, Hours, days—and scarcely sun and moon., The warp is in his woof, and his keen vision, Spells w...   \n",
       "8   [Thou canst read nothing except through appetite,, And here we join eyes in that sanctity, Where brother passes brother without sight,, But finall...   \n",
       "9   [Enrich my resignation as I usurp those far, Feints of control, hear rifles blown out on the stag, Below the aeroplane, and see the fox’s brush, W...   \n",
       "10  [EL ESCORIAL, After a sun lunch the burning landscape, from a stone and Saint Theresa’s heated, manuscripts the inks as dry as yesterdays so, many...   \n",
       "\n",
       "                                                                                                                                              poem_string  \\\n",
       "0   My bones ascend by arsenics of sight.\\nWhere noise is all the sound there is to hear,\\nBeginning in the heart I work towards light.\\nMy toes are c...   \n",
       "1   This copse is earth’s cockade, this corpse my drum\\nTo beat upon and play the mole a dance;\\nThese hands are my defeat, these eyes my thumb.\\nOppo...   \n",
       "2   The boy having fished alone\\ndown Empfield Run from where it started on stony ground,\\nin oak and chestnut timber,\\nthen crossed the Nicktown Road...   \n",
       "3   EXERCISE IN TIMING\\nOh\\nthe sumac died\\nit’s\\nthe first time\\nI\\nnoticed it\\nHISTOLOGY\\nThere is\\nthe\\nmicroscopic\\nanatomy\\nof\\nthe whale\\nthis i...   \n",
       "4   XVI\\nNo sooner had the clowns got a new house built,\\na worse wind than the first blew it down. And it also\\nre-blew down the old house which they...   \n",
       "5   ENDERNESS and resolution!\\nWhat is our life without a sudden pillow,\\nWhat is death without a ditch?\\nThe harvest laugh of bright Apollo\\nAnd the ...   \n",
       "6   My country, O my land, my friends—\\nAm I apart—here from you in a land\\nWhere all your gas-lights, faces, sputum gleam\\nLike something left, forsa...   \n",
       "7   Sad heart, the gymnast of inertia, does not count\\nHours, days—and scarcely sun and moon.\\nThe warp is in his woof, and his keen vision\\nSpells wh...   \n",
       "8   Thou canst read nothing except through appetite,\\nAnd here we join eyes in that sanctity\\nWhere brother passes brother without sight,\\nBut finally...   \n",
       "9   Enrich my resignation as I usurp those far\\nFeints of control, hear rifles blown out on the stag\\nBelow the aeroplane, and see the fox’s brush\\nWh...   \n",
       "10  EL ESCORIAL\\nAfter a sun lunch the burning landscape\\nfrom a stone and Saint Theresa’s heated\\nmanuscripts the inks as dry as yesterdays so\\nmany ...   \n",
       "\n",
       "              genre  \n",
       "0              beat  \n",
       "1              beat  \n",
       "2            modern  \n",
       "3           imagist  \n",
       "4              beat  \n",
       "5            modern  \n",
       "6            modern  \n",
       "7            modern  \n",
       "8            modern  \n",
       "9            modern  \n",
       "10  new_york_school  "
      ]
     },
     "execution_count": 523,
     "metadata": {},
     "output_type": "execute_result"
    }
   ],
   "source": [
    "rescrapes_pt1 = pd.DataFrame(rescrapes)\n",
    "rescrapes_pt1"
   ]
  },
  {
   "cell_type": "code",
   "execution_count": 265,
   "metadata": {},
   "outputs": [],
   "source": [
    "rescrapes_pt1.to_csv('data/temp_rescrapes_pt1.csv')"
   ]
  },
  {
   "cell_type": "markdown",
   "metadata": {},
   "source": [
    "#### Part 2"
   ]
  },
  {
   "cell_type": "code",
   "execution_count": 264,
   "metadata": {
    "scrolled": true
   },
   "outputs": [
    {
     "data": {
      "text/plain": [
       "['https://www.poetryfoundation.org/poetrymagazine/poems/29415/mad-sonnet-when-spirit-has-no-edge',\n",
       " 'https://www.poetryfoundation.org/poetrymagazine/poems/29416/mad-sonnet-we-shall-be-free',\n",
       " 'https://www.poetryfoundation.org/poetrymagazine/poems/29577/valery-as-dictator',\n",
       " 'https://www.poetryfoundation.org/poetrymagazine/poems/146231/haiku-and-tanka-for-harriet-tubman',\n",
       " 'https://www.poetryfoundation.org/poetrymagazine/poems/30270/ritual-ix',\n",
       " 'https://www.poetryfoundation.org/poetrymagazine/poems/30225/song-i-wouldnt-embarrass-you',\n",
       " 'https://www.poetryfoundation.org/poetrymagazine/poems/29779/walking-56d2134a84892',\n",
       " 'https://www.poetryfoundation.org/poetrymagazine/poems/30530/song-how-simply-for-another',\n",
       " 'https://www.poetryfoundation.org/poetrymagazine/poems/30550/the-sundering-up-tracks',\n",
       " 'https://www.poetryfoundation.org/poetrymagazine/poems/30551/the-first-note',\n",
       " 'https://www.poetryfoundation.org/poetrymagazine/poems/28862/the-law',\n",
       " 'https://www.poetryfoundation.org/poetrymagazine/poems/27415/poem-when-the-immortal-blond',\n",
       " 'https://www.poetryfoundation.org/poetrymagazine/poems/55728/snow-56d23797074a2',\n",
       " 'https://www.poetryfoundation.org/poetrymagazine/poems/55733/what-next',\n",
       " 'https://www.poetryfoundation.org/poetrymagazine/poems/55731/the-state-of-new-york',\n",
       " 'https://www.poetryfoundation.org/poetrymagazine/poems/41677/pacemaker',\n",
       " 'https://www.poetryfoundation.org/poetrymagazine/poems/48292/road-56d22969928f0',\n",
       " 'https://www.poetryfoundation.org/poetrymagazine/poems/19645/persons-seen',\n",
       " 'https://www.poetryfoundation.org/poetrymagazine/poems/32401/sonnets-of-the-blood',\n",
       " 'https://www.poetryfoundation.org/poetrymagazine/poems/13074/peace',\n",
       " 'https://www.poetryfoundation.org/poetrymagazine/poems/13075/the-dead',\n",
       " 'https://www.poetryfoundation.org/poetrymagazine/poems/13534/marching',\n",
       " 'https://www.poetryfoundation.org/poetrymagazine/poems/55313/god-56d236c65624c',\n",
       " 'https://www.poetryfoundation.org/poetrymagazine/poems/14312/calligraphy-tr-by-amy-lowell-and-florence-ayscough',\n",
       " 'https://www.poetryfoundation.org/poetrymagazine/poems/14296/on-seeing-the-portrait-of-a-beautiful-concubine-tr-by-amy-lowell-and-florence-ayscough',\n",
       " 'https://www.poetryfoundation.org/poetrymagazine/poems/14316/on-the-classic-of-the-hills-and-sea-tr-by-amy-lowell-and-florence-ayscough',\n",
       " 'https://www.poetryfoundation.org/poetrymagazine/poems/14321/the-inn-at-the-western-lake-tr-by-amy-lowell-and-florence-ayscough',\n",
       " 'https://www.poetryfoundation.org/poetrymagazine/poems/14313/one-goes-a-journey-tr-by-amy-lowell-and-florence-ayscough',\n",
       " 'https://www.poetryfoundation.org/poetrymagazine/poems/14315/the-palace-blossoms-tr-by-amy-lowell-and-florence-ayscough',\n",
       " 'https://www.poetryfoundation.org/poetrymagazine/poems/14310/an-evening-meeting-tr-by-amy-lowell-and-florence-ayscough',\n",
       " 'https://www.poetryfoundation.org/poetrymagazine/poems/14322/the-emperors-return-from-a-journey-to-the-south-tr-by-amy-lowell-and-florence-ayscough',\n",
       " 'https://www.poetryfoundation.org/poetrymagazine/poems/14314/from-the-straw-hut-among-the-seven-peaks-tr-by-amy-lowell-and-florence-ayscough',\n",
       " 'https://www.poetryfoundation.org/poetrymagazine/poems/14320/a-recluse-tr-by-amy-lowell-and-florence-ayscough',\n",
       " 'https://www.poetryfoundation.org/poetrymagazine/poems/14311/after-how-many-years-tr-by-amy-lowell-and-florence-ayscough',\n",
       " 'https://www.poetryfoundation.org/poetrymagazine/poems/12675/in-a-station-of-the-metro',\n",
       " 'https://www.poetryfoundation.org/poetrymagazine/poems/13065/exiles-letter-tr-by-ezra-pound',\n",
       " 'https://www.poetryfoundation.org/poetrymagazine/poems/13497/paganis',\n",
       " 'https://www.poetryfoundation.org/poetrymagazine/poems/12926/amities',\n",
       " 'https://www.poetryfoundation.org/poetrymagazine/poems/12663/contemporania',\n",
       " 'https://www.poetryfoundation.org/poetrymagazine/poems/28310/elaine',\n",
       " 'https://www.poetryfoundation.org/poetrymagazine/poems/18899/poem-as-the-cat',\n",
       " 'https://www.poetryfoundation.org/poetrymagazine/poems/32405/proof-of-immortality-56d215f13b354',\n",
       " 'https://www.poetryfoundation.org/poetrymagazine/poems/28312/emily',\n",
       " 'https://www.poetryfoundation.org/poetrymagazine/poems/14358/epitaph-an-old-willow',\n",
       " 'https://www.poetryfoundation.org/poetrymagazine/poems/28311/erica',\n",
       " 'https://www.poetryfoundation.org/poetrymagazine/poems/21476/to-an-elder-poet',\n",
       " 'https://www.poetryfoundation.org/poetrymagazine/poems/92668/pinocchio',\n",
       " 'https://www.poetryfoundation.org/poetrymagazine/poems/55537/and',\n",
       " 'https://www.poetryfoundation.org/poetrymagazine/poems/58349/object-lesson',\n",
       " 'https://www.poetryfoundation.org/poetrymagazine/poems/54278/accounts',\n",
       " 'https://www.poetryfoundation.org/poetrymagazine/poems/54988/transactions',\n",
       " 'https://www.poetryfoundation.org/poetrymagazine/poems/150946/elsewhere-5d70274a8beed',\n",
       " 'https://www.poetryfoundation.org/poetrymagazine/poems/52592/eyes-56d2312fcc44e',\n",
       " 'https://www.poetryfoundation.org/poetrymagazine/poems/53487/paragraph',\n",
       " 'https://www.poetryfoundation.org/poetrymagazine/poems/56652/lounge-area',\n",
       " 'https://www.poetryfoundation.org/poetrymagazine/poems/89349/object-permanence',\n",
       " 'https://www.poetryfoundation.org/poetrymagazine/poems/56653/mistakes-56d2395a467bc',\n",
       " 'https://www.poetryfoundation.org/poetrymagazine/poems/92669/natural-histories',\n",
       " 'https://www.poetryfoundation.org/poetrymagazine/poems/57726/followers',\n",
       " 'https://www.poetryfoundation.org/poetrymagazine/poems/153798/how-to-disappear',\n",
       " 'https://www.poetryfoundation.org/poetrymagazine/poems/89350/bees-572b73911eea4',\n",
       " 'https://www.poetryfoundation.org/poetrymagazine/poems/144605/my-house-59df845fd8d77',\n",
       " 'https://www.poetryfoundation.org/poetrymagazine/poems/150947/riddance',\n",
       " 'https://www.poetryfoundation.org/poetrymagazine/poems/144603/the-corner-59df845f59dfa',\n",
       " 'https://www.poetryfoundation.org/poetrymagazine/poems/54277/new-intelligence',\n",
       " 'https://www.poetryfoundation.org/poetrymagazine/poems/153797/the-fold',\n",
       " 'https://www.poetryfoundation.org/poetrymagazine/poems/57725/the-ether',\n",
       " 'https://www.poetryfoundation.org/poetrymagazine/poems/49897/passage-56d22c77a185e',\n",
       " 'https://www.poetryfoundation.org/poetrymagazine/poems/51184/missing-persons',\n",
       " 'https://www.poetryfoundation.org/poetrymagazine/poems/51186/apartment-56d22ec34c9a8',\n",
       " 'https://www.poetryfoundation.org/poetrymagazine/poems/52591/procedures',\n",
       " 'https://www.poetryfoundation.org/poetrymagazine/poems/56905/me-and-my-pharaoh-',\n",
       " 'https://www.poetryfoundation.org/poetrymagazine/poems/51175/two-stones-with-one-bird',\n",
       " 'https://www.poetryfoundation.org/poetrymagazine/poems/53206/a-hymn',\n",
       " 'https://www.poetryfoundation.org/poetrymagazine/poems/149251/the-definitions',\n",
       " 'https://www.poetryfoundation.org/poetrymagazine/poems/53072/oxford-56d2320d14703',\n",
       " 'https://www.poetryfoundation.org/poetrymagazine/poems/56293/yellow-goblins',\n",
       " 'https://www.poetryfoundation.org/poetrymagazine/poems/92048/twang-they-and-i-incline-this-ear-to-tin',\n",
       " 'https://www.poetryfoundation.org/poetrymagazine/poems/58771/conversation-with-the-tsatsawassa-house',\n",
       " 'https://www.poetryfoundation.org/poetrymagazine/poems/146501/fish-chips',\n",
       " 'https://www.poetryfoundation.org/poetrymagazine/poems/13202/from-discordants-iv',\n",
       " 'https://www.poetryfoundation.org/poetrymagazine/poems/58341/the-seasons-56d23ca091a25',\n",
       " 'https://www.poetryfoundation.org/poetrymagazine/poems/15669/to-a-dead-lover',\n",
       " 'https://www.poetryfoundation.org/poetrymagazine/poems/30206/briggflatts',\n",
       " 'https://www.poetryfoundation.org/poetrymagazine/poems/20166/chomei-at-toyama',\n",
       " 'https://www.poetryfoundation.org/poetrymagazine/poems/25512/jacks-white-horseup',\n",
       " 'https://www.poetryfoundation.org/poetrymagazine/poems/25263/imc-a-tmo',\n",
       " 'https://www.poetryfoundation.org/poetrymagazine/poems/22220/nouns-to-nouns',\n",
       " 'https://www.poetryfoundation.org/poetrymagazine/poems/28835/pity-his-how-illimitable-plight',\n",
       " 'https://www.poetryfoundation.org/poetrymagazine/poems/25510/dim-i-nu-tiv',\n",
       " 'https://www.poetryfoundation.org/poetrymagazine/poems/22223/six',\n",
       " 'https://www.poetryfoundation.org/poetrymagazine/poems/25960/springmay0151',\n",
       " 'https://www.poetryfoundation.org/poetrymagazine/poems/25513/-oroundmoonhow',\n",
       " 'https://www.poetryfoundation.org/poetrymagazine/poems/28566/why-dont-be',\n",
       " 'https://www.poetryfoundation.org/poetrymagazine/poems/28836/without-the-mercy-of',\n",
       " 'https://www.poetryfoundation.org/poetrymagazine/poems/22222/up-into-the-silence-the-green',\n",
       " 'https://www.poetryfoundation.org/poetrymagazine/poems/28837/annie-died-the-other-day',\n",
       " 'https://www.poetryfoundation.org/poetrymagazine/poems/24807/thislets-rememberday',\n",
       " 'https://www.poetryfoundation.org/poetrymagazine/poems/22221/when-what-hugs-stopping-earth',\n",
       " 'https://www.poetryfoundation.org/poetrymagazine/poems/28834/for-any-ruffian-of-the-sky',\n",
       " 'https://www.poetryfoundation.org/poetrymagazine/poems/28833/if-seventy-were-young',\n",
       " 'https://www.poetryfoundation.org/poetrymagazine/poems/26048/rosetreerosetree',\n",
       " 'https://www.poetryfoundation.org/poetrymagazine/poems/40222/honeymoon-tr-by-barry-goldensohn',\n",
       " 'https://www.poetryfoundation.org/poetrymagazine/poems/15885/wanderings-champs-dhonneur-56d20918e2c28',\n",
       " 'https://www.poetryfoundation.org/poetrymagazine/poems/15867/wanderings-champs-dhonneur',\n",
       " 'https://www.poetryfoundation.org/poetrymagazine/poems/22372/slow-blue',\n",
       " 'https://www.poetryfoundation.org/poetrymagazine/poems/34682/project-for-an-aesthetic',\n",
       " 'https://www.poetryfoundation.org/poetrymagazine/poems/34678/five-poems-from-the-1920s',\n",
       " 'https://www.poetryfoundation.org/poetrymagazine/poems/12960/ollie-mgee',\n",
       " 'https://www.poetryfoundation.org/poetrymagazine/poems/21466/walking-sticks-and-paperweights-and-watermarks',\n",
       " 'https://www.poetryfoundation.org/poetrymagazine/poems/19682/part-of-a-novel-part-of-a-poem-part-of-a-play-the-hero',\n",
       " 'https://www.poetryfoundation.org/poetrymagazine/poems/12845/lost',\n",
       " 'https://www.poetryfoundation.org/poetrymagazine/poems/24848/number-man',\n",
       " 'https://www.poetryfoundation.org/poetrymagazine/poems/56415/doors-56d238e3affca',\n",
       " 'https://www.poetryfoundation.org/poetrymagazine/poems/15533/lenvoi',\n",
       " 'https://www.poetryfoundation.org/poetrymagazine/poems/17874/discus-thrower',\n",
       " 'https://www.poetryfoundation.org/poetrymagazine/poems/12858/september-midnight',\n",
       " 'https://www.poetryfoundation.org/poetrymagazine/poems/20683/conjunctions',\n",
       " 'https://www.poetryfoundation.org/poetrymagazine/poems/58857/people-behaving-badly-a-concern',\n",
       " 'https://www.poetryfoundation.org/poetrymagazine/poems/33626/syringa',\n",
       " 'https://www.poetryfoundation.org/poetrymagazine/poems/57376/bunch-of-stuff',\n",
       " 'https://www.poetryfoundation.org/poetrymagazine/poems/57377/by-guess-and-by-gosh',\n",
       " 'https://www.poetryfoundation.org/poetrymagazine/poems/54557/to-a-reason',\n",
       " 'https://www.poetryfoundation.org/poetrymagazine/poems/41038/town-hall-fifteenth-arrondissement',\n",
       " 'https://www.poetryfoundation.org/poetrymagazine/poems/29206/angelica-an-opera-act-ii',\n",
       " 'https://www.poetryfoundation.org/poetrymagazine/poems/40750/to-my-fathers-business',\n",
       " 'https://www.poetryfoundation.org/poetrymagazine/poems/33672/poem-green-things-are-flowers',\n",
       " 'https://www.poetryfoundation.org/poetrymagazine/poems/53039/destitute-peru',\n",
       " 'https://www.poetryfoundation.org/poetrymagazine/poems/53034/sweet-romanian-tongue',\n",
       " 'https://www.poetryfoundation.org/poetrymagazine/poems/57008/first-thing',\n",
       " 'https://www.poetryfoundation.org/poetrymagazine/poems/30246/poem-to-simply-talk',\n",
       " 'https://www.poetryfoundation.org/poetrymagazine/poems/30549/poem-like-musical-instruments',\n",
       " 'https://www.poetryfoundation.org/poetrymagazine/poems/30775/sonnet-five-am-on-east-fourteenth',\n",
       " 'https://www.poetryfoundation.org/poetrymagazine/poems/58492/epicedium-to-potters-field',\n",
       " 'https://www.poetryfoundation.org/poetrymagazine/poems/58493/juarez',\n",
       " 'https://www.poetryfoundation.org/poetrymagazine/poems/58497/bright-blue-self-portrait',\n",
       " 'https://www.poetryfoundation.org/poetrymagazine/poems/58241/from-my-forehead',\n",
       " 'https://www.poetryfoundation.org/poetrymagazine/poems/58240/license',\n",
       " 'https://www.poetryfoundation.org/poetrymagazine/poems/58234/this-fire',\n",
       " 'https://www.poetryfoundation.org/poetrymagazine/poems/58235/the-elements-56d23c6f1d3ce',\n",
       " 'https://www.poetryfoundation.org/poetrymagazine/poems/58237/stalker',\n",
       " 'https://www.poetryfoundation.org/poetrymagazine/poems/149708/clocked',\n",
       " 'https://www.poetryfoundation.org/poetrymagazine/poems/149707/ticking-and-tocking',\n",
       " 'https://www.poetryfoundation.org/poetrymagazine/poems/58341/the-seasons-56d23ca091a25',\n",
       " 'https://www.poetryfoundation.org/poetrymagazine/poems/56418/poem-56d238e5159dc',\n",
       " 'https://www.poetryfoundation.org/poetrymagazine/poems/30723/jungle-56d21432117a5',\n",
       " 'https://www.poetryfoundation.org/poetrymagazine/poems/56845/history-will-decide',\n",
       " 'https://www.poetryfoundation.org/poetrymagazine/poems/30140/spring-stood-there',\n",
       " 'https://www.poetryfoundation.org/poetrymagazine/poems/30139/march-56d213a2b802b',\n",
       " 'https://www.poetryfoundation.org/poetrymagazine/poems/29475/now-in-one-year',\n",
       " 'https://www.poetryfoundation.org/poetrymagazine/poems/30141/the-park-a-darling-walk',\n",
       " 'https://www.poetryfoundation.org/poetrymagazine/poems/30138/consider-at-the-outset',\n",
       " 'https://www.poetryfoundation.org/poetrymagazine/poems/30790/smile-to-see-the-lake',\n",
       " 'https://www.poetryfoundation.org/poetrymagazine/poems/29449/psalm-56d212ff620c5',\n",
       " 'https://www.poetryfoundation.org/poetrymagazine/poems/29745/giovannis-rape-of-the-sabine-women-at-wildensteins',\n",
       " 'https://www.poetryfoundation.org/poetrymagazine/poems/19125/1930s',\n",
       " 'https://www.poetryfoundation.org/poetrymagazine/poems/19940/along-the-flat-roofs',\n",
       " 'https://www.poetryfoundation.org/poetrymagazine/poems/31024/a-21-rudens-act-iii',\n",
       " 'https://www.poetryfoundation.org/poetrymagazine/poems/32643/a-22-an-era-any-time',\n",
       " 'https://www.poetryfoundation.org/poetrymagazine/poems/28076/brucio-e-limminenza-lombra-che-sale-riconosco',\n",
       " 'https://www.poetryfoundation.org/poetrymagazine/poems/36501/a-trenta-sei-of-the-pleasure-we-take-in-the-early-death-of-keats']"
      ]
     },
     "execution_count": 264,
     "metadata": {},
     "output_type": "execute_result"
    }
   ],
   "source": [
    "need_to_rescrape"
   ]
  },
  {
   "cell_type": "code",
   "execution_count": 266,
   "metadata": {},
   "outputs": [],
   "source": [
    "error_rescrapes = []\n",
    "still_errors = need_to_rescrape.copy()"
   ]
  },
  {
   "cell_type": "code",
   "execution_count": 299,
   "metadata": {},
   "outputs": [
    {
     "name": "stderr",
     "output_type": "stream",
     "text": [
      " 72%|███████▏  | 106/148 [07:49<03:05,  4.43s/it] "
     ]
    },
    {
     "name": "stdout",
     "output_type": "stream",
     "text": [
      "CPU times: user 55.4 s, sys: 1min 40s, total: 2min 35s\n",
      "Wall time: 7min 49s\n"
     ]
    },
    {
     "name": "stderr",
     "output_type": "stream",
     "text": [
      "\n"
     ]
    }
   ],
   "source": [
    "%%time\n",
    "\n",
    "for url in tqdm(still_errors):\n",
    "    try:\n",
    "        rescrape = text_poem_scraper(url)\n",
    "        error_rescrapes.append(rescrape)\n",
    "        still_errors.remove(url)\n",
    "    except:\n",
    "        continue"
   ]
  },
  {
   "cell_type": "code",
   "execution_count": 270,
   "metadata": {
    "scrolled": true
   },
   "outputs": [],
   "source": [
    "url = 'https://www.poetryfoundation.org/poetrymagazine/poems/29416/mad-sonnet-we-shall-be-free'\n",
    "actual_url = 'https://www.poetryfoundation.org/poetrymagazine/browse?volume=102&issue=3&page=18'\n",
    "rescrape = scan_poem_scraper(actual_url, input_poet='Michael McClure', input_title='Mad Sonnet: We Shall Be Free')\n",
    "rescrape['poem_url'] = url\n",
    "rescrape['genre'] = 'beat'\n",
    "error_rescrapes.append(rescrape)\n",
    "still_errors.remove(url)"
   ]
  },
  {
   "cell_type": "code",
   "execution_count": 271,
   "metadata": {},
   "outputs": [],
   "source": [
    "url = 'https://www.poetryfoundation.org/poetrymagazine/poems/29415/mad-sonnet-when-spirit-has-no-edge'\n",
    "actual_url = 'https://www.poetryfoundation.org/poetrymagazine/browse?volume=102&issue=3&page=17'\n",
    "rescrape = scan_poem_scraper(actual_url, input_poet='Michael McClure', input_title='Mad Sonnet: When Spirit Has No Edge')\n",
    "rescrape['poem_url'] = url\n",
    "rescrape['genre'] = 'beat'\n",
    "error_rescrapes.append(rescrape)\n",
    "still_errors.remove(url)"
   ]
  },
  {
   "cell_type": "code",
   "execution_count": 272,
   "metadata": {},
   "outputs": [],
   "source": [
    "url = 'https://www.poetryfoundation.org/poetrymagazine/poems/30530/song-how-simply-for-another'\n",
    "actual_url = 'https://www.poetryfoundation.org/poetrymagazine/browse?volume=109&issue=5&page=6'\n",
    "rescrape = scan_poem_scraper(actual_url, input_poet='Robert Creeley', input_title='Enough: Left After That')\n",
    "rescrape['poem_url'] = url\n",
    "rescrape['genre'] = 'black_mountain'\n",
    "error_rescrapes.append(rescrape)\n",
    "still_errors.remove(url)"
   ]
  },
  {
   "cell_type": "code",
   "execution_count": 273,
   "metadata": {},
   "outputs": [],
   "source": [
    "url = 'https://www.poetryfoundation.org/poetrymagazine/poems/29779/walking-56d2134a84892'\n",
    "actual_url = 'https://www.poetryfoundation.org/poetrymagazine/browse?volume=104&issue=3&page=19'\n",
    "rescrape = scan_poem_scraper(actual_url, input_poet='Robert Creeley', input_title='Walking: In My Head')\n",
    "rescrape['poem_url'] = url\n",
    "rescrape['genre'] = 'black_mountain'\n",
    "error_rescrapes.append(rescrape)\n",
    "still_errors.remove(url)"
   ]
  },
  {
   "cell_type": "code",
   "execution_count": 274,
   "metadata": {},
   "outputs": [],
   "source": [
    "url = 'https://www.poetryfoundation.org/poetrymagazine/poems/14358/epitaph-an-old-willow'\n",
    "actual_url = 'https://www.poetryfoundation.org/poetrymagazine/browse?volume=13&issue=6&page=13'\n",
    "rescrape = scan_poem_scraper(actual_url, input_poet='William Carlos Williams', input_title='Epitaph')\n",
    "rescrape['poem_url'] = url\n",
    "rescrape['genre'] = 'imagist'\n",
    "error_rescrapes.append(rescrape)\n",
    "still_errors.remove(url)"
   ]
  },
  {
   "cell_type": "code",
   "execution_count": 275,
   "metadata": {},
   "outputs": [],
   "source": [
    "url = 'https://www.poetryfoundation.org/poetrymagazine/poems/28310/elaine'\n",
    "rescrape = scan_poem_scraper(url, input_poet='William Carlos Williams', input_title='Elainb')\n",
    "rescrape['poem_url'] = url\n",
    "rescrape['genre'] = 'imagist'\n",
    "error_rescrapes.append(rescrape)\n",
    "still_errors.remove(url)"
   ]
  },
  {
   "cell_type": "code",
   "execution_count": 276,
   "metadata": {},
   "outputs": [],
   "source": [
    "url = 'https://www.poetryfoundation.org/poetrymagazine/poems/28312/emily'\n",
    "actual_url = 'https://www.poetryfoundation.org/poetrymagazine/browse?volume=95&issue=6&page=3'\n",
    "rescrape = scan_poem_scraper(actual_url, input_poet='William Carlos Williams', input_title='Emily')\n",
    "rescrape['poem_url'] = url\n",
    "rescrape['genre'] = 'imagist'\n",
    "error_rescrapes.append(rescrape)\n",
    "still_errors.remove(url)"
   ]
  },
  {
   "cell_type": "code",
   "execution_count": 277,
   "metadata": {},
   "outputs": [],
   "source": [
    "url = 'https://www.poetryfoundation.org/poetrymagazine/poems/28311/erica'\n",
    "actual_url = 'https://www.poetryfoundation.org/poetrymagazine/browse?volume=95&issue=6&page=2'\n",
    "rescrape = scan_poem_scraper(actual_url, input_poet='William Carlos Williams', input_title='Erica')\n",
    "rescrape['poem_url'] = url\n",
    "rescrape['genre'] = 'imagist'\n",
    "error_rescrapes.append(rescrape)\n",
    "still_errors.remove(url)"
   ]
  },
  {
   "cell_type": "code",
   "execution_count": 278,
   "metadata": {},
   "outputs": [],
   "source": [
    "url = 'https://www.poetryfoundation.org/poetrymagazine/poems/18899/poem-as-the-cat'\n",
    "actual_url = 'https://www.poetryfoundation.org/poetrymagazine/browse?volume=36&issue=4&page=22'\n",
    "rescrape = scan_poem_scraper(actual_url, input_poet='William Carlos Williams', input_title='Poem: As the cat')\n",
    "rescrape['poem_url'] = url\n",
    "rescrape['genre'] = 'imagist'\n",
    "error_rescrapes.append(rescrape)\n",
    "still_errors.remove(url)"
   ]
  },
  {
   "cell_type": "code",
   "execution_count": 279,
   "metadata": {},
   "outputs": [],
   "source": [
    "url = 'https://www.poetryfoundation.org/poetrymagazine/poems/13202/from-discordants-iv'\n",
    "rescrape = scan_poem_scraper(url, input_poet='Conrad Aiken', input_title='Discordants')\n",
    "rescrape['poem_url'] = url\n",
    "rescrape['genre'] = 'modern'\n",
    "error_rescrapes.append(rescrape)\n",
    "still_errors.remove(url)"
   ]
  },
  {
   "cell_type": "code",
   "execution_count": 280,
   "metadata": {},
   "outputs": [],
   "source": [
    "url = 'https://www.poetryfoundation.org/poetrymagazine/poems/13202/from-discordants-iv'\n",
    "actual_url = 'https://www.poetryfoundation.org/poetrymagazine/browse?volume=6&issue=6&page=22'\n",
    "rescrape = scan_poem_scraper(actual_url, input_poet='Conrad Aiken', input_title='Discordants IV')\n",
    "rescrape['poem_url'] = url\n",
    "rescrape['genre'] = 'modern'\n",
    "error_rescrapes.append(rescrape)"
   ]
  },
  {
   "cell_type": "code",
   "execution_count": 283,
   "metadata": {},
   "outputs": [],
   "source": [
    "url = 'https://www.poetryfoundation.org/poetrymagazine/poems/25512/jacks-white-horseup'\n",
    "rescrape = scan_poem_scraper(url, input_poet='E. E. Cummings', input_title=\"jack's white\")\n",
    "rescrape['poem_url'] = url\n",
    "rescrape['genre'] = 'modern'\n",
    "error_rescrapes.append(rescrape)\n",
    "still_errors.remove(url)"
   ]
  },
  {
   "cell_type": "code",
   "execution_count": 290,
   "metadata": {},
   "outputs": [],
   "source": [
    "url = 'https://www.poetryfoundation.org/poetrymagazine/poems/25263/imc-a-tmo'\n",
    "rescrape = scan_poem_scraper(url, input_poet='E. E. Cummings', input_title='E. E. Cummings')\n",
    "rescrape['poem_url'] = url\n",
    "rescrape['genre'] = 'modern'\n",
    "rescrape['title'] = 'Untitled [5]'\n",
    "error_rescrapes.append(rescrape)\n",
    "still_errors.remove(url)"
   ]
  },
  {
   "cell_type": "code",
   "execution_count": 298,
   "metadata": {},
   "outputs": [],
   "source": [
    "url = 'https://www.poetryfoundation.org/poetrymagazine/poems/29577/valery-as-dictator'\n",
    "rescrape = text_poem_scraper(url)\n",
    "error_rescrapes.append(rescrape)\n",
    "still_errors.remove(url)"
   ]
  },
  {
   "cell_type": "code",
   "execution_count": 308,
   "metadata": {},
   "outputs": [],
   "source": [
    "url = 'https://www.poetryfoundation.org/poetrymagazine/poems/30270/ritual-ix'\n",
    "rescrape = scan_poem_scraper(url, input_poet='Paul Blackburn', input_title='Ritual IX: Gathering Winter Fuel')\n",
    "rescrape['poem_url'] = url\n",
    "rescrape['genre'] = 'black_mountain'\n",
    "rescrape['poem_lines'].extend(temp_rescrape_lines)\n",
    "rescrape['poem_string'] = ' '.join(rescrape['poem_lines'])\n",
    "error_rescrapes.append(rescrape)\n",
    "still_errors.remove(url)"
   ]
  },
  {
   "cell_type": "code",
   "execution_count": 305,
   "metadata": {
    "collapsed": true
   },
   "outputs": [
    {
     "data": {
      "text/plain": [
       "['the same barrels',\n",
       " '& cans & older men in long',\n",
       " 'overcoats from the mission,',\n",
       " '& here, the scene unabated, 20-odd years later',\n",
       " 'the fruit & vegetable market, First Ave. & Ninth, using',\n",
       " 'wood from crates',\n",
       " 'New Jersey, Delaware, Cali-',\n",
       " 'for-ni-yay,',\n",
       " 'Florida, New Mexico, Georgia, Louisiana, Texas, all',\n",
       " 'e same fire, how',\n",
       " 'reunite the South & North, the West & East',\n",
       " 'IN SUNLIGHT YOU NEVER SEE Ir, ry just walking by &',\n",
       " 'feel the warmth e.',\n",
       " 'Fire in a barrel, burning',\n",
       " 'the hands,',\n",
       " 'the hands / the italian',\n",
       " 'bakery next door is still discreet,',\n",
       " 'but the kosher butcher shop next to',\n",
       " 'that comes out for a word or two, the',\n",
       " 'gesture',\n",
       " 'palms stiff out at arms’ length, passing',\n",
       " 'the time of day, their magic hands',\n",
       " 'reddened & liverspotted maybe,',\n",
       " 'no peyis or beard, sti',\n",
       " 'here at First Ave. & Ninth St. it’s',\n",
       " 'the jews uniting the world, the country, the city,',\n",
       " 'mankind down geological time perhaps,',\n",
       " 'to keep their hands warm']"
      ]
     },
     "execution_count": 305,
     "metadata": {},
     "output_type": "execute_result"
    }
   ],
   "source": [
    "temp_rescrape = scan_poem_scraper('https://www.poetryfoundation.org/poetrymagazine/browse?volume=108&issue=1&page=42',\n",
    "                  input_poet='Paul Blackburn', input_title='the same barrels')\n",
    "temp_rescrape_lines = [temp_rescrape['title']]\n",
    "temp_rescrape_lines.extend(temp_rescrape['poem_lines'])\n",
    "temp_rescrape_lines"
   ]
  },
  {
   "cell_type": "code",
   "execution_count": 312,
   "metadata": {},
   "outputs": [],
   "source": [
    "url = 'https://www.poetryfoundation.org/poetrymagazine/poems/30550/the-sundering-up-tracks'\n",
    "rescrape = scan_poem_scraper(url, \n",
    "                             input_poet='Edward Dorn', \n",
    "                             input_title='The Sundering U.P. Tracks: The End of the North Atlantic Turbine Poem')\n",
    "rescrape['poem_url'] = url\n",
    "rescrape['genre'] = 'black_mountain'\n",
    "rescrape['poem_lines'].extend(temp_rescrape_lines)\n",
    "rescrape['poem_string'] = ' '.join(rescrape['poem_lines'])\n",
    "error_rescrapes.append(rescrape)\n",
    "still_errors.remove(url)"
   ]
  },
  {
   "cell_type": "code",
   "execution_count": 310,
   "metadata": {
    "collapsed": true
   },
   "outputs": [
    {
     "data": {
      "text/plain": [
       "['\"Compared to the majestic legal thievery',\n",
       " 'of Commodore Vanderbilt men like Jay G Gould',\n",
       " 'and Jim Fisk were second-story workers .',\n",
       " 'Each side of the shining double knife',\n",
       " 'from Chicago to Fri',\n",
       " 'to Denver, the Cheyenne cutoff',\n",
       " 'the Right of Way they called it',\n",
       " 'and still it runs that way',\n",
       " 'right through the heart',\n",
       " 'the Union Pacific rails run also to Portland.',\n",
       " 'Even through the heart of the blue beech',\n",
       " 'hard as it is.',\n",
       " 'each hamlet',\n",
       " 'the winter sanctuar',\n",
       " 'of the rare Jailbird',\n",
       " 'and the Ishmaelite',\n",
       " 'the esoteric summer firebombs',\n",
       " 'of Chicago',\n",
       " 'the same scar tissue',\n",
       " 'I saw in Pocatello',\n",
       " 'made',\n",
       " 'by the rapacious geo-economic',\n",
       " 'surgery of Harriman, the old isolator',\n",
       " 'that ambassador-at-large',\n",
       " 'You talk of color?',\n",
       " 'Ob cosmological america, how well',\n",
       " 'and with what geometry',\n",
       " 'you teach your citizens']"
      ]
     },
     "execution_count": 310,
     "metadata": {},
     "output_type": "execute_result"
    }
   ],
   "source": [
    "temp_rescrape = scan_poem_scraper('https://www.poetryfoundation.org/poetrymagazine/browse?volume=109&issue=6&page=8',\n",
    "                  input_poet='Edward Dorn', input_title='\"Compared to the majestic legal thievery')\n",
    "temp_rescrape_lines = [temp_rescrape['title']]\n",
    "temp_rescrape_lines.extend(temp_rescrape['poem_lines'])\n",
    "temp_rescrape_lines"
   ]
  },
  {
   "cell_type": "code",
   "execution_count": 315,
   "metadata": {},
   "outputs": [],
   "source": [
    "url = 'https://www.poetryfoundation.org/poetrymagazine/poems/30551/the-first-note'\n",
    "actual_url = 'https://www.poetryfoundation.org/poetrymagazine/browse?volume=109&issue=6&page=9'\n",
    "rescrape = scan_poem_scraper(actual_url, \n",
    "                             input_poet='Edward Dorn', \n",
    "                             input_title='The First Note: From London')\n",
    "rescrape['poem_url'] = url\n",
    "rescrape['genre'] = 'black_mountain'\n",
    "error_rescrapes.append(rescrape)\n",
    "still_errors.remove(url)"
   ]
  },
  {
   "cell_type": "code",
   "execution_count": 320,
   "metadata": {},
   "outputs": [],
   "source": [
    "url = 'https://www.poetryfoundation.org/poetrymagazine/poems/30225/song-i-wouldnt-embarrass-you'\n",
    "actual_url = 'https://www.poetryfoundation.org/poetrymagazine/browse?volume=107&issue=5&page=46'\n",
    "rescrape = scan_poem_scraper(actual_url, \n",
    "                             input_poet='Robert Creeley', \n",
    "                             input_title='Song')\n",
    "rescrape['poem_url'] = url\n",
    "rescrape['genre'] = 'black_mountain'\n",
    "error_rescrapes.append(rescrape)\n",
    "still_errors.remove(url)"
   ]
  },
  {
   "cell_type": "code",
   "execution_count": 330,
   "metadata": {},
   "outputs": [],
   "source": [
    "url = 'https://www.poetryfoundation.org/poetrymagazine/poems/28862/the-law'\n",
    "rescrape = scan_poem_scraper(url, \n",
    "                             input_poet='Robert Duncan', \n",
    "                             input_title='The Law: A Series in Variation')\n",
    "\n",
    "rescrape['poem_url'] = url\n",
    "rescrape['genre'] = 'black_mountain'\n",
    "error_rescrapes.append(rescrape)\n",
    "still_errors.remove(url)"
   ]
  },
  {
   "cell_type": "code",
   "execution_count": 331,
   "metadata": {},
   "outputs": [],
   "source": [
    "url = 'https://www.poetryfoundation.org/poetrymagazine/poems/28862/the-law'\n",
    "actual_url = 'https://www.poetryfoundation.org/poetrymagazine/browse?volume=99&issue=3&page=33'\n",
    "rescrape = scan_poem_scraper(actual_url, \n",
    "                             input_poet='Robert Duncan', \n",
    "                             input_title=\"The Law: Song's Fateful Crime\")\n",
    "\n",
    "rescrape['poem_url'] = url\n",
    "rescrape['genre'] = 'black_mountain'\n",
    "error_rescrapes.append(rescrape)"
   ]
  },
  {
   "cell_type": "code",
   "execution_count": 332,
   "metadata": {},
   "outputs": [],
   "source": [
    "url = 'https://www.poetryfoundation.org/poetrymagazine/poems/28862/the-law'\n",
    "actual_url = 'https://www.poetryfoundation.org/poetrymagazine/browse?volume=99&issue=3&page=34'\n",
    "rescrape = scan_poem_scraper(actual_url, \n",
    "                             input_poet='Robert Duncan', \n",
    "                             input_title=\"The Law: Cursed be he that\")\n",
    "\n",
    "rescrape['poem_url'] = url\n",
    "rescrape['genre'] = 'black_mountain'\n",
    "error_rescrapes.append(rescrape)"
   ]
  },
  {
   "cell_type": "code",
   "execution_count": 333,
   "metadata": {},
   "outputs": [],
   "source": [
    "url = 'https://www.poetryfoundation.org/poetrymagazine/poems/28862/the-law'\n",
    "actual_url = 'https://www.poetryfoundation.org/poetrymagazine/browse?volume=99&issue=3&page=35'\n",
    "rescrape = scan_poem_scraper(actual_url, \n",
    "                             input_poet='Robert Duncan', \n",
    "                             input_title=\"The Law: No! Took an Other way as its law\")\n",
    "\n",
    "rescrape['poem_url'] = url\n",
    "rescrape['genre'] = 'black_mountain'\n",
    "error_rescrapes.append(rescrape)"
   ]
  },
  {
   "cell_type": "code",
   "execution_count": 337,
   "metadata": {},
   "outputs": [],
   "source": [
    "url = 'https://www.poetryfoundation.org/poetrymagazine/poems/27415/poem-when-the-immortal-blond'\n",
    "actual_url = 'https://www.poetryfoundation.org/poetrymagazine/browse?volume=90&issue=6&page=20'\n",
    "rescrape = scan_poem_scraper(actual_url, \n",
    "                             input_poet='Robert Duncan', \n",
    "                             input_title=\"Poem\")\n",
    "\n",
    "rescrape['poem_url'] = url\n",
    "rescrape['genre'] = 'black_mountain'\n",
    "error_rescrapes.append(rescrape)\n",
    "still_errors.remove(url)"
   ]
  },
  {
   "cell_type": "code",
   "execution_count": 340,
   "metadata": {},
   "outputs": [],
   "source": [
    "# shrug, should've worked in earlier loop\n",
    "error_rescrapes.append(text_poem_scraper('https://www.poetryfoundation.org/poetrymagazine/poems/55733/what-next'))"
   ]
  },
  {
   "cell_type": "code",
   "execution_count": 342,
   "metadata": {},
   "outputs": [],
   "source": [
    "# shrug, should've worked in earlier loop\n",
    "error_rescrapes.append(text_poem_scraper('https://www.poetryfoundation.org/poetrymagazine/poems/41677/pacemaker'))"
   ]
  },
  {
   "cell_type": "code",
   "execution_count": 344,
   "metadata": {},
   "outputs": [],
   "source": [
    "# shrug, should've worked in earlier loop\n",
    "error_rescrapes.append(text_poem_scraper('https://www.poetryfoundation.org/poetrymagazine/poems/13075/the-dead'))"
   ]
  },
  {
   "cell_type": "code",
   "execution_count": 352,
   "metadata": {},
   "outputs": [],
   "source": [
    "# shrug, should've worked in earlier loop\n",
    "error_rescrapes.append(text_poem_scraper('https://www.poetryfoundation.org/poetrymagazine/poems/55313/god-56d236c65624c'))"
   ]
  },
  {
   "cell_type": "code",
   "execution_count": 354,
   "metadata": {},
   "outputs": [],
   "source": [
    "# shrug, should've worked in earlier loop\n",
    "error_rescrapes.append(text_poem_scraper('https://www.poetryfoundation.org/poetrymagazine/poems/55537/and'))"
   ]
  },
  {
   "cell_type": "code",
   "execution_count": 357,
   "metadata": {},
   "outputs": [],
   "source": [
    "remove_list = [\n",
    "    'https://www.poetryfoundation.org/poetrymagazine/poems/55733/what-next',\n",
    "    'https://www.poetryfoundation.org/poetrymagazine/poems/41677/pacemaker',\n",
    "    'https://www.poetryfoundation.org/poetrymagazine/poems/13075/the-dead',\n",
    "    'https://www.poetryfoundation.org/poetrymagazine/poems/55313/god-56d236c65624c',\n",
    "    'https://www.poetryfoundation.org/poetrymagazine/poems/55537/and'\n",
    "]\n",
    "\n",
    "for item in remove_list:\n",
    "    still_errors.remove(item)"
   ]
  },
  {
   "cell_type": "code",
   "execution_count": 356,
   "metadata": {},
   "outputs": [],
   "source": [
    "url = 'https://www.poetryfoundation.org/poetrymagazine/poems/54278/accounts'\n",
    "error_rescrapes.append(text_poem_scraper(url))\n",
    "still_errors.remove(url)"
   ]
  },
  {
   "cell_type": "code",
   "execution_count": 359,
   "metadata": {},
   "outputs": [],
   "source": [
    "url = 'https://www.poetryfoundation.org/poetrymagazine/poems/150946/elsewhere-5d70274a8beed'\n",
    "error_rescrapes.append(text_poem_scraper(url))\n",
    "still_errors.remove(url)"
   ]
  },
  {
   "cell_type": "code",
   "execution_count": 363,
   "metadata": {},
   "outputs": [],
   "source": [
    "url = 'https://www.poetryfoundation.org/poetrymagazine/poems/53487/paragraph'\n",
    "error_rescrapes.append(text_poem_scraper(url))\n",
    "still_errors.remove(url)"
   ]
  },
  {
   "cell_type": "code",
   "execution_count": 364,
   "metadata": {},
   "outputs": [],
   "source": [
    "url = 'https://www.poetryfoundation.org/poetrymagazine/poems/89349/object-permanence'\n",
    "error_rescrapes.append(text_poem_scraper(url))\n",
    "still_errors.remove(url)"
   ]
  },
  {
   "cell_type": "code",
   "execution_count": 365,
   "metadata": {},
   "outputs": [],
   "source": [
    "url = 'https://www.poetryfoundation.org/poetrymagazine/poems/92669/natural-histories'\n",
    "error_rescrapes.append(text_poem_scraper(url))\n",
    "still_errors.remove(url)"
   ]
  },
  {
   "cell_type": "code",
   "execution_count": 370,
   "metadata": {},
   "outputs": [],
   "source": [
    "url = 'https://www.poetryfoundation.org/poetrymagazine/poems/144605/my-house-59df845fd8d77'\n",
    "error_rescrapes.append(text_poem_scraper(url))\n",
    "still_errors.remove(url)"
   ]
  },
  {
   "cell_type": "code",
   "execution_count": 373,
   "metadata": {},
   "outputs": [
    {
     "name": "stderr",
     "output_type": "stream",
     "text": [
      "100%|██████████| 54/54 [00:52<00:00,  1.02it/s]"
     ]
    },
    {
     "name": "stdout",
     "output_type": "stream",
     "text": [
      "CPU times: user 4.2 s, sys: 248 ms, total: 4.45 s\n",
      "Wall time: 52.8 s\n"
     ]
    },
    {
     "name": "stderr",
     "output_type": "stream",
     "text": [
      "\n"
     ]
    }
   ],
   "source": [
    "%%time\n",
    "\n",
    "for url in tqdm(still_errors[20:]):\n",
    "    try:\n",
    "        rescrape = text_poem_scraper(url)\n",
    "        error_rescrapes.append(rescrape)\n",
    "        still_errors.remove(url)\n",
    "    except:\n",
    "        continue"
   ]
  },
  {
   "cell_type": "code",
   "execution_count": 383,
   "metadata": {},
   "outputs": [],
   "source": [
    "url = 'https://www.poetryfoundation.org/poetrymagazine/poems/28835/pity-his-how-illimitable-plight'\n",
    "actual_url = 'https://www.poetryfoundation.org/poetrymagazine/browse?volume=99&issue=2&page=9'\n",
    "rescrape = scan_poem_scraper(actual_url, input_poet='E. E. Cummings', input_title='pity his how illimitable plight')\n",
    "rescrape['poem_url'] = url\n",
    "rescrape['genre'] = 'modern'\n",
    "rescrape['poem_lines'].extend(temp_rescrape_lines)\n",
    "rescrape['poem_lines'].extend(temp_rescrape_lines2)\n",
    "rescrape['poem_string'] = ' '.join(rescrape['poem_lines'])\n",
    "error_rescrapes.append(rescrape)\n",
    "still_errors.remove(url)"
   ]
  },
  {
   "cell_type": "code",
   "execution_count": 379,
   "metadata": {
    "collapsed": true
   },
   "outputs": [
    {
     "data": {
      "text/plain": [
       "['without the mercy of',\n",
       " 'your eyes your',\n",
       " 'voice your',\n",
       " 'ways (o very most my shining love)',\n",
       " 'how more than dark i am,',\n",
       " 'no song (no',\n",
       " 'thing) no',\n",
       " 'silence ever told; it has no name—',\n",
       " 'but should this namelessness',\n",
       " '(completely',\n",
       " 'fleetly',\n",
       " 'vanish, at the infinite precise',\n",
       " 'thrill of your beauty, then',\n",
       " 'my lost my',\n",
       " 'my',\n",
       " 'whereful selves they put on here again',\n",
       " '—to livingest one star',\n",
       " 'as small these',\n",
       " 'all these',\n",
       " 'thankful (hark) birds singing wholly are']"
      ]
     },
     "execution_count": 379,
     "metadata": {},
     "output_type": "execute_result"
    }
   ],
   "source": [
    "temp_rescrape = scan_poem_scraper('https://www.poetryfoundation.org/poetrymagazine/browse?volume=99&issue=2&page=10',\n",
    "                  input_poet='E. E. Cummings', input_title='without the mercy of')\n",
    "temp_rescrape_lines = [temp_rescrape['title']]\n",
    "temp_rescrape_lines.extend(temp_rescrape['poem_lines'])\n",
    "temp_rescrape_lines"
   ]
  },
  {
   "cell_type": "code",
   "execution_count": 381,
   "metadata": {
    "collapsed": true
   },
   "outputs": [
    {
     "data": {
      "text/plain": [
       "['annie died the other day',\n",
       " 'never was there such a lay—',\n",
       " 'whom, among her dollies, dad',\n",
       " 'first (“don’t tell your mother”) had;',\n",
       " 'making annie slightly mad',\n",
       " 'but very wonderful in bed',\n",
       " '—-saints and satyrs, go your way',\n",
       " 'youths and maidens: let us pray']"
      ]
     },
     "execution_count": 381,
     "metadata": {},
     "output_type": "execute_result"
    }
   ],
   "source": [
    "temp_rescrape2 = scan_poem_scraper('https://www.poetryfoundation.org/poetrymagazine/browse?volume=99&issue=2&page=11',\n",
    "                  input_poet='E. E. Cummings', input_title='annie died the other day')\n",
    "temp_rescrape_lines2 = [temp_rescrape2['title']]\n",
    "temp_rescrape_lines2.extend(temp_rescrape2['poem_lines'])\n",
    "temp_rescrape_lines2"
   ]
  },
  {
   "cell_type": "code",
   "execution_count": 392,
   "metadata": {},
   "outputs": [],
   "source": [
    "url = 'https://www.poetryfoundation.org/poetrymagazine/poems/22223/six'\n",
    "actual_url = 'https://www.poetryfoundation.org/poetrymagazine/browse?volume=53&issue=4&page=5'\n",
    "rescrape = scan_poem_scraper(actual_url, input_poet='E. E. Cummings', input_title='six')\n",
    "rescrape['poem_url'] = url\n",
    "rescrape['genre'] = 'modern'\n",
    "error_rescrapes.append(rescrape)\n",
    "still_errors.remove(url)"
   ]
  },
  {
   "cell_type": "code",
   "execution_count": 396,
   "metadata": {},
   "outputs": [],
   "source": [
    "url = 'https://www.poetryfoundation.org/poetrymagazine/poems/25960/springmay0151'\n",
    "rescrape = scan_poem_scraper(url, input_poet='E. E. Cummings', input_title='spring! may')\n",
    "rescrape['poem_url'] = url\n",
    "rescrape['genre'] = 'modern'\n",
    "error_rescrapes.append(rescrape)\n",
    "still_errors.remove(url)"
   ]
  },
  {
   "cell_type": "code",
   "execution_count": 399,
   "metadata": {},
   "outputs": [],
   "source": [
    "url = 'https://www.poetryfoundation.org/poetrymagazine/poems/25513/-oroundmoonhow'\n",
    "rescrape = scan_poem_scraper(url, input_poet='E. E. Cummings', input_title='o(rounD)moon, how')\n",
    "rescrape['poem_url'] = url\n",
    "rescrape['genre'] = 'modern'\n",
    "error_rescrapes.append(rescrape)\n",
    "still_errors.remove(url)"
   ]
  },
  {
   "cell_type": "code",
   "execution_count": 403,
   "metadata": {},
   "outputs": [],
   "source": [
    "url = 'https://www.poetryfoundation.org/poetrymagazine/poems/28566/why-dont-be'\n",
    "rescrape = scan_poem_scraper(url, input_poet='E. E. Cummings', input_title=\"why don't be sil ly o no in deed; money\")\n",
    "rescrape['poem_url'] = url\n",
    "rescrape['genre'] = 'modern'\n",
    "error_rescrapes.append(rescrape)\n",
    "still_errors.remove(url)"
   ]
  },
  {
   "cell_type": "code",
   "execution_count": 405,
   "metadata": {},
   "outputs": [],
   "source": [
    "url = 'https://www.poetryfoundation.org/poetrymagazine/poems/24807/thislets-rememberday'\n",
    "rescrape = scan_poem_scraper(url, input_poet='E. E. Cummings', input_title=\"this(let's remember)day died again and\")\n",
    "rescrape['poem_url'] = url\n",
    "rescrape['genre'] = 'modern'\n",
    "error_rescrapes.append(rescrape)\n",
    "still_errors.remove(url)"
   ]
  },
  {
   "cell_type": "code",
   "execution_count": 409,
   "metadata": {},
   "outputs": [],
   "source": [
    "url = 'https://www.poetryfoundation.org/poetrymagazine/poems/28834/for-any-ruffian-of-the-sky'\n",
    "actual_url = 'https://www.poetryfoundation.org/poetrymagazine/browse?volume=99&issue=2&page=8'\n",
    "rescrape = scan_poem_scraper(actual_url, input_poet='E. E. Cummings', input_title=\"for any ruffian of the sky\")\n",
    "rescrape['poem_url'] = url\n",
    "rescrape['genre'] = 'modern'\n",
    "error_rescrapes.append(rescrape)\n",
    "still_errors.remove(url)"
   ]
  },
  {
   "cell_type": "code",
   "execution_count": 410,
   "metadata": {},
   "outputs": [],
   "source": [
    "url = 'https://www.poetryfoundation.org/poetrymagazine/poems/28833/if-seventy-were-young'\n",
    "actual_url = 'https://www.poetryfoundation.org/poetrymagazine/browse?volume=99&issue=2&page=7'\n",
    "rescrape = scan_poem_scraper(actual_url, input_poet='E. E. Cummings', input_title=\"if seventy were young\")\n",
    "rescrape['poem_url'] = url\n",
    "rescrape['genre'] = 'modern'\n",
    "error_rescrapes.append(rescrape)\n",
    "still_errors.remove(url)"
   ]
  },
  {
   "cell_type": "code",
   "execution_count": 412,
   "metadata": {},
   "outputs": [],
   "source": [
    "url = 'https://www.poetryfoundation.org/poetrymagazine/poems/26048/rosetreerosetree'\n",
    "rescrape = scan_poem_scraper(url, input_poet='E. E. Cummings', input_title=\"rosetree, rosetree\")\n",
    "rescrape['poem_url'] = url\n",
    "rescrape['genre'] = 'modern'\n",
    "error_rescrapes.append(rescrape)\n",
    "still_errors.remove(url)"
   ]
  },
  {
   "cell_type": "code",
   "execution_count": 415,
   "metadata": {},
   "outputs": [],
   "source": [
    "url = 'https://www.poetryfoundation.org/poetrymagazine/poems/15533/lenvoi'\n",
    "rescrape = scan_poem_scraper(url, input_poet='Marion Strobel', input_title=\"envoi\")\n",
    "rescrape['poem_url'] = url\n",
    "rescrape['genre'] = 'modern'\n",
    "error_rescrapes.append(rescrape)\n",
    "still_errors.remove(url)"
   ]
  },
  {
   "cell_type": "code",
   "execution_count": 421,
   "metadata": {},
   "outputs": [],
   "source": [
    "url = 'https://www.poetryfoundation.org/poetrymagazine/poems/17874/discus-thrower'\n",
    "actual_url = 'https://www.poetryfoundation.org/poetrymagazine/browse?volume=31&issue=5&page=3'\n",
    "rescrape = scan_poem_scraper(actual_url, input_poet='Marion Strobel', input_title=\"Discus-Thrower\",\n",
    "                            next_pattern='\\n((?:\\r?\\n(?!SURF-BOARDING).*)*)')\n",
    "rescrape['poem_url'] = url\n",
    "rescrape['genre'] = 'modern'\n",
    "error_rescrapes.append(rescrape)\n",
    "still_errors.remove(url)"
   ]
  },
  {
   "cell_type": "code",
   "execution_count": 423,
   "metadata": {},
   "outputs": [],
   "source": [
    "url = 'https://www.poetryfoundation.org/poetrymagazine/poems/33672/poem-green-things-are-flowers'\n",
    "actual_url = 'https://www.poetryfoundation.org/poetrymagazine/browse?volume=130&issue=2&page=10'\n",
    "rescrape = scan_poem_scraper(actual_url, input_poet=\"Frank O'Hara\", input_title=\"Poem\")\n",
    "rescrape['poem_url'] = url\n",
    "rescrape['genre'] = 'new_york_school'\n",
    "error_rescrapes.append(rescrape)\n",
    "still_errors.remove(url)"
   ]
  },
  {
   "cell_type": "code",
   "execution_count": 426,
   "metadata": {},
   "outputs": [],
   "source": [
    "url = 'https://www.poetryfoundation.org/poetrymagazine/poems/30246/poem-to-simply-talk'\n",
    "actual_url = 'https://www.poetryfoundation.org/poetrymagazine/browse?volume=107&issue=6&page=10'\n",
    "rescrape = scan_poem_scraper(actual_url, input_poet=\"Tom Clark\", input_title=\"Poem\")\n",
    "rescrape['poem_url'] = url\n",
    "rescrape['genre'] = 'new_york_school_2nd_generation'\n",
    "error_rescrapes.append(rescrape)\n",
    "still_errors.remove(url)"
   ]
  },
  {
   "cell_type": "code",
   "execution_count": 428,
   "metadata": {},
   "outputs": [],
   "source": [
    "url = 'https://www.poetryfoundation.org/poetrymagazine/poems/30549/poem-like-musical-instruments'\n",
    "actual_url = 'https://www.poetryfoundation.org/poetrymagazine/browse?volume=109&issue=6&page=14'\n",
    "rescrape = scan_poem_scraper(actual_url, input_poet=\"Tom Clark\", input_title=\"Poem\")\n",
    "rescrape['poem_url'] = url\n",
    "rescrape['genre'] = 'new_york_school_2nd_generation'\n",
    "error_rescrapes.append(rescrape)\n",
    "still_errors.remove(url)"
   ]
  },
  {
   "cell_type": "code",
   "execution_count": 429,
   "metadata": {},
   "outputs": [],
   "source": [
    "url = 'https://www.poetryfoundation.org/poetrymagazine/poems/30775/sonnet-five-am-on-east-fourteenth'\n",
    "actual_url = 'https://www.poetryfoundation.org/poetrymagazine/browse?volume=111&issue=3&page=8'\n",
    "rescrape = scan_poem_scraper(actual_url, input_poet=\"Tom Clark\", input_title=\"Sonnet\")\n",
    "rescrape['poem_url'] = url\n",
    "rescrape['genre'] = 'new_york_school_2nd_generation'\n",
    "error_rescrapes.append(rescrape)\n",
    "still_errors.remove(url)"
   ]
  },
  {
   "cell_type": "code",
   "execution_count": 434,
   "metadata": {},
   "outputs": [],
   "source": [
    "# i've truly lost my mind\n",
    "url = 'https://www.poetryfoundation.org/poetrymagazine/poems/30723/jungle-56d21432117a5'\n",
    "rescrape = scan_poem_scraper(url, input_poet=\"Aram Saroyan\", input_title=\"saroyan\")\n",
    "rescrape['poem_url'] = url\n",
    "rescrape['genre'] = 'new_york_school_2nd_generation'\n",
    "rescrape['poem_lines'] = ['j;u;n;g;l;e']\n",
    "rescrape['poem_string'] = ' '.join(rescrape['poem_lines'])\n",
    "rescrape['title'] = 'Untitled'\n",
    "error_rescrapes.append(rescrape)\n",
    "still_errors.remove(url)"
   ]
  },
  {
   "cell_type": "code",
   "execution_count": 439,
   "metadata": {},
   "outputs": [],
   "source": [
    "url = 'https://www.poetryfoundation.org/poetrymagazine/poems/30140/spring-stood-there'\n",
    "actual_url = 'https://www.poetryfoundation.org/poetrymagazine/browse?volume=106&issue=5&page=29'\n",
    "rescrape = scan_poem_scraper(actual_url, input_poet='Lorine Niedecker', input_title=\"Spring\")\n",
    "rescrape['poem_url'] = url\n",
    "rescrape['genre'] = 'objectivist'\n",
    "error_rescrapes.append(rescrape)\n",
    "still_errors.remove(url)"
   ]
  },
  {
   "cell_type": "code",
   "execution_count": 440,
   "metadata": {},
   "outputs": [],
   "source": [
    "url = 'https://www.poetryfoundation.org/poetrymagazine/poems/30139/march-56d213a2b802b'\n",
    "actual_url = 'https://www.poetryfoundation.org/poetrymagazine/browse?volume=106&issue=5&page=28'\n",
    "rescrape = scan_poem_scraper(actual_url, input_poet='Lorine Niedecker', input_title=\"March\")\n",
    "rescrape['poem_url'] = url\n",
    "rescrape['genre'] = 'objectivist'\n",
    "error_rescrapes.append(rescrape)\n",
    "still_errors.remove(url)"
   ]
  },
  {
   "cell_type": "code",
   "execution_count": 443,
   "metadata": {},
   "outputs": [],
   "source": [
    "url = 'https://www.poetryfoundation.org/poetrymagazine/poems/29475/now-in-one-year'\n",
    "actual_url = 'https://www.poetryfoundation.org/poetrymagazine/browse?volume=102&issue=5&page=27'\n",
    "rescrape = scan_poem_scraper(actual_url, input_poet='Lorine Niedecker', input_title=\"Now in one year\")\n",
    "rescrape['poem_url'] = url\n",
    "rescrape['genre'] = 'objectivist'\n",
    "error_rescrapes.append(rescrape)\n",
    "still_errors.remove(url)"
   ]
  },
  {
   "cell_type": "code",
   "execution_count": 446,
   "metadata": {},
   "outputs": [],
   "source": [
    "url = 'https://www.poetryfoundation.org/poetrymagazine/poems/30141/the-park-a-darling-walk'\n",
    "actual_url = 'https://www.poetryfoundation.org/poetrymagazine/browse?volume=106&issue=5&page=30'\n",
    "rescrape = scan_poem_scraper(actual_url, input_poet='Lorine Niedecker', input_title=\"The park\")\n",
    "rescrape['poem_url'] = url\n",
    "rescrape['genre'] = 'objectivist'\n",
    "error_rescrapes.append(rescrape)\n",
    "still_errors.remove(url)"
   ]
  },
  {
   "cell_type": "code",
   "execution_count": 449,
   "metadata": {},
   "outputs": [],
   "source": [
    "url = 'https://www.poetryfoundation.org/poetrymagazine/poems/30138/consider-at-the-outset'\n",
    "actual_url = 'https://www.poetryfoundation.org/poetrymagazine/browse?volume=106&issue=5&page=28'\n",
    "rescrape = scan_poem_scraper(actual_url, input_poet='Lorine Niedecker', input_title=\"Consider at the outset\")\n",
    "rescrape['poem_url'] = url\n",
    "rescrape['genre'] = 'objectivist'\n",
    "error_rescrapes.append(rescrape)\n",
    "still_errors.remove(url)"
   ]
  },
  {
   "cell_type": "code",
   "execution_count": 450,
   "metadata": {},
   "outputs": [],
   "source": [
    "url = 'https://www.poetryfoundation.org/poetrymagazine/poems/30790/smile-to-see-the-lake'\n",
    "actual_url = 'https://www.poetryfoundation.org/poetrymagazine/browse?volume=111&issue=3&page=22'\n",
    "rescrape = scan_poem_scraper(actual_url, input_poet='Lorine Niedecker', input_title=\"Smile\")\n",
    "rescrape['poem_url'] = url\n",
    "rescrape['genre'] = 'objectivist'\n",
    "error_rescrapes.append(rescrape)\n",
    "still_errors.remove(url)"
   ]
  },
  {
   "cell_type": "code",
   "execution_count": 455,
   "metadata": {},
   "outputs": [],
   "source": [
    "url = 'https://www.poetryfoundation.org/poetrymagazine/poems/29745/giovannis-rape-of-the-sabine-women-at-wildensteins'\n",
    "actual_url = 'https://www.poetryfoundation.org/poetrymagazine/browse?contentId=29745'\n",
    "rescrape = scan_poem_scraper(actual_url, input_poet='George Oppen', input_title=\"Giovanni's Rape of the Sabine Women at Wildenstein\")\n",
    "rescrape['poem_url'] = url\n",
    "rescrape['genre'] = 'objectivist'\n",
    "error_rescrapes.append(rescrape)\n",
    "still_errors.remove(url)"
   ]
  },
  {
   "cell_type": "code",
   "execution_count": 457,
   "metadata": {},
   "outputs": [],
   "source": [
    "url = 'https://www.poetryfoundation.org/poetrymagazine/poems/19125/1930s'\n",
    "rescrape = scan_poem_scraper(url, input_poet='George Oppen', input_title=\"1930\")\n",
    "rescrape['poem_url'] = url\n",
    "rescrape['genre'] = 'objectivist'\n",
    "error_rescrapes.append(rescrape)\n",
    "still_errors.remove(url)"
   ]
  },
  {
   "cell_type": "code",
   "execution_count": 461,
   "metadata": {},
   "outputs": [],
   "source": [
    "url = 'https://www.poetryfoundation.org/poetrymagazine/poems/19940/along-the-flat-roofs'\n",
    "actual_url = 'https://www.poetryfoundation.org/poetrymagazine/browse?volume=41&issue=4&page=17'\n",
    "rescrape = scan_poem_scraper(actual_url, input_poet='Charles Reznikoff', input_title=\"Along the flat roofs beneath our window\")\n",
    "rescrape['poem_url'] = url\n",
    "rescrape['genre'] = 'objectivist'\n",
    "error_rescrapes.append(rescrape)\n",
    "still_errors.remove(url)"
   ]
  },
  {
   "cell_type": "code",
   "execution_count": 467,
   "metadata": {},
   "outputs": [],
   "source": [
    "url = 'https://www.poetryfoundation.org/poetrymagazine/poems/31024/a-21-rudens-act-iii'\n",
    "rescrape = scan_poem_scraper(url, input_poet='Louis Zukofsky', input_title='\"A\"21: Rudens, Dads')\n",
    "rescrape['poem_url'] = url\n",
    "rescrape['genre'] = 'objectivist'\n",
    "error_rescrapes.append(rescrape)\n",
    "still_errors.remove(url)"
   ]
  },
  {
   "cell_type": "code",
   "execution_count": 468,
   "metadata": {},
   "outputs": [],
   "source": [
    "url = 'https://www.poetryfoundation.org/poetrymagazine/poems/32643/a-22-an-era-any-time'\n",
    "rescrape = scan_poem_scraper(url, input_poet='Louis Zukofsky', input_title='\"A\"22: An Era Any Time Of Year')\n",
    "rescrape['poem_url'] = url\n",
    "rescrape['genre'] = 'objectivist'\n",
    "error_rescrapes.append(rescrape)\n",
    "still_errors.remove(url)"
   ]
  },
  {
   "cell_type": "code",
   "execution_count": 558,
   "metadata": {
    "scrolled": true
   },
   "outputs": [
    {
     "data": {
      "text/plain": [
       "38"
      ]
     },
     "execution_count": 558,
     "metadata": {},
     "output_type": "execute_result"
    }
   ],
   "source": [
    "# 38 poems that are not worth rescraping\n",
    "len(still_errors)"
   ]
  },
  {
   "cell_type": "code",
   "execution_count": 470,
   "metadata": {
    "collapsed": true
   },
   "outputs": [
    {
     "data": {
      "text/html": [
       "<div>\n",
       "<style scoped>\n",
       "    .dataframe tbody tr th:only-of-type {\n",
       "        vertical-align: middle;\n",
       "    }\n",
       "\n",
       "    .dataframe tbody tr th {\n",
       "        vertical-align: top;\n",
       "    }\n",
       "\n",
       "    .dataframe thead th {\n",
       "        text-align: right;\n",
       "    }\n",
       "</style>\n",
       "<table border=\"1\" class=\"dataframe\">\n",
       "  <thead>\n",
       "    <tr style=\"text-align: right;\">\n",
       "      <th></th>\n",
       "      <th>poet</th>\n",
       "      <th>poem_url</th>\n",
       "      <th>title</th>\n",
       "      <th>poem_lines</th>\n",
       "      <th>poem_string</th>\n",
       "      <th>genre</th>\n",
       "    </tr>\n",
       "  </thead>\n",
       "  <tbody>\n",
       "    <tr>\n",
       "      <th>0</th>\n",
       "      <td>Michael McClure</td>\n",
       "      <td>https://www.poetryfoundation.org/poetrymagazine/poems/29416/mad-sonnet-we-shall-be-free</td>\n",
       "      <td>Mad Sonnet: We Shall Be Free</td>\n",
       "      <td>[IN THE WORLD OF DESTINY, when Heaven and Hell are a dream, left draped like blue silk upon a useless chair., But now we have come together by ato...</td>\n",
       "      <td>IN THE WORLD OF DESTINY\\nwhen Heaven and Hell are a dream\\nleft draped like blue silk upon a useless chair.\\nBut now we have come together by atom...</td>\n",
       "      <td>beat</td>\n",
       "    </tr>\n",
       "    <tr>\n",
       "      <th>1</th>\n",
       "      <td>Michael McClure</td>\n",
       "      <td>https://www.poetryfoundation.org/poetrymagazine/poems/29415/mad-sonnet-when-spirit-has-no-edge</td>\n",
       "      <td>Mad Sonnet: When Spirit Has No Edge</td>\n",
       "      <td>[the Human frame. Men swell to blindness, without pain and are stupefied. Smooth fingertips, receive no pleasure. They become what they call Soul,...</td>\n",
       "      <td>the Human frame. Men swell to blindness\\nwithout pain and are stupefied. Smooth fingertips\\nreceive no pleasure. They become what they call Soul\\n...</td>\n",
       "      <td>beat</td>\n",
       "    </tr>\n",
       "    <tr>\n",
       "      <th>2</th>\n",
       "      <td>Robert Creeley</td>\n",
       "      <td>https://www.poetryfoundation.org/poetrymagazine/poems/30530/song-how-simply-for-another</td>\n",
       "      <td>Enough: Left After That</td>\n",
       "      <td>[not to my own mind,, but stayed, and stayed. Years, went by. What, were they. Days—, some happy,, but some bitter, and sad. If I walked, across t...</td>\n",
       "      <td>not to my own mind,\\nbut stayed\\nand stayed. Years\\nwent by. What\\nwere they. Days—\\nsome happy,\\nbut some bitter\\nand sad. If I walked\\nacross th...</td>\n",
       "      <td>black_mountain</td>\n",
       "    </tr>\n",
       "    <tr>\n",
       "      <th>3</th>\n",
       "      <td>Robert Creeley</td>\n",
       "      <td>https://www.poetryfoundation.org/poetrymagazine/poems/29779/walking-56d2134a84892</td>\n",
       "      <td>Walking: In My Head</td>\n",
       "      <td>[is there to walk,, not thought of, is, the road itself more, than seen. I think, it might be, feel, as my feet do, and, continue, and, at last re...</td>\n",
       "      <td>is there to walk,\\nnot thought of, is\\nthe road itself more\\nthan seen. I think\\nit might be, feel\\nas my feet do, and\\ncontinue, and\\nat last rea...</td>\n",
       "      <td>black_mountain</td>\n",
       "    </tr>\n",
       "    <tr>\n",
       "      <th>4</th>\n",
       "      <td>William Carlos Williams</td>\n",
       "      <td>https://www.poetryfoundation.org/poetrymagazine/poems/14358/epitaph-an-old-willow</td>\n",
       "      <td>Epitaph</td>\n",
       "      <td>[An old willow with hollow branches, Slowly swayed his few high bright tendrils, And sang:, “Love is a young green willow, Shimmering at the bare ...</td>\n",
       "      <td>An old willow with hollow branches\\nSlowly swayed his few high bright tendrils\\nAnd sang:\\n“Love is a young green willow\\nShimmering at the bare w...</td>\n",
       "      <td>imagist</td>\n",
       "    </tr>\n",
       "    <tr>\n",
       "      <th>...</th>\n",
       "      <td>...</td>\n",
       "      <td>...</td>\n",
       "      <td>...</td>\n",
       "      <td>...</td>\n",
       "      <td>...</td>\n",
       "      <td>...</td>\n",
       "    </tr>\n",
       "    <tr>\n",
       "      <th>122</th>\n",
       "      <td>George Oppen</td>\n",
       "      <td>https://www.poetryfoundation.org/poetrymagazine/poems/29745/giovannis-rape-of-the-sabine-women-at-wildensteins</td>\n",
       "      <td>Giovanni's Rape of the Sabine Women at Wildenstein</td>\n",
       "      <td>[Showing the girl, On the shoulder of the warrior, calling, Behind her in the young body’s triumph, With its slight, despairing arms aloft, And th...</td>\n",
       "      <td>Showing the girl\\nOn the shoulder of the warrior, calling\\nBehind her in the young body’s triumph\\nWith its slight, despairing arms aloft\\nAnd the...</td>\n",
       "      <td>objectivist</td>\n",
       "    </tr>\n",
       "    <tr>\n",
       "      <th>123</th>\n",
       "      <td>George Oppen</td>\n",
       "      <td>https://www.poetryfoundation.org/poetrymagazine/poems/19125/1930s</td>\n",
       "      <td>1930</td>\n",
       "      <td>[Thus, Hides the, Parts—the prudery, Of Frigidaire, of, Soda-jerking—, Thus, Above the, Plane of lunch, of wives,, Removes itself, (As soda-jerkin...</td>\n",
       "      <td>Thus\\nHides the\\nParts—the prudery\\nOf Frigidaire, of\\nSoda-jerking—\\nThus\\nAbove the\\nPlane of lunch, of wives,\\nRemoves itself\\n(As soda-jerking...</td>\n",
       "      <td>objectivist</td>\n",
       "    </tr>\n",
       "    <tr>\n",
       "      <th>124</th>\n",
       "      <td>Charles Reznikoff</td>\n",
       "      <td>https://www.poetryfoundation.org/poetrymagazine/poems/19940/along-the-flat-roofs</td>\n",
       "      <td>Along the flat roofs beneath our window</td>\n",
       "      <td>[in the morning sunshine, I read the signature of last night’s rain., v, The squads, platoons, and regiments, of lighted windows,, ephemeral under...</td>\n",
       "      <td>in the morning sunshine\\nI read the signature of last night’s rain.\\nv\\nThe squads, platoons, and regiments\\nof lighted windows,\\nephemeral under ...</td>\n",
       "      <td>objectivist</td>\n",
       "    </tr>\n",
       "    <tr>\n",
       "      <th>125</th>\n",
       "      <td>Louis Zukofsky</td>\n",
       "      <td>https://www.poetryfoundation.org/poetrymagazine/poems/31024/a-21-rudens-act-iii</td>\n",
       "      <td>\"A\"21: Rudens, Dads</td>\n",
       "      <td>[Miraculously gods playfellows dream in, men, don’t let us sleep, like me last night dreaming, this weird and silly dream:, a swallow’s nest, a mo...</td>\n",
       "      <td>Miraculously gods playfellows dream in\\nmen, don’t let us sleep\\nlike me last night dreaming\\nthis weird and silly dream:\\na swallow’s nest, a mon...</td>\n",
       "      <td>objectivist</td>\n",
       "    </tr>\n",
       "    <tr>\n",
       "      <th>126</th>\n",
       "      <td>Louis Zukofsky</td>\n",
       "      <td>https://www.poetryfoundation.org/poetrymagazine/poems/32643/a-22-an-era-any-time</td>\n",
       "      <td>\"A\"22: An Era Any Time Of Year</td>\n",
       "      <td>[Others letters a sum owed, ages account years each year, out of old fields, permute, blow blue up against yellow, —scapes welcome young birds—ini...</td>\n",
       "      <td>Others letters a sum owed\\nages account years each year\\nout of old fields, permute\\nblow blue up against yellow\\n—scapes welcome young birds—init...</td>\n",
       "      <td>objectivist</td>\n",
       "    </tr>\n",
       "  </tbody>\n",
       "</table>\n",
       "<p>127 rows × 6 columns</p>\n",
       "</div>"
      ],
      "text/plain": [
       "                        poet  \\\n",
       "0            Michael McClure   \n",
       "1            Michael McClure   \n",
       "2             Robert Creeley   \n",
       "3             Robert Creeley   \n",
       "4    William Carlos Williams   \n",
       "..                       ...   \n",
       "122             George Oppen   \n",
       "123             George Oppen   \n",
       "124        Charles Reznikoff   \n",
       "125           Louis Zukofsky   \n",
       "126           Louis Zukofsky   \n",
       "\n",
       "                                                                                                           poem_url  \\\n",
       "0                           https://www.poetryfoundation.org/poetrymagazine/poems/29416/mad-sonnet-we-shall-be-free   \n",
       "1                    https://www.poetryfoundation.org/poetrymagazine/poems/29415/mad-sonnet-when-spirit-has-no-edge   \n",
       "2                           https://www.poetryfoundation.org/poetrymagazine/poems/30530/song-how-simply-for-another   \n",
       "3                                 https://www.poetryfoundation.org/poetrymagazine/poems/29779/walking-56d2134a84892   \n",
       "4                                 https://www.poetryfoundation.org/poetrymagazine/poems/14358/epitaph-an-old-willow   \n",
       "..                                                                                                              ...   \n",
       "122  https://www.poetryfoundation.org/poetrymagazine/poems/29745/giovannis-rape-of-the-sabine-women-at-wildensteins   \n",
       "123                                               https://www.poetryfoundation.org/poetrymagazine/poems/19125/1930s   \n",
       "124                                https://www.poetryfoundation.org/poetrymagazine/poems/19940/along-the-flat-roofs   \n",
       "125                                 https://www.poetryfoundation.org/poetrymagazine/poems/31024/a-21-rudens-act-iii   \n",
       "126                                https://www.poetryfoundation.org/poetrymagazine/poems/32643/a-22-an-era-any-time   \n",
       "\n",
       "                                                  title  \\\n",
       "0                          Mad Sonnet: We Shall Be Free   \n",
       "1                   Mad Sonnet: When Spirit Has No Edge   \n",
       "2                               Enough: Left After That   \n",
       "3                                   Walking: In My Head   \n",
       "4                                               Epitaph   \n",
       "..                                                  ...   \n",
       "122  Giovanni's Rape of the Sabine Women at Wildenstein   \n",
       "123                                                1930   \n",
       "124             Along the flat roofs beneath our window   \n",
       "125                                 \"A\"21: Rudens, Dads   \n",
       "126                      \"A\"22: An Era Any Time Of Year   \n",
       "\n",
       "                                                                                                                                                poem_lines  \\\n",
       "0    [IN THE WORLD OF DESTINY, when Heaven and Hell are a dream, left draped like blue silk upon a useless chair., But now we have come together by ato...   \n",
       "1    [the Human frame. Men swell to blindness, without pain and are stupefied. Smooth fingertips, receive no pleasure. They become what they call Soul,...   \n",
       "2    [not to my own mind,, but stayed, and stayed. Years, went by. What, were they. Days—, some happy,, but some bitter, and sad. If I walked, across t...   \n",
       "3    [is there to walk,, not thought of, is, the road itself more, than seen. I think, it might be, feel, as my feet do, and, continue, and, at last re...   \n",
       "4    [An old willow with hollow branches, Slowly swayed his few high bright tendrils, And sang:, “Love is a young green willow, Shimmering at the bare ...   \n",
       "..                                                                                                                                                     ...   \n",
       "122  [Showing the girl, On the shoulder of the warrior, calling, Behind her in the young body’s triumph, With its slight, despairing arms aloft, And th...   \n",
       "123  [Thus, Hides the, Parts—the prudery, Of Frigidaire, of, Soda-jerking—, Thus, Above the, Plane of lunch, of wives,, Removes itself, (As soda-jerkin...   \n",
       "124  [in the morning sunshine, I read the signature of last night’s rain., v, The squads, platoons, and regiments, of lighted windows,, ephemeral under...   \n",
       "125  [Miraculously gods playfellows dream in, men, don’t let us sleep, like me last night dreaming, this weird and silly dream:, a swallow’s nest, a mo...   \n",
       "126  [Others letters a sum owed, ages account years each year, out of old fields, permute, blow blue up against yellow, —scapes welcome young birds—ini...   \n",
       "\n",
       "                                                                                                                                               poem_string  \\\n",
       "0    IN THE WORLD OF DESTINY\\nwhen Heaven and Hell are a dream\\nleft draped like blue silk upon a useless chair.\\nBut now we have come together by atom...   \n",
       "1    the Human frame. Men swell to blindness\\nwithout pain and are stupefied. Smooth fingertips\\nreceive no pleasure. They become what they call Soul\\n...   \n",
       "2    not to my own mind,\\nbut stayed\\nand stayed. Years\\nwent by. What\\nwere they. Days—\\nsome happy,\\nbut some bitter\\nand sad. If I walked\\nacross th...   \n",
       "3    is there to walk,\\nnot thought of, is\\nthe road itself more\\nthan seen. I think\\nit might be, feel\\nas my feet do, and\\ncontinue, and\\nat last rea...   \n",
       "4    An old willow with hollow branches\\nSlowly swayed his few high bright tendrils\\nAnd sang:\\n“Love is a young green willow\\nShimmering at the bare w...   \n",
       "..                                                                                                                                                     ...   \n",
       "122  Showing the girl\\nOn the shoulder of the warrior, calling\\nBehind her in the young body’s triumph\\nWith its slight, despairing arms aloft\\nAnd the...   \n",
       "123  Thus\\nHides the\\nParts—the prudery\\nOf Frigidaire, of\\nSoda-jerking—\\nThus\\nAbove the\\nPlane of lunch, of wives,\\nRemoves itself\\n(As soda-jerking...   \n",
       "124  in the morning sunshine\\nI read the signature of last night’s rain.\\nv\\nThe squads, platoons, and regiments\\nof lighted windows,\\nephemeral under ...   \n",
       "125  Miraculously gods playfellows dream in\\nmen, don’t let us sleep\\nlike me last night dreaming\\nthis weird and silly dream:\\na swallow’s nest, a mon...   \n",
       "126  Others letters a sum owed\\nages account years each year\\nout of old fields, permute\\nblow blue up against yellow\\n—scapes welcome young birds—init...   \n",
       "\n",
       "              genre  \n",
       "0              beat  \n",
       "1              beat  \n",
       "2    black_mountain  \n",
       "3    black_mountain  \n",
       "4           imagist  \n",
       "..              ...  \n",
       "122     objectivist  \n",
       "123     objectivist  \n",
       "124     objectivist  \n",
       "125     objectivist  \n",
       "126     objectivist  \n",
       "\n",
       "[127 rows x 6 columns]"
      ]
     },
     "execution_count": 470,
     "metadata": {},
     "output_type": "execute_result"
    }
   ],
   "source": [
    "rescrapes_pt2 = pd.DataFrame(error_rescrapes)\n",
    "rescrapes_pt2"
   ]
  },
  {
   "cell_type": "code",
   "execution_count": 521,
   "metadata": {},
   "outputs": [],
   "source": [
    "rescrapes_pt2.to_csv('data/temp_rescrapes_pt2.csv')"
   ]
  },
  {
   "cell_type": "markdown",
   "metadata": {},
   "source": [
    "### Combine DataFrames\n",
    "\n",
    "[[go back to the top](#Predicting-Poetic-Movements)]\n",
    "\n",
    "- Combine texts, scans, and rescrapes.\n",
    "- Save."
   ]
  },
  {
   "cell_type": "code",
   "execution_count": 549,
   "metadata": {
    "scrolled": true
   },
   "outputs": [
    {
     "data": {
      "text/plain": [
       "((3259, 6), (1774, 6), (11, 6), (124, 6))"
      ]
     },
     "execution_count": 549,
     "metadata": {},
     "output_type": "execute_result"
    }
   ],
   "source": [
    "# check out the sizes of each\n",
    "text_poems_df.shape, scan_poem_df.shape, rescrapes_pt1.shape, rescrapes_pt2.shape"
   ]
  },
  {
   "cell_type": "code",
   "execution_count": 550,
   "metadata": {},
   "outputs": [
    {
     "data": {
      "text/plain": [
       "(5168, 6)"
      ]
     },
     "execution_count": 550,
     "metadata": {},
     "output_type": "execute_result"
    }
   ],
   "source": [
    "# combine and ignore the indices\n",
    "df = pd.concat([text_poems_df, scan_poem_df, rescrapes_pt1, rescrapes_pt2], axis=0, ignore_index=True)\n",
    "\n",
    "# confirm\n",
    "df.shape"
   ]
  },
  {
   "cell_type": "code",
   "execution_count": 552,
   "metadata": {
    "scrolled": true
   },
   "outputs": [],
   "source": [
    "# sort dataframe\n",
    "df.sort_values(by=['genre', 'poet', 'title'], inplace=True)\n",
    "\n",
    "# reset indices\n",
    "df.reset_index(drop=True, inplace=True)"
   ]
  },
  {
   "cell_type": "code",
   "execution_count": 553,
   "metadata": {},
   "outputs": [
    {
     "data": {
      "text/html": [
       "<div>\n",
       "<style scoped>\n",
       "    .dataframe tbody tr th:only-of-type {\n",
       "        vertical-align: middle;\n",
       "    }\n",
       "\n",
       "    .dataframe tbody tr th {\n",
       "        vertical-align: top;\n",
       "    }\n",
       "\n",
       "    .dataframe thead th {\n",
       "        text-align: right;\n",
       "    }\n",
       "</style>\n",
       "<table border=\"1\" class=\"dataframe\">\n",
       "  <thead>\n",
       "    <tr style=\"text-align: right;\">\n",
       "      <th></th>\n",
       "      <th>poet</th>\n",
       "      <th>poem_url</th>\n",
       "      <th>title</th>\n",
       "      <th>poem_lines</th>\n",
       "      <th>poem_string</th>\n",
       "      <th>genre</th>\n",
       "    </tr>\n",
       "  </thead>\n",
       "  <tbody>\n",
       "    <tr>\n",
       "      <th>0</th>\n",
       "      <td>Alexander Pope</td>\n",
       "      <td>https://www.poetryfoundation.org/poems/44896/an-essay-on-criticism-part-1</td>\n",
       "      <td>An Essay on Criticism: Part 1</td>\n",
       "      <td>[PART 1, 'Tis hard to say, if greater want of skill, Appear in writing or in judging ill;, But, of the two, less dang'rous is th' offence, To tire...</td>\n",
       "      <td>PART 1\\n'Tis hard to say, if greater want of skill\\nAppear in writing or in judging ill;\\nBut, of the two, less dang'rous is th' offence\\nTo tire ...</td>\n",
       "      <td>augustan</td>\n",
       "    </tr>\n",
       "    <tr>\n",
       "      <th>1</th>\n",
       "      <td>Alexander Pope</td>\n",
       "      <td>https://www.poetryfoundation.org/poems/44897/an-essay-on-criticism-part-2</td>\n",
       "      <td>An Essay on Criticism: Part 2</td>\n",
       "      <td>[Of all the causes which conspire to blind, Man's erring judgment, and misguide the mind,, What the weak head with strongest bias rules,, Is pride...</td>\n",
       "      <td>Of all the causes which conspire to blind\\nMan's erring judgment, and misguide the mind,\\nWhat the weak head with strongest bias rules,\\nIs pride,...</td>\n",
       "      <td>augustan</td>\n",
       "    </tr>\n",
       "    <tr>\n",
       "      <th>2</th>\n",
       "      <td>Alexander Pope</td>\n",
       "      <td>https://www.poetryfoundation.org/poems/44898/an-essay-on-criticism-part-3</td>\n",
       "      <td>An Essay on Criticism: Part 3</td>\n",
       "      <td>[Learn then what morals critics ought to show,, For 'tis but half a judge's task, to know., 'Tis not enough, taste, judgment, learning, join;, In ...</td>\n",
       "      <td>Learn then what morals critics ought to show,\\nFor 'tis but half a judge's task, to know.\\n'Tis not enough, taste, judgment, learning, join;\\nIn a...</td>\n",
       "      <td>augustan</td>\n",
       "    </tr>\n",
       "    <tr>\n",
       "      <th>3</th>\n",
       "      <td>Alexander Pope</td>\n",
       "      <td>https://www.poetryfoundation.org/poems/44899/an-essay-on-man-epistle-i</td>\n",
       "      <td>An Essay on Man: Epistle I</td>\n",
       "      <td>[Awake, my St. John! leave all meaner things, To low ambition, and the pride of kings., Let us (since life can little more supply, Than just to lo...</td>\n",
       "      <td>Awake, my St. John! leave all meaner things\\nTo low ambition, and the pride of kings.\\nLet us (since life can little more supply\\nThan just to loo...</td>\n",
       "      <td>augustan</td>\n",
       "    </tr>\n",
       "    <tr>\n",
       "      <th>4</th>\n",
       "      <td>Alexander Pope</td>\n",
       "      <td>https://www.poetryfoundation.org/poems/44900/an-essay-on-man-epistle-ii</td>\n",
       "      <td>An Essay on Man: Epistle II</td>\n",
       "      <td>[I., Know then thyself, presume not God to scan;, The proper study of mankind is man., Plac'd on this isthmus of a middle state,, A being darkly w...</td>\n",
       "      <td>I.\\nKnow then thyself, presume not God to scan;\\nThe proper study of mankind is man.\\nPlac'd on this isthmus of a middle state,\\nA being darkly wi...</td>\n",
       "      <td>augustan</td>\n",
       "    </tr>\n",
       "  </tbody>\n",
       "</table>\n",
       "</div>"
      ],
      "text/plain": [
       "             poet  \\\n",
       "0  Alexander Pope   \n",
       "1  Alexander Pope   \n",
       "2  Alexander Pope   \n",
       "3  Alexander Pope   \n",
       "4  Alexander Pope   \n",
       "\n",
       "                                                                    poem_url  \\\n",
       "0  https://www.poetryfoundation.org/poems/44896/an-essay-on-criticism-part-1   \n",
       "1  https://www.poetryfoundation.org/poems/44897/an-essay-on-criticism-part-2   \n",
       "2  https://www.poetryfoundation.org/poems/44898/an-essay-on-criticism-part-3   \n",
       "3     https://www.poetryfoundation.org/poems/44899/an-essay-on-man-epistle-i   \n",
       "4    https://www.poetryfoundation.org/poems/44900/an-essay-on-man-epistle-ii   \n",
       "\n",
       "                           title  \\\n",
       "0  An Essay on Criticism: Part 1   \n",
       "1  An Essay on Criticism: Part 2   \n",
       "2  An Essay on Criticism: Part 3   \n",
       "3     An Essay on Man: Epistle I   \n",
       "4    An Essay on Man: Epistle II   \n",
       "\n",
       "                                                                                                                                              poem_lines  \\\n",
       "0  [PART 1, 'Tis hard to say, if greater want of skill, Appear in writing or in judging ill;, But, of the two, less dang'rous is th' offence, To tire...   \n",
       "1  [Of all the causes which conspire to blind, Man's erring judgment, and misguide the mind,, What the weak head with strongest bias rules,, Is pride...   \n",
       "2  [Learn then what morals critics ought to show,, For 'tis but half a judge's task, to know., 'Tis not enough, taste, judgment, learning, join;, In ...   \n",
       "3  [Awake, my St. John! leave all meaner things, To low ambition, and the pride of kings., Let us (since life can little more supply, Than just to lo...   \n",
       "4  [I., Know then thyself, presume not God to scan;, The proper study of mankind is man., Plac'd on this isthmus of a middle state,, A being darkly w...   \n",
       "\n",
       "                                                                                                                                             poem_string  \\\n",
       "0  PART 1\\n'Tis hard to say, if greater want of skill\\nAppear in writing or in judging ill;\\nBut, of the two, less dang'rous is th' offence\\nTo tire ...   \n",
       "1  Of all the causes which conspire to blind\\nMan's erring judgment, and misguide the mind,\\nWhat the weak head with strongest bias rules,\\nIs pride,...   \n",
       "2  Learn then what morals critics ought to show,\\nFor 'tis but half a judge's task, to know.\\n'Tis not enough, taste, judgment, learning, join;\\nIn a...   \n",
       "3  Awake, my St. John! leave all meaner things\\nTo low ambition, and the pride of kings.\\nLet us (since life can little more supply\\nThan just to loo...   \n",
       "4  I.\\nKnow then thyself, presume not God to scan;\\nThe proper study of mankind is man.\\nPlac'd on this isthmus of a middle state,\\nA being darkly wi...   \n",
       "\n",
       "      genre  \n",
       "0  augustan  \n",
       "1  augustan  \n",
       "2  augustan  \n",
       "3  augustan  \n",
       "4  augustan  "
      ]
     },
     "execution_count": 553,
     "metadata": {},
     "output_type": "execute_result"
    }
   ],
   "source": [
    "# confirm top\n",
    "df.head()"
   ]
  },
  {
   "cell_type": "code",
   "execution_count": 554,
   "metadata": {},
   "outputs": [
    {
     "data": {
      "text/html": [
       "<div>\n",
       "<style scoped>\n",
       "    .dataframe tbody tr th:only-of-type {\n",
       "        vertical-align: middle;\n",
       "    }\n",
       "\n",
       "    .dataframe tbody tr th {\n",
       "        vertical-align: top;\n",
       "    }\n",
       "\n",
       "    .dataframe thead th {\n",
       "        text-align: right;\n",
       "    }\n",
       "</style>\n",
       "<table border=\"1\" class=\"dataframe\">\n",
       "  <thead>\n",
       "    <tr style=\"text-align: right;\">\n",
       "      <th></th>\n",
       "      <th>poet</th>\n",
       "      <th>poem_url</th>\n",
       "      <th>title</th>\n",
       "      <th>poem_lines</th>\n",
       "      <th>poem_string</th>\n",
       "      <th>genre</th>\n",
       "    </tr>\n",
       "  </thead>\n",
       "  <tbody>\n",
       "    <tr>\n",
       "      <th>5163</th>\n",
       "      <td>William Barnes</td>\n",
       "      <td>https://www.poetryfoundation.org/poems/52365/tokens</td>\n",
       "      <td>Tokens</td>\n",
       "      <td>[Green mwold on zummer bars do show, That they’ve a-dripp’d in winter wet;, The hoof-worn ring o’ groun’ below, The tree, do tell o’ storms or het...</td>\n",
       "      <td>Green mwold on zummer bars do show\\nThat they’ve a-dripp’d in winter wet;\\nThe hoof-worn ring o’ groun’ below\\nThe tree, do tell o’ storms or het;...</td>\n",
       "      <td>victorian</td>\n",
       "    </tr>\n",
       "    <tr>\n",
       "      <th>5164</th>\n",
       "      <td>William Barnes</td>\n",
       "      <td>https://www.poetryfoundation.org/poems/52362/zun-zet</td>\n",
       "      <td>Zun-zet</td>\n",
       "      <td>[Where the western zun, unclouded,, Up above the grey hill-tops,, Did sheen drough ashes, lofty sh’ouded,, On the turf beside the copse,, In zumme...</td>\n",
       "      <td>Where the western zun, unclouded,\\nUp above the grey hill-tops,\\nDid sheen drough ashes, lofty sh’ouded,\\nOn the turf beside the copse,\\nIn zummer...</td>\n",
       "      <td>victorian</td>\n",
       "    </tr>\n",
       "    <tr>\n",
       "      <th>5165</th>\n",
       "      <td>William Ernest Henley</td>\n",
       "      <td>https://www.poetryfoundation.org/poems/51642/invictus</td>\n",
       "      <td>Invictus</td>\n",
       "      <td>[Out of the night that covers me,, Black as the pit from pole to pole,, I thank whatever gods may be, For my unconquerable soul., In the fell clut...</td>\n",
       "      <td>Out of the night that covers me,\\nBlack as the pit from pole to pole,\\nI thank whatever gods may be\\nFor my unconquerable soul.\\nIn the fell clutc...</td>\n",
       "      <td>victorian</td>\n",
       "    </tr>\n",
       "    <tr>\n",
       "      <th>5166</th>\n",
       "      <td>William Makepeace Thackeray</td>\n",
       "      <td>https://www.poetryfoundation.org/poems/52711/the-cane-bottomd-chair</td>\n",
       "      <td>The Cane-Bottom’d Chair</td>\n",
       "      <td>[In tattered old slippers that toast at the bars,, And a ragged old jacket perfumed with cigars,, Away from the world and its toils and its cares,...</td>\n",
       "      <td>In tattered old slippers that toast at the bars,\\nAnd a ragged old jacket perfumed with cigars,\\nAway from the world and its toils and its cares,\\...</td>\n",
       "      <td>victorian</td>\n",
       "    </tr>\n",
       "    <tr>\n",
       "      <th>5167</th>\n",
       "      <td>William Miller</td>\n",
       "      <td>https://www.poetryfoundation.org/poems/46949/willie-winkie-56d2271169ef7</td>\n",
       "      <td>Willie Winkie</td>\n",
       "      <td>[Wee Willie Winkie, Rins through the toun,, Up stairs and doun stairs, In his nicht-gown,, Tirling at the window,, Crying at the lock,, “Are the w...</td>\n",
       "      <td>Wee Willie Winkie\\nRins through the toun,\\nUp stairs and doun stairs\\nIn his nicht-gown,\\nTirling at the window,\\nCrying at the lock,\\n“Are the we...</td>\n",
       "      <td>victorian</td>\n",
       "    </tr>\n",
       "  </tbody>\n",
       "</table>\n",
       "</div>"
      ],
      "text/plain": [
       "                             poet  \\\n",
       "5163               William Barnes   \n",
       "5164               William Barnes   \n",
       "5165        William Ernest Henley   \n",
       "5166  William Makepeace Thackeray   \n",
       "5167               William Miller   \n",
       "\n",
       "                                                                      poem_url  \\\n",
       "5163                       https://www.poetryfoundation.org/poems/52365/tokens   \n",
       "5164                      https://www.poetryfoundation.org/poems/52362/zun-zet   \n",
       "5165                     https://www.poetryfoundation.org/poems/51642/invictus   \n",
       "5166       https://www.poetryfoundation.org/poems/52711/the-cane-bottomd-chair   \n",
       "5167  https://www.poetryfoundation.org/poems/46949/willie-winkie-56d2271169ef7   \n",
       "\n",
       "                        title  \\\n",
       "5163                   Tokens   \n",
       "5164                  Zun-zet   \n",
       "5165                 Invictus   \n",
       "5166  The Cane-Bottom’d Chair   \n",
       "5167            Willie Winkie   \n",
       "\n",
       "                                                                                                                                                 poem_lines  \\\n",
       "5163  [Green mwold on zummer bars do show, That they’ve a-dripp’d in winter wet;, The hoof-worn ring o’ groun’ below, The tree, do tell o’ storms or het...   \n",
       "5164  [Where the western zun, unclouded,, Up above the grey hill-tops,, Did sheen drough ashes, lofty sh’ouded,, On the turf beside the copse,, In zumme...   \n",
       "5165  [Out of the night that covers me,, Black as the pit from pole to pole,, I thank whatever gods may be, For my unconquerable soul., In the fell clut...   \n",
       "5166  [In tattered old slippers that toast at the bars,, And a ragged old jacket perfumed with cigars,, Away from the world and its toils and its cares,...   \n",
       "5167  [Wee Willie Winkie, Rins through the toun,, Up stairs and doun stairs, In his nicht-gown,, Tirling at the window,, Crying at the lock,, “Are the w...   \n",
       "\n",
       "                                                                                                                                                poem_string  \\\n",
       "5163  Green mwold on zummer bars do show\\nThat they’ve a-dripp’d in winter wet;\\nThe hoof-worn ring o’ groun’ below\\nThe tree, do tell o’ storms or het;...   \n",
       "5164  Where the western zun, unclouded,\\nUp above the grey hill-tops,\\nDid sheen drough ashes, lofty sh’ouded,\\nOn the turf beside the copse,\\nIn zummer...   \n",
       "5165  Out of the night that covers me,\\nBlack as the pit from pole to pole,\\nI thank whatever gods may be\\nFor my unconquerable soul.\\nIn the fell clutc...   \n",
       "5166  In tattered old slippers that toast at the bars,\\nAnd a ragged old jacket perfumed with cigars,\\nAway from the world and its toils and its cares,\\...   \n",
       "5167  Wee Willie Winkie\\nRins through the toun,\\nUp stairs and doun stairs\\nIn his nicht-gown,\\nTirling at the window,\\nCrying at the lock,\\n“Are the we...   \n",
       "\n",
       "          genre  \n",
       "5163  victorian  \n",
       "5164  victorian  \n",
       "5165  victorian  \n",
       "5166  victorian  \n",
       "5167  victorian  "
      ]
     },
     "execution_count": 554,
     "metadata": {},
     "output_type": "execute_result"
    }
   ],
   "source": [
    "# confirm bottom\n",
    "df.tail()"
   ]
  },
  {
   "cell_type": "markdown",
   "metadata": {},
   "source": [
    "#### Save pre-cleaned DataFrame"
   ]
  },
  {
   "cell_type": "code",
   "execution_count": 555,
   "metadata": {},
   "outputs": [],
   "source": [
    "# # uncomment to save\n",
    "# df.to_csv('data/poems_df_pre_clean.csv')"
   ]
  },
  {
   "cell_type": "markdown",
   "metadata": {},
   "source": [
    "#### Load pre-cleaned DataFrame\n",
    "\n",
    "[[go back to the top](#Webscraping)]"
   ]
  },
  {
   "cell_type": "code",
   "execution_count": 560,
   "metadata": {},
   "outputs": [
    {
     "data": {
      "text/plain": [
       "(5168, 6)"
      ]
     },
     "execution_count": 560,
     "metadata": {},
     "output_type": "execute_result"
    }
   ],
   "source": [
    "# # uncomment to load\n",
    "# df = pd.read_csv('data/poems_df_pre_clean.csv', index_col=0)\n",
    "\n",
    "# confirm\n",
    "df.shape"
   ]
  },
  {
   "cell_type": "markdown",
   "metadata": {},
   "source": [
    "## Next notebook: [Data Cleaning](02_data_cleaning.ipynb)\n",
    "\n",
    "[[go back to the top](#Webscraping)]\n",
    "\n",
    "- The next notebook includes data cleaning and some more rescraping."
   ]
  }
 ],
 "metadata": {
  "kernelspec": {
   "display_name": "Python [conda env:learn-env] *",
   "language": "python",
   "name": "conda-env-learn-env-py"
  },
  "language_info": {
   "codemirror_mode": {
    "name": "ipython",
    "version": 3
   },
   "file_extension": ".py",
   "mimetype": "text/x-python",
   "name": "python",
   "nbconvert_exporter": "python",
   "pygments_lexer": "ipython3",
   "version": "3.6.9"
  }
 },
 "nbformat": 4,
 "nbformat_minor": 2
}
