{
 "cells": [
  {
   "cell_type": "markdown",
   "metadata": {},
   "source": [
    "# Predictive Modeling\n",
    "### Using Naive Bayes, Decision Tree, Random Forest, and SVM\n",
    "- **The first step is to import necessary libraries.**"
   ]
  },
  {
   "cell_type": "code",
   "execution_count": 1,
   "metadata": {},
   "outputs": [
    {
     "name": "stderr",
     "output_type": "stream",
     "text": [
      "Using TensorFlow backend.\n",
      "/opt/anaconda3/envs/learn-env/lib/python3.6/site-packages/tensorflow/python/framework/dtypes.py:517: FutureWarning: Passing (type, 1) or '1type' as a synonym of type is deprecated; in a future version of numpy, it will be understood as (type, (1,)) / '(1,)type'.\n",
      "  _np_qint8 = np.dtype([(\"qint8\", np.int8, 1)])\n",
      "/opt/anaconda3/envs/learn-env/lib/python3.6/site-packages/tensorflow/python/framework/dtypes.py:518: FutureWarning: Passing (type, 1) or '1type' as a synonym of type is deprecated; in a future version of numpy, it will be understood as (type, (1,)) / '(1,)type'.\n",
      "  _np_quint8 = np.dtype([(\"quint8\", np.uint8, 1)])\n",
      "/opt/anaconda3/envs/learn-env/lib/python3.6/site-packages/tensorflow/python/framework/dtypes.py:519: FutureWarning: Passing (type, 1) or '1type' as a synonym of type is deprecated; in a future version of numpy, it will be understood as (type, (1,)) / '(1,)type'.\n",
      "  _np_qint16 = np.dtype([(\"qint16\", np.int16, 1)])\n",
      "/opt/anaconda3/envs/learn-env/lib/python3.6/site-packages/tensorflow/python/framework/dtypes.py:520: FutureWarning: Passing (type, 1) or '1type' as a synonym of type is deprecated; in a future version of numpy, it will be understood as (type, (1,)) / '(1,)type'.\n",
      "  _np_quint16 = np.dtype([(\"quint16\", np.uint16, 1)])\n",
      "/opt/anaconda3/envs/learn-env/lib/python3.6/site-packages/tensorflow/python/framework/dtypes.py:521: FutureWarning: Passing (type, 1) or '1type' as a synonym of type is deprecated; in a future version of numpy, it will be understood as (type, (1,)) / '(1,)type'.\n",
      "  _np_qint32 = np.dtype([(\"qint32\", np.int32, 1)])\n",
      "/opt/anaconda3/envs/learn-env/lib/python3.6/site-packages/tensorflow/python/framework/dtypes.py:526: FutureWarning: Passing (type, 1) or '1type' as a synonym of type is deprecated; in a future version of numpy, it will be understood as (type, (1,)) / '(1,)type'.\n",
      "  np_resource = np.dtype([(\"resource\", np.ubyte, 1)])\n"
     ]
    }
   ],
   "source": [
    "# custom functions for this project\n",
    "from functions import *\n",
    "\n",
    "# dataframe libraries\n",
    "import pandas as pd\n",
    "import numpy as np\n",
    "\n",
    "# graphing libraries\n",
    "import matplotlib.pyplot as plt\n",
    "import seaborn as sns; sns.set_style('ticks')\n",
    "from wordcloud import WordCloud\n",
    "\n",
    "# text processing\n",
    "import nltk\n",
    "from nltk import RegexpTokenizer\n",
    "from nltk.corpus import stopwords\n",
    "from nltk.corpus import wordnet\n",
    "from nltk.probability import FreqDist\n",
    "from nltk.stem import WordNetLemmatizer \n",
    "from textblob import TextBlob as tb\n",
    "from vaderSentiment.vaderSentiment import SentimentIntensityAnalyzer\n",
    "from sklearn.feature_extraction.text import TfidfVectorizer\n",
    "from gensim import matutils, models\n",
    "import scipy.sparse\n",
    "import pronouncing\n",
    "\n",
    "# modeling\n",
    "from sklearn.model_selection import train_test_split, cross_val_score\n",
    "from sklearn.preprocessing import MinMaxScaler, StandardScaler, LabelEncoder\n",
    "from sklearn.naive_bayes import MultinomialNB, BernoulliNB\n",
    "from sklearn.ensemble import RandomForestClassifier\n",
    "from sklearn.tree import DecisionTreeClassifier\n",
    "from sklearn.metrics import accuracy_score, f1_score, classification_report, confusion_matrix\n",
    "from sklearn.svm import SVC\n",
    "\n",
    "from keras.models import Sequential\n",
    "from keras.layers import Dense, LSTM, Bidirectional\n",
    "from keras.layers.embeddings import Embedding\n",
    "from keras.preprocessing import sequence\n",
    "\n",
    "# miscellany\n",
    "import re\n",
    "import string\n",
    "from collections import Counter\n",
    "import time\n",
    "import gzip\n",
    "import pickle\n",
    "\n",
    "# reload functions/libraries when edited\n",
    "%load_ext autoreload\n",
    "%autoreload 2\n",
    "\n",
    "# ignore warnings\n",
    "import warnings\n",
    "warnings.filterwarnings('ignore')\n",
    "\n",
    "# increase column width of dataframe\n",
    "pd.set_option('max_colwidth', 150)"
   ]
  },
  {
   "cell_type": "markdown",
   "metadata": {},
   "source": [
    "### Load DataFrame"
   ]
  },
  {
   "cell_type": "code",
   "execution_count": 2,
   "metadata": {},
   "outputs": [],
   "source": [
    "# uncomment to load\n",
    "with gzip.open('data/poetry_umbrella_genres_df_edit.pkl', 'rb') as hello:\n",
    "    df = pickle.load(hello)"
   ]
  },
  {
   "cell_type": "code",
   "execution_count": 3,
   "metadata": {},
   "outputs": [
    {
     "data": {
      "text/plain": [
       "Index(['poet_url', 'poem_url', 'poet', 'title', 'poem_lines', 'poem_string',\n",
       "       'genre', 'clean_lines', 'num_lines', 'num_words', 'avg_len_line',\n",
       "       'sentiment_polarity_score', 'sentiment_polarity',\n",
       "       'sentiment_subjectivity_score', 'num_end_rhymes', 'end_rhyme_ratio',\n",
       "       'end_rhyme', 'num_syllables', 'avg_syllables_word', 'lines_titled',\n",
       "       'string_titled', 'string_cleaned'],\n",
       "      dtype='object')"
      ]
     },
     "execution_count": 3,
     "metadata": {},
     "output_type": "execute_result"
    }
   ],
   "source": [
    "df.columns"
   ]
  },
  {
   "cell_type": "code",
   "execution_count": 4,
   "metadata": {},
   "outputs": [
    {
     "data": {
      "text/plain": [
       "modern          0.292276\n",
       "metropolitan    0.249543\n",
       "pre_1900        0.237888\n",
       "avant_garde     0.220293\n",
       "Name: genre, dtype: float64"
      ]
     },
     "execution_count": 4,
     "metadata": {},
     "output_type": "execute_result"
    }
   ],
   "source": [
    "# check out the class balance\n",
    "df.genre.value_counts(normalize=True)"
   ]
  },
  {
   "cell_type": "markdown",
   "metadata": {},
   "source": [
    "- **Classes are fairly balanced.**\n",
    "\n",
    "### Create features and target dataframes"
   ]
  },
  {
   "cell_type": "code",
   "execution_count": 5,
   "metadata": {},
   "outputs": [],
   "source": [
    "# assign a features dataframe\n",
    "X = df[['num_lines', 'avg_len_line', 'sentiment_polarity_score', 'sentiment_subjectivity_score', 'num_end_rhymes', \n",
    "        'avg_syllables_word', 'string_titled', 'string_cleaned']]\n",
    "# assign a target variable\n",
    "y = df['genre']"
   ]
  },
  {
   "cell_type": "markdown",
   "metadata": {},
   "source": [
    "### Train-Test Split"
   ]
  },
  {
   "cell_type": "code",
   "execution_count": 6,
   "metadata": {},
   "outputs": [
    {
     "name": "stdout",
     "output_type": "stream",
     "text": [
      "(3282, 8) (3282,)\n",
      "(1094, 8) (1094,)\n"
     ]
    }
   ],
   "source": [
    "# train-test split\n",
    "X_train, X_test, y_train, y_test = train_test_split(X, y, stratify=y, random_state=42)\n",
    "print(X_train.shape, y_train.shape)\n",
    "print(X_test.shape, y_test.shape)"
   ]
  },
  {
   "cell_type": "markdown",
   "metadata": {},
   "source": [
    "## Baseline model -- tf-idf vectors only"
   ]
  },
  {
   "cell_type": "code",
   "execution_count": 7,
   "metadata": {},
   "outputs": [],
   "source": [
    "# instantiate the vectorizer\n",
    "vectorizer = TfidfVectorizer()\n",
    "\n",
    "# fit to training data's string_cleaned column and transform train and test sets\n",
    "X_train_vec_matrix = vectorizer.fit_transform(X_train.string_cleaned)\n",
    "X_test_vec_matrix = vectorizer.transform(X_test.string_cleaned)"
   ]
  },
  {
   "cell_type": "code",
   "execution_count": 8,
   "metadata": {},
   "outputs": [],
   "source": [
    "# turn our tf-idf vectors into a dataframe so we can better view feature importances\n",
    "X_train_vec = pd.DataFrame.sparse.from_spmatrix(X_train_vec_matrix, columns=vectorizer.get_feature_names())\n",
    "X_test_vec = pd.DataFrame.sparse.from_spmatrix(X_test_vec_matrix, columns=vectorizer.get_feature_names())"
   ]
  },
  {
   "cell_type": "code",
   "execution_count": 9,
   "metadata": {},
   "outputs": [
    {
     "name": "stdout",
     "output_type": "stream",
     "text": [
      "CPU times: user 4.17 s, sys: 543 ms, total: 4.71 s\n",
      "Wall time: 4.32 s\n"
     ]
    },
    {
     "data": {
      "text/plain": [
       "BernoulliNB(alpha=1.0, binarize=0.0, class_prior=None, fit_prior=True)"
      ]
     },
     "execution_count": 9,
     "metadata": {},
     "output_type": "execute_result"
    }
   ],
   "source": [
    "%%time\n",
    "\n",
    "# instantiate the naive bayes classifier\n",
    "bnb_baseline_vec = BernoulliNB()\n",
    "\n",
    "# fit it to our training set\n",
    "bnb_baseline_vec.fit(X_train_vec, y_train)"
   ]
  },
  {
   "cell_type": "code",
   "execution_count": 10,
   "metadata": {},
   "outputs": [
    {
     "name": "stdout",
     "output_type": "stream",
     "text": [
      "-----TRAIN-----\n",
      "Accuracy: 0.6066422912858014\n",
      "F1 score: 0.6087765944613979\n",
      "\n",
      "-----TEST-----\n",
      "Accuracy: 0.4670932358318099\n",
      "F1 score: 0.4253300995343577\n",
      "\n",
      "----------------------------------------------------------------------------------------------------\n",
      "\n",
      "              precision    recall  f1-score   support\n",
      "\n",
      "metropolitan       0.61      0.08      0.15       241\n",
      " avant_garde       0.66      0.34      0.45       273\n",
      "      modern       0.37      0.92      0.53       320\n",
      "    pre_1900       0.77      0.41      0.53       260\n",
      "\n",
      "    accuracy                           0.47      1094\n",
      "   macro avg       0.60      0.44      0.41      1094\n",
      "weighted avg       0.59      0.47      0.43      1094\n",
      "\n",
      "\n",
      "----------------------------------------------------------------------------------------------------\n",
      "\n",
      "CONFUSION MATRIX:\n",
      "\n",
      "[[ 20  33 179   9]\n",
      " [ 12  92 160   9]\n",
      " [  1  12 293  14]\n",
      " [  0   3 151 106]]\n",
      "CPU times: user 6.43 s, sys: 774 ms, total: 7.21 s\n",
      "Wall time: 5.98 s\n"
     ]
    }
   ],
   "source": [
    "%%time\n",
    "\n",
    "# predict the new document from the testing dataset\n",
    "y_train_preds_vec = bnb_baseline_vec.predict(X_train_vec)\n",
    "y_test_preds_vec = bnb_baseline_vec.predict(X_test_vec)\n",
    "\n",
    "# print out accuracy and f1 scores for train set\n",
    "bnb_baseline_vec_acc_train = accuracy_score(y_train, y_train_preds_vec)\n",
    "bnb_baseline_vec_f1_train = f1_score(y_train, y_train_preds_vec, average='weighted')\n",
    "\n",
    "print('-----TRAIN-----')\n",
    "print(f'Accuracy: {bnb_baseline_vec_acc_train}')\n",
    "print(f'F1 score: {bnb_baseline_vec_f1_train}')\n",
    "\n",
    "# print out accuracy and f1 scores for test set\n",
    "bnb_baseline_vec_acc_test = accuracy_score(y_test, y_test_preds_vec)\n",
    "bnb_baseline_vec_f1_test = f1_score(y_test, y_test_preds_vec, average='weighted')\n",
    "\n",
    "print('\\n-----TEST-----')\n",
    "print(f'Accuracy: {bnb_baseline_vec_acc_test}')\n",
    "print(f'F1 score: {bnb_baseline_vec_f1_test}')\n",
    "\n",
    "print('\\n' + '-' * 100 + '\\n')\n",
    "\n",
    "# print out report\n",
    "print(classification_report(y_test, y_test_preds_vec, target_names=list(y.unique())))\n",
    "\n",
    "print('\\n' + '-' * 100 + '\\n')\n",
    "\n",
    "# print out confusion matrix\n",
    "print(\"CONFUSION MATRIX:\\n\")\n",
    "print(confusion_matrix(y_test, y_test_preds_vec))"
   ]
  },
  {
   "cell_type": "markdown",
   "metadata": {},
   "source": [
    "- **Not too bad for a baseline. Certainly better than just predicting 'modern', which would give you a 29% accuracy.**\n",
    "- **That said, it is indeed overpredicting on 'modern'.**\n",
    "\n",
    "### Feature importances\n",
    "\n",
    "- **Code modified from: https://stackoverflow.com/questions/50526898/how-to-get-feature-importance-in-naive-bayes**"
   ]
  },
  {
   "cell_type": "code",
   "execution_count": 12,
   "metadata": {},
   "outputs": [],
   "source": [
    "# assign the top 10 feature importances for each class\n",
    "metro_class_prob_sorted = bnb_baseline_vec.feature_log_prob_[:, 0].argsort()\n",
    "modern_class_prob_sorted = bnb_baseline_vec.feature_log_prob_[1, :].argsort()\n",
    "avant_class_prob_sorted = bnb_baseline_vec.feature_log_prob_[2, :].argsort()\n",
    "pre1900_class_prob_sorted = bnb_baseline_vec.feature_log_prob_[3, :].argsort()"
   ]
  },
  {
   "cell_type": "code",
   "execution_count": 13,
   "metadata": {},
   "outputs": [
    {
     "name": "stdout",
     "output_type": "stream",
     "text": [
      "Index(['aaaall', 'aaron', 'aalto', 'aaa'], dtype='object')\n",
      "Index(['aaa', 'migratorious', 'milan', 'milder', 'mildness', 'miletus',\n",
      "       'milholland', 'militarisme', 'milked', 'milkmaid'],\n",
      "      dtype='object')\n",
      "Index(['zwim', 'hoper', 'hopped', 'shipwright', 'hopscotch', 'horace',\n",
      "       'horatian', 'shipwreck', 'horeb', 'shipwrack'],\n",
      "      dtype='object')\n",
      "Index(['aaa', 'grievings', 'rouchled', 'rotunda', 'rottenness', 'grig',\n",
      "       'rotor', 'grille', 'roto', 'grimace'],\n",
      "      dtype='object')\n"
     ]
    }
   ],
   "source": [
    "# match them up with the proper label\n",
    "print(np.take(X_train_vec.columns, metro_class_prob_sorted[:10]))\n",
    "print(np.take(X_train_vec.columns, modern_class_prob_sorted[:10]))\n",
    "print(np.take(X_train_vec.columns, avant_class_prob_sorted[:10]))\n",
    "print(np.take(X_train_vec.columns, pre1900_class_prob_sorted[:10]))"
   ]
  },
  {
   "cell_type": "markdown",
   "metadata": {},
   "source": [
    "## Baseline model -- vectors + numerical data\n",
    "\n",
    "- **Create dataframe.**"
   ]
  },
  {
   "cell_type": "code",
   "execution_count": 16,
   "metadata": {},
   "outputs": [],
   "source": [
    "# separate out our numerical data\n",
    "X_train_nums = X_train.drop(columns=['string_titled', 'string_cleaned'])\n",
    "X_test_nums = X_test.drop(columns=['string_titled', 'string_cleaned'])"
   ]
  },
  {
   "cell_type": "markdown",
   "metadata": {},
   "source": [
    "- **Scale and combine.**"
   ]
  },
  {
   "cell_type": "code",
   "execution_count": 17,
   "metadata": {},
   "outputs": [],
   "source": [
    "# instantiate our scaler\n",
    "scaler = MinMaxScaler()\n",
    "\n",
    "# scale our numerical data\n",
    "X_train_scaled = scaler.fit_transform(X_train_nums)\n",
    "X_test_scaled = scaler.transform(X_test_nums)\n",
    "\n",
    "# turn the arrays into dataframes\n",
    "X_train_scaled_df = pd.DataFrame(X_train_scaled, columns=X_train_nums.columns)\n",
    "X_test_scaled_df = pd.DataFrame(X_test_scaled, columns=X_test_nums.columns)"
   ]
  },
  {
   "cell_type": "code",
   "execution_count": 19,
   "metadata": {},
   "outputs": [],
   "source": [
    "# combine the numerical and vector dataframes for both train and test sets\n",
    "X_train_combo = pd.concat([X_train_scaled_df, X_train_vec], axis=1)\n",
    "X_test_combo = pd.concat([X_test_scaled_df, X_test_vec], axis=1)"
   ]
  },
  {
   "cell_type": "markdown",
   "metadata": {},
   "source": [
    "- **Model.**"
   ]
  },
  {
   "cell_type": "code",
   "execution_count": 20,
   "metadata": {},
   "outputs": [
    {
     "name": "stdout",
     "output_type": "stream",
     "text": [
      "CPU times: user 9.04 s, sys: 1.6 s, total: 10.6 s\n",
      "Wall time: 10.3 s\n"
     ]
    },
    {
     "data": {
      "text/plain": [
       "BernoulliNB(alpha=1.0, binarize=0.0, class_prior=None, fit_prior=True)"
      ]
     },
     "execution_count": 20,
     "metadata": {},
     "output_type": "execute_result"
    }
   ],
   "source": [
    "%%time\n",
    "\n",
    "# instantiate the naive bayes classifier\n",
    "bnb_baseline_combo = BernoulliNB()\n",
    "\n",
    "# fit it to our training set\n",
    "bnb_baseline_combo.fit(X_train_combo, y_train)"
   ]
  },
  {
   "cell_type": "code",
   "execution_count": 21,
   "metadata": {
    "scrolled": true
   },
   "outputs": [
    {
     "name": "stdout",
     "output_type": "stream",
     "text": [
      "-----TRAIN-----\n",
      "Accuracy: 0.6096892138939671\n",
      "F1 score: 0.612164783557265\n",
      "\n",
      "-----TEST-----\n",
      "Accuracy: 0.4670932358318099\n",
      "F1 score: 0.4262879661539977\n",
      "\n",
      "----------------------------------------------------------------------------------------------------\n",
      "\n",
      "              precision    recall  f1-score   support\n",
      "\n",
      "metropolitan       0.61      0.08      0.15       241\n",
      " avant_garde       0.66      0.34      0.45       273\n",
      "      modern       0.37      0.91      0.53       320\n",
      "    pre_1900       0.77      0.41      0.53       260\n",
      "\n",
      "    accuracy                           0.47      1094\n",
      "   macro avg       0.60      0.44      0.41      1094\n",
      "weighted avg       0.59      0.47      0.43      1094\n",
      "\n",
      "\n",
      "----------------------------------------------------------------------------------------------------\n",
      "\n",
      "CONFUSION MATRIX:\n",
      "\n",
      "[[ 20  34 179   8]\n",
      " [ 11  94 159   9]\n",
      " [  2  12 291  15]\n",
      " [  0   3 151 106]]\n",
      "CPU times: user 12.8 s, sys: 2.18 s, total: 14.9 s\n",
      "Wall time: 13.7 s\n"
     ]
    }
   ],
   "source": [
    "%%time\n",
    "\n",
    "# predict the new document from the testing dataset\n",
    "y_train_preds_combo = bnb_baseline_combo.predict(X_train_combo)\n",
    "y_test_preds_combo = bnb_baseline_combo.predict(X_test_combo)\n",
    "\n",
    "# print out accuracy and f1 scores for train set\n",
    "bnb_baseline_combo_acc_train = accuracy_score(y_train, y_train_preds_combo)\n",
    "bnb_baseline_combo_f1_train = f1_score(y_train, y_train_preds_combo, average='weighted')\n",
    "\n",
    "print('-----TRAIN-----')\n",
    "print(f'Accuracy: {bnb_baseline_combo_acc_train}')\n",
    "print(f'F1 score: {bnb_baseline_combo_f1_train}')\n",
    "\n",
    "# print out accuracy and f1 scores for test set\n",
    "bnb_baseline_combo_acc_test = accuracy_score(y_test, y_test_preds_combo)\n",
    "bnb_baseline_combo_f1_test = f1_score(y_test, y_test_preds_combo, average='weighted')\n",
    "\n",
    "print('\\n-----TEST-----')\n",
    "print(f'Accuracy: {bnb_baseline_combo_acc_test}')\n",
    "print(f'F1 score: {bnb_baseline_combo_f1_test}')\n",
    "\n",
    "print('\\n' + '-' * 100 + '\\n')\n",
    "\n",
    "# print out report\n",
    "print(classification_report(y_test, y_test_preds_combo, target_names=list(y.unique())))\n",
    "\n",
    "print('\\n' + '-' * 100 + '\\n')\n",
    "\n",
    "# print out confusion matrix\n",
    "print(\"CONFUSION MATRIX:\\n\")\n",
    "print(confusion_matrix(y_test, y_test_preds_combo))"
   ]
  },
  {
   "cell_type": "markdown",
   "metadata": {},
   "source": [
    "- **Practically the same result.**\n",
    "\n",
    "### Feature importances"
   ]
  },
  {
   "cell_type": "code",
   "execution_count": 79,
   "metadata": {},
   "outputs": [],
   "source": [
    "# assign the top 10 feature importances for each class\n",
    "metro_class_prob_sorted = bnb_baseline_vec.feature_log_prob_[:, 0].argsort()\n",
    "modern_class_prob_sorted = bnb_baseline_vec.feature_log_prob_[1, :].argsort()\n",
    "avant_class_prob_sorted = bnb_baseline_vec.feature_log_prob_[2, :].argsort()\n",
    "pre1900_class_prob_sorted = bnb_baseline_vec.feature_log_prob_[3, :].argsort()"
   ]
  },
  {
   "cell_type": "code",
   "execution_count": 80,
   "metadata": {},
   "outputs": [
    {
     "name": "stdout",
     "output_type": "stream",
     "text": [
      "Index(['avg_len_line', 'sentiment_subjectivity_score',\n",
      "       'sentiment_polarity_score', 'num_lines'],\n",
      "      dtype='object')\n",
      "Index(['num_lines', 'mightier', 'migliore', 'migrant', 'mike', 'mildew',\n",
      "       'mildly', 'mile', 'milieu', 'militant'],\n",
      "      dtype='object')\n",
      "Index(['zunbrowned', 'hop', 'hope', 'shipboard', 'hopefully', 'hopeless',\n",
      "       'hopelessly', 'ship', 'hopped', 'shiny'],\n",
      "      dtype='object')\n",
      "Index(['num_lines', 'griddlecake', 'rotha', 'rote', 'rotator', 'grieve',\n",
      "       'rotate', 'grievings', 'rot', 'griffin'],\n",
      "      dtype='object')\n"
     ]
    }
   ],
   "source": [
    "# match them up with the proper label\n",
    "print(np.take(X_train_combo.columns, metro_class_prob_sorted[:10]))\n",
    "print(np.take(X_train_combo.columns, modern_class_prob_sorted[:10]))\n",
    "print(np.take(X_train_combo.columns, avant_class_prob_sorted[:10]))\n",
    "print(np.take(X_train_combo.columns, pre1900_class_prob_sorted[:10]))"
   ]
  },
  {
   "cell_type": "markdown",
   "metadata": {},
   "source": [
    "- **Some engineered features made it into this one.**\n",
    "\n",
    "## Decision Tree -- tf-idf vectors only\n",
    "\n",
    "- **I'll first take a quick look at cross validation scores.**"
   ]
  },
  {
   "cell_type": "code",
   "execution_count": 22,
   "metadata": {},
   "outputs": [
    {
     "data": {
      "text/plain": [
       "array([0.40425532, 0.40729483, 0.39329268, 0.39939024, 0.3902439 ,\n",
       "       0.39329268, 0.41158537, 0.40243902, 0.42378049, 0.42682927])"
      ]
     },
     "execution_count": 22,
     "metadata": {},
     "output_type": "execute_result"
    }
   ],
   "source": [
    "# instantiate the decision tree classifier\n",
    "tree_vec = DecisionTreeClassifier()\n",
    "\n",
    "# fit it to our training set and evaluate\n",
    "cross_val_score(tree_vec, X_train_vec, y_train, cv=10, n_jobs=-1)"
   ]
  },
  {
   "cell_type": "markdown",
   "metadata": {},
   "source": [
    "- **Naive Bayes performs better.**\n",
    "\n",
    "## Decision Tree -- vectors and numerical data\n",
    "\n",
    "- **Look at cross validation scores.**"
   ]
  },
  {
   "cell_type": "code",
   "execution_count": 23,
   "metadata": {},
   "outputs": [
    {
     "data": {
      "text/plain": [
       "array([0.54103343, 0.48632219, 0.50609756, 0.45121951, 0.49085366,\n",
       "       0.48780488, 0.50914634, 0.49695122, 0.49085366, 0.45731707])"
      ]
     },
     "execution_count": 23,
     "metadata": {},
     "output_type": "execute_result"
    }
   ],
   "source": [
    "# instantiate the decision tree classifier\n",
    "tree_combo = DecisionTreeClassifier()\n",
    "\n",
    "# fit it to our training set and evaluate\n",
    "cross_val_score(tree_combo, X_train_combo, y_train, cv=10, n_jobs=-1)"
   ]
  },
  {
   "cell_type": "markdown",
   "metadata": {},
   "source": [
    "- **A notable improvement, so I'll fit a model.**"
   ]
  },
  {
   "cell_type": "code",
   "execution_count": 24,
   "metadata": {},
   "outputs": [
    {
     "name": "stdout",
     "output_type": "stream",
     "text": [
      "CPU times: user 9.34 s, sys: 1.16 s, total: 10.5 s\n",
      "Wall time: 10.5 s\n"
     ]
    },
    {
     "data": {
      "text/plain": [
       "DecisionTreeClassifier(ccp_alpha=0.0, class_weight=None, criterion='gini',\n",
       "                       max_depth=None, max_features=None, max_leaf_nodes=None,\n",
       "                       min_impurity_decrease=0.0, min_impurity_split=None,\n",
       "                       min_samples_leaf=1, min_samples_split=2,\n",
       "                       min_weight_fraction_leaf=0.0, presort='deprecated',\n",
       "                       random_state=1, splitter='best')"
      ]
     },
     "execution_count": 24,
     "metadata": {},
     "output_type": "execute_result"
    }
   ],
   "source": [
    "%%time\n",
    "\n",
    "# instantiate the model\n",
    "tree_combo = DecisionTreeClassifier(random_state=1)\n",
    "\n",
    "# fit to the training set\n",
    "tree_combo.fit(X_train_combo, y_train)"
   ]
  },
  {
   "cell_type": "code",
   "execution_count": 25,
   "metadata": {},
   "outputs": [
    {
     "name": "stdout",
     "output_type": "stream",
     "text": [
      "-----TRAIN-----\n",
      "Accuracy: 0.9993906154783668\n",
      "F1 score: 0.9993903971862134\n",
      "\n",
      "-----TEST-----\n",
      "Accuracy: 0.4716636197440585\n",
      "F1 score: 0.47004389709255623\n",
      "\n",
      "----------------------------------------------------------------------------------------------------\n",
      "\n",
      "              precision    recall  f1-score   support\n",
      "\n",
      "metropolitan       0.48      0.46      0.47       241\n",
      " avant_garde       0.42      0.36      0.39       273\n",
      "      modern       0.41      0.45      0.43       320\n",
      "    pre_1900       0.58      0.62      0.60       260\n",
      "\n",
      "    accuracy                           0.47      1094\n",
      "   macro avg       0.47      0.47      0.47      1094\n",
      "weighted avg       0.47      0.47      0.47      1094\n",
      "\n",
      "\n",
      "----------------------------------------------------------------------------------------------------\n",
      "\n",
      "CONFUSION MATRIX:\n",
      "\n",
      "[[112  59  63   7]\n",
      " [ 51  99  86  37]\n",
      " [ 55  50 145  70]\n",
      " [ 14  28  58 160]]\n",
      "CPU times: user 7.7 s, sys: 1.53 s, total: 9.23 s\n",
      "Wall time: 9.23 s\n"
     ]
    }
   ],
   "source": [
    "%%time\n",
    "\n",
    "# predict class for the train and test sets\n",
    "y_train_preds_tree_combo = tree_combo.predict(X_train_combo)\n",
    "y_test_preds_tree_combo = tree_combo.predict(X_test_combo)\n",
    "\n",
    "# print out accuracy and f1 scores for train set\n",
    "tree_combo_acc_train = accuracy_score(y_train, y_train_preds_tree_combo)\n",
    "tree_combo_f1_train = f1_score(y_train, y_train_preds_tree_combo, average='weighted')\n",
    "\n",
    "print('-----TRAIN-----')\n",
    "print(f'Accuracy: {tree_combo_acc_train}')\n",
    "print(f'F1 score: {tree_combo_f1_train}')\n",
    "\n",
    "# print out accuracy and f1 scores for test set\n",
    "tree_combo_acc_test = accuracy_score(y_test, y_test_preds_tree_combo)\n",
    "tree_combo_f1_test = f1_score(y_test, y_test_preds_tree_combo, average='weighted')\n",
    "\n",
    "print('\\n-----TEST-----')\n",
    "print(f'Accuracy: {tree_combo_acc_test}')\n",
    "print(f'F1 score: {tree_combo_f1_test}')\n",
    "\n",
    "print('\\n' + '-' * 100 + '\\n')\n",
    "\n",
    "# print out report for test predictions\n",
    "print(classification_report(y_test, y_test_preds_tree_combo, target_names=list(y.unique())))\n",
    "\n",
    "print('\\n' + '-' * 100 + '\\n')\n",
    "\n",
    "# print out confusion matrix\n",
    "print(\"CONFUSION MATRIX:\\n\")\n",
    "print(confusion_matrix(y_test, y_test_preds_tree_combo))"
   ]
  },
  {
   "cell_type": "markdown",
   "metadata": {},
   "source": [
    "- **This is definitely better than our Naive Bayes model.**\n",
    "    - **It predicts 'modern' a lot less.**\n",
    "    - **Predictions seem fairly evenly spread.**\n",
    "    - **Has trouble predicting avant-garde.**\n",
    "    \n",
    "### Feature importances"
   ]
  },
  {
   "cell_type": "code",
   "execution_count": 26,
   "metadata": {
    "scrolled": true
   },
   "outputs": [
    {
     "data": {
      "text/plain": [
       "{'num_end_rhymes': 0.11007585654210111,\n",
       " 'avg_len_line': 0.06060389285626467,\n",
       " 'avg_syllables_word': 0.05830843115964017,\n",
       " 'num_lines': 0.05269643035199075,\n",
       " 'sentiment_polarity_score': 0.02258363492583386,\n",
       " 'sentiment_subjectivity_score': 0.020310951818931028,\n",
       " 'get': 0.014781807450453481,\n",
       " 'light': 0.00892308241672876,\n",
       " 'know': 0.007713988035427452,\n",
       " 'little': 0.0070537491209945935}"
      ]
     },
     "execution_count": 26,
     "metadata": {},
     "output_type": "execute_result"
    }
   ],
   "source": [
    "# create a dictionary\n",
    "tree_features = dict(zip(X_train_combo.columns, tree_combo.feature_importances_))\n",
    "\n",
    "# sort dictionary\n",
    "tree_features = dict(sorted(tree_features.items(), key=lambda x: x[1], reverse=True)[:10])\n",
    "tree_features"
   ]
  },
  {
   "cell_type": "markdown",
   "metadata": {},
   "source": [
    "- **Mostly engineered features on top.**\n",
    "\n",
    "## Random Forest -- tf-idf vectors only\n",
    "\n",
    "- **First, I'll take a quick look at cross validation scores.**"
   ]
  },
  {
   "cell_type": "code",
   "execution_count": 27,
   "metadata": {},
   "outputs": [
    {
     "data": {
      "text/plain": [
       "array([0.56838906, 0.56534954, 0.55792683, 0.5152439 , 0.56707317,\n",
       "       0.58536585, 0.57012195, 0.55182927, 0.55792683, 0.57926829])"
      ]
     },
     "execution_count": 27,
     "metadata": {},
     "output_type": "execute_result"
    }
   ],
   "source": [
    "# instantiate the random forest classifier\n",
    "forest_vec = RandomForestClassifier()\n",
    "\n",
    "# fit it to our training set and evaluate\n",
    "cross_val_score(forest_vec, X_train_vec, y_train, cv=10, n_jobs=-1)"
   ]
  },
  {
   "cell_type": "markdown",
   "metadata": {},
   "source": [
    "- **Compare that to vectors plus numerical data.**\n",
    "\n",
    "## Random Forest -- vectors and numerical data\n",
    "\n",
    "- **Take a quick look at cross validation scores.**"
   ]
  },
  {
   "cell_type": "code",
   "execution_count": 28,
   "metadata": {},
   "outputs": [
    {
     "data": {
      "text/plain": [
       "array([0.58054711, 0.63221884, 0.64634146, 0.58536585, 0.62804878,\n",
       "       0.59146341, 0.59146341, 0.6097561 , 0.58841463, 0.62195122])"
      ]
     },
     "execution_count": 28,
     "metadata": {},
     "output_type": "execute_result"
    }
   ],
   "source": [
    "# instantiate the random forest classifier\n",
    "forest_combo = RandomForestClassifier()\n",
    "\n",
    "# fit it to our training set and evaluate\n",
    "cross_val_score(forest_combo, X_train_combo, y_train, cv=10, n_jobs=-1)"
   ]
  },
  {
   "cell_type": "markdown",
   "metadata": {},
   "source": [
    "- **Including engineered features seems more promising, so I'll move ahead with this one.**"
   ]
  },
  {
   "cell_type": "code",
   "execution_count": 29,
   "metadata": {},
   "outputs": [
    {
     "name": "stdout",
     "output_type": "stream",
     "text": [
      "CPU times: user 19.8 s, sys: 1.18 s, total: 21 s\n",
      "Wall time: 21 s\n"
     ]
    },
    {
     "data": {
      "text/plain": [
       "RandomForestClassifier(bootstrap=True, ccp_alpha=0.0, class_weight=None,\n",
       "                       criterion='gini', max_depth=None, max_features='auto',\n",
       "                       max_leaf_nodes=None, max_samples=None,\n",
       "                       min_impurity_decrease=0.0, min_impurity_split=None,\n",
       "                       min_samples_leaf=1, min_samples_split=2,\n",
       "                       min_weight_fraction_leaf=0.0, n_estimators=100,\n",
       "                       n_jobs=None, oob_score=False, random_state=1, verbose=0,\n",
       "                       warm_start=False)"
      ]
     },
     "execution_count": 29,
     "metadata": {},
     "output_type": "execute_result"
    }
   ],
   "source": [
    "%%time\n",
    "\n",
    "# instantiate the model\n",
    "forest_combo = RandomForestClassifier(random_state=1)\n",
    "\n",
    "# fit to the training set\n",
    "forest_combo.fit(X_train_combo, y_train)"
   ]
  },
  {
   "cell_type": "code",
   "execution_count": 30,
   "metadata": {},
   "outputs": [
    {
     "name": "stdout",
     "output_type": "stream",
     "text": [
      "-----TRAIN-----\n",
      "Accuracy: 0.9993906154783668\n",
      "F1 score: 0.9993903971862134\n",
      "\n",
      "-----TEST-----\n",
      "Accuracy: 0.6261425959780622\n",
      "F1 score: 0.6213792967901269\n",
      "\n",
      "----------------------------------------------------------------------------------------------------\n",
      "\n",
      "              precision    recall  f1-score   support\n",
      "\n",
      "metropolitan       0.68      0.46      0.55       241\n",
      " avant_garde       0.62      0.52      0.56       273\n",
      "      modern       0.54      0.73      0.62       320\n",
      "    pre_1900       0.73      0.77      0.75       260\n",
      "\n",
      "    accuracy                           0.63      1094\n",
      "   macro avg       0.64      0.62      0.62      1094\n",
      "weighted avg       0.64      0.63      0.62      1094\n",
      "\n",
      "\n",
      "----------------------------------------------------------------------------------------------------\n",
      "\n",
      "CONFUSION MATRIX:\n",
      "\n",
      "[[110  59  58  14]\n",
      " [ 32 141  84  16]\n",
      " [ 19  24 233  44]\n",
      " [  0   3  56 201]]\n",
      "CPU times: user 7.87 s, sys: 1.5 s, total: 9.37 s\n",
      "Wall time: 9.38 s\n"
     ]
    }
   ],
   "source": [
    "%%time\n",
    "\n",
    "# predict class for the train and test sets\n",
    "y_train_preds_forest_combo = forest_combo.predict(X_train_combo)\n",
    "y_test_preds_forest_combo = forest_combo.predict(X_test_combo)\n",
    "\n",
    "# print out accuracy and f1 scores for train set\n",
    "forest_combo_acc_train = accuracy_score(y_train, y_train_preds_forest_combo)\n",
    "forest_combo_f1_train = f1_score(y_train, y_train_preds_forest_combo, average='weighted')\n",
    "\n",
    "print('-----TRAIN-----')\n",
    "print(f'Accuracy: {forest_combo_acc_train}')\n",
    "print(f'F1 score: {forest_combo_f1_train}')\n",
    "\n",
    "# print out accuracy and f1 scores for test set\n",
    "forest_combo_acc_test = accuracy_score(y_test, y_test_preds_forest_combo)\n",
    "forest_combo_f1_test = f1_score(y_test, y_test_preds_forest_combo, average='weighted')\n",
    "\n",
    "print('\\n-----TEST-----')\n",
    "print(f'Accuracy: {forest_combo_acc_test}')\n",
    "print(f'F1 score: {forest_combo_f1_test}')\n",
    "\n",
    "print('\\n' + '-' * 100 + '\\n')\n",
    "\n",
    "# print out report for test predictions\n",
    "print(classification_report(y_test, y_test_preds_forest_combo, target_names=list(y.unique())))\n",
    "\n",
    "print('\\n' + '-' * 100 + '\\n')\n",
    "\n",
    "# print out confusion matrix\n",
    "print(\"CONFUSION MATRIX:\\n\")\n",
    "print(confusion_matrix(y_test, y_test_preds_forest_combo))"
   ]
  },
  {
   "cell_type": "markdown",
   "metadata": {},
   "source": [
    "- **Good results! So I'll look at a confusion matrix visualization.**"
   ]
  },
  {
   "cell_type": "code",
   "execution_count": 71,
   "metadata": {},
   "outputs": [
    {
     "data": {
      "image/png": "[encoded data removed]",
      "text/plain": [
       "<Figure size 576x432 with 2 Axes>"
      ]
     },
     "metadata": {},
     "output_type": "display_data"
    }
   ],
   "source": [
    "cm = confusion_matrix(y_test, y_test_preds_forest_combo)\n",
    "classes = ['Metropolitan', 'Avant-Garde', 'Modern', 'Pre-1900']\n",
    "\n",
    "plt.figure(figsize=(8,6))\n",
    "plot_confusion_matrix(cm, classes,\n",
    "                          normalize=True,\n",
    "                          title='Random Forest confusion matrix',\n",
    "                          cmap=plt.cm.Blues);"
   ]
  },
  {
   "cell_type": "markdown",
   "metadata": {},
   "source": [
    "- **Big strides made on all categories here.**\n",
    "- **Looks like some improvement could be made for avant-garde and metropolitan.**\n",
    "\n",
    "### Feature importances"
   ]
  },
  {
   "cell_type": "code",
   "execution_count": 31,
   "metadata": {},
   "outputs": [
    {
     "data": {
      "text/plain": [
       "{'num_end_rhymes': 0.020076914328688845,\n",
       " 'avg_len_line': 0.016599447912066877,\n",
       " 'avg_syllables_word': 0.010609575975566466,\n",
       " 'num_lines': 0.008350060082588609,\n",
       " 'sentiment_polarity_score': 0.008100964810189928,\n",
       " 'sentiment_subjectivity_score': 0.006233650462750479,\n",
       " 'heart': 0.0035447417431501284,\n",
       " 'get': 0.0032271297790378356,\n",
       " 'day': 0.0031789311325537114,\n",
       " 'sweet': 0.0030092352589805044}"
      ]
     },
     "execution_count": 31,
     "metadata": {},
     "output_type": "execute_result"
    }
   ],
   "source": [
    "# create a dictionary\n",
    "forest_features = dict(zip(X_train_combo.columns, forest_combo.feature_importances_))\n",
    "\n",
    "# sort dictionary\n",
    "forest_features = dict(sorted(forest_features.items(), key=lambda x: x[1], reverse=True)[:10])\n",
    "forest_features"
   ]
  },
  {
   "cell_type": "markdown",
   "metadata": {},
   "source": [
    "- **Lots of engineered features here, and some surprise words.**\n",
    "- **'Heart' appeared to be mostly within pre-1900 poetry, so that probably explains it's importance.**\n",
    "\n",
    "## SVM Model - tf-idf vectors only"
   ]
  },
  {
   "cell_type": "code",
   "execution_count": 36,
   "metadata": {},
   "outputs": [
    {
     "name": "stdout",
     "output_type": "stream",
     "text": [
      "CPU times: user 11min 23s, sys: 4.31 s, total: 11min 27s\n",
      "Wall time: 11min 33s\n"
     ]
    },
    {
     "data": {
      "text/plain": [
       "SVC(C=1.0, break_ties=False, cache_size=200, class_weight=None, coef0=0.0,\n",
       "    decision_function_shape='ovr', degree=3, gamma='scale', kernel='linear',\n",
       "    max_iter=-1, probability=False, random_state=None, shrinking=True,\n",
       "    tol=0.001, verbose=False)"
      ]
     },
     "execution_count": 36,
     "metadata": {},
     "output_type": "execute_result"
    }
   ],
   "source": [
    "%%time\n",
    "\n",
    "# instantiate the model\n",
    "svm_vec = SVC(kernel='linear')\n",
    "\n",
    "# fit to the training set\n",
    "svm_vec.fit(X_train_vec, y_train)"
   ]
  },
  {
   "cell_type": "code",
   "execution_count": 37,
   "metadata": {},
   "outputs": [
    {
     "name": "stdout",
     "output_type": "stream",
     "text": [
      "-----TRAIN-----\n",
      "Accuracy: 0.9686166971358927\n",
      "F1 score: 0.9685752094288665\n",
      "\n",
      "-----TEST-----\n",
      "Accuracy: 0.6261425959780622\n",
      "F1 score: 0.6247558000810909\n",
      "\n",
      "----------------------------------------------------------------------------------------------------\n",
      "\n",
      "              precision    recall  f1-score   support\n",
      "\n",
      "metropolitan       0.54      0.44      0.48       241\n",
      " avant_garde       0.58      0.61      0.60       273\n",
      "      modern       0.57      0.67      0.62       320\n",
      "    pre_1900       0.82      0.77      0.80       260\n",
      "\n",
      "    accuracy                           0.63      1094\n",
      "   macro avg       0.63      0.62      0.62      1094\n",
      "weighted avg       0.63      0.63      0.62      1094\n",
      "\n",
      "\n",
      "----------------------------------------------------------------------------------------------------\n",
      "\n",
      "CONFUSION MATRIX:\n",
      "\n",
      "[[105  68  62   6]\n",
      " [ 41 167  55  10]\n",
      " [ 38  42 213  27]\n",
      " [  9   9  42 200]]\n",
      "CPU times: user 9min 49s, sys: 2.07 s, total: 9min 51s\n",
      "Wall time: 9min 53s\n"
     ]
    }
   ],
   "source": [
    "%%time\n",
    "\n",
    "# predict class for the train and test sets\n",
    "y_train_preds_svm_vec = svm_vec.predict(X_train_vec)\n",
    "y_test_preds_svm_vec = svm_vec.predict(X_test_vec)\n",
    "\n",
    "# print out accuracy and f1 scores for train set\n",
    "svm_vec_acc_train = accuracy_score(y_train, y_train_preds_svm_vec)\n",
    "svm_vec_f1_train = f1_score(y_train, y_train_preds_svm_vec, average='weighted')\n",
    "\n",
    "print('-----TRAIN-----')\n",
    "print(f'Accuracy: {svm_vec_acc_train}')\n",
    "print(f'F1 score: {svm_vec_f1_train}')\n",
    "\n",
    "# print out accuracy and f1 scores for test set\n",
    "svm_vec_acc_test = accuracy_score(y_test, y_test_preds_svm_vec)\n",
    "svm_vec_f1_test = f1_score(y_test, y_test_preds_svm_vec, average='weighted')\n",
    "\n",
    "print('\\n-----TEST-----')\n",
    "print(f'Accuracy: {svm_vec_acc_test}')\n",
    "print(f'F1 score: {svm_vec_f1_test}')\n",
    "\n",
    "print('\\n' + '-' * 100 + '\\n')\n",
    "\n",
    "# print out report for test predictions\n",
    "print(classification_report(y_test, y_test_preds_svm_vec, target_names=list(y.unique())))\n",
    "\n",
    "print('\\n' + '-' * 100 + '\\n')\n",
    "\n",
    "# print out confusion matrix\n",
    "print(\"CONFUSION MATRIX:\\n\")\n",
    "print(confusion_matrix(y_test, y_test_preds_svm_vec))"
   ]
  },
  {
   "cell_type": "markdown",
   "metadata": {},
   "source": [
    "### Feature importances\n",
    "- **Code credit: 'https://stackoverflow.com/questions/41592661/determining-the-most-contributing-features-for-svm-classifier-in-sklearn'**"
   ]
  },
  {
   "cell_type": "code",
   "execution_count": 85,
   "metadata": {},
   "outputs": [
    {
     "data": {
      "image/png": "[encoded data removed]",
      "text/plain": [
       "<Figure size 360x576 with 1 Axes>"
      ]
     },
     "metadata": {},
     "output_type": "display_data"
    }
   ],
   "source": [
    "# prettify graph\n",
    "plt.figure(figsize=(5,8))\n",
    "plt.title('Feature Importances\\nSVM Vector Only Model', fontsize=20, pad=15)\n",
    "plt.xlabel('Coefficient (absolute value)', fontsize=15, labelpad=10)\n",
    "\n",
    "# plot top ten features\n",
    "pd.Series(abs(svm_vec.coef_[0]), index=X_train_vec.columns).nlargest(10).plot(kind='barh');"
   ]
  },
  {
   "cell_type": "markdown",
   "metadata": {},
   "source": [
    "- **Quite a bump! very overfit, but I'll see if it works any better with our combo dataframes.**\n",
    "\n",
    "## SVM - vectors + numerical data"
   ]
  },
  {
   "cell_type": "code",
   "execution_count": 38,
   "metadata": {},
   "outputs": [
    {
     "name": "stdout",
     "output_type": "stream",
     "text": [
      "CPU times: user 9min 39s, sys: 2.77 s, total: 9min 42s\n",
      "Wall time: 9min 43s\n"
     ]
    },
    {
     "data": {
      "text/plain": [
       "SVC(C=1.0, break_ties=False, cache_size=200, class_weight=None, coef0=0.0,\n",
       "    decision_function_shape='ovr', degree=3, gamma='scale', kernel='linear',\n",
       "    max_iter=-1, probability=False, random_state=None, shrinking=True,\n",
       "    tol=0.001, verbose=False)"
      ]
     },
     "execution_count": 38,
     "metadata": {},
     "output_type": "execute_result"
    }
   ],
   "source": [
    "%%time\n",
    "\n",
    "# instantiate the model\n",
    "svm_combo = SVC(kernel='linear')\n",
    "\n",
    "# fit to the training set\n",
    "svm_combo.fit(X_train_combo, y_train)"
   ]
  },
  {
   "cell_type": "code",
   "execution_count": 39,
   "metadata": {},
   "outputs": [
    {
     "name": "stdout",
     "output_type": "stream",
     "text": [
      "-----TRAIN-----\n",
      "Accuracy: 0.9573430834856794\n",
      "F1 score: 0.9572124926829236\n",
      "\n",
      "-----TEST-----\n",
      "Accuracy: 0.6755027422303473\n",
      "F1 score: 0.6752703596917183\n",
      "\n",
      "----------------------------------------------------------------------------------------------------\n",
      "\n",
      "              precision    recall  f1-score   support\n",
      "\n",
      "metropolitan       0.68      0.59      0.63       241\n",
      " avant_garde       0.63      0.63      0.63       273\n",
      "      modern       0.61      0.66      0.63       320\n",
      "    pre_1900       0.81      0.82      0.81       260\n",
      "\n",
      "    accuracy                           0.68      1094\n",
      "   macro avg       0.68      0.68      0.68      1094\n",
      "weighted avg       0.68      0.68      0.68      1094\n",
      "\n",
      "\n",
      "----------------------------------------------------------------------------------------------------\n",
      "\n",
      "CONFUSION MATRIX:\n",
      "\n",
      "[[142  53  42   4]\n",
      " [ 29 173  60  11]\n",
      " [ 30  43 212  35]\n",
      " [  9   5  34 212]]\n",
      "CPU times: user 10min 15s, sys: 2.9 s, total: 10min 18s\n",
      "Wall time: 10min 19s\n"
     ]
    }
   ],
   "source": [
    "%%time\n",
    "\n",
    "# predict class for the train and test sets\n",
    "y_train_preds_svm_combo = svm_combo.predict(X_train_combo)\n",
    "y_test_preds_svm_combo = svm_combo.predict(X_test_combo)\n",
    "\n",
    "# print out accuracy and f1 scores for train set\n",
    "svm_combo_acc_train = accuracy_score(y_train, y_train_preds_svm_combo)\n",
    "svm_combo_f1_train = f1_score(y_train, y_train_preds_svm_combo, average='weighted')\n",
    "\n",
    "print('-----TRAIN-----')\n",
    "print(f'Accuracy: {svm_combo_acc_train}')\n",
    "print(f'F1 score: {svm_combo_f1_train}')\n",
    "\n",
    "# print out accuracy and f1 scores for test set\n",
    "svm_combo_acc_test = accuracy_score(y_test, y_test_preds_svm_combo)\n",
    "svm_combo_f1_test = f1_score(y_test, y_test_preds_svm_combo, average='weighted')\n",
    "\n",
    "print('\\n-----TEST-----')\n",
    "print(f'Accuracy: {svm_combo_acc_test}')\n",
    "print(f'F1 score: {svm_combo_f1_test}')\n",
    "\n",
    "print('\\n' + '-' * 100 + '\\n')\n",
    "\n",
    "# print out report for test predictions\n",
    "print(classification_report(y_test, y_test_preds_svm_combo, target_names=list(y.unique())))\n",
    "\n",
    "print('\\n' + '-' * 100 + '\\n')\n",
    "\n",
    "# print out confusion matrix\n",
    "print(\"CONFUSION MATRIX:\\n\")\n",
    "print(confusion_matrix(y_test, y_test_preds_svm_combo))"
   ]
  },
  {
   "cell_type": "markdown",
   "metadata": {},
   "source": [
    "### Confusion matrix visualization"
   ]
  },
  {
   "cell_type": "code",
   "execution_count": 69,
   "metadata": {},
   "outputs": [
    {
     "data": {
      "image/png": "[encoded data removed]",
      "text/plain": [
       "<Figure size 576x432 with 2 Axes>"
      ]
     },
     "metadata": {},
     "output_type": "display_data"
    }
   ],
   "source": [
    "cm = confusion_matrix(y_test, y_test_preds_svm_combo)\n",
    "classes = ['Metropolitan', 'Avant-Garde', 'Modern', 'Pre-1900']\n",
    "\n",
    "plt.figure(figsize=(8,6))\n",
    "plot_confusion_matrix(cm, classes,\n",
    "                          normalize=True,\n",
    "                          title='SVM confusion matrix',\n",
    "                          cmap=plt.cm.Blues);"
   ]
  },
  {
   "cell_type": "markdown",
   "metadata": {},
   "source": [
    "- **Still overfit but nearly a 10% increase in the test predictions!**\n",
    "\n",
    "### Feature importances"
   ]
  },
  {
   "cell_type": "code",
   "execution_count": 86,
   "metadata": {},
   "outputs": [
    {
     "data": {
      "image/png": "[encoded data removed]",
      "text/plain": [
       "<Figure size 360x576 with 1 Axes>"
      ]
     },
     "metadata": {},
     "output_type": "display_data"
    }
   ],
   "source": [
    "# prettify graph\n",
    "plt.figure(figsize=(5,8))\n",
    "plt.title('Feature Importances\\nSVM Combo Model', fontsize=20, pad=15)\n",
    "plt.xlabel('Coefficient (absolute value)', fontsize=15, labelpad=10)\n",
    "\n",
    "# plot top ten features\n",
    "pd.Series(abs(svm_combo.coef_[0]), index=X_train_combo.columns).nlargest(10).plot(kind='barh');"
   ]
  },
  {
   "cell_type": "markdown",
   "metadata": {},
   "source": [
    "- **Mostly surprising words, other than maybe 'get', which was a top 5 frequent word.**\n",
    "- **Nice to see an engineered feature in the top spot.**\n",
    "\n",
    "### Changing C value and class weight."
   ]
  },
  {
   "cell_type": "code",
   "execution_count": 40,
   "metadata": {},
   "outputs": [
    {
     "name": "stdout",
     "output_type": "stream",
     "text": [
      "CPU times: user 10min 53s, sys: 2.79 s, total: 10min 56s\n",
      "Wall time: 10min 57s\n"
     ]
    },
    {
     "data": {
      "text/plain": [
       "SVC(C=2, break_ties=False, cache_size=200, class_weight='balanced', coef0=0.0,\n",
       "    decision_function_shape='ovr', degree=3, gamma='scale', kernel='linear',\n",
       "    max_iter=-1, probability=False, random_state=None, shrinking=True,\n",
       "    tol=0.001, verbose=False)"
      ]
     },
     "execution_count": 40,
     "metadata": {},
     "output_type": "execute_result"
    }
   ],
   "source": [
    "%%time\n",
    "\n",
    "# instantiate the model\n",
    "svm_combo2 = SVC(C=2, kernel='linear', class_weight='balanced')\n",
    "\n",
    "# fit to the training set\n",
    "svm_combo2.fit(X_train_combo, y_train)"
   ]
  },
  {
   "cell_type": "code",
   "execution_count": 41,
   "metadata": {},
   "outputs": [
    {
     "name": "stdout",
     "output_type": "stream",
     "text": [
      "-----TRAIN-----\n",
      "Accuracy: 0.9951249238269348\n",
      "F1 score: 0.9951215811379879\n",
      "\n",
      "-----TEST-----\n",
      "Accuracy: 0.6782449725776966\n",
      "F1 score: 0.6782315773457501\n",
      "\n",
      "----------------------------------------------------------------------------------------------------\n",
      "\n",
      "              precision    recall  f1-score   support\n",
      "\n",
      "metropolitan       0.63      0.60      0.62       241\n",
      " avant_garde       0.62      0.65      0.64       273\n",
      "      modern       0.64      0.64      0.64       320\n",
      "    pre_1900       0.83      0.83      0.83       260\n",
      "\n",
      "    accuracy                           0.68      1094\n",
      "   macro avg       0.68      0.68      0.68      1094\n",
      "weighted avg       0.68      0.68      0.68      1094\n",
      "\n",
      "\n",
      "----------------------------------------------------------------------------------------------------\n",
      "\n",
      "CONFUSION MATRIX:\n",
      "\n",
      "[[145  52  41   3]\n",
      " [ 38 177  47  11]\n",
      " [ 39  46 205  30]\n",
      " [  8   9  28 215]]\n",
      "CPU times: user 10min 12s, sys: 2.85 s, total: 10min 15s\n",
      "Wall time: 10min 16s\n"
     ]
    }
   ],
   "source": [
    "%%time\n",
    "\n",
    "# predict class for the train and test sets\n",
    "y_train_preds_svm_combo2 = svm_combo2.predict(X_train_combo)\n",
    "y_test_preds_svm_combo2 = svm_combo2.predict(X_test_combo)\n",
    "\n",
    "# print out accuracy and f1 scores for train set\n",
    "svm_combo_acc_train2 = accuracy_score(y_train, y_train_preds_svm_combo2)\n",
    "svm_combo_f1_train2 = f1_score(y_train, y_train_preds_svm_combo2, average='weighted')\n",
    "\n",
    "print('-----TRAIN-----')\n",
    "print(f'Accuracy: {svm_combo_acc_train2}')\n",
    "print(f'F1 score: {svm_combo_f1_train2}')\n",
    "\n",
    "# print out accuracy and f1 scores for test set\n",
    "svm_combo_acc_test2 = accuracy_score(y_test, y_test_preds_svm_combo2)\n",
    "svm_combo_f1_test2 = f1_score(y_test, y_test_preds_svm_combo2, average='weighted')\n",
    "\n",
    "print('\\n-----TEST-----')\n",
    "print(f'Accuracy: {svm_combo_acc_test2}')\n",
    "print(f'F1 score: {svm_combo_f1_test2}')\n",
    "\n",
    "print('\\n' + '-' * 100 + '\\n')\n",
    "\n",
    "# print out report for test predictions\n",
    "print(classification_report(y_test, y_test_preds_svm_combo2, target_names=list(y.unique())))\n",
    "\n",
    "print('\\n' + '-' * 100 + '\\n')\n",
    "\n",
    "# print out confusion matrix\n",
    "print(\"CONFUSION MATRIX:\\n\")\n",
    "print(confusion_matrix(y_test, y_test_preds_svm_combo2))"
   ]
  },
  {
   "cell_type": "markdown",
   "metadata": {},
   "source": [
    "### Confusion matrix visualization"
   ]
  },
  {
   "cell_type": "code",
   "execution_count": 90,
   "metadata": {},
   "outputs": [
    {
     "data": {
      "image/png": "[encoded data removed]",
      "text/plain": [
       "<Figure size 576x432 with 2 Axes>"
      ]
     },
     "metadata": {},
     "output_type": "display_data"
    }
   ],
   "source": [
    "cm = confusion_matrix(y_test, y_test_preds_svm_combo2)\n",
    "classes = ['Metropolitan', 'Avant-Garde', 'Modern', 'Pre-1900']\n",
    "\n",
    "plt.figure(figsize=(8,6))\n",
    "plot_confusion_matrix(cm, classes,\n",
    "                          normalize=True,\n",
    "                          title='SVM confusion matrix',\n",
    "                          cmap=plt.cm.Blues);"
   ]
  },
  {
   "cell_type": "markdown",
   "metadata": {},
   "source": [
    "### Feature importances"
   ]
  },
  {
   "cell_type": "code",
   "execution_count": 87,
   "metadata": {},
   "outputs": [
    {
     "data": {
      "image/png": "[encoded data removed]",
      "text/plain": [
       "<Figure size 360x576 with 1 Axes>"
      ]
     },
     "metadata": {},
     "output_type": "display_data"
    }
   ],
   "source": [
    "# prettify graph\n",
    "plt.figure(figsize=(5,8))\n",
    "plt.title('Feature Importances\\nSVM Combo Model', fontsize=20, pad=15)\n",
    "plt.xlabel('Coefficient (absolute value)', fontsize=15, labelpad=10)\n",
    "\n",
    "# plot top ten features\n",
    "pd.Series(abs(svm_combo2.coef_[0]), index=X_train_combo.columns).nlargest(10).plot(kind='barh');"
   ]
  },
  {
   "cell_type": "markdown",
   "metadata": {},
   "source": [
    "- **The number of words per line dropped down, but still in the top ten.**\n",
    "\n",
    "# Modeling conclusions\n",
    "- **Form/structure is important for prediction (especially Random Forest models).**\n",
    "    - **Further exploration desired:**\n",
    "        - **Other types of rhyme**\n",
    "        - **Use of line breaks, tabs, and spacing**\n",
    "        - **Topic modeling**\n",
    "- **SVM relies mostly on vocabulary.**\n",
    "    - **Further exploration desired:**\n",
    "        - **Word embeddings (self-trained and pre-trained)**\n",
    "        - **POS tagging**\n",
    "- **SVM is the best model!**"
   ]
  },
  {
   "cell_type": "code",
   "execution_count": 5,
   "metadata": {},
   "outputs": [],
   "source": [
    "# rec system libraries\n",
    "from gensim.models.doc2vec import Doc2Vec, TaggedDocument\n",
    "from gensim import matutils, models\n",
    "from gensim.utils import simple_preprocess"
   ]
  },
  {
   "cell_type": "code",
   "execution_count": 6,
   "metadata": {},
   "outputs": [],
   "source": [
    "# load the model\n",
    "model = Doc2Vec.load('data/doc2vec.model')"
   ]
  },
  {
   "cell_type": "code",
   "execution_count": 7,
   "metadata": {},
   "outputs": [
    {
     "data": {
      "text/html": [
       "<div>\n",
       "<style scoped>\n",
       "    .dataframe tbody tr th:only-of-type {\n",
       "        vertical-align: middle;\n",
       "    }\n",
       "\n",
       "    .dataframe tbody tr th {\n",
       "        vertical-align: top;\n",
       "    }\n",
       "\n",
       "    .dataframe thead th {\n",
       "        text-align: right;\n",
       "    }\n",
       "</style>\n",
       "<table border=\"1\" class=\"dataframe\">\n",
       "  <thead>\n",
       "    <tr style=\"text-align: right;\">\n",
       "      <th></th>\n",
       "      <th>0</th>\n",
       "      <th>1</th>\n",
       "      <th>2</th>\n",
       "      <th>3</th>\n",
       "      <th>4</th>\n",
       "      <th>5</th>\n",
       "      <th>6</th>\n",
       "      <th>7</th>\n",
       "      <th>8</th>\n",
       "      <th>9</th>\n",
       "      <th>...</th>\n",
       "      <th>90</th>\n",
       "      <th>91</th>\n",
       "      <th>92</th>\n",
       "      <th>93</th>\n",
       "      <th>94</th>\n",
       "      <th>95</th>\n",
       "      <th>96</th>\n",
       "      <th>97</th>\n",
       "      <th>98</th>\n",
       "      <th>99</th>\n",
       "    </tr>\n",
       "  </thead>\n",
       "  <tbody>\n",
       "    <tr>\n",
       "      <th>0</th>\n",
       "      <td>2.281032</td>\n",
       "      <td>-1.371374</td>\n",
       "      <td>-2.219669</td>\n",
       "      <td>-5.061576</td>\n",
       "      <td>0.386490</td>\n",
       "      <td>0.416657</td>\n",
       "      <td>1.340641</td>\n",
       "      <td>-1.559786</td>\n",
       "      <td>-0.314123</td>\n",
       "      <td>-0.465764</td>\n",
       "      <td>...</td>\n",
       "      <td>0.914341</td>\n",
       "      <td>-0.042474</td>\n",
       "      <td>-1.413320</td>\n",
       "      <td>3.378504</td>\n",
       "      <td>-0.387815</td>\n",
       "      <td>-0.327874</td>\n",
       "      <td>-0.029154</td>\n",
       "      <td>1.119749</td>\n",
       "      <td>2.482635</td>\n",
       "      <td>-2.202907</td>\n",
       "    </tr>\n",
       "    <tr>\n",
       "      <th>1</th>\n",
       "      <td>2.165715</td>\n",
       "      <td>-2.016965</td>\n",
       "      <td>2.226701</td>\n",
       "      <td>-2.056287</td>\n",
       "      <td>-1.533702</td>\n",
       "      <td>-3.544704</td>\n",
       "      <td>0.543327</td>\n",
       "      <td>1.436396</td>\n",
       "      <td>-3.013705</td>\n",
       "      <td>1.920722</td>\n",
       "      <td>...</td>\n",
       "      <td>-2.519491</td>\n",
       "      <td>-1.564618</td>\n",
       "      <td>2.388425</td>\n",
       "      <td>-3.334627</td>\n",
       "      <td>-2.866033</td>\n",
       "      <td>2.925122</td>\n",
       "      <td>-1.246679</td>\n",
       "      <td>0.222634</td>\n",
       "      <td>-2.713806</td>\n",
       "      <td>-0.705287</td>\n",
       "    </tr>\n",
       "    <tr>\n",
       "      <th>2</th>\n",
       "      <td>-0.847129</td>\n",
       "      <td>-3.568497</td>\n",
       "      <td>1.766024</td>\n",
       "      <td>-0.707587</td>\n",
       "      <td>0.187867</td>\n",
       "      <td>-2.000093</td>\n",
       "      <td>3.521604</td>\n",
       "      <td>1.828169</td>\n",
       "      <td>3.784910</td>\n",
       "      <td>1.779436</td>\n",
       "      <td>...</td>\n",
       "      <td>-1.003638</td>\n",
       "      <td>1.122231</td>\n",
       "      <td>3.063076</td>\n",
       "      <td>-0.517507</td>\n",
       "      <td>-0.472288</td>\n",
       "      <td>1.351467</td>\n",
       "      <td>-1.488940</td>\n",
       "      <td>1.042941</td>\n",
       "      <td>0.121341</td>\n",
       "      <td>0.073162</td>\n",
       "    </tr>\n",
       "    <tr>\n",
       "      <th>3</th>\n",
       "      <td>-5.168643</td>\n",
       "      <td>-1.855756</td>\n",
       "      <td>1.614694</td>\n",
       "      <td>-3.894295</td>\n",
       "      <td>1.665820</td>\n",
       "      <td>-0.192984</td>\n",
       "      <td>1.739079</td>\n",
       "      <td>-1.540190</td>\n",
       "      <td>3.028075</td>\n",
       "      <td>0.379881</td>\n",
       "      <td>...</td>\n",
       "      <td>-0.311557</td>\n",
       "      <td>-3.424692</td>\n",
       "      <td>0.067995</td>\n",
       "      <td>3.414546</td>\n",
       "      <td>0.398550</td>\n",
       "      <td>-0.784360</td>\n",
       "      <td>-2.558453</td>\n",
       "      <td>3.444434</td>\n",
       "      <td>-1.373973</td>\n",
       "      <td>-2.202393</td>\n",
       "    </tr>\n",
       "    <tr>\n",
       "      <th>4</th>\n",
       "      <td>-1.217890</td>\n",
       "      <td>1.304392</td>\n",
       "      <td>-2.843359</td>\n",
       "      <td>-2.121003</td>\n",
       "      <td>3.023178</td>\n",
       "      <td>0.678201</td>\n",
       "      <td>2.796248</td>\n",
       "      <td>2.665455</td>\n",
       "      <td>2.253521</td>\n",
       "      <td>2.352766</td>\n",
       "      <td>...</td>\n",
       "      <td>-0.483795</td>\n",
       "      <td>1.881845</td>\n",
       "      <td>-1.505026</td>\n",
       "      <td>-1.484471</td>\n",
       "      <td>-2.559262</td>\n",
       "      <td>-1.319453</td>\n",
       "      <td>-0.751955</td>\n",
       "      <td>2.392272</td>\n",
       "      <td>-0.071207</td>\n",
       "      <td>-1.690263</td>\n",
       "    </tr>\n",
       "  </tbody>\n",
       "</table>\n",
       "<p>5 rows × 100 columns</p>\n",
       "</div>"
      ],
      "text/plain": [
       "         0         1         2         3         4         5         6   \\\n",
       "0  2.281032 -1.371374 -2.219669 -5.061576  0.386490  0.416657  1.340641   \n",
       "1  2.165715 -2.016965  2.226701 -2.056287 -1.533702 -3.544704  0.543327   \n",
       "2 -0.847129 -3.568497  1.766024 -0.707587  0.187867 -2.000093  3.521604   \n",
       "3 -5.168643 -1.855756  1.614694 -3.894295  1.665820 -0.192984  1.739079   \n",
       "4 -1.217890  1.304392 -2.843359 -2.121003  3.023178  0.678201  2.796248   \n",
       "\n",
       "         7         8         9   ...        90        91        92        93  \\\n",
       "0 -1.559786 -0.314123 -0.465764  ...  0.914341 -0.042474 -1.413320  3.378504   \n",
       "1  1.436396 -3.013705  1.920722  ... -2.519491 -1.564618  2.388425 -3.334627   \n",
       "2  1.828169  3.784910  1.779436  ... -1.003638  1.122231  3.063076 -0.517507   \n",
       "3 -1.540190  3.028075  0.379881  ... -0.311557 -3.424692  0.067995  3.414546   \n",
       "4  2.665455  2.253521  2.352766  ... -0.483795  1.881845 -1.505026 -1.484471   \n",
       "\n",
       "         94        95        96        97        98        99  \n",
       "0 -0.387815 -0.327874 -0.029154  1.119749  2.482635 -2.202907  \n",
       "1 -2.866033  2.925122 -1.246679  0.222634 -2.713806 -0.705287  \n",
       "2 -0.472288  1.351467 -1.488940  1.042941  0.121341  0.073162  \n",
       "3  0.398550 -0.784360 -2.558453  3.444434 -1.373973 -2.202393  \n",
       "4 -2.559262 -1.319453 -0.751955  2.392272 -0.071207 -1.690263  \n",
       "\n",
       "[5 rows x 100 columns]"
      ]
     },
     "execution_count": 7,
     "metadata": {},
     "output_type": "execute_result"
    }
   ],
   "source": [
    "df_vecs = pd.DataFrame(np.vstack(model[i] for i in range(len(df))))\n",
    "df_vecs.head()"
   ]
  },
  {
   "cell_type": "code",
   "execution_count": 8,
   "metadata": {},
   "outputs": [],
   "source": [
    "# assign a features dataframe\n",
    "X2 = pd.concat([df[['num_lines', 'avg_len_line', 'sentiment_polarity_score', 'sentiment_subjectivity_score', 'num_end_rhymes', \n",
    "        'avg_syllables_word', 'string_cleaned']], df_vecs], axis=1)\n",
    "# assign a target variable\n",
    "y2 = df['genre']"
   ]
  },
  {
   "cell_type": "code",
   "execution_count": 10,
   "metadata": {},
   "outputs": [
    {
     "data": {
      "text/plain": [
       "(4376, 107)"
      ]
     },
     "execution_count": 10,
     "metadata": {},
     "output_type": "execute_result"
    }
   ],
   "source": [
    "X2.shape"
   ]
  },
  {
   "cell_type": "code",
   "execution_count": 49,
   "metadata": {},
   "outputs": [
    {
     "name": "stdout",
     "output_type": "stream",
     "text": [
      "(3500, 107) (3500,)\n",
      "(876, 107) (876,)\n"
     ]
    }
   ],
   "source": [
    "# train-test split\n",
    "X_train2, X_test2, y_train2, y_test2 = train_test_split(X2, y2, test_size=0.2, stratify=y2, random_state=42)\n",
    "print(X_train2.shape, y_train2.shape)\n",
    "print(X_test2.shape, y_test2.shape)"
   ]
  },
  {
   "cell_type": "code",
   "execution_count": 50,
   "metadata": {},
   "outputs": [],
   "source": [
    "# instantiate the vectorizer\n",
    "vectorizer = TfidfVectorizer()\n",
    "\n",
    "# fit to training data's string_cleaned column and transform train and test sets\n",
    "X_train_vec_matrix = vectorizer.fit_transform(X_train2.string_cleaned)\n",
    "X_test_vec_matrix = vectorizer.transform(X_test2.string_cleaned)"
   ]
  },
  {
   "cell_type": "code",
   "execution_count": 51,
   "metadata": {},
   "outputs": [],
   "source": [
    "# turn our tf-idf vectors into a dataframe so we can better view feature importances\n",
    "X_train_word_vecs = pd.DataFrame.sparse.from_spmatrix(X_train_vec_matrix, index=X_train2.index, columns=vectorizer.get_feature_names())\n",
    "X_test_word_vecs = pd.DataFrame.sparse.from_spmatrix(X_test_vec_matrix, index=X_test2.index, columns=vectorizer.get_feature_names())"
   ]
  },
  {
   "cell_type": "code",
   "execution_count": 52,
   "metadata": {},
   "outputs": [
    {
     "data": {
      "text/html": [
       "<div>\n",
       "<style scoped>\n",
       "    .dataframe tbody tr th:only-of-type {\n",
       "        vertical-align: middle;\n",
       "    }\n",
       "\n",
       "    .dataframe tbody tr th {\n",
       "        vertical-align: top;\n",
       "    }\n",
       "\n",
       "    .dataframe thead th {\n",
       "        text-align: right;\n",
       "    }\n",
       "</style>\n",
       "<table border=\"1\" class=\"dataframe\">\n",
       "  <thead>\n",
       "    <tr style=\"text-align: right;\">\n",
       "      <th></th>\n",
       "      <th>num_lines</th>\n",
       "      <th>avg_len_line</th>\n",
       "      <th>sentiment_polarity_score</th>\n",
       "      <th>sentiment_subjectivity_score</th>\n",
       "      <th>num_end_rhymes</th>\n",
       "      <th>avg_syllables_word</th>\n",
       "      <th>0</th>\n",
       "      <th>1</th>\n",
       "      <th>2</th>\n",
       "      <th>3</th>\n",
       "      <th>...</th>\n",
       "      <th>zuan</th>\n",
       "      <th>zummer</th>\n",
       "      <th>zun</th>\n",
       "      <th>zunbrowned</th>\n",
       "      <th>zunburnt</th>\n",
       "      <th>zunlight</th>\n",
       "      <th>zunny</th>\n",
       "      <th>zuns</th>\n",
       "      <th>zvak</th>\n",
       "      <th>zwim</th>\n",
       "    </tr>\n",
       "  </thead>\n",
       "  <tbody>\n",
       "    <tr>\n",
       "      <th>885</th>\n",
       "      <td>0.146067</td>\n",
       "      <td>0.616883</td>\n",
       "      <td>0.033702</td>\n",
       "      <td>0.298765</td>\n",
       "      <td>0.04</td>\n",
       "      <td>0.287740</td>\n",
       "      <td>-2.113612</td>\n",
       "      <td>-6.711658</td>\n",
       "      <td>4.455547</td>\n",
       "      <td>-1.955373</td>\n",
       "      <td>...</td>\n",
       "      <td>0.0</td>\n",
       "      <td>0.0</td>\n",
       "      <td>0.0</td>\n",
       "      <td>0.0</td>\n",
       "      <td>0.0</td>\n",
       "      <td>0.0</td>\n",
       "      <td>0.0</td>\n",
       "      <td>0.0</td>\n",
       "      <td>0.0</td>\n",
       "      <td>0.0</td>\n",
       "    </tr>\n",
       "    <tr>\n",
       "      <th>1516</th>\n",
       "      <td>0.191011</td>\n",
       "      <td>0.595960</td>\n",
       "      <td>0.994550</td>\n",
       "      <td>0.517778</td>\n",
       "      <td>0.02</td>\n",
       "      <td>0.190508</td>\n",
       "      <td>-4.167635</td>\n",
       "      <td>-0.472516</td>\n",
       "      <td>2.176552</td>\n",
       "      <td>-2.669276</td>\n",
       "      <td>...</td>\n",
       "      <td>0.0</td>\n",
       "      <td>0.0</td>\n",
       "      <td>0.0</td>\n",
       "      <td>0.0</td>\n",
       "      <td>0.0</td>\n",
       "      <td>0.0</td>\n",
       "      <td>0.0</td>\n",
       "      <td>0.0</td>\n",
       "      <td>0.0</td>\n",
       "      <td>0.0</td>\n",
       "    </tr>\n",
       "    <tr>\n",
       "      <th>1494</th>\n",
       "      <td>0.078652</td>\n",
       "      <td>0.659091</td>\n",
       "      <td>0.761288</td>\n",
       "      <td>0.491667</td>\n",
       "      <td>0.06</td>\n",
       "      <td>0.206612</td>\n",
       "      <td>-3.980605</td>\n",
       "      <td>-3.923287</td>\n",
       "      <td>0.072450</td>\n",
       "      <td>1.840498</td>\n",
       "      <td>...</td>\n",
       "      <td>0.0</td>\n",
       "      <td>0.0</td>\n",
       "      <td>0.0</td>\n",
       "      <td>0.0</td>\n",
       "      <td>0.0</td>\n",
       "      <td>0.0</td>\n",
       "      <td>0.0</td>\n",
       "      <td>0.0</td>\n",
       "      <td>0.0</td>\n",
       "      <td>0.0</td>\n",
       "    </tr>\n",
       "    <tr>\n",
       "      <th>2522</th>\n",
       "      <td>0.235955</td>\n",
       "      <td>0.334711</td>\n",
       "      <td>0.061703</td>\n",
       "      <td>0.380777</td>\n",
       "      <td>0.06</td>\n",
       "      <td>0.291262</td>\n",
       "      <td>0.660439</td>\n",
       "      <td>-7.628321</td>\n",
       "      <td>-2.207712</td>\n",
       "      <td>-4.674714</td>\n",
       "      <td>...</td>\n",
       "      <td>0.0</td>\n",
       "      <td>0.0</td>\n",
       "      <td>0.0</td>\n",
       "      <td>0.0</td>\n",
       "      <td>0.0</td>\n",
       "      <td>0.0</td>\n",
       "      <td>0.0</td>\n",
       "      <td>0.0</td>\n",
       "      <td>0.0</td>\n",
       "      <td>0.0</td>\n",
       "    </tr>\n",
       "    <tr>\n",
       "      <th>866</th>\n",
       "      <td>0.213483</td>\n",
       "      <td>0.450000</td>\n",
       "      <td>0.755288</td>\n",
       "      <td>0.413426</td>\n",
       "      <td>0.20</td>\n",
       "      <td>0.275019</td>\n",
       "      <td>-0.374617</td>\n",
       "      <td>-1.891370</td>\n",
       "      <td>-0.395864</td>\n",
       "      <td>-3.685226</td>\n",
       "      <td>...</td>\n",
       "      <td>0.0</td>\n",
       "      <td>0.0</td>\n",
       "      <td>0.0</td>\n",
       "      <td>0.0</td>\n",
       "      <td>0.0</td>\n",
       "      <td>0.0</td>\n",
       "      <td>0.0</td>\n",
       "      <td>0.0</td>\n",
       "      <td>0.0</td>\n",
       "      <td>0.0</td>\n",
       "    </tr>\n",
       "  </tbody>\n",
       "</table>\n",
       "<p>5 rows × 28385 columns</p>\n",
       "</div>"
      ],
      "text/plain": [
       "      num_lines  avg_len_line  sentiment_polarity_score  \\\n",
       "885    0.146067      0.616883                  0.033702   \n",
       "1516   0.191011      0.595960                  0.994550   \n",
       "1494   0.078652      0.659091                  0.761288   \n",
       "2522   0.235955      0.334711                  0.061703   \n",
       "866    0.213483      0.450000                  0.755288   \n",
       "\n",
       "      sentiment_subjectivity_score  num_end_rhymes  avg_syllables_word  \\\n",
       "885                       0.298765            0.04            0.287740   \n",
       "1516                      0.517778            0.02            0.190508   \n",
       "1494                      0.491667            0.06            0.206612   \n",
       "2522                      0.380777            0.06            0.291262   \n",
       "866                       0.413426            0.20            0.275019   \n",
       "\n",
       "             0         1         2         3  ...  zuan  zummer  zun  \\\n",
       "885  -2.113612 -6.711658  4.455547 -1.955373  ...   0.0     0.0  0.0   \n",
       "1516 -4.167635 -0.472516  2.176552 -2.669276  ...   0.0     0.0  0.0   \n",
       "1494 -3.980605 -3.923287  0.072450  1.840498  ...   0.0     0.0  0.0   \n",
       "2522  0.660439 -7.628321 -2.207712 -4.674714  ...   0.0     0.0  0.0   \n",
       "866  -0.374617 -1.891370 -0.395864 -3.685226  ...   0.0     0.0  0.0   \n",
       "\n",
       "      zunbrowned  zunburnt  zunlight  zunny  zuns  zvak  zwim  \n",
       "885          0.0       0.0       0.0    0.0   0.0   0.0   0.0  \n",
       "1516         0.0       0.0       0.0    0.0   0.0   0.0   0.0  \n",
       "1494         0.0       0.0       0.0    0.0   0.0   0.0   0.0  \n",
       "2522         0.0       0.0       0.0    0.0   0.0   0.0   0.0  \n",
       "866          0.0       0.0       0.0    0.0   0.0   0.0   0.0  \n",
       "\n",
       "[5 rows x 28385 columns]"
      ]
     },
     "execution_count": 52,
     "metadata": {},
     "output_type": "execute_result"
    }
   ],
   "source": [
    "X_train_ultra.head()"
   ]
  },
  {
   "cell_type": "code",
   "execution_count": 53,
   "metadata": {},
   "outputs": [],
   "source": [
    "# instantiate our scaler\n",
    "scaler = MinMaxScaler()\n",
    "\n",
    "# scale our numerical data\n",
    "X_train_scaled = scaler.fit_transform(X_train2.iloc[:, :6])\n",
    "X_test_scaled = scaler.transform(X_test2.iloc[:, :6])"
   ]
  },
  {
   "cell_type": "code",
   "execution_count": 54,
   "metadata": {},
   "outputs": [],
   "source": [
    "X_train_scaled_df = pd.DataFrame(X_train_scaled, index=X_train2.index, columns=X_train2.iloc[:, :6].columns)\n",
    "X_test_scaled_df = pd.DataFrame(X_test_scaled, index=X_test2.index, columns=X_test2.iloc[:, :6].columns) "
   ]
  },
  {
   "cell_type": "code",
   "execution_count": 55,
   "metadata": {},
   "outputs": [
    {
     "data": {
      "text/html": [
       "<div>\n",
       "<style scoped>\n",
       "    .dataframe tbody tr th:only-of-type {\n",
       "        vertical-align: middle;\n",
       "    }\n",
       "\n",
       "    .dataframe tbody tr th {\n",
       "        vertical-align: top;\n",
       "    }\n",
       "\n",
       "    .dataframe thead th {\n",
       "        text-align: right;\n",
       "    }\n",
       "</style>\n",
       "<table border=\"1\" class=\"dataframe\">\n",
       "  <thead>\n",
       "    <tr style=\"text-align: right;\">\n",
       "      <th></th>\n",
       "      <th>num_lines</th>\n",
       "      <th>avg_len_line</th>\n",
       "      <th>sentiment_polarity_score</th>\n",
       "      <th>sentiment_subjectivity_score</th>\n",
       "      <th>num_end_rhymes</th>\n",
       "      <th>avg_syllables_word</th>\n",
       "    </tr>\n",
       "  </thead>\n",
       "  <tbody>\n",
       "    <tr>\n",
       "      <th>3985</th>\n",
       "      <td>0.820225</td>\n",
       "      <td>0.450860</td>\n",
       "      <td>0.010001</td>\n",
       "      <td>0.433333</td>\n",
       "      <td>0.74</td>\n",
       "      <td>0.132962</td>\n",
       "    </tr>\n",
       "    <tr>\n",
       "      <th>992</th>\n",
       "      <td>0.033708</td>\n",
       "      <td>0.545455</td>\n",
       "      <td>0.499975</td>\n",
       "      <td>0.000000</td>\n",
       "      <td>0.00</td>\n",
       "      <td>0.146104</td>\n",
       "    </tr>\n",
       "    <tr>\n",
       "      <th>1718</th>\n",
       "      <td>0.191011</td>\n",
       "      <td>0.636364</td>\n",
       "      <td>0.883944</td>\n",
       "      <td>0.538492</td>\n",
       "      <td>0.00</td>\n",
       "      <td>0.321970</td>\n",
       "    </tr>\n",
       "    <tr>\n",
       "      <th>1730</th>\n",
       "      <td>0.213483</td>\n",
       "      <td>0.613636</td>\n",
       "      <td>0.071804</td>\n",
       "      <td>0.329202</td>\n",
       "      <td>0.04</td>\n",
       "      <td>0.211144</td>\n",
       "    </tr>\n",
       "    <tr>\n",
       "      <th>1849</th>\n",
       "      <td>0.235955</td>\n",
       "      <td>0.483471</td>\n",
       "      <td>0.424421</td>\n",
       "      <td>0.329167</td>\n",
       "      <td>0.18</td>\n",
       "      <td>0.353172</td>\n",
       "    </tr>\n",
       "  </tbody>\n",
       "</table>\n",
       "</div>"
      ],
      "text/plain": [
       "      num_lines  avg_len_line  sentiment_polarity_score  \\\n",
       "3985   0.820225      0.450860                  0.010001   \n",
       "992    0.033708      0.545455                  0.499975   \n",
       "1718   0.191011      0.636364                  0.883944   \n",
       "1730   0.213483      0.613636                  0.071804   \n",
       "1849   0.235955      0.483471                  0.424421   \n",
       "\n",
       "      sentiment_subjectivity_score  num_end_rhymes  avg_syllables_word  \n",
       "3985                      0.433333            0.74            0.132962  \n",
       "992                       0.000000            0.00            0.146104  \n",
       "1718                      0.538492            0.00            0.321970  \n",
       "1730                      0.329202            0.04            0.211144  \n",
       "1849                      0.329167            0.18            0.353172  "
      ]
     },
     "execution_count": 55,
     "metadata": {},
     "output_type": "execute_result"
    }
   ],
   "source": [
    "X_train_scaled_df.head()"
   ]
  },
  {
   "cell_type": "code",
   "execution_count": 56,
   "metadata": {
    "scrolled": true
   },
   "outputs": [
    {
     "data": {
      "text/plain": [
       "((3500, 29382), (876, 29382))"
      ]
     },
     "execution_count": 56,
     "metadata": {},
     "output_type": "execute_result"
    }
   ],
   "source": [
    "X_train_ultra = pd.concat([X_train_scaled_df, X_train2.iloc[:, 7:], X_train_word_vecs], axis=1)\n",
    "X_test_ultra = pd.concat([X_test_scaled_df, X_test2.iloc[:, 7:], X_test_word_vecs], axis=1)\n",
    "\n",
    "X_train_ultra.shape, X_test_ultra.shape"
   ]
  },
  {
   "cell_type": "code",
   "execution_count": 57,
   "metadata": {},
   "outputs": [
    {
     "name": "stdout",
     "output_type": "stream",
     "text": [
      "CPU times: user 9min 59s, sys: 2.11 s, total: 10min 2s\n",
      "Wall time: 10min 2s\n"
     ]
    },
    {
     "data": {
      "text/plain": [
       "SVC(C=1, break_ties=False, cache_size=200, class_weight='balanced', coef0=0.0,\n",
       "    decision_function_shape='ovr', degree=3, gamma='scale', kernel='linear',\n",
       "    max_iter=-1, probability=False, random_state=None, shrinking=True,\n",
       "    tol=0.001, verbose=False)"
      ]
     },
     "execution_count": 57,
     "metadata": {},
     "output_type": "execute_result"
    }
   ],
   "source": [
    "%%time\n",
    "\n",
    "# instantiate the model\n",
    "svm_doc2vec = SVC(C=1, kernel='linear', class_weight='balanced')\n",
    "\n",
    "# fit to the training set\n",
    "svm_doc2vec.fit(X_train_ultra, y_train2)"
   ]
  },
  {
   "cell_type": "code",
   "execution_count": 58,
   "metadata": {
    "scrolled": true
   },
   "outputs": [
    {
     "name": "stdout",
     "output_type": "stream",
     "text": [
      "-----TRAIN-----\n",
      "Accuracy: 0.9448571428571428\n",
      "F1 score: 0.9447766778789215\n",
      "\n",
      "-----TEST-----\n",
      "Accuracy: 0.7031963470319634\n",
      "F1 score: 0.7023835182309943\n",
      "\n",
      "----------------------------------------------------------------------------------------------------\n",
      "\n",
      "              precision    recall  f1-score   support\n",
      "\n",
      "metropolitan       0.64      0.63      0.64       193\n",
      " avant_garde       0.63      0.65      0.64       219\n",
      "      modern       0.71      0.66      0.68       256\n",
      "    pre_1900       0.83      0.88      0.85       208\n",
      "\n",
      "    accuracy                           0.70       876\n",
      "   macro avg       0.70      0.71      0.70       876\n",
      "weighted avg       0.70      0.70      0.70       876\n",
      "\n",
      "\n",
      "----------------------------------------------------------------------------------------------------\n",
      "\n",
      "CONFUSION MATRIX:\n",
      "\n",
      "[[122  47  21   3]\n",
      " [ 39 143  28   9]\n",
      " [ 27  36 169  24]\n",
      " [  3   2  21 182]]\n",
      "CPU times: user 7min 19s, sys: 1.98 s, total: 7min 21s\n",
      "Wall time: 7min 21s\n"
     ]
    }
   ],
   "source": [
    "%%time\n",
    "\n",
    "# predict class for the train and test sets\n",
    "y_train_preds_svm_doc2vec = svm_doc2vec.predict(X_train_ultra)\n",
    "y_test_preds_svm_doc2vec = svm_doc2vec.predict(X_test_ultra)\n",
    "\n",
    "# print out accuracy and f1 scores for train set\n",
    "svm_doc2vec_acc_train = accuracy_score(y_train2, y_train_preds_svm_doc2vec)\n",
    "svm_doc2vec_f1_train = f1_score(y_train2, y_train_preds_svm_doc2vec, average='weighted')\n",
    "\n",
    "print('-----TRAIN-----')\n",
    "print(f'Accuracy: {svm_doc2vec_acc_train}')\n",
    "print(f'F1 score: {svm_doc2vec_f1_train}')\n",
    "\n",
    "# print out accuracy and f1 scores for test set\n",
    "svm_doc2vec_acc_test = accuracy_score(y_test2, y_test_preds_svm_doc2vec)\n",
    "svm_doc2vec_f1_test = f1_score(y_test2, y_test_preds_svm_doc2vec, average='weighted')\n",
    "\n",
    "print('\\n-----TEST-----')\n",
    "print(f'Accuracy: {svm_doc2vec_acc_test}')\n",
    "print(f'F1 score: {svm_doc2vec_f1_test}')\n",
    "\n",
    "print('\\n' + '-' * 100 + '\\n')\n",
    "\n",
    "# print out report for test predictions\n",
    "print(classification_report(y_test2, y_test_preds_svm_doc2vec, target_names=list(y2.unique())))\n",
    "\n",
    "print('\\n' + '-' * 100 + '\\n')\n",
    "\n",
    "# print out confusion matrix\n",
    "print(\"CONFUSION MATRIX:\\n\")\n",
    "print(confusion_matrix(y_test2, y_test_preds_svm_doc2vec))"
   ]
  },
  {
   "cell_type": "code",
   "execution_count": 59,
   "metadata": {
    "scrolled": false
   },
   "outputs": [
    {
     "data": {
      "image/png": "[encoded data removed]",
      "text/plain": [
       "<Figure size 576x432 with 2 Axes>"
      ]
     },
     "metadata": {
      "needs_background": "light"
     },
     "output_type": "display_data"
    }
   ],
   "source": [
    "cm = confusion_matrix(y_test2, y_test_preds_svm_doc2vec)\n",
    "classes = y2.unique()\n",
    "\n",
    "plt.figure(figsize=(8,6))\n",
    "plot_confusion_matrix(cm, classes,\n",
    "                          normalize=True,\n",
    "                          title='SVM confusion matrix',\n",
    "                          cmap=plt.cm.Blues);"
   ]
  },
  {
   "cell_type": "code",
   "execution_count": 66,
   "metadata": {},
   "outputs": [
    {
     "data": {
      "image/png": "[encoded data removed]",
      "text/plain": [
       "<Figure size 576x432 with 2 Axes>"
      ]
     },
     "metadata": {
      "needs_background": "light"
     },
     "output_type": "display_data"
    }
   ],
   "source": [
    "cm = confusion_matrix(y_test2, y_test_preds_svm_doc2vec)\n",
    "classes = y2.unique()\n",
    "\n",
    "plt.figure(figsize=(8,6))\n",
    "plot_confusion_matrix(cm, classes,\n",
    "                          normalize=False,\n",
    "                          title='SVM confusion matrix',\n",
    "                          cmap=plt.cm.Blues);"
   ]
  },
  {
   "cell_type": "code",
   "execution_count": 60,
   "metadata": {},
   "outputs": [
    {
     "data": {
      "image/png": "[encoded data removed]",
      "text/plain": [
       "<Figure size 360x576 with 1 Axes>"
      ]
     },
     "metadata": {
      "needs_background": "light"
     },
     "output_type": "display_data"
    }
   ],
   "source": [
    "# prettify graph\n",
    "plt.figure(figsize=(5,8))\n",
    "plt.title('Feature Importances\\nSVM Combo Model', fontsize=20, pad=15)\n",
    "plt.xlabel('Coefficient (absolute value)', fontsize=15, labelpad=10)\n",
    "\n",
    "# plot top ten features\n",
    "pd.Series(abs(svm_doc2vec.coef_[0]), index=X_train_ultra.columns).nlargest(10).plot(kind='barh');"
   ]
  },
  {
   "cell_type": "code",
   "execution_count": 77,
   "metadata": {},
   "outputs": [
    {
     "name": "stdout",
     "output_type": "stream",
     "text": [
      "CPU times: user 11min 4s, sys: 3.37 s, total: 11min 7s\n",
      "Wall time: 11min 10s\n"
     ]
    },
    {
     "data": {
      "text/plain": [
       "SVC(C=2, break_ties=False, cache_size=200, class_weight='balanced', coef0=0.0,\n",
       "    decision_function_shape='ovr', degree=3, gamma='scale', kernel='linear',\n",
       "    max_iter=-1, probability=False, random_state=None, shrinking=True,\n",
       "    tol=0.001, verbose=False)"
      ]
     },
     "execution_count": 77,
     "metadata": {},
     "output_type": "execute_result"
    }
   ],
   "source": [
    "%%time\n",
    "\n",
    "# instantiate the model\n",
    "svm_doc2vec_tuned = SVC(C=2, kernel='linear', class_weight='balanced')\n",
    "\n",
    "# fit to the training set\n",
    "svm_doc2vec_tuned.fit(X_train_ultra, y_train2)"
   ]
  },
  {
   "cell_type": "code",
   "execution_count": 78,
   "metadata": {},
   "outputs": [
    {
     "name": "stdout",
     "output_type": "stream",
     "text": [
      "-----TRAIN-----\n",
      "Accuracy: 0.9914285714285714\n",
      "F1 score: 0.991425543556302\n",
      "\n",
      "-----TEST-----\n",
      "Accuracy: 0.70662100456621\n",
      "F1 score: 0.7063850336597071\n",
      "\n",
      "----------------------------------------------------------------------------------------------------\n",
      "\n",
      "              precision    recall  f1-score   support\n",
      "\n",
      "metropolitan       0.64      0.62      0.63       193\n",
      " avant_garde       0.62      0.65      0.63       219\n",
      "      modern       0.72      0.69      0.71       256\n",
      "    pre_1900       0.85      0.87      0.86       208\n",
      "\n",
      "    accuracy                           0.71       876\n",
      "   macro avg       0.71      0.71      0.71       876\n",
      "weighted avg       0.71      0.71      0.71       876\n",
      "\n",
      "\n",
      "----------------------------------------------------------------------------------------------------\n",
      "\n",
      "CONFUSION MATRIX:\n",
      "\n",
      "[[120  49  21   3]\n",
      " [ 41 142  28   8]\n",
      " [ 23  34 177  22]\n",
      " [  4   4  20 180]]\n",
      "CPU times: user 7min 43s, sys: 2.58 s, total: 7min 46s\n",
      "Wall time: 7min 47s\n"
     ]
    }
   ],
   "source": [
    "%%time\n",
    "\n",
    "# predict class for the train and test sets\n",
    "y_train_preds_svm_doc2vec_tuned = svm_doc2vec_tuned.predict(X_train_ultra)\n",
    "y_test_preds_svm_doc2vec_tuned = svm_doc2vec_tuned.predict(X_test_ultra)\n",
    "\n",
    "# print out accuracy and f1 scores for train set\n",
    "svm_doc2vec_tuned_acc_train = accuracy_score(y_train2, y_train_preds_svm_doc2vec_tuned)\n",
    "svm_doc2vec_tuned_f1_train = f1_score(y_train2, y_train_preds_svm_doc2vec_tuned, average='weighted')\n",
    "\n",
    "print('-----TRAIN-----')\n",
    "print(f'Accuracy: {svm_doc2vec_tuned_acc_train}')\n",
    "print(f'F1 score: {svm_doc2vec_tuned_f1_train}')\n",
    "\n",
    "# print out accuracy and f1 scores for test set\n",
    "svm_doc2vec_tuned_acc_test = accuracy_score(y_test2, y_test_preds_svm_doc2vec_tuned)\n",
    "svm_doc2vec_tuned_f1_test = f1_score(y_test2, y_test_preds_svm_doc2vec_tuned, average='weighted')\n",
    "\n",
    "print('\\n-----TEST-----')\n",
    "print(f'Accuracy: {svm_doc2vec_tuned_acc_test}')\n",
    "print(f'F1 score: {svm_doc2vec_tuned_f1_test}')\n",
    "\n",
    "print('\\n' + '-' * 100 + '\\n')\n",
    "\n",
    "# print out report for test predictions\n",
    "print(classification_report(y_test2, y_test_preds_svm_doc2vec_tuned, target_names=list(y2.unique())))\n",
    "\n",
    "print('\\n' + '-' * 100 + '\\n')\n",
    "\n",
    "# print out confusion matrix\n",
    "print(\"CONFUSION MATRIX:\\n\")\n",
    "print(confusion_matrix(y_test2, y_test_preds_svm_doc2vec_tuned))"
   ]
  },
  {
   "cell_type": "code",
   "execution_count": 79,
   "metadata": {},
   "outputs": [
    {
     "data": {
      "image/png": "[encoded data removed]",
      "text/plain": [
       "<Figure size 576x432 with 2 Axes>"
      ]
     },
     "metadata": {
      "needs_background": "light"
     },
     "output_type": "display_data"
    }
   ],
   "source": [
    "cm = confusion_matrix(y_test2, y_test_preds_svm_doc2vec_tuned)\n",
    "classes = y2.unique()\n",
    "\n",
    "plt.figure(figsize=(8,6))\n",
    "plot_confusion_matrix(cm, classes,\n",
    "                          normalize=True,\n",
    "                          title='SVM confusion matrix',\n",
    "                          cmap=plt.cm.Blues);"
   ]
  },
  {
   "cell_type": "code",
   "execution_count": 80,
   "metadata": {},
   "outputs": [
    {
     "data": {
      "image/png": "[encoded data removed]",
      "text/plain": [
       "<Figure size 576x432 with 2 Axes>"
      ]
     },
     "metadata": {
      "needs_background": "light"
     },
     "output_type": "display_data"
    }
   ],
   "source": [
    "cm = confusion_matrix(y_test2, y_test_preds_svm_doc2vec_tuned)\n",
    "classes = y2.unique()\n",
    "\n",
    "plt.figure(figsize=(8,6))\n",
    "plot_confusion_matrix(cm, classes,\n",
    "                          normalize=False,\n",
    "                          title='SVM confusion matrix',\n",
    "                          cmap=plt.cm.Blues);"
   ]
  },
  {
   "cell_type": "code",
   "execution_count": 81,
   "metadata": {
    "scrolled": true
   },
   "outputs": [
    {
     "data": {
      "image/png": "[encoded data removed]",
      "text/plain": [
       "<Figure size 360x576 with 1 Axes>"
      ]
     },
     "metadata": {
      "needs_background": "light"
     },
     "output_type": "display_data"
    }
   ],
   "source": [
    "# prettify graph\n",
    "plt.figure(figsize=(5,8))\n",
    "plt.title('Feature Importances\\nSVM Combo Model', fontsize=20, pad=15)\n",
    "plt.xlabel('Coefficient (absolute value)', fontsize=15, labelpad=10)\n",
    "\n",
    "# plot top ten features\n",
    "pd.Series(abs(svm_doc2vec_tuned.coef_[0]), index=X_train_ultra.columns).nlargest(10).plot(kind='barh');"
   ]
  },
  {
   "cell_type": "code",
   "execution_count": null,
   "metadata": {},
   "outputs": [],
   "source": []
  },
  {
   "cell_type": "code",
   "execution_count": null,
   "metadata": {},
   "outputs": [],
   "source": []
  },
  {
   "cell_type": "code",
   "execution_count": null,
   "metadata": {},
   "outputs": [],
   "source": []
  },
  {
   "cell_type": "code",
   "execution_count": null,
   "metadata": {},
   "outputs": [],
   "source": []
  }
 ],
 "metadata": {
  "kernelspec": {
   "display_name": "Python [conda env:learn-env] *",
   "language": "python",
   "name": "conda-env-learn-env-py"
  },
  "language_info": {
   "codemirror_mode": {
    "name": "ipython",
    "version": 3
   },
   "file_extension": ".py",
   "mimetype": "text/x-python",
   "name": "python",
   "nbconvert_exporter": "python",
   "pygments_lexer": "ipython3",
   "version": "3.6.9"
  }
 },
 "nbformat": 4,
 "nbformat_minor": 2
}
