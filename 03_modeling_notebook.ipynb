{
 "cells": [
  {
   "cell_type": "code",
   "execution_count": 1,
   "metadata": {},
   "outputs": [
    {
     "name": "stderr",
     "output_type": "stream",
     "text": [
      "Using TensorFlow backend.\n",
      "/opt/anaconda3/envs/learn-env/lib/python3.6/site-packages/tensorflow/python/framework/dtypes.py:517: FutureWarning: Passing (type, 1) or '1type' as a synonym of type is deprecated; in a future version of numpy, it will be understood as (type, (1,)) / '(1,)type'.\n",
      "  _np_qint8 = np.dtype([(\"qint8\", np.int8, 1)])\n",
      "/opt/anaconda3/envs/learn-env/lib/python3.6/site-packages/tensorflow/python/framework/dtypes.py:518: FutureWarning: Passing (type, 1) or '1type' as a synonym of type is deprecated; in a future version of numpy, it will be understood as (type, (1,)) / '(1,)type'.\n",
      "  _np_quint8 = np.dtype([(\"quint8\", np.uint8, 1)])\n",
      "/opt/anaconda3/envs/learn-env/lib/python3.6/site-packages/tensorflow/python/framework/dtypes.py:519: FutureWarning: Passing (type, 1) or '1type' as a synonym of type is deprecated; in a future version of numpy, it will be understood as (type, (1,)) / '(1,)type'.\n",
      "  _np_qint16 = np.dtype([(\"qint16\", np.int16, 1)])\n",
      "/opt/anaconda3/envs/learn-env/lib/python3.6/site-packages/tensorflow/python/framework/dtypes.py:520: FutureWarning: Passing (type, 1) or '1type' as a synonym of type is deprecated; in a future version of numpy, it will be understood as (type, (1,)) / '(1,)type'.\n",
      "  _np_quint16 = np.dtype([(\"quint16\", np.uint16, 1)])\n",
      "/opt/anaconda3/envs/learn-env/lib/python3.6/site-packages/tensorflow/python/framework/dtypes.py:521: FutureWarning: Passing (type, 1) or '1type' as a synonym of type is deprecated; in a future version of numpy, it will be understood as (type, (1,)) / '(1,)type'.\n",
      "  _np_qint32 = np.dtype([(\"qint32\", np.int32, 1)])\n",
      "/opt/anaconda3/envs/learn-env/lib/python3.6/site-packages/tensorflow/python/framework/dtypes.py:526: FutureWarning: Passing (type, 1) or '1type' as a synonym of type is deprecated; in a future version of numpy, it will be understood as (type, (1,)) / '(1,)type'.\n",
      "  np_resource = np.dtype([(\"resource\", np.ubyte, 1)])\n"
     ]
    }
   ],
   "source": [
    "# custom functions for this project\n",
    "from functions import *\n",
    "\n",
    "# dataframe libraries\n",
    "import pandas as pd\n",
    "import numpy as np\n",
    "\n",
    "# graphing libraries\n",
    "import matplotlib.pyplot as plt\n",
    "import seaborn as sns; sns.set_style('ticks')\n",
    "from wordcloud import WordCloud\n",
    "\n",
    "# text processing\n",
    "import nltk\n",
    "from nltk import RegexpTokenizer\n",
    "from nltk.corpus import stopwords\n",
    "from nltk.corpus import wordnet\n",
    "from nltk.probability import FreqDist\n",
    "from nltk.stem import WordNetLemmatizer \n",
    "from textblob import TextBlob as tb\n",
    "from vaderSentiment.vaderSentiment import SentimentIntensityAnalyzer\n",
    "from sklearn.feature_extraction.text import TfidfVectorizer\n",
    "from gensim import matutils, models\n",
    "import scipy.sparse\n",
    "import pronouncing\n",
    "\n",
    "# modeling\n",
    "from sklearn.model_selection import train_test_split, cross_val_score\n",
    "from sklearn.preprocessing import MinMaxScaler, StandardScaler, LabelEncoder\n",
    "from sklearn.naive_bayes import MultinomialNB, BernoulliNB\n",
    "from sklearn.ensemble import RandomForestClassifier\n",
    "from sklearn.tree import DecisionTreeClassifier\n",
    "from sklearn.metrics import accuracy_score, f1_score, classification_report, confusion_matrix\n",
    "from sklearn.svm import SVC\n",
    "\n",
    "from keras.models import Sequential\n",
    "from keras.layers import Dense, LSTM, Bidirectional\n",
    "from keras.layers.embeddings import Embedding\n",
    "from keras.preprocessing import sequence\n",
    "\n",
    "# miscellany\n",
    "import re\n",
    "import string\n",
    "from collections import Counter\n",
    "import time\n",
    "import gzip\n",
    "import pickle\n",
    "\n",
    "# reload functions/libraries when edited\n",
    "%load_ext autoreload\n",
    "%autoreload 2\n",
    "\n",
    "# ignore warnings\n",
    "import warnings\n",
    "warnings.filterwarnings('ignore')\n",
    "\n",
    "# increase column width of dataframe\n",
    "pd.set_option('max_colwidth', 150)"
   ]
  },
  {
   "cell_type": "code",
   "execution_count": 2,
   "metadata": {},
   "outputs": [],
   "source": [
    "# uncomment to load\n",
    "with gzip.open('data/poetry_umbrella_genres_df_edit.pkl', 'rb') as hello:\n",
    "    df = pickle.load(hello)"
   ]
  },
  {
   "cell_type": "code",
   "execution_count": 3,
   "metadata": {},
   "outputs": [
    {
     "data": {
      "text/plain": [
       "Index(['poet_url', 'poem_url', 'poet', 'title', 'poem_lines', 'poem_string',\n",
       "       'genre', 'clean_lines', 'num_lines', 'num_words', 'avg_len_line',\n",
       "       'sentiment_polarity_score', 'sentiment_polarity',\n",
       "       'sentiment_subjectivity_score', 'num_end_rhymes', 'end_rhyme_ratio',\n",
       "       'end_rhyme', 'num_syllables', 'avg_syllables_word', 'lines_titled',\n",
       "       'string_titled', 'string_cleaned'],\n",
       "      dtype='object')"
      ]
     },
     "execution_count": 3,
     "metadata": {},
     "output_type": "execute_result"
    }
   ],
   "source": [
    "df.columns"
   ]
  },
  {
   "cell_type": "code",
   "execution_count": 4,
   "metadata": {},
   "outputs": [
    {
     "data": {
      "text/plain": [
       "modern          0.292276\n",
       "metropolitan    0.249543\n",
       "pre_1900        0.237888\n",
       "avant_garde     0.220293\n",
       "Name: genre, dtype: float64"
      ]
     },
     "execution_count": 4,
     "metadata": {},
     "output_type": "execute_result"
    }
   ],
   "source": [
    "df.genre.value_counts(normalize=True)"
   ]
  },
  {
   "cell_type": "code",
   "execution_count": 5,
   "metadata": {},
   "outputs": [],
   "source": [
    "# assign a features dataframe\n",
    "X = df[['num_lines', 'avg_len_line', 'sentiment_polarity_score', 'sentiment_subjectivity_score', 'num_end_rhymes', \n",
    "        'avg_syllables_word', 'string_titled', 'string_cleaned']]\n",
    "# assign a target variable\n",
    "y = df['genre']"
   ]
  },
  {
   "cell_type": "code",
   "execution_count": 6,
   "metadata": {},
   "outputs": [
    {
     "name": "stdout",
     "output_type": "stream",
     "text": [
      "(3282, 8) (3282,)\n",
      "(1094, 8) (1094,)\n"
     ]
    }
   ],
   "source": [
    "# train-test split\n",
    "X_train, X_test, y_train, y_test = train_test_split(X, y, stratify=y, random_state=42)\n",
    "print(X_train.shape, y_train.shape)\n",
    "print(X_test.shape, y_test.shape)"
   ]
  },
  {
   "cell_type": "markdown",
   "metadata": {},
   "source": [
    "## Baseline model -- tf-idf vectors only"
   ]
  },
  {
   "cell_type": "code",
   "execution_count": 7,
   "metadata": {},
   "outputs": [],
   "source": [
    "# instantiate the vectorizer\n",
    "vectorizer = TfidfVectorizer()\n",
    "\n",
    "# fit to training data's string_cleaned column and transform train and test sets\n",
    "X_train_vec_matrix = vectorizer.fit_transform(X_train.string_cleaned)\n",
    "X_test_vec_matrix = vectorizer.transform(X_test.string_cleaned)"
   ]
  },
  {
   "cell_type": "code",
   "execution_count": 8,
   "metadata": {},
   "outputs": [],
   "source": [
    "# turn our tf-idf vectors into a dataframe so we can better view feature importances\n",
    "X_train_vec = pd.DataFrame.sparse.from_spmatrix(X_train_vec_matrix, columns=vectorizer.get_feature_names())\n",
    "X_test_vec = pd.DataFrame.sparse.from_spmatrix(X_test_vec_matrix, columns=vectorizer.get_feature_names())"
   ]
  },
  {
   "cell_type": "code",
   "execution_count": 9,
   "metadata": {},
   "outputs": [
    {
     "name": "stdout",
     "output_type": "stream",
     "text": [
      "CPU times: user 4.17 s, sys: 543 ms, total: 4.71 s\n",
      "Wall time: 4.32 s\n"
     ]
    },
    {
     "data": {
      "text/plain": [
       "BernoulliNB(alpha=1.0, binarize=0.0, class_prior=None, fit_prior=True)"
      ]
     },
     "execution_count": 9,
     "metadata": {},
     "output_type": "execute_result"
    }
   ],
   "source": [
    "%%time\n",
    "\n",
    "# instantiate the naive bayes classifier\n",
    "bnb_baseline_vec = BernoulliNB()\n",
    "\n",
    "# fit it to our training set\n",
    "bnb_baseline_vec.fit(X_train_vec, y_train)"
   ]
  },
  {
   "cell_type": "code",
   "execution_count": 10,
   "metadata": {},
   "outputs": [
    {
     "name": "stdout",
     "output_type": "stream",
     "text": [
      "-----TRAIN-----\n",
      "Accuracy: 0.6066422912858014\n",
      "F1 score: 0.6087765944613979\n",
      "\n",
      "-----TEST-----\n",
      "Accuracy: 0.4670932358318099\n",
      "F1 score: 0.4253300995343577\n",
      "\n",
      "----------------------------------------------------------------------------------------------------\n",
      "\n",
      "              precision    recall  f1-score   support\n",
      "\n",
      "metropolitan       0.61      0.08      0.15       241\n",
      " avant_garde       0.66      0.34      0.45       273\n",
      "      modern       0.37      0.92      0.53       320\n",
      "    pre_1900       0.77      0.41      0.53       260\n",
      "\n",
      "    accuracy                           0.47      1094\n",
      "   macro avg       0.60      0.44      0.41      1094\n",
      "weighted avg       0.59      0.47      0.43      1094\n",
      "\n",
      "\n",
      "----------------------------------------------------------------------------------------------------\n",
      "\n",
      "CONFUSION MATRIX:\n",
      "\n",
      "[[ 20  33 179   9]\n",
      " [ 12  92 160   9]\n",
      " [  1  12 293  14]\n",
      " [  0   3 151 106]]\n",
      "CPU times: user 6.43 s, sys: 774 ms, total: 7.21 s\n",
      "Wall time: 5.98 s\n"
     ]
    }
   ],
   "source": [
    "%%time\n",
    "\n",
    "# predict the new document from the testing dataset\n",
    "y_train_preds_vec = bnb_baseline_vec.predict(X_train_vec)\n",
    "y_test_preds_vec = bnb_baseline_vec.predict(X_test_vec)\n",
    "\n",
    "# print out accuracy and f1 scores for train set\n",
    "bnb_baseline_vec_acc_train = accuracy_score(y_train, y_train_preds_vec)\n",
    "bnb_baseline_vec_f1_train = f1_score(y_train, y_train_preds_vec, average='weighted')\n",
    "\n",
    "print('-----TRAIN-----')\n",
    "print(f'Accuracy: {bnb_baseline_vec_acc_train}')\n",
    "print(f'F1 score: {bnb_baseline_vec_f1_train}')\n",
    "\n",
    "# print out accuracy and f1 scores for test set\n",
    "bnb_baseline_vec_acc_test = accuracy_score(y_test, y_test_preds_vec)\n",
    "bnb_baseline_vec_f1_test = f1_score(y_test, y_test_preds_vec, average='weighted')\n",
    "\n",
    "print('\\n-----TEST-----')\n",
    "print(f'Accuracy: {bnb_baseline_vec_acc_test}')\n",
    "print(f'F1 score: {bnb_baseline_vec_f1_test}')\n",
    "\n",
    "print('\\n' + '-' * 100 + '\\n')\n",
    "\n",
    "# print out report\n",
    "print(classification_report(y_test, y_test_preds_vec, target_names=list(y.unique())))\n",
    "\n",
    "print('\\n' + '-' * 100 + '\\n')\n",
    "\n",
    "# print out confusion matrix\n",
    "print(\"CONFUSION MATRIX:\\n\")\n",
    "print(confusion_matrix(y_test, y_test_preds_vec))"
   ]
  },
  {
   "cell_type": "code",
   "execution_count": 11,
   "metadata": {},
   "outputs": [
    {
     "data": {
      "text/html": [
       "<div>\n",
       "<style scoped>\n",
       "    .dataframe tbody tr th:only-of-type {\n",
       "        vertical-align: middle;\n",
       "    }\n",
       "\n",
       "    .dataframe tbody tr th {\n",
       "        vertical-align: top;\n",
       "    }\n",
       "\n",
       "    .dataframe thead th {\n",
       "        text-align: right;\n",
       "    }\n",
       "</style>\n",
       "<table border=\"1\" class=\"dataframe\">\n",
       "  <thead>\n",
       "    <tr style=\"text-align: right;\">\n",
       "      <th></th>\n",
       "      <th>aaa</th>\n",
       "      <th>aaaall</th>\n",
       "      <th>aalto</th>\n",
       "      <th>aaron</th>\n",
       "      <th>abacus</th>\n",
       "      <th>abandon</th>\n",
       "      <th>abandonment</th>\n",
       "      <th>abase</th>\n",
       "      <th>abash</th>\n",
       "      <th>abate</th>\n",
       "      <th>...</th>\n",
       "      <th>zuan</th>\n",
       "      <th>zummer</th>\n",
       "      <th>zun</th>\n",
       "      <th>zunbrowned</th>\n",
       "      <th>zunburnt</th>\n",
       "      <th>zunlight</th>\n",
       "      <th>zunny</th>\n",
       "      <th>zuns</th>\n",
       "      <th>zvak</th>\n",
       "      <th>zwim</th>\n",
       "    </tr>\n",
       "  </thead>\n",
       "  <tbody>\n",
       "    <tr>\n",
       "      <th>0</th>\n",
       "      <td>0.0</td>\n",
       "      <td>0.0</td>\n",
       "      <td>0.0</td>\n",
       "      <td>0.0</td>\n",
       "      <td>0.0</td>\n",
       "      <td>0.0</td>\n",
       "      <td>0.0</td>\n",
       "      <td>0.0</td>\n",
       "      <td>0.0</td>\n",
       "      <td>0.0</td>\n",
       "      <td>...</td>\n",
       "      <td>0.0</td>\n",
       "      <td>0.0</td>\n",
       "      <td>0.0</td>\n",
       "      <td>0.0</td>\n",
       "      <td>0.0</td>\n",
       "      <td>0.0</td>\n",
       "      <td>0.0</td>\n",
       "      <td>0.0</td>\n",
       "      <td>0.0</td>\n",
       "      <td>0.0</td>\n",
       "    </tr>\n",
       "    <tr>\n",
       "      <th>1</th>\n",
       "      <td>0.0</td>\n",
       "      <td>0.0</td>\n",
       "      <td>0.0</td>\n",
       "      <td>0.0</td>\n",
       "      <td>0.0</td>\n",
       "      <td>0.0</td>\n",
       "      <td>0.0</td>\n",
       "      <td>0.0</td>\n",
       "      <td>0.0</td>\n",
       "      <td>0.0</td>\n",
       "      <td>...</td>\n",
       "      <td>0.0</td>\n",
       "      <td>0.0</td>\n",
       "      <td>0.0</td>\n",
       "      <td>0.0</td>\n",
       "      <td>0.0</td>\n",
       "      <td>0.0</td>\n",
       "      <td>0.0</td>\n",
       "      <td>0.0</td>\n",
       "      <td>0.0</td>\n",
       "      <td>0.0</td>\n",
       "    </tr>\n",
       "    <tr>\n",
       "      <th>2</th>\n",
       "      <td>0.0</td>\n",
       "      <td>0.0</td>\n",
       "      <td>0.0</td>\n",
       "      <td>0.0</td>\n",
       "      <td>0.0</td>\n",
       "      <td>0.0</td>\n",
       "      <td>0.0</td>\n",
       "      <td>0.0</td>\n",
       "      <td>0.0</td>\n",
       "      <td>0.0</td>\n",
       "      <td>...</td>\n",
       "      <td>0.0</td>\n",
       "      <td>0.0</td>\n",
       "      <td>0.0</td>\n",
       "      <td>0.0</td>\n",
       "      <td>0.0</td>\n",
       "      <td>0.0</td>\n",
       "      <td>0.0</td>\n",
       "      <td>0.0</td>\n",
       "      <td>0.0</td>\n",
       "      <td>0.0</td>\n",
       "    </tr>\n",
       "    <tr>\n",
       "      <th>3</th>\n",
       "      <td>0.0</td>\n",
       "      <td>0.0</td>\n",
       "      <td>0.0</td>\n",
       "      <td>0.0</td>\n",
       "      <td>0.0</td>\n",
       "      <td>0.0</td>\n",
       "      <td>0.0</td>\n",
       "      <td>0.0</td>\n",
       "      <td>0.0</td>\n",
       "      <td>0.0</td>\n",
       "      <td>...</td>\n",
       "      <td>0.0</td>\n",
       "      <td>0.0</td>\n",
       "      <td>0.0</td>\n",
       "      <td>0.0</td>\n",
       "      <td>0.0</td>\n",
       "      <td>0.0</td>\n",
       "      <td>0.0</td>\n",
       "      <td>0.0</td>\n",
       "      <td>0.0</td>\n",
       "      <td>0.0</td>\n",
       "    </tr>\n",
       "    <tr>\n",
       "      <th>4</th>\n",
       "      <td>0.0</td>\n",
       "      <td>0.0</td>\n",
       "      <td>0.0</td>\n",
       "      <td>0.0</td>\n",
       "      <td>0.0</td>\n",
       "      <td>0.0</td>\n",
       "      <td>0.0</td>\n",
       "      <td>0.0</td>\n",
       "      <td>0.0</td>\n",
       "      <td>0.0</td>\n",
       "      <td>...</td>\n",
       "      <td>0.0</td>\n",
       "      <td>0.0</td>\n",
       "      <td>0.0</td>\n",
       "      <td>0.0</td>\n",
       "      <td>0.0</td>\n",
       "      <td>0.0</td>\n",
       "      <td>0.0</td>\n",
       "      <td>0.0</td>\n",
       "      <td>0.0</td>\n",
       "      <td>0.0</td>\n",
       "    </tr>\n",
       "    <tr>\n",
       "      <th>...</th>\n",
       "      <td>...</td>\n",
       "      <td>...</td>\n",
       "      <td>...</td>\n",
       "      <td>...</td>\n",
       "      <td>...</td>\n",
       "      <td>...</td>\n",
       "      <td>...</td>\n",
       "      <td>...</td>\n",
       "      <td>...</td>\n",
       "      <td>...</td>\n",
       "      <td>...</td>\n",
       "      <td>...</td>\n",
       "      <td>...</td>\n",
       "      <td>...</td>\n",
       "      <td>...</td>\n",
       "      <td>...</td>\n",
       "      <td>...</td>\n",
       "      <td>...</td>\n",
       "      <td>...</td>\n",
       "      <td>...</td>\n",
       "      <td>...</td>\n",
       "    </tr>\n",
       "    <tr>\n",
       "      <th>3277</th>\n",
       "      <td>0.0</td>\n",
       "      <td>0.0</td>\n",
       "      <td>0.0</td>\n",
       "      <td>0.0</td>\n",
       "      <td>0.0</td>\n",
       "      <td>0.0</td>\n",
       "      <td>0.0</td>\n",
       "      <td>0.0</td>\n",
       "      <td>0.0</td>\n",
       "      <td>0.0</td>\n",
       "      <td>...</td>\n",
       "      <td>0.0</td>\n",
       "      <td>0.0</td>\n",
       "      <td>0.0</td>\n",
       "      <td>0.0</td>\n",
       "      <td>0.0</td>\n",
       "      <td>0.0</td>\n",
       "      <td>0.0</td>\n",
       "      <td>0.0</td>\n",
       "      <td>0.0</td>\n",
       "      <td>0.0</td>\n",
       "    </tr>\n",
       "    <tr>\n",
       "      <th>3278</th>\n",
       "      <td>0.0</td>\n",
       "      <td>0.0</td>\n",
       "      <td>0.0</td>\n",
       "      <td>0.0</td>\n",
       "      <td>0.0</td>\n",
       "      <td>0.0</td>\n",
       "      <td>0.0</td>\n",
       "      <td>0.0</td>\n",
       "      <td>0.0</td>\n",
       "      <td>0.0</td>\n",
       "      <td>...</td>\n",
       "      <td>0.0</td>\n",
       "      <td>0.0</td>\n",
       "      <td>0.0</td>\n",
       "      <td>0.0</td>\n",
       "      <td>0.0</td>\n",
       "      <td>0.0</td>\n",
       "      <td>0.0</td>\n",
       "      <td>0.0</td>\n",
       "      <td>0.0</td>\n",
       "      <td>0.0</td>\n",
       "    </tr>\n",
       "    <tr>\n",
       "      <th>3279</th>\n",
       "      <td>0.0</td>\n",
       "      <td>0.0</td>\n",
       "      <td>0.0</td>\n",
       "      <td>0.0</td>\n",
       "      <td>0.0</td>\n",
       "      <td>0.0</td>\n",
       "      <td>0.0</td>\n",
       "      <td>0.0</td>\n",
       "      <td>0.0</td>\n",
       "      <td>0.0</td>\n",
       "      <td>...</td>\n",
       "      <td>0.0</td>\n",
       "      <td>0.0</td>\n",
       "      <td>0.0</td>\n",
       "      <td>0.0</td>\n",
       "      <td>0.0</td>\n",
       "      <td>0.0</td>\n",
       "      <td>0.0</td>\n",
       "      <td>0.0</td>\n",
       "      <td>0.0</td>\n",
       "      <td>0.0</td>\n",
       "    </tr>\n",
       "    <tr>\n",
       "      <th>3280</th>\n",
       "      <td>0.0</td>\n",
       "      <td>0.0</td>\n",
       "      <td>0.0</td>\n",
       "      <td>0.0</td>\n",
       "      <td>0.0</td>\n",
       "      <td>0.0</td>\n",
       "      <td>0.0</td>\n",
       "      <td>0.0</td>\n",
       "      <td>0.0</td>\n",
       "      <td>0.0</td>\n",
       "      <td>...</td>\n",
       "      <td>0.0</td>\n",
       "      <td>0.0</td>\n",
       "      <td>0.0</td>\n",
       "      <td>0.0</td>\n",
       "      <td>0.0</td>\n",
       "      <td>0.0</td>\n",
       "      <td>0.0</td>\n",
       "      <td>0.0</td>\n",
       "      <td>0.0</td>\n",
       "      <td>0.0</td>\n",
       "    </tr>\n",
       "    <tr>\n",
       "      <th>3281</th>\n",
       "      <td>0.0</td>\n",
       "      <td>0.0</td>\n",
       "      <td>0.0</td>\n",
       "      <td>0.0</td>\n",
       "      <td>0.0</td>\n",
       "      <td>0.0</td>\n",
       "      <td>0.0</td>\n",
       "      <td>0.0</td>\n",
       "      <td>0.0</td>\n",
       "      <td>0.0</td>\n",
       "      <td>...</td>\n",
       "      <td>0.0</td>\n",
       "      <td>0.0</td>\n",
       "      <td>0.0</td>\n",
       "      <td>0.0</td>\n",
       "      <td>0.0</td>\n",
       "      <td>0.0</td>\n",
       "      <td>0.0</td>\n",
       "      <td>0.0</td>\n",
       "      <td>0.0</td>\n",
       "      <td>0.0</td>\n",
       "    </tr>\n",
       "  </tbody>\n",
       "</table>\n",
       "<p>3282 rows × 28279 columns</p>\n",
       "</div>"
      ],
      "text/plain": [
       "      aaa  aaaall  aalto  aaron  abacus  abandon  abandonment  abase  abash  \\\n",
       "0     0.0     0.0    0.0    0.0     0.0      0.0          0.0    0.0    0.0   \n",
       "1     0.0     0.0    0.0    0.0     0.0      0.0          0.0    0.0    0.0   \n",
       "2     0.0     0.0    0.0    0.0     0.0      0.0          0.0    0.0    0.0   \n",
       "3     0.0     0.0    0.0    0.0     0.0      0.0          0.0    0.0    0.0   \n",
       "4     0.0     0.0    0.0    0.0     0.0      0.0          0.0    0.0    0.0   \n",
       "...   ...     ...    ...    ...     ...      ...          ...    ...    ...   \n",
       "3277  0.0     0.0    0.0    0.0     0.0      0.0          0.0    0.0    0.0   \n",
       "3278  0.0     0.0    0.0    0.0     0.0      0.0          0.0    0.0    0.0   \n",
       "3279  0.0     0.0    0.0    0.0     0.0      0.0          0.0    0.0    0.0   \n",
       "3280  0.0     0.0    0.0    0.0     0.0      0.0          0.0    0.0    0.0   \n",
       "3281  0.0     0.0    0.0    0.0     0.0      0.0          0.0    0.0    0.0   \n",
       "\n",
       "      abate  ...  zuan  zummer  zun  zunbrowned  zunburnt  zunlight  zunny  \\\n",
       "0       0.0  ...   0.0     0.0  0.0         0.0       0.0       0.0    0.0   \n",
       "1       0.0  ...   0.0     0.0  0.0         0.0       0.0       0.0    0.0   \n",
       "2       0.0  ...   0.0     0.0  0.0         0.0       0.0       0.0    0.0   \n",
       "3       0.0  ...   0.0     0.0  0.0         0.0       0.0       0.0    0.0   \n",
       "4       0.0  ...   0.0     0.0  0.0         0.0       0.0       0.0    0.0   \n",
       "...     ...  ...   ...     ...  ...         ...       ...       ...    ...   \n",
       "3277    0.0  ...   0.0     0.0  0.0         0.0       0.0       0.0    0.0   \n",
       "3278    0.0  ...   0.0     0.0  0.0         0.0       0.0       0.0    0.0   \n",
       "3279    0.0  ...   0.0     0.0  0.0         0.0       0.0       0.0    0.0   \n",
       "3280    0.0  ...   0.0     0.0  0.0         0.0       0.0       0.0    0.0   \n",
       "3281    0.0  ...   0.0     0.0  0.0         0.0       0.0       0.0    0.0   \n",
       "\n",
       "      zuns  zvak  zwim  \n",
       "0      0.0   0.0   0.0  \n",
       "1      0.0   0.0   0.0  \n",
       "2      0.0   0.0   0.0  \n",
       "3      0.0   0.0   0.0  \n",
       "4      0.0   0.0   0.0  \n",
       "...    ...   ...   ...  \n",
       "3277   0.0   0.0   0.0  \n",
       "3278   0.0   0.0   0.0  \n",
       "3279   0.0   0.0   0.0  \n",
       "3280   0.0   0.0   0.0  \n",
       "3281   0.0   0.0   0.0  \n",
       "\n",
       "[3282 rows x 28279 columns]"
      ]
     },
     "execution_count": 11,
     "metadata": {},
     "output_type": "execute_result"
    }
   ],
   "source": [
    "X_train_vec"
   ]
  },
  {
   "cell_type": "code",
   "execution_count": 12,
   "metadata": {},
   "outputs": [],
   "source": [
    "metro_class_prob_sorted = bnb_baseline_vec.feature_log_prob_[:, 0].argsort()\n",
    "modern_class_prob_sorted = bnb_baseline_vec.feature_log_prob_[1, :].argsort()\n",
    "avant_class_prob_sorted = bnb_baseline_vec.feature_log_prob_[2, :].argsort()\n",
    "pre1900_class_prob_sorted = bnb_baseline_vec.feature_log_prob_[3, :].argsort()"
   ]
  },
  {
   "cell_type": "code",
   "execution_count": 13,
   "metadata": {},
   "outputs": [
    {
     "name": "stdout",
     "output_type": "stream",
     "text": [
      "Index(['aaaall', 'aaron', 'aalto', 'aaa'], dtype='object')\n",
      "Index(['aaa', 'migratorious', 'milan', 'milder', 'mildness', 'miletus',\n",
      "       'milholland', 'militarisme', 'milked', 'milkmaid'],\n",
      "      dtype='object')\n",
      "Index(['zwim', 'hoper', 'hopped', 'shipwright', 'hopscotch', 'horace',\n",
      "       'horatian', 'shipwreck', 'horeb', 'shipwrack'],\n",
      "      dtype='object')\n",
      "Index(['aaa', 'grievings', 'rouchled', 'rotunda', 'rottenness', 'grig',\n",
      "       'rotor', 'grille', 'roto', 'grimace'],\n",
      "      dtype='object')\n"
     ]
    }
   ],
   "source": [
    "print(np.take(X_train_vec.columns, metro_class_prob_sorted[:10]))\n",
    "print(np.take(X_train_vec.columns, modern_class_prob_sorted[:10]))\n",
    "print(np.take(X_train_vec.columns, avant_class_prob_sorted[:10]))\n",
    "print(np.take(X_train_vec.columns, pre1900_class_prob_sorted[:10]))"
   ]
  },
  {
   "cell_type": "code",
   "execution_count": 14,
   "metadata": {},
   "outputs": [
    {
     "data": {
      "text/plain": [
       "array([[28278, 12581, 22554, ..., 14916, 21431, 21146],\n",
       "       [    0, 15595, 15597, ..., 21431, 21146, 14916],\n",
       "       [28278, 11863, 11864, ...,  8739, 16556, 14609],\n",
       "       [    0, 10812, 20741, ..., 21431, 14609,  6199]])"
      ]
     },
     "execution_count": 14,
     "metadata": {},
     "output_type": "execute_result"
    }
   ],
   "source": [
    "bnb_baseline_vec.feature_log_prob_.argsort()"
   ]
  },
  {
   "cell_type": "code",
   "execution_count": 15,
   "metadata": {
    "scrolled": true
   },
   "outputs": [
    {
     "data": {
      "text/plain": [
       "array([1, 3, 2, 0])"
      ]
     },
     "execution_count": 15,
     "metadata": {},
     "output_type": "execute_result"
    }
   ],
   "source": [
    "metro_class_prob_sorted"
   ]
  },
  {
   "cell_type": "markdown",
   "metadata": {},
   "source": [
    "#### Not too bad for a baseline. Certainly better than just predicting 'modern', which would give you a 29% accuracy.\n",
    "## Baseline model -- vectors + numerical data"
   ]
  },
  {
   "cell_type": "markdown",
   "metadata": {},
   "source": [
    "#### Dataframe creation"
   ]
  },
  {
   "cell_type": "code",
   "execution_count": 16,
   "metadata": {},
   "outputs": [],
   "source": [
    "# separate out our numerical data\n",
    "X_train_nums = X_train.drop(columns=['string_titled', 'string_cleaned'])\n",
    "X_test_nums = X_test.drop(columns=['string_titled', 'string_cleaned'])"
   ]
  },
  {
   "cell_type": "markdown",
   "metadata": {},
   "source": [
    "#### Scale and combine"
   ]
  },
  {
   "cell_type": "code",
   "execution_count": 17,
   "metadata": {},
   "outputs": [],
   "source": [
    "# instantiate our scaler\n",
    "scaler = MinMaxScaler()\n",
    "\n",
    "# scale our numerical data\n",
    "X_train_scaled = scaler.fit_transform(X_train_nums)\n",
    "X_test_scaled = scaler.transform(X_test_nums)\n",
    "\n",
    "# turn the arrays into dataframes\n",
    "X_train_scaled_df = pd.DataFrame(X_train_scaled, columns=X_train_nums.columns)\n",
    "X_test_scaled_df = pd.DataFrame(X_test_scaled, columns=X_test_nums.columns)"
   ]
  },
  {
   "cell_type": "code",
   "execution_count": 19,
   "metadata": {},
   "outputs": [],
   "source": [
    "# combine the numerical and vector dataframes for both train and test sets\n",
    "X_train_combo = pd.concat([X_train_scaled_df, X_train_vec], axis=1)\n",
    "X_test_combo = pd.concat([X_test_scaled_df, X_test_vec], axis=1)"
   ]
  },
  {
   "cell_type": "markdown",
   "metadata": {},
   "source": [
    "#### Model"
   ]
  },
  {
   "cell_type": "code",
   "execution_count": 20,
   "metadata": {},
   "outputs": [
    {
     "name": "stdout",
     "output_type": "stream",
     "text": [
      "CPU times: user 9.04 s, sys: 1.6 s, total: 10.6 s\n",
      "Wall time: 10.3 s\n"
     ]
    },
    {
     "data": {
      "text/plain": [
       "BernoulliNB(alpha=1.0, binarize=0.0, class_prior=None, fit_prior=True)"
      ]
     },
     "execution_count": 20,
     "metadata": {},
     "output_type": "execute_result"
    }
   ],
   "source": [
    "%%time\n",
    "\n",
    "# instantiate the naive bayes classifier\n",
    "bnb_baseline_combo = BernoulliNB()\n",
    "\n",
    "# fit it to our training set\n",
    "bnb_baseline_combo.fit(X_train_combo, y_train)"
   ]
  },
  {
   "cell_type": "code",
   "execution_count": 21,
   "metadata": {
    "scrolled": true
   },
   "outputs": [
    {
     "name": "stdout",
     "output_type": "stream",
     "text": [
      "-----TRAIN-----\n",
      "Accuracy: 0.6096892138939671\n",
      "F1 score: 0.612164783557265\n",
      "\n",
      "-----TEST-----\n",
      "Accuracy: 0.4670932358318099\n",
      "F1 score: 0.4262879661539977\n",
      "\n",
      "----------------------------------------------------------------------------------------------------\n",
      "\n",
      "              precision    recall  f1-score   support\n",
      "\n",
      "metropolitan       0.61      0.08      0.15       241\n",
      " avant_garde       0.66      0.34      0.45       273\n",
      "      modern       0.37      0.91      0.53       320\n",
      "    pre_1900       0.77      0.41      0.53       260\n",
      "\n",
      "    accuracy                           0.47      1094\n",
      "   macro avg       0.60      0.44      0.41      1094\n",
      "weighted avg       0.59      0.47      0.43      1094\n",
      "\n",
      "\n",
      "----------------------------------------------------------------------------------------------------\n",
      "\n",
      "CONFUSION MATRIX:\n",
      "\n",
      "[[ 20  34 179   8]\n",
      " [ 11  94 159   9]\n",
      " [  2  12 291  15]\n",
      " [  0   3 151 106]]\n",
      "CPU times: user 12.8 s, sys: 2.18 s, total: 14.9 s\n",
      "Wall time: 13.7 s\n"
     ]
    }
   ],
   "source": [
    "%%time\n",
    "\n",
    "# predict the new document from the testing dataset\n",
    "y_train_preds_combo = bnb_baseline_combo.predict(X_train_combo)\n",
    "y_test_preds_combo = bnb_baseline_combo.predict(X_test_combo)\n",
    "\n",
    "# print out accuracy and f1 scores for train set\n",
    "bnb_baseline_combo_acc_train = accuracy_score(y_train, y_train_preds_combo)\n",
    "bnb_baseline_combo_f1_train = f1_score(y_train, y_train_preds_combo, average='weighted')\n",
    "\n",
    "print('-----TRAIN-----')\n",
    "print(f'Accuracy: {bnb_baseline_combo_acc_train}')\n",
    "print(f'F1 score: {bnb_baseline_combo_f1_train}')\n",
    "\n",
    "# print out accuracy and f1 scores for test set\n",
    "bnb_baseline_combo_acc_test = accuracy_score(y_test, y_test_preds_combo)\n",
    "bnb_baseline_combo_f1_test = f1_score(y_test, y_test_preds_combo, average='weighted')\n",
    "\n",
    "print('\\n-----TEST-----')\n",
    "print(f'Accuracy: {bnb_baseline_combo_acc_test}')\n",
    "print(f'F1 score: {bnb_baseline_combo_f1_test}')\n",
    "\n",
    "print('\\n' + '-' * 100 + '\\n')\n",
    "\n",
    "# print out report\n",
    "print(classification_report(y_test, y_test_preds_combo, target_names=list(y.unique())))\n",
    "\n",
    "print('\\n' + '-' * 100 + '\\n')\n",
    "\n",
    "# print out confusion matrix\n",
    "print(\"CONFUSION MATRIX:\\n\")\n",
    "print(confusion_matrix(y_test, y_test_preds_combo))"
   ]
  },
  {
   "cell_type": "markdown",
   "metadata": {},
   "source": [
    "#### Practically the same result"
   ]
  },
  {
   "cell_type": "markdown",
   "metadata": {},
   "source": [
    "## Decision Tree -- tf-idf vectors only\n",
    "#### Let's first take a quick look at cross validation scores"
   ]
  },
  {
   "cell_type": "code",
   "execution_count": 22,
   "metadata": {},
   "outputs": [
    {
     "data": {
      "text/plain": [
       "array([0.40425532, 0.40729483, 0.39329268, 0.39939024, 0.3902439 ,\n",
       "       0.39329268, 0.41158537, 0.40243902, 0.42378049, 0.42682927])"
      ]
     },
     "execution_count": 22,
     "metadata": {},
     "output_type": "execute_result"
    }
   ],
   "source": [
    "# instantiate the naive bayes classifier\n",
    "tree_vec = DecisionTreeClassifier()\n",
    "\n",
    "# fit it to our training set and evaluate\n",
    "cross_val_score(tree_vec, X_train_vec, y_train, cv=10, n_jobs=-1)"
   ]
  },
  {
   "cell_type": "markdown",
   "metadata": {},
   "source": [
    "#### Naive Bayes performs better\n",
    "## Decision Tree -- vectors and numerical data\n",
    "#### Look at cross validation scores"
   ]
  },
  {
   "cell_type": "code",
   "execution_count": 23,
   "metadata": {},
   "outputs": [
    {
     "data": {
      "text/plain": [
       "array([0.54103343, 0.48632219, 0.50609756, 0.45121951, 0.49085366,\n",
       "       0.48780488, 0.50914634, 0.49695122, 0.49085366, 0.45731707])"
      ]
     },
     "execution_count": 23,
     "metadata": {},
     "output_type": "execute_result"
    }
   ],
   "source": [
    "# instantiate the decision classifier\n",
    "tree_combo = DecisionTreeClassifier()\n",
    "\n",
    "# fit it to our training set and evaluate\n",
    "cross_val_score(tree_combo, X_train_combo, y_train, cv=10, n_jobs=-1)"
   ]
  },
  {
   "cell_type": "markdown",
   "metadata": {},
   "source": [
    "#### Notable improvement so let's fit a model"
   ]
  },
  {
   "cell_type": "code",
   "execution_count": 24,
   "metadata": {},
   "outputs": [
    {
     "name": "stdout",
     "output_type": "stream",
     "text": [
      "CPU times: user 9.34 s, sys: 1.16 s, total: 10.5 s\n",
      "Wall time: 10.5 s\n"
     ]
    },
    {
     "data": {
      "text/plain": [
       "DecisionTreeClassifier(ccp_alpha=0.0, class_weight=None, criterion='gini',\n",
       "                       max_depth=None, max_features=None, max_leaf_nodes=None,\n",
       "                       min_impurity_decrease=0.0, min_impurity_split=None,\n",
       "                       min_samples_leaf=1, min_samples_split=2,\n",
       "                       min_weight_fraction_leaf=0.0, presort='deprecated',\n",
       "                       random_state=1, splitter='best')"
      ]
     },
     "execution_count": 24,
     "metadata": {},
     "output_type": "execute_result"
    }
   ],
   "source": [
    "%%time\n",
    "\n",
    "# instantiate the model\n",
    "tree_combo = DecisionTreeClassifier(random_state=1)\n",
    "\n",
    "# fit to the training set\n",
    "tree_combo.fit(X_train_combo, y_train)"
   ]
  },
  {
   "cell_type": "code",
   "execution_count": 25,
   "metadata": {},
   "outputs": [
    {
     "name": "stdout",
     "output_type": "stream",
     "text": [
      "-----TRAIN-----\n",
      "Accuracy: 0.9993906154783668\n",
      "F1 score: 0.9993903971862134\n",
      "\n",
      "-----TEST-----\n",
      "Accuracy: 0.4716636197440585\n",
      "F1 score: 0.47004389709255623\n",
      "\n",
      "----------------------------------------------------------------------------------------------------\n",
      "\n",
      "              precision    recall  f1-score   support\n",
      "\n",
      "metropolitan       0.48      0.46      0.47       241\n",
      " avant_garde       0.42      0.36      0.39       273\n",
      "      modern       0.41      0.45      0.43       320\n",
      "    pre_1900       0.58      0.62      0.60       260\n",
      "\n",
      "    accuracy                           0.47      1094\n",
      "   macro avg       0.47      0.47      0.47      1094\n",
      "weighted avg       0.47      0.47      0.47      1094\n",
      "\n",
      "\n",
      "----------------------------------------------------------------------------------------------------\n",
      "\n",
      "CONFUSION MATRIX:\n",
      "\n",
      "[[112  59  63   7]\n",
      " [ 51  99  86  37]\n",
      " [ 55  50 145  70]\n",
      " [ 14  28  58 160]]\n",
      "CPU times: user 7.7 s, sys: 1.53 s, total: 9.23 s\n",
      "Wall time: 9.23 s\n"
     ]
    }
   ],
   "source": [
    "%%time\n",
    "\n",
    "# predict class for the train and test sets\n",
    "y_train_preds_tree_combo = tree_combo.predict(X_train_combo)\n",
    "y_test_preds_tree_combo = tree_combo.predict(X_test_combo)\n",
    "\n",
    "# print out accuracy and f1 scores for train set\n",
    "tree_combo_acc_train = accuracy_score(y_train, y_train_preds_tree_combo)\n",
    "tree_combo_f1_train = f1_score(y_train, y_train_preds_tree_combo, average='weighted')\n",
    "\n",
    "print('-----TRAIN-----')\n",
    "print(f'Accuracy: {tree_combo_acc_train}')\n",
    "print(f'F1 score: {tree_combo_f1_train}')\n",
    "\n",
    "# print out accuracy and f1 scores for test set\n",
    "tree_combo_acc_test = accuracy_score(y_test, y_test_preds_tree_combo)\n",
    "tree_combo_f1_test = f1_score(y_test, y_test_preds_tree_combo, average='weighted')\n",
    "\n",
    "print('\\n-----TEST-----')\n",
    "print(f'Accuracy: {tree_combo_acc_test}')\n",
    "print(f'F1 score: {tree_combo_f1_test}')\n",
    "\n",
    "print('\\n' + '-' * 100 + '\\n')\n",
    "\n",
    "# print out report for test predictions\n",
    "print(classification_report(y_test, y_test_preds_tree_combo, target_names=list(y.unique())))\n",
    "\n",
    "print('\\n' + '-' * 100 + '\\n')\n",
    "\n",
    "# print out confusion matrix\n",
    "print(\"CONFUSION MATRIX:\\n\")\n",
    "print(confusion_matrix(y_test, y_test_preds_tree_combo))"
   ]
  },
  {
   "cell_type": "markdown",
   "metadata": {},
   "source": [
    "#### Definitely better than our Naive Bayes model\n",
    "### Decision Tree - Feature importances"
   ]
  },
  {
   "cell_type": "code",
   "execution_count": 26,
   "metadata": {
    "scrolled": true
   },
   "outputs": [
    {
     "data": {
      "text/plain": [
       "{'num_end_rhymes': 0.11007585654210111,\n",
       " 'avg_len_line': 0.06060389285626467,\n",
       " 'avg_syllables_word': 0.05830843115964017,\n",
       " 'num_lines': 0.05269643035199075,\n",
       " 'sentiment_polarity_score': 0.02258363492583386,\n",
       " 'sentiment_subjectivity_score': 0.020310951818931028,\n",
       " 'get': 0.014781807450453481,\n",
       " 'light': 0.00892308241672876,\n",
       " 'know': 0.007713988035427452,\n",
       " 'little': 0.0070537491209945935}"
      ]
     },
     "execution_count": 26,
     "metadata": {},
     "output_type": "execute_result"
    }
   ],
   "source": [
    "tree_features = dict(zip(X_train_combo.columns, tree_combo.feature_importances_))\n",
    "tree_features = dict(sorted(tree_features.items(), key=lambda x: x[1], reverse=True)[:10])\n",
    "tree_features"
   ]
  },
  {
   "cell_type": "markdown",
   "metadata": {},
   "source": [
    "## Random Forest -- tf-idf vectors only\n",
    "#### Let's first take a quick look at cross validation scores"
   ]
  },
  {
   "cell_type": "code",
   "execution_count": 27,
   "metadata": {},
   "outputs": [
    {
     "data": {
      "text/plain": [
       "array([0.56838906, 0.56534954, 0.55792683, 0.5152439 , 0.56707317,\n",
       "       0.58536585, 0.57012195, 0.55182927, 0.55792683, 0.57926829])"
      ]
     },
     "execution_count": 27,
     "metadata": {},
     "output_type": "execute_result"
    }
   ],
   "source": [
    "# instantiate the naive bayes classifier\n",
    "forest_vec = RandomForestClassifier()\n",
    "\n",
    "# fit it to our training set and evaluate\n",
    "cross_val_score(forest_vec, X_train_vec, y_train, cv=10, n_jobs=-1)"
   ]
  },
  {
   "cell_type": "markdown",
   "metadata": {},
   "source": [
    "## Random Forest -- vectors and numerical data"
   ]
  },
  {
   "cell_type": "code",
   "execution_count": 28,
   "metadata": {},
   "outputs": [
    {
     "data": {
      "text/plain": [
       "array([0.58054711, 0.63221884, 0.64634146, 0.58536585, 0.62804878,\n",
       "       0.59146341, 0.59146341, 0.6097561 , 0.58841463, 0.62195122])"
      ]
     },
     "execution_count": 28,
     "metadata": {},
     "output_type": "execute_result"
    }
   ],
   "source": [
    "# instantiate the decision classifier\n",
    "forest_combo = RandomForestClassifier()\n",
    "\n",
    "# fit it to our training set and evaluate\n",
    "cross_val_score(forest_combo, X_train_combo, y_train, cv=10, n_jobs=-1)"
   ]
  },
  {
   "cell_type": "code",
   "execution_count": 29,
   "metadata": {},
   "outputs": [
    {
     "name": "stdout",
     "output_type": "stream",
     "text": [
      "CPU times: user 19.8 s, sys: 1.18 s, total: 21 s\n",
      "Wall time: 21 s\n"
     ]
    },
    {
     "data": {
      "text/plain": [
       "RandomForestClassifier(bootstrap=True, ccp_alpha=0.0, class_weight=None,\n",
       "                       criterion='gini', max_depth=None, max_features='auto',\n",
       "                       max_leaf_nodes=None, max_samples=None,\n",
       "                       min_impurity_decrease=0.0, min_impurity_split=None,\n",
       "                       min_samples_leaf=1, min_samples_split=2,\n",
       "                       min_weight_fraction_leaf=0.0, n_estimators=100,\n",
       "                       n_jobs=None, oob_score=False, random_state=1, verbose=0,\n",
       "                       warm_start=False)"
      ]
     },
     "execution_count": 29,
     "metadata": {},
     "output_type": "execute_result"
    }
   ],
   "source": [
    "%%time\n",
    "\n",
    "# instantiate the model\n",
    "forest_combo = RandomForestClassifier(random_state=1)\n",
    "\n",
    "# fit to the training set\n",
    "forest_combo.fit(X_train_combo, y_train)"
   ]
  },
  {
   "cell_type": "code",
   "execution_count": 30,
   "metadata": {},
   "outputs": [
    {
     "name": "stdout",
     "output_type": "stream",
     "text": [
      "-----TRAIN-----\n",
      "Accuracy: 0.9993906154783668\n",
      "F1 score: 0.9993903971862134\n",
      "\n",
      "-----TEST-----\n",
      "Accuracy: 0.6261425959780622\n",
      "F1 score: 0.6213792967901269\n",
      "\n",
      "----------------------------------------------------------------------------------------------------\n",
      "\n",
      "              precision    recall  f1-score   support\n",
      "\n",
      "metropolitan       0.68      0.46      0.55       241\n",
      " avant_garde       0.62      0.52      0.56       273\n",
      "      modern       0.54      0.73      0.62       320\n",
      "    pre_1900       0.73      0.77      0.75       260\n",
      "\n",
      "    accuracy                           0.63      1094\n",
      "   macro avg       0.64      0.62      0.62      1094\n",
      "weighted avg       0.64      0.63      0.62      1094\n",
      "\n",
      "\n",
      "----------------------------------------------------------------------------------------------------\n",
      "\n",
      "CONFUSION MATRIX:\n",
      "\n",
      "[[110  59  58  14]\n",
      " [ 32 141  84  16]\n",
      " [ 19  24 233  44]\n",
      " [  0   3  56 201]]\n",
      "CPU times: user 7.87 s, sys: 1.5 s, total: 9.37 s\n",
      "Wall time: 9.38 s\n"
     ]
    }
   ],
   "source": [
    "%%time\n",
    "\n",
    "# predict class for the train and test sets\n",
    "y_train_preds_forest_combo = forest_combo.predict(X_train_combo)\n",
    "y_test_preds_forest_combo = forest_combo.predict(X_test_combo)\n",
    "\n",
    "# print out accuracy and f1 scores for train set\n",
    "forest_combo_acc_train = accuracy_score(y_train, y_train_preds_forest_combo)\n",
    "forest_combo_f1_train = f1_score(y_train, y_train_preds_forest_combo, average='weighted')\n",
    "\n",
    "print('-----TRAIN-----')\n",
    "print(f'Accuracy: {forest_combo_acc_train}')\n",
    "print(f'F1 score: {forest_combo_f1_train}')\n",
    "\n",
    "# print out accuracy and f1 scores for test set\n",
    "forest_combo_acc_test = accuracy_score(y_test, y_test_preds_forest_combo)\n",
    "forest_combo_f1_test = f1_score(y_test, y_test_preds_forest_combo, average='weighted')\n",
    "\n",
    "print('\\n-----TEST-----')\n",
    "print(f'Accuracy: {forest_combo_acc_test}')\n",
    "print(f'F1 score: {forest_combo_f1_test}')\n",
    "\n",
    "print('\\n' + '-' * 100 + '\\n')\n",
    "\n",
    "# print out report for test predictions\n",
    "print(classification_report(y_test, y_test_preds_forest_combo, target_names=list(y.unique())))\n",
    "\n",
    "print('\\n' + '-' * 100 + '\\n')\n",
    "\n",
    "# print out confusion matrix\n",
    "print(\"CONFUSION MATRIX:\\n\")\n",
    "print(confusion_matrix(y_test, y_test_preds_forest_combo))"
   ]
  },
  {
   "cell_type": "code",
   "execution_count": 31,
   "metadata": {},
   "outputs": [
    {
     "data": {
      "text/plain": [
       "{'num_end_rhymes': 0.020076914328688845,\n",
       " 'avg_len_line': 0.016599447912066877,\n",
       " 'avg_syllables_word': 0.010609575975566466,\n",
       " 'num_lines': 0.008350060082588609,\n",
       " 'sentiment_polarity_score': 0.008100964810189928,\n",
       " 'sentiment_subjectivity_score': 0.006233650462750479,\n",
       " 'heart': 0.0035447417431501284,\n",
       " 'get': 0.0032271297790378356,\n",
       " 'day': 0.0031789311325537114,\n",
       " 'sweet': 0.0030092352589805044}"
      ]
     },
     "execution_count": 31,
     "metadata": {},
     "output_type": "execute_result"
    }
   ],
   "source": [
    "forest_features = dict(zip(X_train_combo.columns, forest_combo.feature_importances_))\n",
    "forest_features = dict(sorted(forest_features.items(), key=lambda x: x[1], reverse=True)[:10])\n",
    "forest_features"
   ]
  },
  {
   "cell_type": "markdown",
   "metadata": {},
   "source": [
    "## SVM Model - tf-idf vectors only"
   ]
  },
  {
   "cell_type": "code",
   "execution_count": 36,
   "metadata": {},
   "outputs": [
    {
     "name": "stdout",
     "output_type": "stream",
     "text": [
      "CPU times: user 11min 23s, sys: 4.31 s, total: 11min 27s\n",
      "Wall time: 11min 33s\n"
     ]
    },
    {
     "data": {
      "text/plain": [
       "SVC(C=1.0, break_ties=False, cache_size=200, class_weight=None, coef0=0.0,\n",
       "    decision_function_shape='ovr', degree=3, gamma='scale', kernel='linear',\n",
       "    max_iter=-1, probability=False, random_state=None, shrinking=True,\n",
       "    tol=0.001, verbose=False)"
      ]
     },
     "execution_count": 36,
     "metadata": {},
     "output_type": "execute_result"
    }
   ],
   "source": [
    "%%time\n",
    "\n",
    "# instantiate the model\n",
    "svm_vec = SVC(kernel='linear')\n",
    "\n",
    "# fit to the training set\n",
    "svm_vec.fit(X_train_vec, y_train)"
   ]
  },
  {
   "cell_type": "code",
   "execution_count": 37,
   "metadata": {},
   "outputs": [
    {
     "name": "stdout",
     "output_type": "stream",
     "text": [
      "-----TRAIN-----\n",
      "Accuracy: 0.9686166971358927\n",
      "F1 score: 0.9685752094288665\n",
      "\n",
      "-----TEST-----\n",
      "Accuracy: 0.6261425959780622\n",
      "F1 score: 0.6247558000810909\n",
      "\n",
      "----------------------------------------------------------------------------------------------------\n",
      "\n",
      "              precision    recall  f1-score   support\n",
      "\n",
      "metropolitan       0.54      0.44      0.48       241\n",
      " avant_garde       0.58      0.61      0.60       273\n",
      "      modern       0.57      0.67      0.62       320\n",
      "    pre_1900       0.82      0.77      0.80       260\n",
      "\n",
      "    accuracy                           0.63      1094\n",
      "   macro avg       0.63      0.62      0.62      1094\n",
      "weighted avg       0.63      0.63      0.62      1094\n",
      "\n",
      "\n",
      "----------------------------------------------------------------------------------------------------\n",
      "\n",
      "CONFUSION MATRIX:\n",
      "\n",
      "[[105  68  62   6]\n",
      " [ 41 167  55  10]\n",
      " [ 38  42 213  27]\n",
      " [  9   9  42 200]]\n",
      "CPU times: user 9min 49s, sys: 2.07 s, total: 9min 51s\n",
      "Wall time: 9min 53s\n"
     ]
    }
   ],
   "source": [
    "%%time\n",
    "\n",
    "# predict class for the train and test sets\n",
    "y_train_preds_svm_vec = svm_vec.predict(X_train_vec)\n",
    "y_test_preds_svm_vec = svm_vec.predict(X_test_vec)\n",
    "\n",
    "# print out accuracy and f1 scores for train set\n",
    "svm_vec_acc_train = accuracy_score(y_train, y_train_preds_svm_vec)\n",
    "svm_vec_f1_train = f1_score(y_train, y_train_preds_svm_vec, average='weighted')\n",
    "\n",
    "print('-----TRAIN-----')\n",
    "print(f'Accuracy: {svm_vec_acc_train}')\n",
    "print(f'F1 score: {svm_vec_f1_train}')\n",
    "\n",
    "# print out accuracy and f1 scores for test set\n",
    "svm_vec_acc_test = accuracy_score(y_test, y_test_preds_svm_vec)\n",
    "svm_vec_f1_test = f1_score(y_test, y_test_preds_svm_vec, average='weighted')\n",
    "\n",
    "print('\\n-----TEST-----')\n",
    "print(f'Accuracy: {svm_vec_acc_test}')\n",
    "print(f'F1 score: {svm_vec_f1_test}')\n",
    "\n",
    "print('\\n' + '-' * 100 + '\\n')\n",
    "\n",
    "# print out report for test predictions\n",
    "print(classification_report(y_test, y_test_preds_svm_vec, target_names=list(y.unique())))\n",
    "\n",
    "print('\\n' + '-' * 100 + '\\n')\n",
    "\n",
    "# print out confusion matrix\n",
    "print(\"CONFUSION MATRIX:\\n\")\n",
    "print(confusion_matrix(y_test, y_test_preds_svm_vec))"
   ]
  },
  {
   "cell_type": "code",
   "execution_count": null,
   "metadata": {},
   "outputs": [],
   "source": [
    "coef_svm = pd.DataFrame(np.array(svm_vec.coef_))\n",
    "# coef_df['tokens'] = vectorizer.get_feature_names()\n",
    "# coef_df.set_index()\n",
    "coef_svm.head()"
   ]
  },
  {
   "cell_type": "code",
   "execution_count": null,
   "metadata": {},
   "outputs": [],
   "source": [
    "dict(zip(svm_vec.coef_, X_train_vec_df.columns))"
   ]
  },
  {
   "cell_type": "code",
   "execution_count": null,
   "metadata": {},
   "outputs": [],
   "source": [
    "def plot_coefficients(classifier, feature_names, top_features=20):\n",
    "    coef = np.ravel(classifier.coef_)\n",
    "    top_positive_coefficients = np.argsort(coef)[-top_features:]\n",
    "    top_negative_coefficients = np.argsort(coef)[:top_features]\n",
    "    top_coefficients = np.hstack([top_negative_coefficients, top_positive_coefficients])\n",
    "    # create plot\n",
    "    plt.figure(figsize=(15, 5))\n",
    "#     colors = ['red' if c < 0 else 'blue' for c in coef[top_coefficients]]\n",
    "    plt.bar(np.arange(2 * top_features), coef[top_coefficients], \n",
    "#             color=colors\n",
    "           )\n",
    "    feature_names = np.array(feature_names)\n",
    "    plt.xticks(np.arange(1, 1 + 2 * top_features), feature_names[top_coefficients], rotation=60, ha='right')\n",
    "    plt.show()"
   ]
  },
  {
   "cell_type": "code",
   "execution_count": null,
   "metadata": {},
   "outputs": [],
   "source": [
    "plot_coefficients(svm_vec, X_train_vec_df.columns)"
   ]
  },
  {
   "cell_type": "code",
   "execution_count": null,
   "metadata": {},
   "outputs": [],
   "source": [
    "list(zip(svm_vec.coef_[:,0], X_train_vec_df.columns))"
   ]
  },
  {
   "cell_type": "code",
   "execution_count": null,
   "metadata": {},
   "outputs": [],
   "source": [
    "feature_names = vectorizer.get_feature_names() \n",
    "coefs_with_fns = sorted(zip(svm_vec.coef_[:,0], feature_names)) \n",
    "df=pd.DataFrame(coefs_with_fns)\n",
    "df.columns='coefficient','word'\n",
    "df.sort_values(by='coefficient')"
   ]
  },
  {
   "cell_type": "code",
   "execution_count": null,
   "metadata": {},
   "outputs": [],
   "source": [
    "svm_vec.coef_[:,0]"
   ]
  },
  {
   "cell_type": "code",
   "execution_count": null,
   "metadata": {},
   "outputs": [],
   "source": [
    "svm_vec.coef_[0,0]"
   ]
  },
  {
   "cell_type": "code",
   "execution_count": null,
   "metadata": {},
   "outputs": [],
   "source": [
    "def f_importances(coef, names, top=-1):\n",
    "    imp = coef\n",
    "    imp, names = zip(*sorted(list(zip(imp, names))))\n",
    "\n",
    "    # Show all features\n",
    "    if top == -1:\n",
    "        top = len(names)\n",
    "\n",
    "    plt.barh(range(top), imp[::-1][0:top], align='center')\n",
    "    plt.yticks(range(top), names[::-1][0:top])\n",
    "    plt.show()\n",
    "\n",
    "# whatever your features are called\n",
    "\n",
    "# Specify your top n features you want to visualize.\n",
    "# You can also discard the abs() function \n",
    "# if you are interested in negative contribution of features\n",
    "f_importances(abs(svm_vec.coef_[0]), feature_names, top=10)"
   ]
  },
  {
   "cell_type": "code",
   "execution_count": null,
   "metadata": {},
   "outputs": [],
   "source": [
    "def f_importances(coef, names):\n",
    "    imp = coef\n",
    "    imp,names = zip(*sorted(zip(imp,names)))\n",
    "    plt.barh(range(len(names)), imp, align='center')\n",
    "    plt.yticks(range(len(names)), names)\n",
    "    plt.show()\n",
    "\n",
    "f_importances(svm_vec.coef_, X_train_vec_df.columns)"
   ]
  },
  {
   "cell_type": "code",
   "execution_count": 57,
   "metadata": {},
   "outputs": [
    {
     "data": {
      "text/plain": [
       "<matplotlib.axes._subplots.AxesSubplot at 0x1b59dc6a0>"
      ]
     },
     "execution_count": 57,
     "metadata": {},
     "output_type": "execute_result"
    },
    {
     "data": {
      "image/png": "[encoded data removed]",
      "text/plain": [
       "<Figure size 504x864 with 1 Axes>"
      ]
     },
     "metadata": {},
     "output_type": "display_data"
    }
   ],
   "source": [
    "plt.figure(figsize=(7,12))\n",
    "pd.Series(abs(svm_vec.coef_[0]), index=X_train_vec.columns).nlargest(25).plot(kind='barh')"
   ]
  },
  {
   "cell_type": "markdown",
   "metadata": {},
   "source": [
    "#### Quite a bump! very overfit, but let's see if it works any better with our combo dataframes\n",
    "## SVM - vectors + numerical data"
   ]
  },
  {
   "cell_type": "code",
   "execution_count": 38,
   "metadata": {},
   "outputs": [
    {
     "name": "stdout",
     "output_type": "stream",
     "text": [
      "CPU times: user 9min 39s, sys: 2.77 s, total: 9min 42s\n",
      "Wall time: 9min 43s\n"
     ]
    },
    {
     "data": {
      "text/plain": [
       "SVC(C=1.0, break_ties=False, cache_size=200, class_weight=None, coef0=0.0,\n",
       "    decision_function_shape='ovr', degree=3, gamma='scale', kernel='linear',\n",
       "    max_iter=-1, probability=False, random_state=None, shrinking=True,\n",
       "    tol=0.001, verbose=False)"
      ]
     },
     "execution_count": 38,
     "metadata": {},
     "output_type": "execute_result"
    }
   ],
   "source": [
    "%%time\n",
    "\n",
    "# instantiate the model\n",
    "svm_combo = SVC(kernel='linear')\n",
    "\n",
    "# fit to the training set\n",
    "svm_combo.fit(X_train_combo, y_train)"
   ]
  },
  {
   "cell_type": "code",
   "execution_count": 39,
   "metadata": {},
   "outputs": [
    {
     "name": "stdout",
     "output_type": "stream",
     "text": [
      "-----TRAIN-----\n",
      "Accuracy: 0.9573430834856794\n",
      "F1 score: 0.9572124926829236\n",
      "\n",
      "-----TEST-----\n",
      "Accuracy: 0.6755027422303473\n",
      "F1 score: 0.6752703596917183\n",
      "\n",
      "----------------------------------------------------------------------------------------------------\n",
      "\n",
      "              precision    recall  f1-score   support\n",
      "\n",
      "metropolitan       0.68      0.59      0.63       241\n",
      " avant_garde       0.63      0.63      0.63       273\n",
      "      modern       0.61      0.66      0.63       320\n",
      "    pre_1900       0.81      0.82      0.81       260\n",
      "\n",
      "    accuracy                           0.68      1094\n",
      "   macro avg       0.68      0.68      0.68      1094\n",
      "weighted avg       0.68      0.68      0.68      1094\n",
      "\n",
      "\n",
      "----------------------------------------------------------------------------------------------------\n",
      "\n",
      "CONFUSION MATRIX:\n",
      "\n",
      "[[142  53  42   4]\n",
      " [ 29 173  60  11]\n",
      " [ 30  43 212  35]\n",
      " [  9   5  34 212]]\n",
      "CPU times: user 10min 15s, sys: 2.9 s, total: 10min 18s\n",
      "Wall time: 10min 19s\n"
     ]
    }
   ],
   "source": [
    "%%time\n",
    "\n",
    "# predict class for the train and test sets\n",
    "y_train_preds_svm_combo = svm_combo.predict(X_train_combo)\n",
    "y_test_preds_svm_combo = svm_combo.predict(X_test_combo)\n",
    "\n",
    "# print out accuracy and f1 scores for train set\n",
    "svm_combo_acc_train = accuracy_score(y_train, y_train_preds_svm_combo)\n",
    "svm_combo_f1_train = f1_score(y_train, y_train_preds_svm_combo, average='weighted')\n",
    "\n",
    "print('-----TRAIN-----')\n",
    "print(f'Accuracy: {svm_combo_acc_train}')\n",
    "print(f'F1 score: {svm_combo_f1_train}')\n",
    "\n",
    "# print out accuracy and f1 scores for test set\n",
    "svm_combo_acc_test = accuracy_score(y_test, y_test_preds_svm_combo)\n",
    "svm_combo_f1_test = f1_score(y_test, y_test_preds_svm_combo, average='weighted')\n",
    "\n",
    "print('\\n-----TEST-----')\n",
    "print(f'Accuracy: {svm_combo_acc_test}')\n",
    "print(f'F1 score: {svm_combo_f1_test}')\n",
    "\n",
    "print('\\n' + '-' * 100 + '\\n')\n",
    "\n",
    "# print out report for test predictions\n",
    "print(classification_report(y_test, y_test_preds_svm_combo, target_names=list(y.unique())))\n",
    "\n",
    "print('\\n' + '-' * 100 + '\\n')\n",
    "\n",
    "# print out confusion matrix\n",
    "print(\"CONFUSION MATRIX:\\n\")\n",
    "print(confusion_matrix(y_test, y_test_preds_svm_combo))"
   ]
  },
  {
   "cell_type": "code",
   "execution_count": 49,
   "metadata": {},
   "outputs": [],
   "source": [
    "def f_importances(coef, names, amt):\n",
    "    imp = coef[0]\n",
    "    imp,names = zip(*sorted(zip(imp, names)))[:amt]\n",
    "    plt.barh(range(amt), imp, align='center')\n",
    "    plt.yticks(range(amt), names[:amt])\n",
    "    plt.show()"
   ]
  },
  {
   "cell_type": "code",
   "execution_count": 51,
   "metadata": {
    "scrolled": false
   },
   "outputs": [
    {
     "ename": "TypeError",
     "evalue": "'zip' object is not subscriptable",
     "output_type": "error",
     "traceback": [
      "\u001b[0;31m---------------------------------------------------------------------------\u001b[0m",
      "\u001b[0;31mTypeError\u001b[0m                                 Traceback (most recent call last)",
      "\u001b[0;32m<ipython-input-51-a4bfb0303b86>\u001b[0m in \u001b[0;36m<module>\u001b[0;34m\u001b[0m\n\u001b[0;32m----> 1\u001b[0;31m \u001b[0mf_importances\u001b[0m\u001b[0;34m(\u001b[0m\u001b[0msvm_combo\u001b[0m\u001b[0;34m.\u001b[0m\u001b[0mcoef_\u001b[0m\u001b[0;34m,\u001b[0m \u001b[0mX_train_combo\u001b[0m\u001b[0;34m.\u001b[0m\u001b[0mcolumns\u001b[0m\u001b[0;34m,\u001b[0m \u001b[0;36m20\u001b[0m\u001b[0;34m)\u001b[0m\u001b[0;34m\u001b[0m\u001b[0;34m\u001b[0m\u001b[0m\n\u001b[0m",
      "\u001b[0;32m<ipython-input-49-066bd091015d>\u001b[0m in \u001b[0;36mf_importances\u001b[0;34m(coef, names, amt)\u001b[0m\n\u001b[1;32m      1\u001b[0m \u001b[0;32mdef\u001b[0m \u001b[0mf_importances\u001b[0m\u001b[0;34m(\u001b[0m\u001b[0mcoef\u001b[0m\u001b[0;34m,\u001b[0m \u001b[0mnames\u001b[0m\u001b[0;34m,\u001b[0m \u001b[0mamt\u001b[0m\u001b[0;34m)\u001b[0m\u001b[0;34m:\u001b[0m\u001b[0;34m\u001b[0m\u001b[0;34m\u001b[0m\u001b[0m\n\u001b[1;32m      2\u001b[0m     \u001b[0mimp\u001b[0m \u001b[0;34m=\u001b[0m \u001b[0mcoef\u001b[0m\u001b[0;34m[\u001b[0m\u001b[0;36m0\u001b[0m\u001b[0;34m]\u001b[0m\u001b[0;34m\u001b[0m\u001b[0;34m\u001b[0m\u001b[0m\n\u001b[0;32m----> 3\u001b[0;31m     \u001b[0mimp\u001b[0m\u001b[0;34m,\u001b[0m\u001b[0mnames\u001b[0m \u001b[0;34m=\u001b[0m \u001b[0mzip\u001b[0m\u001b[0;34m(\u001b[0m\u001b[0;34m*\u001b[0m\u001b[0msorted\u001b[0m\u001b[0;34m(\u001b[0m\u001b[0mzip\u001b[0m\u001b[0;34m(\u001b[0m\u001b[0mimp\u001b[0m\u001b[0;34m,\u001b[0m \u001b[0mnames\u001b[0m\u001b[0;34m)\u001b[0m\u001b[0;34m)\u001b[0m\u001b[0;34m)\u001b[0m\u001b[0;34m[\u001b[0m\u001b[0;34m:\u001b[0m\u001b[0mamt\u001b[0m\u001b[0;34m]\u001b[0m\u001b[0;34m\u001b[0m\u001b[0;34m\u001b[0m\u001b[0m\n\u001b[0m\u001b[1;32m      4\u001b[0m     \u001b[0mplt\u001b[0m\u001b[0;34m.\u001b[0m\u001b[0mbarh\u001b[0m\u001b[0;34m(\u001b[0m\u001b[0mrange\u001b[0m\u001b[0;34m(\u001b[0m\u001b[0mlen\u001b[0m\u001b[0;34m(\u001b[0m\u001b[0mnames\u001b[0m\u001b[0;34m)\u001b[0m\u001b[0;34m)\u001b[0m\u001b[0;34m,\u001b[0m \u001b[0mimp\u001b[0m\u001b[0;34m,\u001b[0m \u001b[0malign\u001b[0m\u001b[0;34m=\u001b[0m\u001b[0;34m'center'\u001b[0m\u001b[0;34m)\u001b[0m\u001b[0;34m\u001b[0m\u001b[0;34m\u001b[0m\u001b[0m\n\u001b[1;32m      5\u001b[0m     \u001b[0mplt\u001b[0m\u001b[0;34m.\u001b[0m\u001b[0myticks\u001b[0m\u001b[0;34m(\u001b[0m\u001b[0mrange\u001b[0m\u001b[0;34m(\u001b[0m\u001b[0mlen\u001b[0m\u001b[0;34m(\u001b[0m\u001b[0mnames\u001b[0m\u001b[0;34m)\u001b[0m\u001b[0;34m)\u001b[0m\u001b[0;34m,\u001b[0m \u001b[0mnames\u001b[0m\u001b[0;34m)\u001b[0m\u001b[0;34m\u001b[0m\u001b[0;34m\u001b[0m\u001b[0m\n",
      "\u001b[0;31mTypeError\u001b[0m: 'zip' object is not subscriptable"
     ]
    }
   ],
   "source": [
    "f_importances(svm_combo.coef_, X_train_combo.columns, 20)"
   ]
  },
  {
   "cell_type": "code",
   "execution_count": 44,
   "metadata": {},
   "outputs": [
    {
     "data": {
      "text/html": [
       "<div>\n",
       "<style scoped>\n",
       "    .dataframe tbody tr th:only-of-type {\n",
       "        vertical-align: middle;\n",
       "    }\n",
       "\n",
       "    .dataframe tbody tr th {\n",
       "        vertical-align: top;\n",
       "    }\n",
       "\n",
       "    .dataframe thead th {\n",
       "        text-align: right;\n",
       "    }\n",
       "</style>\n",
       "<table border=\"1\" class=\"dataframe\">\n",
       "  <thead>\n",
       "    <tr style=\"text-align: right;\">\n",
       "      <th></th>\n",
       "      <th>coefficient</th>\n",
       "    </tr>\n",
       "  </thead>\n",
       "  <tbody>\n",
       "    <tr>\n",
       "      <th>among</th>\n",
       "      <td>1.835010</td>\n",
       "    </tr>\n",
       "    <tr>\n",
       "      <th>leaf</th>\n",
       "      <td>1.405554</td>\n",
       "    </tr>\n",
       "    <tr>\n",
       "      <th>small</th>\n",
       "      <td>1.315754</td>\n",
       "    </tr>\n",
       "    <tr>\n",
       "      <th>mind</th>\n",
       "      <td>1.314159</td>\n",
       "    </tr>\n",
       "    <tr>\n",
       "      <th>form</th>\n",
       "      <td>1.306792</td>\n",
       "    </tr>\n",
       "    <tr>\n",
       "      <th>...</th>\n",
       "      <td>...</td>\n",
       "    </tr>\n",
       "    <tr>\n",
       "      <th>look</th>\n",
       "      <td>-1.572884</td>\n",
       "    </tr>\n",
       "    <tr>\n",
       "      <th>dream</th>\n",
       "      <td>-1.618399</td>\n",
       "    </tr>\n",
       "    <tr>\n",
       "      <th>get</th>\n",
       "      <td>-1.634151</td>\n",
       "    </tr>\n",
       "    <tr>\n",
       "      <th>black</th>\n",
       "      <td>-1.681018</td>\n",
       "    </tr>\n",
       "    <tr>\n",
       "      <th>avg_len_line</th>\n",
       "      <td>-2.199878</td>\n",
       "    </tr>\n",
       "  </tbody>\n",
       "</table>\n",
       "<p>28285 rows × 1 columns</p>\n",
       "</div>"
      ],
      "text/plain": [
       "              coefficient\n",
       "among            1.835010\n",
       "leaf             1.405554\n",
       "small            1.315754\n",
       "mind             1.314159\n",
       "form             1.306792\n",
       "...                   ...\n",
       "look            -1.572884\n",
       "dream           -1.618399\n",
       "get             -1.634151\n",
       "black           -1.681018\n",
       "avg_len_line    -2.199878\n",
       "\n",
       "[28285 rows x 1 columns]"
      ]
     },
     "execution_count": 44,
     "metadata": {},
     "output_type": "execute_result"
    }
   ],
   "source": [
    "coef_svm = pd.DataFrame(svm_combo.coef_[0], columns=['coefficient'], index=X_train_combo.columns).\\\n",
    "                        sort_values(by=['coefficient'], ascending=False)\n",
    "coef_svm"
   ]
  },
  {
   "cell_type": "code",
   "execution_count": null,
   "metadata": {},
   "outputs": [],
   "source": []
  },
  {
   "cell_type": "code",
   "execution_count": 54,
   "metadata": {},
   "outputs": [
    {
     "data": {
      "text/plain": [
       "<matplotlib.axes._subplots.AxesSubplot at 0x1b50f2b00>"
      ]
     },
     "execution_count": 54,
     "metadata": {},
     "output_type": "execute_result"
    },
    {
     "data": {
      "image/png": "[encoded data removed]",
      "text/plain": [
       "<Figure size 504x864 with 1 Axes>"
      ]
     },
     "metadata": {},
     "output_type": "display_data"
    }
   ],
   "source": [
    "sns.set_style('ticks')\n",
    "\n",
    "plt.figure(figsize=(7,12))\n",
    "pd.Series(abs(svm_combo.coef_[0]), index=X_train_combo.columns).nlargest(25).plot(kind='barh')"
   ]
  },
  {
   "cell_type": "markdown",
   "metadata": {},
   "source": [
    "#### Still overfit but nearly a 10% increase in our test predictions!"
   ]
  },
  {
   "cell_type": "code",
   "execution_count": 40,
   "metadata": {},
   "outputs": [
    {
     "name": "stdout",
     "output_type": "stream",
     "text": [
      "CPU times: user 10min 53s, sys: 2.79 s, total: 10min 56s\n",
      "Wall time: 10min 57s\n"
     ]
    },
    {
     "data": {
      "text/plain": [
       "SVC(C=2, break_ties=False, cache_size=200, class_weight='balanced', coef0=0.0,\n",
       "    decision_function_shape='ovr', degree=3, gamma='scale', kernel='linear',\n",
       "    max_iter=-1, probability=False, random_state=None, shrinking=True,\n",
       "    tol=0.001, verbose=False)"
      ]
     },
     "execution_count": 40,
     "metadata": {},
     "output_type": "execute_result"
    }
   ],
   "source": [
    "%%time\n",
    "\n",
    "# instantiate the model\n",
    "svm_combo2 = SVC(C=2, kernel='linear', class_weight='balanced')\n",
    "\n",
    "# fit to the training set\n",
    "svm_combo2.fit(X_train_combo, y_train)"
   ]
  },
  {
   "cell_type": "code",
   "execution_count": 41,
   "metadata": {},
   "outputs": [
    {
     "name": "stdout",
     "output_type": "stream",
     "text": [
      "-----TRAIN-----\n",
      "Accuracy: 0.9951249238269348\n",
      "F1 score: 0.9951215811379879\n",
      "\n",
      "-----TEST-----\n",
      "Accuracy: 0.6782449725776966\n",
      "F1 score: 0.6782315773457501\n",
      "\n",
      "----------------------------------------------------------------------------------------------------\n",
      "\n",
      "              precision    recall  f1-score   support\n",
      "\n",
      "metropolitan       0.63      0.60      0.62       241\n",
      " avant_garde       0.62      0.65      0.64       273\n",
      "      modern       0.64      0.64      0.64       320\n",
      "    pre_1900       0.83      0.83      0.83       260\n",
      "\n",
      "    accuracy                           0.68      1094\n",
      "   macro avg       0.68      0.68      0.68      1094\n",
      "weighted avg       0.68      0.68      0.68      1094\n",
      "\n",
      "\n",
      "----------------------------------------------------------------------------------------------------\n",
      "\n",
      "CONFUSION MATRIX:\n",
      "\n",
      "[[145  52  41   3]\n",
      " [ 38 177  47  11]\n",
      " [ 39  46 205  30]\n",
      " [  8   9  28 215]]\n",
      "CPU times: user 10min 12s, sys: 2.85 s, total: 10min 15s\n",
      "Wall time: 10min 16s\n"
     ]
    }
   ],
   "source": [
    "%%time\n",
    "\n",
    "# predict class for the train and test sets\n",
    "y_train_preds_svm_combo2 = svm_combo2.predict(X_train_combo)\n",
    "y_test_preds_svm_combo2 = svm_combo2.predict(X_test_combo)\n",
    "\n",
    "# print out accuracy and f1 scores for train set\n",
    "svm_combo_acc_train2 = accuracy_score(y_train, y_train_preds_svm_combo2)\n",
    "svm_combo_f1_train2 = f1_score(y_train, y_train_preds_svm_combo2, average='weighted')\n",
    "\n",
    "print('-----TRAIN-----')\n",
    "print(f'Accuracy: {svm_combo_acc_train2}')\n",
    "print(f'F1 score: {svm_combo_f1_train2}')\n",
    "\n",
    "# print out accuracy and f1 scores for test set\n",
    "svm_combo_acc_test2 = accuracy_score(y_test, y_test_preds_svm_combo2)\n",
    "svm_combo_f1_test2 = f1_score(y_test, y_test_preds_svm_combo2, average='weighted')\n",
    "\n",
    "print('\\n-----TEST-----')\n",
    "print(f'Accuracy: {svm_combo_acc_test2}')\n",
    "print(f'F1 score: {svm_combo_f1_test2}')\n",
    "\n",
    "print('\\n' + '-' * 100 + '\\n')\n",
    "\n",
    "# print out report for test predictions\n",
    "print(classification_report(y_test, y_test_preds_svm_combo2, target_names=list(y.unique())))\n",
    "\n",
    "print('\\n' + '-' * 100 + '\\n')\n",
    "\n",
    "# print out confusion matrix\n",
    "print(\"CONFUSION MATRIX:\\n\")\n",
    "print(confusion_matrix(y_test, y_test_preds_svm_combo2))"
   ]
  },
  {
   "cell_type": "code",
   "execution_count": 45,
   "metadata": {},
   "outputs": [
    {
     "data": {
      "image/png": "[encoded data removed]",
      "text/plain": [
       "<Figure size 432x288 with 1 Axes>"
      ]
     },
     "metadata": {
      "needs_background": "light"
     },
     "output_type": "display_data"
    }
   ],
   "source": [
    "f_importances(svm_combo2.coef_, X_train_combo.columns)"
   ]
  },
  {
   "cell_type": "code",
   "execution_count": null,
   "metadata": {},
   "outputs": [],
   "source": []
  },
  {
   "cell_type": "code",
   "execution_count": null,
   "metadata": {},
   "outputs": [],
   "source": []
  },
  {
   "cell_type": "code",
   "execution_count": null,
   "metadata": {},
   "outputs": [],
   "source": []
  },
  {
   "cell_type": "code",
   "execution_count": 46,
   "metadata": {},
   "outputs": [
    {
     "name": "stdout",
     "output_type": "stream",
     "text": [
      "CPU times: user 11min 24s, sys: 3.34 s, total: 11min 27s\n",
      "Wall time: 11min 29s\n"
     ]
    },
    {
     "data": {
      "text/plain": [
       "SVC(C=3, break_ties=False, cache_size=200, class_weight='balanced', coef0=0.0,\n",
       "    decision_function_shape='ovr', degree=3, gamma='scale', kernel='linear',\n",
       "    max_iter=-1, probability=False, random_state=None, shrinking=True,\n",
       "    tol=0.001, verbose=False)"
      ]
     },
     "execution_count": 46,
     "metadata": {},
     "output_type": "execute_result"
    }
   ],
   "source": [
    "%%time\n",
    "\n",
    "# instantiate the model\n",
    "svm_combo3 = SVC(C=3, kernel='linear', class_weight='balanced')\n",
    "\n",
    "# fit to the training set\n",
    "svm_combo3.fit(X_train_combo, y_train)"
   ]
  },
  {
   "cell_type": "code",
   "execution_count": 47,
   "metadata": {},
   "outputs": [
    {
     "name": "stdout",
     "output_type": "stream",
     "text": [
      "-----TRAIN-----\n",
      "Accuracy: 0.9987812309567337\n",
      "F1 score: 0.9987812767455831\n",
      "\n",
      "-----TEST-----\n",
      "Accuracy: 0.6663619744058501\n",
      "F1 score: 0.6668505678067502\n",
      "\n",
      "----------------------------------------------------------------------------------------------------\n",
      "\n",
      "              precision    recall  f1-score   support\n",
      "\n",
      "metropolitan       0.62      0.61      0.61       241\n",
      " avant_garde       0.62      0.63      0.63       273\n",
      "      modern       0.62      0.63      0.62       320\n",
      "    pre_1900       0.82      0.80      0.81       260\n",
      "\n",
      "    accuracy                           0.67      1094\n",
      "   macro avg       0.67      0.67      0.67      1094\n",
      "weighted avg       0.67      0.67      0.67      1094\n",
      "\n",
      "\n",
      "----------------------------------------------------------------------------------------------------\n",
      "\n",
      "CONFUSION MATRIX:\n",
      "\n",
      "[[146  48  42   5]\n",
      " [ 39 173  50  11]\n",
      " [ 41  49 201  29]\n",
      " [  8  10  33 209]]\n",
      "CPU times: user 10min 15s, sys: 2.93 s, total: 10min 18s\n",
      "Wall time: 10min 19s\n"
     ]
    }
   ],
   "source": [
    "%%time\n",
    "\n",
    "# predict class for the train and test sets\n",
    "y_train_preds_svm_combo3 = svm_combo3.predict(X_train_combo)\n",
    "y_test_preds_svm_combo3 = svm_combo3.predict(X_test_combo)\n",
    "\n",
    "# print out accuracy and f1 scores for train set\n",
    "svm_combo_acc_train3 = accuracy_score(y_train, y_train_preds_svm_combo3)\n",
    "svm_combo_f1_train3 = f1_score(y_train, y_train_preds_svm_combo3, average='weighted')\n",
    "\n",
    "print('-----TRAIN-----')\n",
    "print(f'Accuracy: {svm_combo_acc_train3}')\n",
    "print(f'F1 score: {svm_combo_f1_train3}')\n",
    "\n",
    "# print out accuracy and f1 scores for test set\n",
    "svm_combo_acc_test3 = accuracy_score(y_test, y_test_preds_svm_combo3)\n",
    "svm_combo_f1_test3 = f1_score(y_test, y_test_preds_svm_combo3, average='weighted')\n",
    "\n",
    "print('\\n-----TEST-----')\n",
    "print(f'Accuracy: {svm_combo_acc_test3}')\n",
    "print(f'F1 score: {svm_combo_f1_test3}')\n",
    "\n",
    "print('\\n' + '-' * 100 + '\\n')\n",
    "\n",
    "# print out report for test predictions\n",
    "print(classification_report(y_test, y_test_preds_svm_combo3, target_names=list(y.unique())))\n",
    "\n",
    "print('\\n' + '-' * 100 + '\\n')\n",
    "\n",
    "# print out confusion matrix\n",
    "print(\"CONFUSION MATRIX:\\n\")\n",
    "print(confusion_matrix(y_test, y_test_preds_svm_combo3))"
   ]
  },
  {
   "cell_type": "code",
   "execution_count": 48,
   "metadata": {},
   "outputs": [
    {
     "data": {
      "image/png": "[encoded data removed]",
      "text/plain": [
       "<Figure size 432x288 with 1 Axes>"
      ]
     },
     "metadata": {
      "needs_background": "light"
     },
     "output_type": "display_data"
    }
   ],
   "source": [
    "f_importances(svm_combo3.coef_, X_train_combo.columns)"
   ]
  },
  {
   "cell_type": "code",
   "execution_count": null,
   "metadata": {},
   "outputs": [],
   "source": []
  },
  {
   "cell_type": "code",
   "execution_count": null,
   "metadata": {},
   "outputs": [],
   "source": []
  },
  {
   "cell_type": "code",
   "execution_count": null,
   "metadata": {},
   "outputs": [],
   "source": []
  },
  {
   "cell_type": "code",
   "execution_count": null,
   "metadata": {},
   "outputs": [],
   "source": [
    "please break my code"
   ]
  },
  {
   "cell_type": "markdown",
   "metadata": {},
   "source": [
    "## LSTM Neural Net -- tf-idf vectors only\n",
    "#### First we need to convert our target classes into numbers"
   ]
  },
  {
   "cell_type": "code",
   "execution_count": null,
   "metadata": {},
   "outputs": [],
   "source": [
    "# instantiate the encoder\n",
    "le = LabelEncoder()\n",
    "\n",
    "# fit and transform the target train set\n",
    "y_train_le = le.fit_transform(y_train)\n",
    "\n",
    "# transfomr the target test set\n",
    "y_test_le = le.transform(y_test)"
   ]
  },
  {
   "cell_type": "markdown",
   "metadata": {},
   "source": [
    "#### The following code--including vocab_size, embedding_dim, and num_epochs--based on work by from Susan Li (https://towardsdatascience.com/multi-class-text-classification-with-lstm-using-tensorflow-2-0-d88627c10a35)"
   ]
  },
  {
   "cell_type": "code",
   "execution_count": null,
   "metadata": {},
   "outputs": [],
   "source": [
    "vocab_size = 10000\n",
    "embedding_dim = 64"
   ]
  },
  {
   "cell_type": "code",
   "execution_count": null,
   "metadata": {},
   "outputs": [],
   "source": [
    "model = Sequential([\n",
    "    # add an Embedding layer expecting input vocab of size 5000,\n",
    "    # and output embedding dimension of size 64 we set at the top\n",
    "    Embedding(vocab_size, embedding_dim),\n",
    "    Bidirectional(LSTM(embedding_dim)),\n",
    "    Dense(embedding_dim, activation='relu'),\n",
    "    # add a Dense layer with 6 units and softmax activation, since we have multiple classes\n",
    "    Dense(6, activation='softmax')\n",
    "])\n",
    "\n",
    "model.summary()"
   ]
  },
  {
   "cell_type": "code",
   "execution_count": null,
   "metadata": {},
   "outputs": [],
   "source": [
    "%%time\n",
    "\n",
    "model.compile(loss='sparse_categorical_crossentropy', optimizer='adam', metrics=['accuracy'])\n",
    "num_epochs = 5\n",
    "history = model.fit(X_train_vec, y_train_le, epochs=num_epochs,\n",
    "                    validation_data=(X_test_vec, y_test_le), verbose=2)"
   ]
  },
  {
   "cell_type": "code",
   "execution_count": null,
   "metadata": {},
   "outputs": [],
   "source": []
  }
 ],
 "metadata": {
  "kernelspec": {
   "display_name": "Python [conda env:learn-env] *",
   "language": "python",
   "name": "conda-env-learn-env-py"
  },
  "language_info": {
   "codemirror_mode": {
    "name": "ipython",
    "version": 3
   },
   "file_extension": ".py",
   "mimetype": "text/x-python",
   "name": "python",
   "nbconvert_exporter": "python",
   "pygments_lexer": "ipython3",
   "version": "3.6.9"
  }
 },
 "nbformat": 4,
 "nbformat_minor": 2
}
