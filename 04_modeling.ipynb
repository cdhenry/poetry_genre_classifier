{
 "cells": [
  {
   "cell_type": "markdown",
   "metadata": {},
   "source": [
    "# <ins>Predicting Poetic Movements</ins>\n",
    "\n",
    "## Modeling\n",
    "\n",
    "### Using Naive Bayes, Decision Tree, Random Forest, and SVM\n",
    "\n",
    "### NOTE: Currently working on revamping/organizing. Thank you for understanding :)\n",
    "\n",
    "## Table of contents\n",
    "\n",
    "1. [Introduction](#Introduction)\n",
    "2. [The problem domain](#The-problem-domain)\n",
    "3. [Required libraries](#Required-libraries)\n",
    "4. [Step 1: Preparing the data](#Step-1:-Preparing-the-data)\n",
    "    \n",
    "    - [Multicollinearity](#Multicollinearity)\n",
    "    - [Dealing with outliers](#Dealing-with-outliers)\n",
    "    - [Save/Load DataFrame](#💾-Save/Load-DataFrame)\n",
    "    - [Train-test split](#Train-test-split)\n",
    "    - [Vectors DataFrame](#Vectors-DataFrame)\n",
    "    - [Combo DataFrame](#Combo-DataFrame)\n",
    "    \n",
    "    \n",
    "5. [Step 2: Modeling](#Step-2:-Modeling)\n",
    "\n",
    "    - [Bernoulli Naive Bayes](#Bernoulli-Naive-Bayes)\n",
    "    - [K-Nearest Neighbors](#K-Nearest-Neighbors)\n",
    "    - [Decision Tree](#Decision-Tree)\n",
    "    - [Random Forest](#Random-Forest)\n",
    "    - [SVM](#SVM)\n",
    "\n",
    "    - [Parameter tuning](#Parameter-tuning)\n",
    "    - [Train final model](#Train-final-model)\n",
    "    \n",
    "    \n",
    "6. [Step 3: Reproducibility](#Step-3:-Reproducibility)\n",
    "\n",
    "    - [NLP + Model version](#NLP-+-Model-version)\n",
    "    - [Model only version](#Model-only-version)\n",
    "    \n",
    "    \n",
    "7. [Conclusions](#Conclusions)\n",
    "8. [Acknowledgements](#Acknowledgements)"
   ]
  },
  {
   "cell_type": "markdown",
   "metadata": {},
   "source": [
    "## Introduction\n",
    "\n",
    "[[go back to the top](#Predicting-Poetic-Movements)]\n",
    "\n",
    "After [scraping](01_webscraping.ipynb) PoetryFoundation.org for genre-labeled poems and [cleaning](02_data_cleaning.ipynb), I used [natural language processing (NLP)](03_nlp_features_eda.ipynb) techniques to analyze poetic structure across poetic genres and movements. \n",
    "\n",
    "Through text processing, exploratory data analysis, and feature engineering, I looked for insights into how poetic structure, word usage, lexical richness, and sentiment relate to the genre of a poem.\n",
    "\n",
    "In this notebook, I will create predictive models that classify poems into one of four umbrella movements: *Avant-Garde*, *Metropolitan*, *Modern*, or *Pre-1900*. This will help provide further insight and confirm my findings during EDA.\n",
    "\n",
    "The ultimate goal is to create a recommendation system that compares poem similarities and recommends individual poems to users. *(NOTE: To skip to the recommendation system notebook, click [here](05_recommendation_system.ipynb))*.\n",
    "\n",
    "## The problem domain\n",
    "\n",
    "[[go back to the top](#Predicting-Poetic-Movements)]\n",
    "\n",
    "Within written media, poetry is often regarded as enigmatic, frivolous, or too niche. As a result, poems (even by established poets) are often overlooked by larger publishers and literature-focused websites alike. (The anti-capitalist nature of poetry may play a role here as well). There are services for rating and recommending entire books (including poetry collections, to be fair) like GoodReads, Amazon, or Bookish, but to my knowledge, there aren't any sites or services that recommend poems on an individual level.\n",
    "\n",
    "With this in mind, I wondered how poem recommendation may even work. One often finds a genre or two that they like and searches that out, but there must be elements of poetry that transcend genre. If there are, machine learning seems like a perfect tool to use to find them. As a poet and writer, I am interested in creating something that will allow me to discover genres and movements that I may have previously ignored. I can do this by using poems I already know and enjoy to find similar poems from genres I may not know as well.\n",
    "\n",
    "## Required libraries\n",
    "\n",
    "[[go back to the top](#Predicting-Poetic-Movements)]\n",
    "\n",
    "This notebook uses several Python packages that come standard with the Anaconda Python distribution. Libraries within this category that I'll be using are:\n",
    "\n",
    "- **numpy**: Provides a fast numerical array structure and helper functions.\n",
    "- **pandas**: Provides a DataFrame structure to store data in memory and work with it easily and efficiently.\n",
    "- **matplotlib**: Basic plotting library in Python; most other Python plotting libraries are built on top of it.\n",
    "- **seaborn**: Advanced statistical plotting library.\n",
    "- **scipy**: The essential statistical analysis package in Python.\n",
    "- **collections**: A package with specialized and higher-performance data structures.\n",
    "- **warnings**: A helpful package to ignore warnings that unnecessarily clutter the notebook.\n",
    "- **watermark**: A Jupyter Notebook extension for printing timestamps, version numbers, and hardware information.\n",
    "\n",
    "This notebook also uses some additional packages that you may have to install:\n",
    "\n",
    "- **nltk**: The essential natural language processing package.\n",
    "- **gensim**: A more specialized natural language processing package.\n",
    "- **pickle**: Package to save a file as a byte stream.\n",
    "- **gzip**: Package to compress/unpack files.\n",
    "\n",
    "Finally, included within the repository, and necessary to run this workbook, is:\n",
    "- **[functions](functions.py)**: Custom functions that I built for this project.\n",
    "\n",
    "Required within the functions file are:\n",
    "- **itertools**: An package aiding in advanced iteration techniques.\n",
    "- **regex**: The essential string matching and capturing package.\n",
    "- **string**: A package with string-specific operations and characters.\n",
    "- **pronouncing**: A package utilizing the CMU Pronouncing Dictionary that can break language down by syllable, rhyme, and meter.\n",
    "- **textblob**: A supplementary package to enhance the nltk package."
   ]
  },
  {
   "cell_type": "code",
   "execution_count": 1,
   "metadata": {},
   "outputs": [
    {
     "name": "stderr",
     "output_type": "stream",
     "text": [
      "Using TensorFlow backend.\n"
     ]
    }
   ],
   "source": [
    "# custom functions for this project\n",
    "from functions import *\n",
    "\n",
    "# dataframe libraries\n",
    "import pandas as pd\n",
    "import numpy as np\n",
    "\n",
    "# graphing libraries\n",
    "import matplotlib.pyplot as plt\n",
    "import seaborn as sns; sns.set_style('ticks')\n",
    "\n",
    "# text processing\n",
    "# from nltk import RegexpTokenizer\n",
    "# from gensim import matutils, models\n",
    "from sklearn.feature_extraction.text import TfidfVectorizer\n",
    "import scipy.sparse\n",
    "\n",
    "# modeling\n",
    "from sklearn.model_selection import train_test_split, cross_val_score\n",
    "from sklearn.preprocessing import MinMaxScaler, StandardScaler, LabelEncoder\n",
    "from sklearn.naive_bayes import MultinomialNB, BernoulliNB\n",
    "from sklearn.ensemble import RandomForestClassifier\n",
    "from sklearn.tree import DecisionTreeClassifier\n",
    "from sklearn.metrics import accuracy_score, f1_score, classification_report, confusion_matrix\n",
    "from sklearn.svm import SVC\n",
    "\n",
    "from keras.models import Sequential\n",
    "from keras.layers import Dense, LSTM, Bidirectional\n",
    "from keras.layers.embeddings import Embedding\n",
    "from keras.preprocessing import sequence\n",
    "\n",
    "# miscellany\n",
    "import time\n",
    "import gzip\n",
    "import pickle\n",
    "\n",
    "# reload functions/libraries when edited\n",
    "%load_ext autoreload\n",
    "%autoreload 2\n",
    "\n",
    "# ignore sklearn/tensorflow warnings\n",
    "def warn(*args, **kwargs):\n",
    "    pass\n",
    "import warnings\n",
    "warnings.warn = warn\n",
    "warnings.filterwarnings('ignore')\n",
    "\n",
    "# increase column width of dataframe\n",
    "pd.set_option('max_colwidth', 150)"
   ]
  },
  {
   "cell_type": "markdown",
   "metadata": {},
   "source": [
    "# Step 1: Preparing the data\n",
    "\n",
    "[[go back to the top](#Predicting-Poetic-Movements)]\n",
    "\n",
    "- Look for any highly correlated variables, to fight against the curse of dimensionality.\n",
    "- Deal with any outlier data.\n",
    "\n",
    "#### 💾 Load DataFrame"
   ]
  },
  {
   "cell_type": "code",
   "execution_count": 2,
   "metadata": {},
   "outputs": [],
   "source": [
    "# uncomment to load\n",
    "with gzip.open('data/poetry_movements_df.pkl', 'rb') as hello:\n",
    "    df = pickle.load(hello)"
   ]
  },
  {
   "cell_type": "code",
   "execution_count": 3,
   "metadata": {},
   "outputs": [
    {
     "data": {
      "text/plain": [
       "Index(['poet', 'poem_url', 'title', 'poem_lines', 'poem_string', 'genre',\n",
       "       'movement', 'clean_lines', 'num_lines', 'lines_titled', 'num_words',\n",
       "       'avg_len_line', 'string_titled', 'sentiment_polarity_score',\n",
       "       'sentiment_polarity', 'sentiment_subjectivity_score', 'num_end_rhymes',\n",
       "       'end_rhyme_ratio', 'end_rhyme', 'avg_syllables_word',\n",
       "       'lexical_richness', 'string_cleaned'],\n",
       "      dtype='object')"
      ]
     },
     "execution_count": 3,
     "metadata": {},
     "output_type": "execute_result"
    }
   ],
   "source": [
    "df.columns"
   ]
  },
  {
   "cell_type": "code",
   "execution_count": 4,
   "metadata": {},
   "outputs": [
    {
     "data": {
      "text/plain": [
       "modern          0.288832\n",
       "metropolitan    0.248665\n",
       "pre_1900        0.240771\n",
       "avant_garde     0.221732\n",
       "Name: movement, dtype: float64"
      ]
     },
     "execution_count": 4,
     "metadata": {},
     "output_type": "execute_result"
    }
   ],
   "source": [
    "# check out the class balance\n",
    "df.movement.value_counts(normalize=True)"
   ]
  },
  {
   "cell_type": "markdown",
   "metadata": {},
   "source": [
    "### Multicollinearity\n",
    "\n",
    "[[go back to the top](#Predicting-Poetic-Movements)]"
   ]
  },
  {
   "cell_type": "code",
   "execution_count": 5,
   "metadata": {},
   "outputs": [],
   "source": [
    "# list of continuous variables\n",
    "cont_cols = [\n",
    "    'num_lines', 'num_words', 'avg_len_line', \n",
    "    'sentiment_polarity_score', 'sentiment_subjectivity_score', \n",
    "    'num_end_rhymes', 'end_rhyme_ratio', 'avg_syllables_word', \n",
    "    'lexical_richness'\n",
    "]"
   ]
  },
  {
   "cell_type": "code",
   "execution_count": 6,
   "metadata": {},
   "outputs": [
    {
     "data": {
      "image/png": "[encoded data removed]",
      "text/plain": [
       "<Figure size 864x720 with 2 Axes>"
      ]
     },
     "metadata": {
      "needs_background": "light"
     },
     "output_type": "display_data"
    }
   ],
   "source": [
    "# plot correlation matrix\n",
    "plt.figure(figsize=(12,10))\n",
    "sns.heatmap(df[cont_cols].corr(), annot=True);"
   ]
  },
  {
   "cell_type": "markdown",
   "metadata": {},
   "source": [
    "- As seen in the [previous notebook](03_nlp_features_eda.ipynb), the number of lines (```num_lines```) and number of words (```num_words```) in a poem are very highly correlated.\n",
    "    - I'll drop ```num_words```, as the number of lines is a more widely used metric for the length of a poem.\n",
    "- The number of end rhymes (```num_end_rhymes```) is also rather highly correlated with ```num_lines```, so it's worth considering dropping that.\n",
    "    - I found the ratio of end rhymes to the number of lines (```end_rhyme_ratio```) to be more statistically significant than the number of end rhymes, so I'd prefer to use that as my end rhyme metric anyway."
   ]
  },
  {
   "cell_type": "code",
   "execution_count": 7,
   "metadata": {},
   "outputs": [],
   "source": [
    "# new list of continuous variables\n",
    "cont_cols = [\n",
    "    'num_lines', 'avg_len_line', 'sentiment_polarity_score', \n",
    "    'sentiment_subjectivity_score', 'end_rhyme_ratio', \n",
    "    'avg_syllables_word', 'lexical_richness'\n",
    "]"
   ]
  },
  {
   "cell_type": "code",
   "execution_count": 8,
   "metadata": {},
   "outputs": [
    {
     "data": {
      "image/png": "[encoded data removed]",
      "text/plain": [
       "<Figure size 864x720 with 2 Axes>"
      ]
     },
     "metadata": {
      "needs_background": "light"
     },
     "output_type": "display_data"
    }
   ],
   "source": [
    "# plot correlation matrix\n",
    "plt.figure(figsize=(12,10))\n",
    "sns.heatmap(df[cont_cols].corr(), annot=True);"
   ]
  },
  {
   "cell_type": "markdown",
   "metadata": {},
   "source": [
    "### Dealing with outliers\n",
    "\n",
    "[[go back to the top](#Predicting-Poetic-Movements)]\n",
    "\n",
    "- Cap or floor outlier values as necessary."
   ]
  },
  {
   "cell_type": "code",
   "execution_count": 9,
   "metadata": {},
   "outputs": [],
   "source": [
    "# make a copy for which I can rein in outlier values\n",
    "df_capped = df.copy()"
   ]
  },
  {
   "cell_type": "code",
   "execution_count": 10,
   "metadata": {},
   "outputs": [
    {
     "name": "stdout",
     "output_type": "stream",
     "text": [
      "num_lines                       7.000000\n",
      "avg_len_line                    3.346818\n",
      "sentiment_polarity_score       -0.970270\n",
      "sentiment_subjectivity_score    0.257885\n",
      "end_rhyme_ratio                 0.000000\n",
      "avg_syllables_word              1.092393\n",
      "lexical_richness                0.440678\n",
      "Name: 0.05, dtype: float64\n",
      "------------------------------------------\n",
      "num_lines                       131.700000\n",
      "avg_len_line                      9.750000\n",
      "sentiment_polarity_score          0.995900\n",
      "sentiment_subjectivity_score      0.687500\n",
      "end_rhyme_ratio                   1.009091\n",
      "avg_syllables_word                1.372212\n",
      "lexical_richness                  0.850402\n",
      "Name: 0.95, dtype: float64\n"
     ]
    }
   ],
   "source": [
    "# find the outlier thresholds (using winsorization)\n",
    "min_thresh = df[cont_cols].quantile(0.05)\n",
    "max_thresh = df[cont_cols].quantile(0.95)\n",
    "print(min_thresh)\n",
    "print('-' * 42)\n",
    "print(max_thresh)"
   ]
  },
  {
   "cell_type": "markdown",
   "metadata": {},
   "source": [
    "#### Number of lines"
   ]
  },
  {
   "cell_type": "code",
   "execution_count": 11,
   "metadata": {
    "scrolled": true
   },
   "outputs": [
    {
     "data": {
      "text/plain": [
       "count    4307.000000\n",
       "mean       40.269561\n",
       "std        63.118049\n",
       "min         1.000000\n",
       "25%        14.000000\n",
       "50%        22.000000\n",
       "75%        40.000000\n",
       "max       892.000000\n",
       "Name: num_lines, dtype: float64"
      ]
     },
     "execution_count": 11,
     "metadata": {},
     "output_type": "execute_result"
    }
   ],
   "source": [
    "# descriptive stats\n",
    "df.num_lines.describe()"
   ]
  },
  {
   "cell_type": "code",
   "execution_count": 12,
   "metadata": {},
   "outputs": [
    {
     "data": {
      "image/png": "[encoded data removed]",
      "text/plain": [
       "<Figure size 432x288 with 1 Axes>"
      ]
     },
     "metadata": {
      "needs_background": "light"
     },
     "output_type": "display_data"
    }
   ],
   "source": [
    "# current distribution\n",
    "df.num_lines.hist(bins=100);"
   ]
  },
  {
   "cell_type": "code",
   "execution_count": 13,
   "metadata": {},
   "outputs": [
    {
     "data": {
      "text/plain": [
       "count    4307.000000\n",
       "mean       34.295147\n",
       "std        31.983861\n",
       "min         7.000000\n",
       "25%        14.000000\n",
       "50%        22.000000\n",
       "75%        40.000000\n",
       "max       131.700000\n",
       "Name: num_lines, dtype: float64"
      ]
     },
     "execution_count": 13,
     "metadata": {},
     "output_type": "execute_result"
    }
   ],
   "source": [
    "# cap/floor outliers\n",
    "df_capped['num_lines'] = winsorizer(df['num_lines'])\n",
    "\n",
    "# descriptive stats\n",
    "df_capped['num_lines'].describe()"
   ]
  },
  {
   "cell_type": "code",
   "execution_count": 14,
   "metadata": {
    "scrolled": true
   },
   "outputs": [
    {
     "data": {
      "image/png": "[encoded data removed]",
      "text/plain": [
       "<Figure size 432x288 with 1 Axes>"
      ]
     },
     "metadata": {
      "needs_background": "light"
     },
     "output_type": "display_data"
    }
   ],
   "source": [
    "# new distribution\n",
    "df_capped.num_lines.hist();"
   ]
  },
  {
   "cell_type": "markdown",
   "metadata": {},
   "source": [
    "#### Average words per line"
   ]
  },
  {
   "cell_type": "code",
   "execution_count": 15,
   "metadata": {
    "scrolled": true
   },
   "outputs": [
    {
     "data": {
      "text/plain": [
       "count    4307.000000\n",
       "mean        8.449181\n",
       "std        37.933747\n",
       "min         1.000000\n",
       "25%         5.260870\n",
       "50%         6.527778\n",
       "75%         7.714286\n",
       "max      1403.000000\n",
       "Name: avg_len_line, dtype: float64"
      ]
     },
     "execution_count": 15,
     "metadata": {},
     "output_type": "execute_result"
    }
   ],
   "source": [
    "# descriptive stats\n",
    "df.avg_len_line.describe()"
   ]
  },
  {
   "cell_type": "code",
   "execution_count": 16,
   "metadata": {},
   "outputs": [
    {
     "data": {
      "image/png": "[encoded data removed]",
      "text/plain": [
       "<Figure size 432x288 with 1 Axes>"
      ]
     },
     "metadata": {
      "needs_background": "light"
     },
     "output_type": "display_data"
    }
   ],
   "source": [
    "# current distribution\n",
    "df.avg_len_line.hist(bins=100);"
   ]
  },
  {
   "cell_type": "code",
   "execution_count": 17,
   "metadata": {},
   "outputs": [
    {
     "data": {
      "text/plain": [
       "count    4307.000000\n",
       "mean        6.494119\n",
       "std         1.721049\n",
       "min         3.346818\n",
       "25%         5.260870\n",
       "50%         6.527778\n",
       "75%         7.714286\n",
       "max         9.750000\n",
       "Name: avg_len_line, dtype: float64"
      ]
     },
     "execution_count": 17,
     "metadata": {},
     "output_type": "execute_result"
    }
   ],
   "source": [
    "# cap/floor outliers\n",
    "df_capped['avg_len_line'] = winsorizer(df['avg_len_line'])\n",
    "\n",
    "# descriptive stats\n",
    "df_capped['avg_len_line'].describe()"
   ]
  },
  {
   "cell_type": "code",
   "execution_count": 18,
   "metadata": {
    "scrolled": true
   },
   "outputs": [
    {
     "data": {
      "image/png": "[encoded data removed]",
      "text/plain": [
       "<Figure size 432x288 with 1 Axes>"
      ]
     },
     "metadata": {
      "needs_background": "light"
     },
     "output_type": "display_data"
    }
   ],
   "source": [
    "# new distribution\n",
    "df_capped.avg_len_line.hist();"
   ]
  },
  {
   "cell_type": "markdown",
   "metadata": {},
   "source": [
    "#### End rhyme ratio"
   ]
  },
  {
   "cell_type": "code",
   "execution_count": 19,
   "metadata": {
    "scrolled": true
   },
   "outputs": [
    {
     "data": {
      "text/plain": [
       "count    4307.000000\n",
       "mean        0.302165\n",
       "std         0.561589\n",
       "min         0.000000\n",
       "25%         0.000000\n",
       "50%         0.127389\n",
       "75%         0.416667\n",
       "max        13.846154\n",
       "Name: end_rhyme_ratio, dtype: float64"
      ]
     },
     "execution_count": 19,
     "metadata": {},
     "output_type": "execute_result"
    }
   ],
   "source": [
    "# descriptive stats\n",
    "df.end_rhyme_ratio.describe()"
   ]
  },
  {
   "cell_type": "code",
   "execution_count": 20,
   "metadata": {},
   "outputs": [
    {
     "data": {
      "image/png": "[encoded data removed]",
      "text/plain": [
       "<Figure size 432x288 with 1 Axes>"
      ]
     },
     "metadata": {
      "needs_background": "light"
     },
     "output_type": "display_data"
    }
   ],
   "source": [
    "# current distribution\n",
    "df.end_rhyme_ratio.hist(bins=100);"
   ]
  },
  {
   "cell_type": "code",
   "execution_count": 21,
   "metadata": {},
   "outputs": [
    {
     "data": {
      "text/plain": [
       "count    4307.000000\n",
       "mean        0.254074\n",
       "std         0.293332\n",
       "min         0.000000\n",
       "25%         0.000000\n",
       "50%         0.127389\n",
       "75%         0.416667\n",
       "max         1.009091\n",
       "Name: end_rhyme_ratio, dtype: float64"
      ]
     },
     "execution_count": 21,
     "metadata": {},
     "output_type": "execute_result"
    }
   ],
   "source": [
    "# cap/floor outliers\n",
    "df_capped['end_rhyme_ratio'] = winsorizer(df['end_rhyme_ratio'])\n",
    "\n",
    "# descriptive stats\n",
    "df_capped['end_rhyme_ratio'].describe()"
   ]
  },
  {
   "cell_type": "code",
   "execution_count": 22,
   "metadata": {
    "scrolled": true
   },
   "outputs": [
    {
     "data": {
      "image/png": "[encoded data removed]",
      "text/plain": [
       "<Figure size 432x288 with 1 Axes>"
      ]
     },
     "metadata": {
      "needs_background": "light"
     },
     "output_type": "display_data"
    }
   ],
   "source": [
    "# new distribution\n",
    "df_capped.end_rhyme_ratio.hist();"
   ]
  },
  {
   "cell_type": "markdown",
   "metadata": {},
   "source": [
    "#### Average number of syllables per word"
   ]
  },
  {
   "cell_type": "code",
   "execution_count": 23,
   "metadata": {
    "scrolled": true
   },
   "outputs": [
    {
     "data": {
      "text/plain": [
       "count    4307.000000\n",
       "mean        1.214609\n",
       "std         0.087841\n",
       "min         1.000000\n",
       "25%         1.155752\n",
       "50%         1.204545\n",
       "75%         1.261905\n",
       "max         1.771930\n",
       "Name: avg_syllables_word, dtype: float64"
      ]
     },
     "execution_count": 23,
     "metadata": {},
     "output_type": "execute_result"
    }
   ],
   "source": [
    "# descriptive stats\n",
    "df.avg_syllables_word.describe()"
   ]
  },
  {
   "cell_type": "code",
   "execution_count": 24,
   "metadata": {},
   "outputs": [
    {
     "data": {
      "image/png": "[encoded data removed]",
      "text/plain": [
       "<Figure size 432x288 with 1 Axes>"
      ]
     },
     "metadata": {
      "needs_background": "light"
     },
     "output_type": "display_data"
    }
   ],
   "source": [
    "# current distribution\n",
    "df.avg_syllables_word.hist(bins=100);"
   ]
  },
  {
   "cell_type": "code",
   "execution_count": 25,
   "metadata": {},
   "outputs": [
    {
     "data": {
      "text/plain": [
       "count    4307.000000\n",
       "mean        1.212364\n",
       "std         0.075228\n",
       "min         1.092393\n",
       "25%         1.155752\n",
       "50%         1.204545\n",
       "75%         1.261905\n",
       "max         1.372212\n",
       "Name: avg_syllables_word, dtype: float64"
      ]
     },
     "execution_count": 25,
     "metadata": {},
     "output_type": "execute_result"
    }
   ],
   "source": [
    "# cap/floor outliers\n",
    "df_capped['avg_syllables_word'] = winsorizer(df['avg_syllables_word'])\n",
    "\n",
    "# descriptive stats\n",
    "df_capped['avg_syllables_word'].describe()"
   ]
  },
  {
   "cell_type": "code",
   "execution_count": 26,
   "metadata": {
    "scrolled": true
   },
   "outputs": [
    {
     "data": {
      "image/png": "[encoded data removed]",
      "text/plain": [
       "<Figure size 432x288 with 1 Axes>"
      ]
     },
     "metadata": {
      "needs_background": "light"
     },
     "output_type": "display_data"
    }
   ],
   "source": [
    "# new distribution\n",
    "df_capped.avg_syllables_word.hist();"
   ]
  },
  {
   "cell_type": "markdown",
   "metadata": {},
   "source": [
    "#### Lexical richness"
   ]
  },
  {
   "cell_type": "code",
   "execution_count": 27,
   "metadata": {
    "scrolled": true
   },
   "outputs": [
    {
     "data": {
      "text/plain": [
       "count    4307.000000\n",
       "mean        0.657667\n",
       "std         0.125099\n",
       "min         0.066667\n",
       "25%         0.580302\n",
       "50%         0.666667\n",
       "75%         0.740260\n",
       "max         1.000000\n",
       "Name: lexical_richness, dtype: float64"
      ]
     },
     "execution_count": 27,
     "metadata": {},
     "output_type": "execute_result"
    }
   ],
   "source": [
    "# descriptive stats\n",
    "df.lexical_richness.describe()"
   ]
  },
  {
   "cell_type": "code",
   "execution_count": 28,
   "metadata": {},
   "outputs": [
    {
     "data": {
      "image/png": "[encoded data removed]",
      "text/plain": [
       "<Figure size 432x288 with 1 Axes>"
      ]
     },
     "metadata": {
      "needs_background": "light"
     },
     "output_type": "display_data"
    }
   ],
   "source": [
    "# current distribution\n",
    "df.lexical_richness.hist(bins=100);"
   ]
  },
  {
   "cell_type": "code",
   "execution_count": 29,
   "metadata": {},
   "outputs": [
    {
     "data": {
      "text/plain": [
       "count    4307.000000\n",
       "mean        0.658047\n",
       "std         0.111326\n",
       "min         0.440678\n",
       "25%         0.580302\n",
       "50%         0.666667\n",
       "75%         0.740260\n",
       "max         0.850402\n",
       "Name: lexical_richness, dtype: float64"
      ]
     },
     "execution_count": 29,
     "metadata": {},
     "output_type": "execute_result"
    }
   ],
   "source": [
    "# cap/floor outliers\n",
    "df_capped['lexical_richness'] = winsorizer(df['lexical_richness'])\n",
    "\n",
    "# descriptive stats\n",
    "df_capped['lexical_richness'].describe()"
   ]
  },
  {
   "cell_type": "code",
   "execution_count": 30,
   "metadata": {
    "scrolled": true
   },
   "outputs": [
    {
     "data": {
      "image/png": "[encoded data removed]",
      "text/plain": [
       "<Figure size 432x288 with 1 Axes>"
      ]
     },
     "metadata": {
      "needs_background": "light"
     },
     "output_type": "display_data"
    }
   ],
   "source": [
    "# new distribution\n",
    "df_capped.lexical_richness.hist();"
   ]
  },
  {
   "cell_type": "markdown",
   "metadata": {},
   "source": [
    "#### Subjectivity score"
   ]
  },
  {
   "cell_type": "code",
   "execution_count": 31,
   "metadata": {
    "scrolled": true
   },
   "outputs": [
    {
     "data": {
      "text/plain": [
       "count    4307.000000\n",
       "mean        0.478008\n",
       "std         0.135322\n",
       "min         0.000000\n",
       "25%         0.410284\n",
       "50%         0.484470\n",
       "75%         0.550000\n",
       "max         1.000000\n",
       "Name: sentiment_subjectivity_score, dtype: float64"
      ]
     },
     "execution_count": 31,
     "metadata": {},
     "output_type": "execute_result"
    }
   ],
   "source": [
    "# descriptive stats\n",
    "df.sentiment_subjectivity_score.describe()"
   ]
  },
  {
   "cell_type": "code",
   "execution_count": 32,
   "metadata": {},
   "outputs": [
    {
     "data": {
      "image/png": "[encoded data removed]",
      "text/plain": [
       "<Figure size 432x288 with 1 Axes>"
      ]
     },
     "metadata": {
      "needs_background": "light"
     },
     "output_type": "display_data"
    }
   ],
   "source": [
    "# current distribution\n",
    "df.sentiment_subjectivity_score.hist(bins=100);"
   ]
  },
  {
   "cell_type": "code",
   "execution_count": 33,
   "metadata": {},
   "outputs": [
    {
     "data": {
      "text/plain": [
       "count    4307.000000\n",
       "mean        0.479417\n",
       "std         0.109112\n",
       "min         0.257885\n",
       "25%         0.410284\n",
       "50%         0.484470\n",
       "75%         0.550000\n",
       "max         0.687500\n",
       "Name: sentiment_subjectivity_score, dtype: float64"
      ]
     },
     "execution_count": 33,
     "metadata": {},
     "output_type": "execute_result"
    }
   ],
   "source": [
    "# cap/floor outliers\n",
    "df_capped['sentiment_subjectivity_score'] = winsorizer(df['sentiment_subjectivity_score'])\n",
    "\n",
    "# descriptive stats\n",
    "df_capped['sentiment_subjectivity_score'].describe()"
   ]
  },
  {
   "cell_type": "code",
   "execution_count": 34,
   "metadata": {
    "scrolled": true
   },
   "outputs": [
    {
     "data": {
      "image/png": "[encoded data removed]",
      "text/plain": [
       "<Figure size 432x288 with 1 Axes>"
      ]
     },
     "metadata": {
      "needs_background": "light"
     },
     "output_type": "display_data"
    }
   ],
   "source": [
    "# new distribution\n",
    "df_capped.sentiment_subjectivity_score.hist();"
   ]
  },
  {
   "cell_type": "markdown",
   "metadata": {},
   "source": [
    "### 💾 Save/Load DataFrame\n",
    "\n",
    "[[go back to the top](#Predicting-Poetic-Movements)]"
   ]
  },
  {
   "cell_type": "code",
   "execution_count": 35,
   "metadata": {},
   "outputs": [],
   "source": [
    "# # uncomment to save\n",
    "# with gzip.open('data/poetry_movements_df_capped.pkl', 'wb') as goodbye:\n",
    "#     pickle.dump(df_capped, goodbye, protocol=pickle.HIGHEST_PROTOCOL)\n",
    "    \n",
    "# # uncomment to load\n",
    "# with gzip.open('data/poetry_movements_df_capped.pkl', 'rb') as hello:\n",
    "#     df_capped = pickle.load(hello)"
   ]
  },
  {
   "cell_type": "markdown",
   "metadata": {},
   "source": [
    "### Train-test split\n",
    "\n",
    "[[go back to the top](#Predicting-Poetic-Movements)]\n",
    "\n",
    "- Create features DataFrame and target series. \n",
    "- Use 75% of the data as a training set and 25% as a testing set.\n",
    "- Since I want to see if my engineered features improve my models beyond those using only word vectors, I'll also create separate vector-only training and testing sets.\n",
    "    - Scale my engineered features.\n",
    "    \n",
    "#### Features and target"
   ]
  },
  {
   "cell_type": "code",
   "execution_count": 36,
   "metadata": {},
   "outputs": [],
   "source": [
    "# create features dataframe\n",
    "X = df[\n",
    "    ['num_lines', 'avg_len_line', 'sentiment_polarity_score', \n",
    "     'sentiment_subjectivity_score', 'end_rhyme_ratio', \n",
    "     'avg_syllables_word', 'lexical_richness', \n",
    "     'string_cleaned']\n",
    "]\n",
    "\n",
    "# assign target variable\n",
    "y = df['movement']"
   ]
  },
  {
   "cell_type": "code",
   "execution_count": 37,
   "metadata": {},
   "outputs": [
    {
     "name": "stdout",
     "output_type": "stream",
     "text": [
      "Train shape (rows, columns): (3230, 8)\n",
      "Test shape (rows, columns): (1077, 8)\n"
     ]
    }
   ],
   "source": [
    "# train-test split\n",
    "X_train, X_test, y_train, y_test = train_test_split(X, y, stratify=y, random_state=42)\n",
    "\n",
    "print(f'Train shape (rows, columns): {X_train.shape}')\n",
    "print(f'Test shape (rows, columns): {X_test.shape}')"
   ]
  },
  {
   "cell_type": "markdown",
   "metadata": {},
   "source": [
    "#### Scale numerical data"
   ]
  },
  {
   "cell_type": "code",
   "execution_count": 38,
   "metadata": {},
   "outputs": [],
   "source": [
    "# separate out numerical data\n",
    "X_train_nums = X_train.drop(columns='string_cleaned')\n",
    "X_test_nums = X_test.drop(columns='string_cleaned')"
   ]
  },
  {
   "cell_type": "code",
   "execution_count": 39,
   "metadata": {},
   "outputs": [],
   "source": [
    "# instantiate scaler\n",
    "scaler = MinMaxScaler()\n",
    "\n",
    "# scale numerical data\n",
    "X_train_scaled = scaler.fit_transform(X_train_nums)\n",
    "X_test_scaled = scaler.transform(X_test_nums)\n",
    "\n",
    "# turn the arrays into dataframes\n",
    "X_train_scaled_df = pd.DataFrame(X_train_scaled, columns=X_train_nums.columns)\n",
    "X_test_scaled_df = pd.DataFrame(X_test_scaled, columns=X_test_nums.columns)"
   ]
  },
  {
   "cell_type": "markdown",
   "metadata": {},
   "source": [
    "### Vectors DataFrame\n",
    "\n",
    "[[go back to the top](#Predicting-Poetic-Movements)]\n",
    "\n",
    "- Create a DataFrame of just word vectors (sparse), using TF-IDF Vectorizer."
   ]
  },
  {
   "cell_type": "code",
   "execution_count": 40,
   "metadata": {},
   "outputs": [],
   "source": [
    "# instantiate vectorizer\n",
    "vectorizer = TfidfVectorizer()\n",
    "\n",
    "# fit to training data's string_cleaned column and transform train and test sets\n",
    "X_train_vec_matrix = vectorizer.fit_transform(X_train.string_cleaned)\n",
    "X_test_vec_matrix = vectorizer.transform(X_test.string_cleaned)"
   ]
  },
  {
   "cell_type": "code",
   "execution_count": 41,
   "metadata": {},
   "outputs": [
    {
     "name": "stdout",
     "output_type": "stream",
     "text": [
      "CPU times: user 17.6 s, sys: 101 ms, total: 17.7 s\n",
      "Wall time: 17.8 s\n"
     ]
    }
   ],
   "source": [
    "%%time\n",
    "\n",
    "# convert tf-idf vectors into dataframe so I can better view feature importances\n",
    "X_train_vec = pd.DataFrame.sparse.from_spmatrix(X_train_vec_matrix, columns=vectorizer.get_feature_names())\n",
    "X_test_vec = pd.DataFrame.sparse.from_spmatrix(X_test_vec_matrix, columns=vectorizer.get_feature_names())"
   ]
  },
  {
   "cell_type": "markdown",
   "metadata": {},
   "source": [
    "### Combo DataFrame\n",
    "\n",
    "[[go back to the top](#Predicting-Poetic-Movements)]\n",
    "\n",
    "- Combine vectors DataFrame with scaled numerical DataFrame."
   ]
  },
  {
   "cell_type": "code",
   "execution_count": 42,
   "metadata": {},
   "outputs": [],
   "source": [
    "# combine the numerical and vector dataframes for both train and test sets\n",
    "X_train_combo = pd.concat([X_train_scaled_df, X_train_vec], axis=1)\n",
    "X_test_combo = pd.concat([X_test_scaled_df, X_test_vec], axis=1)"
   ]
  },
  {
   "cell_type": "markdown",
   "metadata": {},
   "source": [
    "# Step 2: Modeling\n",
    "\n",
    "[[go back to the top](#Predicting-Poetic-Movements)]\n",
    "\n",
    "- I'll test out untuned Bernoulli Naive Bayes and Decision Tree models on both my vectors-only set and vectors-plus-features set.\n",
    "- After an initial run through our basic models, I'll tune parameters.\n",
    "- Finally, I can train and save a final model.\n",
    "\n",
    "\n",
    "----------------------------\n",
    "\n",
    "- Because the dataset is so large (in both rows and columns) and cross-validation is so intensive, we are only able to use train-test split to cross-validate.\n"
   ]
  },
  {
   "cell_type": "markdown",
   "metadata": {},
   "source": [
    "## Baseline model\n",
    "\n",
    "[[go back to the top](#Predicting-Poetic-Movements)]\n",
    "\n",
    "- First, I'll try a model using only the TF-IDF vectors.\n",
    "- Then I'll try a model using both my numerical features and the TF-IDF vectors.\n",
    "\n",
    "### Vectors only"
   ]
  },
  {
   "cell_type": "code",
   "execution_count": 43,
   "metadata": {},
   "outputs": [
    {
     "name": "stdout",
     "output_type": "stream",
     "text": [
      "CPU times: user 4.46 s, sys: 656 ms, total: 5.12 s\n",
      "Wall time: 4.72 s\n"
     ]
    },
    {
     "data": {
      "text/plain": [
       "BernoulliNB(alpha=1.0, binarize=0.0, class_prior=None, fit_prior=True)"
      ]
     },
     "execution_count": 43,
     "metadata": {},
     "output_type": "execute_result"
    }
   ],
   "source": [
    "%%time\n",
    "\n",
    "# instantiate the naive bayes classifier\n",
    "benaba_vec = BernoulliNB()\n",
    "\n",
    "# fit it to our training set\n",
    "benaba_vec.fit(X_train_vec, y_train)"
   ]
  },
  {
   "cell_type": "code",
   "execution_count": 44,
   "metadata": {},
   "outputs": [
    {
     "name": "stdout",
     "output_type": "stream",
     "text": [
      "-----TRAIN-----\n",
      "Accuracy: 0.6575851393188854\n",
      "F1 score: 0.662223098170161\n",
      "\n",
      "-----TEST-----\n",
      "Accuracy: 0.4428969359331476\n",
      "F1 score: 0.41395254927457104\n",
      "\n",
      "----------------------------------------------------------------------------------------------------\n",
      "\n",
      "              precision    recall  f1-score   support\n",
      "\n",
      "metropolitan       0.62      0.12      0.20       239\n",
      " avant_garde       0.65      0.33      0.44       268\n",
      "      modern       0.35      0.84      0.49       311\n",
      "    pre_1900       0.70      0.38      0.49       259\n",
      "\n",
      "    accuracy                           0.44      1077\n",
      "   macro avg       0.58      0.42      0.41      1077\n",
      "weighted avg       0.57      0.44      0.41      1077\n",
      "\n",
      "\n",
      "----------------------------------------------------------------------------------------------------\n",
      "\n",
      "CONFUSION MATRIX:\n",
      "\n",
      "[[ 29  28 175   7]\n",
      " [ 14  88 158   8]\n",
      " [  4  18 261  28]\n",
      " [  0   2 158  99]]\n",
      "CPU times: user 6.79 s, sys: 949 ms, total: 7.74 s\n",
      "Wall time: 6.56 s\n"
     ]
    }
   ],
   "source": [
    "%%time\n",
    "\n",
    "# predict the new document from the testing dataset\n",
    "y_train_preds_bnb_vec = benaba_vec.predict(X_train_vec)\n",
    "y_test_preds_bnb_vec = benaba_vec.predict(X_test_vec)\n",
    "\n",
    "# print out accuracy and f1 scores for train set\n",
    "benaba_vec_acc_train = accuracy_score(y_train, y_train_preds_bnb_vec)\n",
    "benaba_vec_f1_train = f1_score(y_train, y_train_preds_bnb_vec, average='weighted')\n",
    "\n",
    "print('-----TRAIN-----')\n",
    "print(f'Accuracy: {benaba_vec_acc_train}')\n",
    "print(f'F1 score: {benaba_vec_f1_train}')\n",
    "\n",
    "# print out accuracy and f1 scores for test set\n",
    "benaba_vec_acc_test = accuracy_score(y_test, y_test_preds_bnb_vec)\n",
    "benaba_vec_f1_test = f1_score(y_test, y_test_preds_bnb_vec, average='weighted')\n",
    "\n",
    "print('\\n-----TEST-----')\n",
    "print(f'Accuracy: {benaba_vec_acc_test}')\n",
    "print(f'F1 score: {benaba_vec_f1_test}')\n",
    "\n",
    "print('\\n' + '-' * 100 + '\\n')\n",
    "\n",
    "# print out report\n",
    "print(classification_report(y_test, y_test_preds_bnb_vec, target_names=list(y.unique())))\n",
    "\n",
    "print('\\n' + '-' * 100 + '\\n')\n",
    "\n",
    "# print out confusion matrix\n",
    "print(\"CONFUSION MATRIX:\\n\")\n",
    "print(confusion_matrix(y_test, y_test_preds_bnb_vec))"
   ]
  },
  {
   "cell_type": "markdown",
   "metadata": {},
   "source": [
    "- Not too bad for a baseline. Certainly better than just predicting 'modern', which would give you a 29% accuracy.\n",
    "- That said, it is indeed overpredicting on 'modern'.\n",
    "- It appears to be having the most trouble with Metropolitan poetry.\n",
    "\n",
    "#### Feature importances"
   ]
  },
  {
   "cell_type": "code",
   "execution_count": 45,
   "metadata": {},
   "outputs": [
    {
     "name": "stdout",
     "output_type": "stream",
     "text": [
      "Metropolitan tweets:\n",
      "aalto, nibbed, nib, niagara, nhat, nguin, ngorongoro, nglish, nghe, nez\n",
      "\n",
      "Avant-Garde tweets:\n",
      "zwim, scaut, scaur, gullied, scauld, scaul, scaud, scatterd, scathing, scath\n",
      "\n",
      "Modern tweets:\n",
      "aalto, morituri, morison, moribund, moriartys, moreton, moren, morello, mordecai, mormorio\n",
      "\n",
      "Pre-1900 tweets:\n",
      "aalto, halidom, halios, santo, hallelujah, santit, hallmark, halloing, santa, hallooed\n",
      "\n"
     ]
    }
   ],
   "source": [
    "# function to print top 10 features for each class\n",
    "print_nb_features(\n",
    "            benaba_vec,\n",
    "            X_train_vec,\n",
    "            ['metropolitan', 'avant_garde', 'modern', 'pre_1900']\n",
    "        )"
   ]
  },
  {
   "cell_type": "markdown",
   "metadata": {},
   "source": [
    "- An interesting mix of words, many of which appear to be typos or perhaps part of a hyphenated word that ran onto a different line.\n",
    "\n",
    "#### Confusion matrix"
   ]
  },
  {
   "cell_type": "code",
   "execution_count": 46,
   "metadata": {},
   "outputs": [
    {
     "data": {
      "image/png": "[encoded data removed]",
      "text/plain": [
       "<Figure size 576x432 with 2 Axes>"
      ]
     },
     "metadata": {
      "needs_background": "light"
     },
     "output_type": "display_data"
    }
   ],
   "source": [
    "# plot confusion matrix - normalized\n",
    "cm_benaba = confusion_matrix(y_test, y_test_preds_bnb_vec)\n",
    "classes = ['Metropolitan', 'Avant-Garde', 'Modern', 'Pre-1900']\n",
    "plot_confusion_matrix(cm_benaba, classes, normalize=True,\n",
    "                      title='Bernoulli NB Confusion Matrix\\nVectors Only', cmap=plt.cm.Blues)\n",
    "\n",
    "# uncomment to save\n",
    "plt.savefig('charts/bnb_vec_cm.png', transparent=True, bbox_inches='tight', dpi=100)"
   ]
  },
  {
   "cell_type": "markdown",
   "metadata": {},
   "source": [
    "### Vectors + numerical data"
   ]
  },
  {
   "cell_type": "code",
   "execution_count": 47,
   "metadata": {},
   "outputs": [
    {
     "name": "stdout",
     "output_type": "stream",
     "text": [
      "CPU times: user 9.33 s, sys: 1.94 s, total: 11.3 s\n",
      "Wall time: 11 s\n"
     ]
    },
    {
     "data": {
      "text/plain": [
       "BernoulliNB(alpha=1.0, binarize=0.0, class_prior=None, fit_prior=True)"
      ]
     },
     "execution_count": 47,
     "metadata": {},
     "output_type": "execute_result"
    }
   ],
   "source": [
    "%%time\n",
    "\n",
    "# instantiate the naive bayes classifier\n",
    "benaba_combo = BernoulliNB()\n",
    "\n",
    "# fit it to our training set\n",
    "benaba_combo.fit(X_train_combo, y_train)"
   ]
  },
  {
   "cell_type": "code",
   "execution_count": null,
   "metadata": {
    "scrolled": true
   },
   "outputs": [],
   "source": [
    "%%time\n",
    "\n",
    "# predict the new document from the testing dataset\n",
    "y_train_preds_bnb_combo = benaba_combo.predict(X_train_combo)\n",
    "y_test_preds_bnb_combo = benaba_combo.predict(X_test_combo)\n",
    "\n",
    "# print out accuracy and f1 scores for train set\n",
    "benaba_combo_acc_train = accuracy_score(y_train, y_train_preds_bnb_combo)\n",
    "benaba_combo_f1_train = f1_score(y_train, y_train_preds_bnb_combo, average='weighted')\n",
    "\n",
    "print('-----TRAIN-----')\n",
    "print(f'Accuracy: {benaba_combo_acc_train}')\n",
    "print(f'F1 score: {benaba_combo_f1_train}')\n",
    "\n",
    "# print out accuracy and f1 scores for test set\n",
    "benaba_combo_acc_test = accuracy_score(y_test, y_test_preds_bnb_combo)\n",
    "benaba_combo_f1_test = f1_score(y_test, y_test_preds_bnb_combo, average='weighted')\n",
    "\n",
    "print('\\n-----TEST-----')\n",
    "print(f'Accuracy: {benaba_combo_acc_test}')\n",
    "print(f'F1 score: {benaba_combo_f1_test}')\n",
    "\n",
    "print('\\n' + '-' * 100 + '\\n')\n",
    "\n",
    "# print out report\n",
    "print(classification_report(y_test, y_test_preds_bnb_combo, target_names=list(y.unique())))\n",
    "\n",
    "print('\\n' + '-' * 100 + '\\n')\n",
    "\n",
    "# print out confusion matrix\n",
    "print(\"CONFUSION MATRIX:\\n\")\n",
    "print(confusion_matrix(y_test, y_test_preds_bnb_combo))"
   ]
  },
  {
   "cell_type": "markdown",
   "metadata": {},
   "source": [
    "- Practically the same result; a very slight boost if anything.\n",
    "\n",
    "#### Feature importances"
   ]
  },
  {
   "cell_type": "code",
   "execution_count": null,
   "metadata": {},
   "outputs": [],
   "source": [
    "# function to print top 10 features for each class\n",
    "print_nb_features(\n",
    "            benaba_combo,\n",
    "            X_train_combo,\n",
    "            ['metropolitan', 'avant_garde', 'modern', 'pre_1900']\n",
    "        )"
   ]
  },
  {
   "cell_type": "markdown",
   "metadata": {},
   "source": [
    "- Interestingly, these are still all word vectors, but different from the vectors-only model.\n",
    "\n",
    "## Decision Tree\n",
    "\n",
    "[[go back to the top](#Predicting-Poetic-Movements)]\n",
    "\n",
    "- I'll first take a look at cross validation scores for a vectors only model and a combo model."
   ]
  },
  {
   "cell_type": "code",
   "execution_count": null,
   "metadata": {},
   "outputs": [],
   "source": [
    "%%time\n",
    "\n",
    "# instantiate decision tree classifiers\n",
    "tree_vec = DecisionTreeClassifier()\n",
    "tree_combo = DecisionTreeClassifier()\n",
    "\n",
    "# fit them to the training set and evaluate\n",
    "cv_scores_tree_vec = cross_val_score(\n",
    "    tree_vec, X_train_vec, y_train, \n",
    "    scoring='f1_weighted', cv=10, n_jobs=-1\n",
    ")\n",
    "\n",
    "cv_scores_tree_combo = cross_val_score(\n",
    "    tree_combo, X_train_combo, y_train, \n",
    "    scoring='f1_weighted', cv=10, n_jobs=-1\n",
    ")\n",
    "\n",
    "# create printout\n",
    "print('-----Vectors only-----')\n",
    "print(f'All scores: {cv_scores_tree_vec}')\n",
    "print(f'Average score: {np.mean(cv_scores_tree_vec)}\\n')\n",
    "print('------Vectors + Numerical Data-----')\n",
    "print(f'All scores: {cv_scores_tree_combo}')\n",
    "print(f'Average score: {np.mean(cv_scores_tree_combo)}\\n')"
   ]
  },
  {
   "cell_type": "markdown",
   "metadata": {},
   "source": [
    "- Naive Bayes performs better than the vectors only model here.\n",
    "- The combo model provides a decent bump, so I'll train one and look at the feature importances.\n",
    "\n",
    "### Vectors + numerical data"
   ]
  },
  {
   "cell_type": "code",
   "execution_count": null,
   "metadata": {},
   "outputs": [],
   "source": [
    "%%time\n",
    "\n",
    "# instantiate the model\n",
    "tree_combo = DecisionTreeClassifier(random_state=1)\n",
    "\n",
    "# fit to the training set\n",
    "tree_combo.fit(X_train_combo, y_train)"
   ]
  },
  {
   "cell_type": "code",
   "execution_count": null,
   "metadata": {},
   "outputs": [],
   "source": [
    "%%time\n",
    "\n",
    "# predict class for the train and test sets\n",
    "y_train_preds_tree_combo = tree_combo.predict(X_train_combo)\n",
    "y_test_preds_tree_combo = tree_combo.predict(X_test_combo)\n",
    "\n",
    "# print out accuracy and f1 scores for train set\n",
    "tree_combo_acc_train = accuracy_score(y_train, y_train_preds_tree_combo)\n",
    "tree_combo_f1_train = f1_score(y_train, y_train_preds_tree_combo, average='weighted')\n",
    "\n",
    "print('-----TRAIN-----')\n",
    "print(f'Accuracy: {tree_combo_acc_train}')\n",
    "print(f'F1 score: {tree_combo_f1_train}')\n",
    "\n",
    "# print out accuracy and f1 scores for test set\n",
    "tree_combo_acc_test = accuracy_score(y_test, y_test_preds_tree_combo)\n",
    "tree_combo_f1_test = f1_score(y_test, y_test_preds_tree_combo, average='weighted')\n",
    "\n",
    "print('\\n-----TEST-----')\n",
    "print(f'Accuracy: {tree_combo_acc_test}')\n",
    "print(f'F1 score: {tree_combo_f1_test}')\n",
    "\n",
    "print('\\n' + '-' * 100 + '\\n')\n",
    "\n",
    "# print out report for test predictions\n",
    "print(classification_report(y_test, y_test_preds_tree_combo, target_names=list(y.unique())))\n",
    "\n",
    "print('\\n' + '-' * 100 + '\\n')\n",
    "\n",
    "# print out confusion matrix\n",
    "print(\"CONFUSION MATRIX:\\n\")\n",
    "print(confusion_matrix(y_test, y_test_preds_tree_combo))"
   ]
  },
  {
   "cell_type": "markdown",
   "metadata": {},
   "source": [
    "#### Confusion matrix"
   ]
  },
  {
   "cell_type": "code",
   "execution_count": null,
   "metadata": {},
   "outputs": [],
   "source": [
    "# plot confusion matrix - normalized\n",
    "cm_benaba = confusion_matrix(y_test, y_test_preds_tree_combo)\n",
    "classes = ['Metropolitan', 'Avant-Garde', 'Modern', 'Pre-1900']\n",
    "plot_confusion_matrix(cm_benaba, classes, normalize=True,\n",
    "                      title='Decision Tree Confusion Matrix\\nVectors + Numerical Data', cmap=plt.cm.Blues)\n",
    "\n",
    "# uncomment to save\n",
    "plt.savefig('charts/dt_combo_cm.png', transparent=True, bbox_inches='tight', dpi=100)"
   ]
  },
  {
   "cell_type": "markdown",
   "metadata": {},
   "source": [
    "- This is definitely better than the Naive Bayes model.\n",
    "    - It predicts Modern a lot less.\n",
    "    - Predictions seem fairly evenly spread.\n",
    "    - Has trouble predicting Avant-Garde.\n",
    "    \n",
    "- That said, it is very overfit, as is generally true of decision trees.\n",
    "    \n",
    "#### Feature importances"
   ]
  },
  {
   "cell_type": "code",
   "execution_count": null,
   "metadata": {},
   "outputs": [],
   "source": [
    "# plot top 10 features\n",
    "plot_tree_features(tree_combo, X_train_combo)"
   ]
  },
  {
   "cell_type": "markdown",
   "metadata": {},
   "source": [
    "- Mostly engineered features, alongside some contractions that must have lacked apostrophes and thus made it through my text cleaner.\n",
    "\n",
    "## Random Forest\n",
    "\n",
    "[[go back to the top](#Predicting-Poetic-Movements)]\n",
    "\n",
    "- I'll first take a look at cross validation scores for a vectors only model and a combo model."
   ]
  },
  {
   "cell_type": "code",
   "execution_count": null,
   "metadata": {},
   "outputs": [],
   "source": [
    "%%time\n",
    "\n",
    "# instantiate random forest classifiers\n",
    "forest_vec = RandomForestClassifier()\n",
    "forest_combo = RandomForestClassifier()\n",
    "\n",
    "# fit them to the training set and evaluate\n",
    "cv_scores_forest_vec = cross_val_score(\n",
    "    forest_vec, X_train_vec, y_train, \n",
    "    scoring='f1_weighted', cv=10, n_jobs=-1\n",
    ")\n",
    "\n",
    "cv_scores_forest_combo = cross_val_score(\n",
    "    forest_combo, X_train_combo, y_train, \n",
    "    scoring='f1_weighted', cv=10, n_jobs=-1\n",
    ")\n",
    "\n",
    "# create printout\n",
    "print('-----Vectors only-----')\n",
    "print(f'All scores: {cv_scores_forest_vec}')\n",
    "print(f'Average score: {np.mean(cv_scores_forest_vec)}\\n')\n",
    "print('------Vectors + Numerical Data-----')\n",
    "print(f'All scores: {cv_scores_forest_combo}')\n",
    "print(f'Average score: {np.mean(cv_scores_forest_combo)}\\n')"
   ]
  },
  {
   "cell_type": "markdown",
   "metadata": {},
   "source": [
    "- Including engineered features seems more promising, so I'll move ahead with this one.\n",
    "\n",
    "### Vectors + numerical data"
   ]
  },
  {
   "cell_type": "code",
   "execution_count": null,
   "metadata": {},
   "outputs": [],
   "source": [
    "%%time\n",
    "\n",
    "# instantiate the model\n",
    "forest_combo = RandomForestClassifier(random_state=1)\n",
    "\n",
    "# fit to the training set\n",
    "forest_combo.fit(X_train_combo, y_train)"
   ]
  },
  {
   "cell_type": "code",
   "execution_count": null,
   "metadata": {},
   "outputs": [],
   "source": [
    "%%time\n",
    "\n",
    "# predict class for the train and test sets\n",
    "y_train_preds_forest_combo = forest_combo.predict(X_train_combo)\n",
    "y_test_preds_forest_combo = forest_combo.predict(X_test_combo)\n",
    "\n",
    "# print out accuracy and f1 scores for train set\n",
    "forest_combo_acc_train = accuracy_score(y_train, y_train_preds_forest_combo)\n",
    "forest_combo_f1_train = f1_score(y_train, y_train_preds_forest_combo, average='weighted')\n",
    "\n",
    "print('-----TRAIN-----')\n",
    "print(f'Accuracy: {forest_combo_acc_train}')\n",
    "print(f'F1 score: {forest_combo_f1_train}')\n",
    "\n",
    "# print out accuracy and f1 scores for test set\n",
    "forest_combo_acc_test = accuracy_score(y_test, y_test_preds_forest_combo)\n",
    "forest_combo_f1_test = f1_score(y_test, y_test_preds_forest_combo, average='weighted')\n",
    "\n",
    "print('\\n-----TEST-----')\n",
    "print(f'Accuracy: {forest_combo_acc_test}')\n",
    "print(f'F1 score: {forest_combo_f1_test}')\n",
    "\n",
    "print('\\n' + '-' * 100 + '\\n')\n",
    "\n",
    "# print out report for test predictions\n",
    "print(classification_report(y_test, y_test_preds_forest_combo, target_names=list(y.unique())))\n",
    "\n",
    "print('\\n' + '-' * 100 + '\\n')\n",
    "\n",
    "# print out confusion matrix\n",
    "print(\"CONFUSION MATRIX:\\n\")\n",
    "print(confusion_matrix(y_test, y_test_preds_forest_combo))"
   ]
  },
  {
   "cell_type": "markdown",
   "metadata": {},
   "source": [
    "#### Confusion matrix"
   ]
  },
  {
   "cell_type": "code",
   "execution_count": null,
   "metadata": {},
   "outputs": [],
   "source": [
    "# plot confusion matrix - normalized\n",
    "cm_benaba = confusion_matrix(y_test, y_test_preds_forest_combo)\n",
    "classes = ['Metropolitan', 'Avant-Garde', 'Modern', 'Pre-1900']\n",
    "plot_confusion_matrix(cm_benaba, classes, normalize=True,\n",
    "                      title='Random Forest Confusion Matrix\\nVectors + Numerical Data', cmap=plt.cm.Blues)\n",
    "\n",
    "# uncomment to save\n",
    "plt.savefig('charts/rf_combo_cm.png', transparent=True, bbox_inches='tight', dpi=100)"
   ]
  },
  {
   "cell_type": "markdown",
   "metadata": {},
   "source": [
    "- Big strides made on all categories here.\n",
    "- Looks like some improvement could be made for Avant-Garde and Metropolitan poetries.\n",
    "- Very overfit.\n",
    "\n",
    "#### Feature importances"
   ]
  },
  {
   "cell_type": "code",
   "execution_count": null,
   "metadata": {},
   "outputs": [],
   "source": [
    "plot_forest_features(\n",
    "    forest_combo, \n",
    "    X_train_combo)"
   ]
  },
  {
   "cell_type": "markdown",
   "metadata": {},
   "source": [
    "- Mostly engineered features here, and some surprise words.\n",
    "\n",
    "## SVM\n",
    "\n",
    "[[go back to the top](#Predicting-Poetic-Movements)]\n",
    "\n",
    "- I'll first take a look at cross validation scores for a vectors only model and a combo model."
   ]
  },
  {
   "cell_type": "code",
   "execution_count": null,
   "metadata": {},
   "outputs": [],
   "source": [
    "%%time\n",
    "\n",
    "# instantiate random forest classifiers\n",
    "svm_vec = SVC(kernel='linear')\n",
    "svm_combo = SVC(kernel='linear')\n",
    "\n",
    "# fit them to the training set and evaluate\n",
    "cv_scores_svm_vec = cross_val_score(\n",
    "    svm_vec, X_train_vec, y_train, \n",
    "    scoring='f1_weighted', cv=10, n_jobs=-1\n",
    ")\n",
    "\n",
    "cv_scores_svm_combo = cross_val_score(\n",
    "    svm_combo, X_train_combo, y_train, \n",
    "    scoring='f1_weighted', cv=10, n_jobs=-1\n",
    ")\n",
    "\n",
    "# create printout\n",
    "print('-----Vectors only-----')\n",
    "print(f'All scores: {cv_scores_svm_vec}')\n",
    "print(f'Average score: {np.mean(cv_scores_svm_vec)}\\n')\n",
    "print('------Vectors + Numerical Data-----')\n",
    "print(f'All scores: {cv_scores_svm_combo}')\n",
    "print(f'Average score: {np.mean(cv_scores_svm_combo)}\\n')"
   ]
  },
  {
   "cell_type": "code",
   "execution_count": null,
   "metadata": {},
   "outputs": [],
   "source": [
    "please stop me"
   ]
  },
  {
   "cell_type": "code",
   "execution_count": null,
   "metadata": {},
   "outputs": [],
   "source": [
    "%%time\n",
    "\n",
    "# instantiate the model\n",
    "svm_vec = SVC(kernel='linear')\n",
    "\n",
    "# fit to the training set\n",
    "svm_vec.fit(X_train_vec, y_train)"
   ]
  },
  {
   "cell_type": "code",
   "execution_count": null,
   "metadata": {},
   "outputs": [],
   "source": [
    "%%time\n",
    "\n",
    "# predict class for the train and test sets\n",
    "y_train_preds_svm_vec = svm_vec.predict(X_train_vec)\n",
    "y_test_preds_svm_vec = svm_vec.predict(X_test_vec)\n",
    "\n",
    "# print out accuracy and f1 scores for train set\n",
    "svm_vec_acc_train = accuracy_score(y_train, y_train_preds_svm_vec)\n",
    "svm_vec_f1_train = f1_score(y_train, y_train_preds_svm_vec, average='weighted')\n",
    "\n",
    "print('-----TRAIN-----')\n",
    "print(f'Accuracy: {svm_vec_acc_train}')\n",
    "print(f'F1 score: {svm_vec_f1_train}')\n",
    "\n",
    "# print out accuracy and f1 scores for test set\n",
    "svm_vec_acc_test = accuracy_score(y_test, y_test_preds_svm_vec)\n",
    "svm_vec_f1_test = f1_score(y_test, y_test_preds_svm_vec, average='weighted')\n",
    "\n",
    "print('\\n-----TEST-----')\n",
    "print(f'Accuracy: {svm_vec_acc_test}')\n",
    "print(f'F1 score: {svm_vec_f1_test}')\n",
    "\n",
    "print('\\n' + '-' * 100 + '\\n')\n",
    "\n",
    "# print out report for test predictions\n",
    "print(classification_report(y_test, y_test_preds_svm_vec, target_names=list(y.unique())))\n",
    "\n",
    "print('\\n' + '-' * 100 + '\\n')\n",
    "\n",
    "# print out confusion matrix\n",
    "print(\"CONFUSION MATRIX:\\n\")\n",
    "print(confusion_matrix(y_test, y_test_preds_svm_vec))"
   ]
  },
  {
   "cell_type": "markdown",
   "metadata": {},
   "source": [
    "### Feature importances\n",
    "- **Code credit: 'https://stackoverflow.com/questions/41592661/determining-the-most-contributing-features-for-svm-classifier-in-sklearn'**"
   ]
  },
  {
   "cell_type": "code",
   "execution_count": null,
   "metadata": {},
   "outputs": [],
   "source": [
    "# prettify graph\n",
    "plt.figure(figsize=(5,8))\n",
    "plt.title('Feature Importances\\nSVM Vector Only Model', fontsize=20, pad=15)\n",
    "plt.xlabel('Coefficient (absolute value)', fontsize=15, labelpad=10)\n",
    "\n",
    "# plot top ten features\n",
    "pd.Series(abs(svm_vec.coef_[0]), index=X_train_vec.columns).nlargest(10).plot(kind='barh');"
   ]
  },
  {
   "cell_type": "markdown",
   "metadata": {},
   "source": [
    "- **Quite a bump! very overfit, but I'll see if it works any better with our combo dataframes.**\n",
    "\n",
    "## SVM - vectors + numerical data"
   ]
  },
  {
   "cell_type": "code",
   "execution_count": null,
   "metadata": {},
   "outputs": [],
   "source": [
    "%%time\n",
    "\n",
    "# instantiate the model\n",
    "svm_combo = SVC(kernel='linear')\n",
    "\n",
    "# fit to the training set\n",
    "svm_combo.fit(X_train_combo, y_train)"
   ]
  },
  {
   "cell_type": "code",
   "execution_count": null,
   "metadata": {},
   "outputs": [],
   "source": [
    "%%time\n",
    "\n",
    "# predict class for the train and test sets\n",
    "y_train_preds_svm_combo = svm_combo.predict(X_train_combo)\n",
    "y_test_preds_svm_combo = svm_combo.predict(X_test_combo)\n",
    "\n",
    "# print out accuracy and f1 scores for train set\n",
    "svm_combo_acc_train = accuracy_score(y_train, y_train_preds_svm_combo)\n",
    "svm_combo_f1_train = f1_score(y_train, y_train_preds_svm_combo, average='weighted')\n",
    "\n",
    "print('-----TRAIN-----')\n",
    "print(f'Accuracy: {svm_combo_acc_train}')\n",
    "print(f'F1 score: {svm_combo_f1_train}')\n",
    "\n",
    "# print out accuracy and f1 scores for test set\n",
    "svm_combo_acc_test = accuracy_score(y_test, y_test_preds_svm_combo)\n",
    "svm_combo_f1_test = f1_score(y_test, y_test_preds_svm_combo, average='weighted')\n",
    "\n",
    "print('\\n-----TEST-----')\n",
    "print(f'Accuracy: {svm_combo_acc_test}')\n",
    "print(f'F1 score: {svm_combo_f1_test}')\n",
    "\n",
    "print('\\n' + '-' * 100 + '\\n')\n",
    "\n",
    "# print out report for test predictions\n",
    "print(classification_report(y_test, y_test_preds_svm_combo, target_names=list(y.unique())))\n",
    "\n",
    "print('\\n' + '-' * 100 + '\\n')\n",
    "\n",
    "# print out confusion matrix\n",
    "print(\"CONFUSION MATRIX:\\n\")\n",
    "print(confusion_matrix(y_test, y_test_preds_svm_combo))"
   ]
  },
  {
   "cell_type": "markdown",
   "metadata": {},
   "source": [
    "### Confusion matrix visualization"
   ]
  },
  {
   "cell_type": "code",
   "execution_count": null,
   "metadata": {},
   "outputs": [],
   "source": [
    "cm = confusion_matrix(y_test, y_test_preds_svm_combo)\n",
    "classes = ['Metropolitan', 'Avant-Garde', 'Modern', 'Pre-1900']\n",
    "\n",
    "plt.figure(figsize=(8,6))\n",
    "plot_confusion_matrix(cm, classes,\n",
    "                          normalize=True,\n",
    "                          title='SVM confusion matrix',\n",
    "                          cmap=plt.cm.Blues);"
   ]
  },
  {
   "cell_type": "markdown",
   "metadata": {},
   "source": [
    "- **Still overfit but nearly a 10% increase in the test predictions!**\n",
    "\n",
    "### Feature importances"
   ]
  },
  {
   "cell_type": "code",
   "execution_count": null,
   "metadata": {},
   "outputs": [],
   "source": [
    "# prettify graph\n",
    "plt.figure(figsize=(5,8))\n",
    "plt.title('Feature Importances\\nSVM Combo Model', fontsize=20, pad=15)\n",
    "plt.xlabel('Coefficient (absolute value)', fontsize=15, labelpad=10)\n",
    "\n",
    "# plot top ten features\n",
    "pd.Series(abs(svm_combo.coef_[0]), index=X_train_combo.columns).nlargest(10).plot(kind='barh');"
   ]
  },
  {
   "cell_type": "markdown",
   "metadata": {},
   "source": [
    "- **Mostly surprising words, other than maybe 'get', which was a top 5 frequent word.**\n",
    "- **Nice to see an engineered feature in the top spot.**\n",
    "\n",
    "### Changing C value and class weight."
   ]
  },
  {
   "cell_type": "code",
   "execution_count": null,
   "metadata": {},
   "outputs": [],
   "source": [
    "%%time\n",
    "\n",
    "# instantiate the model\n",
    "svm_combo2 = SVC(C=2, kernel='linear', class_weight='balanced')\n",
    "\n",
    "# fit to the training set\n",
    "svm_combo2.fit(X_train_combo, y_train)"
   ]
  },
  {
   "cell_type": "code",
   "execution_count": null,
   "metadata": {},
   "outputs": [],
   "source": [
    "%%time\n",
    "\n",
    "# predict class for the train and test sets\n",
    "y_train_preds_svm_combo2 = svm_combo2.predict(X_train_combo)\n",
    "y_test_preds_svm_combo2 = svm_combo2.predict(X_test_combo)\n",
    "\n",
    "# print out accuracy and f1 scores for train set\n",
    "svm_combo_acc_train2 = accuracy_score(y_train, y_train_preds_svm_combo2)\n",
    "svm_combo_f1_train2 = f1_score(y_train, y_train_preds_svm_combo2, average='weighted')\n",
    "\n",
    "print('-----TRAIN-----')\n",
    "print(f'Accuracy: {svm_combo_acc_train2}')\n",
    "print(f'F1 score: {svm_combo_f1_train2}')\n",
    "\n",
    "# print out accuracy and f1 scores for test set\n",
    "svm_combo_acc_test2 = accuracy_score(y_test, y_test_preds_svm_combo2)\n",
    "svm_combo_f1_test2 = f1_score(y_test, y_test_preds_svm_combo2, average='weighted')\n",
    "\n",
    "print('\\n-----TEST-----')\n",
    "print(f'Accuracy: {svm_combo_acc_test2}')\n",
    "print(f'F1 score: {svm_combo_f1_test2}')\n",
    "\n",
    "print('\\n' + '-' * 100 + '\\n')\n",
    "\n",
    "# print out report for test predictions\n",
    "print(classification_report(y_test, y_test_preds_svm_combo2, target_names=list(y.unique())))\n",
    "\n",
    "print('\\n' + '-' * 100 + '\\n')\n",
    "\n",
    "# print out confusion matrix\n",
    "print(\"CONFUSION MATRIX:\\n\")\n",
    "print(confusion_matrix(y_test, y_test_preds_svm_combo2))"
   ]
  },
  {
   "cell_type": "markdown",
   "metadata": {},
   "source": [
    "### Confusion matrix visualization"
   ]
  },
  {
   "cell_type": "code",
   "execution_count": null,
   "metadata": {},
   "outputs": [],
   "source": [
    "cm = confusion_matrix(y_test, y_test_preds_svm_combo2)\n",
    "classes = ['Metropolitan', 'Avant-Garde', 'Modern', 'Pre-1900']\n",
    "\n",
    "plt.figure(figsize=(8,6))\n",
    "plot_confusion_matrix(cm, classes,\n",
    "                          normalize=True,\n",
    "                          title='SVM confusion matrix',\n",
    "                          cmap=plt.cm.Blues);"
   ]
  },
  {
   "cell_type": "markdown",
   "metadata": {},
   "source": [
    "### Feature importances"
   ]
  },
  {
   "cell_type": "code",
   "execution_count": null,
   "metadata": {},
   "outputs": [],
   "source": [
    "# prettify graph\n",
    "plt.figure(figsize=(5,8))\n",
    "plt.title('Feature Importances\\nSVM Combo Model', fontsize=20, pad=15)\n",
    "plt.xlabel('Coefficient (absolute value)', fontsize=15, labelpad=10)\n",
    "\n",
    "# plot top ten features\n",
    "pd.Series(abs(svm_combo2.coef_[0]), index=X_train_combo.columns).nlargest(10).plot(kind='barh');"
   ]
  },
  {
   "cell_type": "markdown",
   "metadata": {},
   "source": [
    "- **The number of words per line dropped down, but still in the top ten.**\n",
    "\n",
    "# Modeling conclusions\n",
    "- **Form/structure is important for prediction (especially Random Forest models).**\n",
    "    - **Further exploration desired:**\n",
    "        - **Other types of rhyme**\n",
    "        - **Use of line breaks, tabs, and spacing**\n",
    "        - **Topic modeling**\n",
    "- **SVM relies mostly on vocabulary.**\n",
    "    - **Further exploration desired:**\n",
    "        - **Word embeddings (self-trained and pre-trained)**\n",
    "        - **POS tagging**\n",
    "- **SVM is the best model!**"
   ]
  }
 ],
 "metadata": {
  "kernelspec": {
   "display_name": "Python [conda env:learn-env] *",
   "language": "python",
   "name": "conda-env-learn-env-py"
  },
  "language_info": {
   "codemirror_mode": {
    "name": "ipython",
    "version": 3
   },
   "file_extension": ".py",
   "mimetype": "text/x-python",
   "name": "python",
   "nbconvert_exporter": "python",
   "pygments_lexer": "ipython3",
   "version": "3.6.9"
  }
 },
 "nbformat": 4,
 "nbformat_minor": 2
}
