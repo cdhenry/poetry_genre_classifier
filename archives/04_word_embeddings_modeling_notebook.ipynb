{
 "cells": [
  {
   "cell_type": "markdown",
   "metadata": {},
   "source": [
    "# Word Embeddings Experimentation (incomplete)"
   ]
  },
  {
   "cell_type": "code",
   "execution_count": 16,
   "metadata": {},
   "outputs": [
    {
     "name": "stdout",
     "output_type": "stream",
     "text": [
      "The autoreload extension is already loaded. To reload it, use:\n",
      "  %reload_ext autoreload\n"
     ]
    }
   ],
   "source": [
    "# custom functions for this project\n",
    "from functions import *\n",
    "\n",
    "# dataframe libraries\n",
    "import pandas as pd\n",
    "import numpy as np\n",
    "\n",
    "# graphing libraries\n",
    "import matplotlib.pyplot as plt\n",
    "import seaborn as sns; sns.set_style('ticks')\n",
    "from wordcloud import WordCloud\n",
    "\n",
    "# text processing\n",
    "import nltk\n",
    "from nltk import RegexpTokenizer\n",
    "from nltk.corpus import stopwords\n",
    "from nltk.corpus import wordnet\n",
    "from nltk.probability import FreqDist\n",
    "from nltk.stem import WordNetLemmatizer \n",
    "from textblob import TextBlob as tb\n",
    "from vaderSentiment.vaderSentiment import SentimentIntensityAnalyzer\n",
    "from sklearn.feature_extraction.text import TfidfVectorizer\n",
    "from gensim import matutils, models\n",
    "import scipy.sparse\n",
    "import pronouncing\n",
    "\n",
    "# modeling\n",
    "from sklearn.model_selection import train_test_split\n",
    "from sklearn.preprocessing import MinMaxScaler, StandardScaler, LabelEncoder\n",
    "from sklearn.naive_bayes import MultinomialNB, BernoulliNB\n",
    "from sklearn.metrics import accuracy_score, f1_score, classification_report, confusion_matrix\n",
    "from sklearn.svm import SVC\n",
    "\n",
    "from keras.models import Sequential\n",
    "from keras.layers import Dense, LSTM, Bidirectional, Flatten, Dropout, GlobalMaxPooling1D\n",
    "from keras.layers.embeddings import Embedding\n",
    "from keras.preprocessing import sequence\n",
    "from keras.preprocessing.text import Tokenizer\n",
    "from keras.preprocessing.sequence import pad_sequences\n",
    "from keras.layers.convolutional import Conv1D, MaxPooling1D\n",
    "from keras.callbacks import EarlyStopping, ModelCheckpoint\n",
    "\n",
    "\n",
    "# miscellany\n",
    "import re\n",
    "import string\n",
    "from collections import Counter\n",
    "import time\n",
    "import gzip\n",
    "import pickle\n",
    "\n",
    "# reload functions/libraries when edited\n",
    "%load_ext autoreload\n",
    "%autoreload 2\n",
    "\n",
    "# ignore warnings\n",
    "import warnings\n",
    "warnings.filterwarnings('ignore')\n",
    "\n",
    "# increase column width of dataframe\n",
    "pd.set_option('max_colwidth', 150)"
   ]
  },
  {
   "cell_type": "code",
   "execution_count": 2,
   "metadata": {},
   "outputs": [],
   "source": [
    "# uncomment to load\n",
    "with gzip.open('data/poetry_umbrella_genres_df_edit.pkl', 'rb') as hello:\n",
    "    df = pickle.load(hello)"
   ]
  },
  {
   "cell_type": "code",
   "execution_count": 3,
   "metadata": {},
   "outputs": [
    {
     "data": {
      "text/plain": [
       "Index(['poet_url', 'poem_url', 'poet', 'title', 'poem_lines', 'poem_string',\n",
       "       'genre', 'clean_lines', 'num_lines', 'num_words', 'avg_len_line',\n",
       "       'sentiment_polarity_score', 'sentiment_polarity',\n",
       "       'sentiment_subjectivity_score', 'num_end_rhymes', 'end_rhyme_ratio',\n",
       "       'end_rhyme', 'num_syllables', 'avg_syllables_word', 'lines_titled',\n",
       "       'string_titled', 'string_cleaned'],\n",
       "      dtype='object')"
      ]
     },
     "execution_count": 3,
     "metadata": {},
     "output_type": "execute_result"
    }
   ],
   "source": [
    "df.columns"
   ]
  },
  {
   "cell_type": "code",
   "execution_count": 4,
   "metadata": {},
   "outputs": [
    {
     "data": {
      "text/plain": [
       "modern          0.292276\n",
       "metropolitan    0.249543\n",
       "pre_1900        0.237888\n",
       "avant_garde     0.220293\n",
       "Name: genre, dtype: float64"
      ]
     },
     "execution_count": 4,
     "metadata": {},
     "output_type": "execute_result"
    }
   ],
   "source": [
    "df.genre.value_counts(normalize=True)"
   ]
  },
  {
   "cell_type": "code",
   "execution_count": 5,
   "metadata": {},
   "outputs": [],
   "source": [
    "# assign a features dataframe\n",
    "X = df[['num_lines', 'avg_len_line', 'sentiment_polarity_score', 'sentiment_subjectivity_score', 'num_end_rhymes', \n",
    "        'end_rhyme', 'avg_syllables_word', 'string_titled', 'string_cleaned']]\n",
    "# assign a target variable\n",
    "y = df['genre']"
   ]
  },
  {
   "cell_type": "code",
   "execution_count": 6,
   "metadata": {},
   "outputs": [
    {
     "name": "stdout",
     "output_type": "stream",
     "text": [
      "(3282, 9) (3282,)\n",
      "(1094, 9) (1094,)\n"
     ]
    }
   ],
   "source": [
    "# train-test split\n",
    "X_train, X_test, y_train, y_test = train_test_split(X, y, stratify=y, random_state=42)\n",
    "print(X_train.shape, y_train.shape)\n",
    "print(X_test.shape, y_test.shape)"
   ]
  },
  {
   "cell_type": "code",
   "execution_count": 94,
   "metadata": {},
   "outputs": [
    {
     "name": "stdout",
     "output_type": "stream",
     "text": [
      "28355\n",
      "[('love', 2218), ('say', 1819), ('day', 1699), ('make', 1656), ('see', 1648), ('eye', 1539), ('know', 1460), ('night', 1434), ('life', 1424), ('man', 1379), ('time', 1333), ('light', 1314), ('old', 1284), ('heart', 1233), ('thing', 1118), ('hand', 1084), ('look', 1072), ('long', 1040), ('still', 1012), ('world', 976), ('take', 973), ('never', 958), ('white', 956), ('sea', 935), ('face', 930), ('let', 917), ('wind', 895), ('sun', 874), ('little', 854), ('even', 846), ('god', 839), ('back', 833), ('men', 827), ('give', 823), ('dream', 823), ('year', 821), ('way', 809), ('thought', 805), ('tree', 793), ('death', 793), ('soul', 785), ('well', 782), ('turn', 767), ('earth', 762), ('away', 758), ('water', 748), ('die', 748), ('head', 743), ('dead', 732), ('air', 730)]\n"
     ]
    }
   ],
   "source": [
    "# define vocab\n",
    "vocab = Counter()\n",
    "# add all docs to vocab\n",
    "for poem in X_train.string_cleaned:\n",
    "    words = poem.split()\n",
    "    vocab.update(word for word in words)\n",
    "# print the size of the vocab\n",
    "print(len(vocab))\n",
    "# print the top words in the vocab\n",
    "print(vocab.most_common(50))"
   ]
  },
  {
   "cell_type": "code",
   "execution_count": 95,
   "metadata": {},
   "outputs": [
    {
     "name": "stdout",
     "output_type": "stream",
     "text": [
      "15397\n"
     ]
    }
   ],
   "source": [
    "# keep tokens with a min occurrence\n",
    "min_occurence = 2\n",
    "tokens = [k for k,c in vocab.items() if c >= min_occurence]\n",
    "print(len(tokens))"
   ]
  },
  {
   "cell_type": "code",
   "execution_count": 96,
   "metadata": {},
   "outputs": [],
   "source": [
    "# # uncomment to save\n",
    "# with gzip.open('data/tokens.pkl', 'wb') as goodbye:\n",
    "#     pickle.dump(tokens, goodbye, protocol=pickle.HIGHEST_PROTOCOL)\n",
    "    \n",
    "# # uncomment to load\n",
    "# with gzip.open('data/tokens.pkl', 'rb') as hello:\n",
    "#     tokens = pickle.load(hello)"
   ]
  },
  {
   "cell_type": "code",
   "execution_count": 97,
   "metadata": {},
   "outputs": [],
   "source": [
    "def clean_string_cleaner(text, vocab):\n",
    "    words = text.split()\n",
    "    words = [word for word in words if word in vocab]\n",
    "    clean_text = ' '.join(words)\n",
    "    return clean_text"
   ]
  },
  {
   "cell_type": "code",
   "execution_count": 98,
   "metadata": {},
   "outputs": [],
   "source": [
    "X_train['vocab_string'] = X_train.string_cleaned.apply(lambda x: clean_string_cleaner(x, tokens))\n",
    "X_test['vocab_string'] = X_test.string_cleaned.apply(lambda x: clean_string_cleaner(x, tokens))"
   ]
  },
  {
   "cell_type": "code",
   "execution_count": 99,
   "metadata": {},
   "outputs": [],
   "source": [
    "\n",
    "train_docs = X_train.vocab_string\n",
    "test_docs = X_test.vocab_string\n",
    "\n",
    "# create the tokenizer\n",
    "tokenizer = Tokenizer()\n",
    "# fit the tokenizer on the documents\n",
    "tokenizer.fit_on_texts(train_docs)"
   ]
  },
  {
   "cell_type": "code",
   "execution_count": 100,
   "metadata": {},
   "outputs": [],
   "source": [
    "# sequence encode\n",
    "encoded_train_docs = tokenizer.texts_to_sequences(train_docs)"
   ]
  },
  {
   "cell_type": "code",
   "execution_count": 101,
   "metadata": {},
   "outputs": [],
   "source": [
    "\n",
    "\n",
    "# pad sequences\n",
    "max_length = max([len(s.split()) for s in train_docs])\n",
    "Xtrain = pad_sequences(encoded_train_docs, maxlen=max_length, padding='post')"
   ]
  },
  {
   "cell_type": "code",
   "execution_count": 102,
   "metadata": {},
   "outputs": [],
   "source": [
    "# sequence encode\n",
    "encoded_test_docs = tokenizer.texts_to_sequences(test_docs)\n",
    "# pad sequences\n",
    "Xtest = pad_sequences(encoded_test_docs, maxlen=max_length, padding='post')"
   ]
  },
  {
   "cell_type": "code",
   "execution_count": 103,
   "metadata": {},
   "outputs": [],
   "source": [
    "# define vocabulary size (largest integer value)\n",
    "vocab_size = len(tokenizer.word_index) + 1"
   ]
  },
  {
   "cell_type": "code",
   "execution_count": 80,
   "metadata": {},
   "outputs": [
    {
     "name": "stdout",
     "output_type": "stream",
     "text": [
      "_________________________________________________________________\n",
      "Layer (type)                 Output Shape              Param #   \n",
      "=================================================================\n",
      "embedding_6 (Embedding)      (None, 3861, 50)          724800    \n",
      "_________________________________________________________________\n",
      "dropout_3 (Dropout)          (None, 3861, 50)          0         \n",
      "_________________________________________________________________\n",
      "conv1d_5 (Conv1D)            (None, 3859, 32)          4832      \n",
      "_________________________________________________________________\n",
      "max_pooling1d_5 (MaxPooling1 (None, 1929, 32)          0         \n",
      "_________________________________________________________________\n",
      "flatten_4 (Flatten)          (None, 61728)             0         \n",
      "_________________________________________________________________\n",
      "dense_7 (Dense)              (None, 10)                617290    \n",
      "_________________________________________________________________\n",
      "dropout_4 (Dropout)          (None, 10)                0         \n",
      "_________________________________________________________________\n",
      "dense_8 (Dense)              (None, 4)                 44        \n",
      "=================================================================\n",
      "Total params: 1,346,966\n",
      "Trainable params: 1,346,966\n",
      "Non-trainable params: 0\n",
      "_________________________________________________________________\n",
      "None\n"
     ]
    }
   ],
   "source": [
    "\n",
    "\n",
    "# define model\n",
    "model = Sequential()\n",
    "model.add(Embedding(vocab_size, 50, input_length=max_length))\n",
    "# # CUSTOM ADD\n",
    "model.add(Dropout(0.2))\n",
    "# # CUSTOM KERNEL\n",
    "model.add(Conv1D(filters=32, kernel_size=3, activation='relu'))\n",
    "model.add(MaxPooling1D(pool_size=2))\n",
    "model.add(Flatten())\n",
    "model.add(Dense(10, activation='relu'))\n",
    "# # CUSTOM ADD\n",
    "model.add(Dropout(0.2))\n",
    "model.add(Dense(4, activation='softmax'))\n",
    "print(model.summary())"
   ]
  },
  {
   "cell_type": "code",
   "execution_count": 104,
   "metadata": {},
   "outputs": [],
   "source": [
    "# instantiate the encoder\n",
    "le = LabelEncoder()\n",
    "\n",
    "# fit and transform the target train set\n",
    "ytrain = le.fit_transform(y_train)\n",
    "\n",
    "# transfomr the target test set\n",
    "ytest = le.transform(y_test)"
   ]
  },
  {
   "cell_type": "code",
   "execution_count": null,
   "metadata": {},
   "outputs": [],
   "source": []
  },
  {
   "cell_type": "code",
   "execution_count": 83,
   "metadata": {},
   "outputs": [
    {
     "name": "stdout",
     "output_type": "stream",
     "text": [
      "Train on 2931 samples, validate on 1445 samples\n",
      "Epoch 1/10\n",
      " - 11s - loss: 1.3812 - acc: 0.2989 - val_loss: 1.3704 - val_acc: 0.3426\n",
      "Epoch 2/10\n",
      " - 11s - loss: 1.3515 - acc: 0.3323 - val_loss: 1.3493 - val_acc: 0.3536\n",
      "Epoch 3/10\n",
      " - 11s - loss: 1.2842 - acc: 0.3896 - val_loss: 1.3347 - val_acc: 0.3578\n",
      "Epoch 4/10\n",
      " - 11s - loss: 1.1951 - acc: 0.4313 - val_loss: 1.3650 - val_acc: 0.3419\n",
      "Epoch 5/10\n",
      " - 11s - loss: 1.1408 - acc: 0.4446 - val_loss: 1.4127 - val_acc: 0.3654\n",
      "Epoch 6/10\n",
      " - 11s - loss: 1.1082 - acc: 0.4565 - val_loss: 1.4824 - val_acc: 0.3529\n",
      "Epoch 7/10\n",
      " - 11s - loss: 1.0643 - acc: 0.4691 - val_loss: 1.5949 - val_acc: 0.3661\n",
      "Epoch 8/10\n",
      " - 11s - loss: 1.0575 - acc: 0.4763 - val_loss: 1.5809 - val_acc: 0.3543\n",
      "Epoch 9/10\n",
      " - 12s - loss: 1.0457 - acc: 0.4916 - val_loss: 1.7831 - val_acc: 0.3626\n",
      "Epoch 10/10\n",
      " - 13s - loss: 1.0261 - acc: 0.5145 - val_loss: 1.7985 - val_acc: 0.3737\n"
     ]
    }
   ],
   "source": [
    "# compile network\n",
    "model.compile(loss='sparse_categorical_crossentropy', optimizer='adam', metrics=['accuracy'])\n",
    "\n",
    "num_epochs = 10\n",
    "history = model.fit(Xtrain, ytrain, epochs=num_epochs, validation_data=(Xtest, ytest),\n",
    "                    verbose=2)"
   ]
  },
  {
   "cell_type": "code",
   "execution_count": 84,
   "metadata": {},
   "outputs": [
    {
     "data": {
      "image/png": "[encoded data removed]",
      "text/plain": [
       "<Figure size 432x288 with 1 Axes>"
      ]
     },
     "metadata": {
      "needs_background": "light"
     },
     "output_type": "display_data"
    },
    {
     "data": {
      "image/png": "[encoded data removed]",
      "text/plain": [
       "<Figure size 432x288 with 1 Axes>"
      ]
     },
     "metadata": {
      "needs_background": "light"
     },
     "output_type": "display_data"
    }
   ],
   "source": [
    "def plot_graphs(history, string):\n",
    "    plt.plot(history.history[string])\n",
    "    plt.plot(history.history['val_'+string])\n",
    "    plt.xlabel(\"Epochs\")\n",
    "    plt.ylabel(string)\n",
    "    plt.legend([string, 'val_'+string])\n",
    "    plt.show()\n",
    "\n",
    "plot_graphs(history, \"acc\")\n",
    "plot_graphs(history, \"loss\")"
   ]
  },
  {
   "cell_type": "code",
   "execution_count": null,
   "metadata": {},
   "outputs": [],
   "source": [
    "max_features = 1000\n",
    "maxlen = 201\n",
    "embedding_dims = 50\n",
    "filters = 250\n",
    "kernel_size = 3\n",
    "hidden_dims = 250"
   ]
  },
  {
   "cell_type": "code",
   "execution_count": 109,
   "metadata": {},
   "outputs": [
    {
     "name": "stdout",
     "output_type": "stream",
     "text": [
      "_________________________________________________________________\n",
      "Layer (type)                 Output Shape              Param #   \n",
      "=================================================================\n",
      "embedding_9 (Embedding)      (None, 3868, 100)         1539800   \n",
      "_________________________________________________________________\n",
      "dropout_9 (Dropout)          (None, 3868, 100)         0         \n",
      "_________________________________________________________________\n",
      "conv1d_8 (Conv1D)            (None, 3864, 128)         64128     \n",
      "_________________________________________________________________\n",
      "max_pooling1d_8 (MaxPooling1 (None, 1932, 128)         0         \n",
      "_________________________________________________________________\n",
      "flatten_7 (Flatten)          (None, 247296)            0         \n",
      "_________________________________________________________________\n",
      "dense_13 (Dense)             (None, 10)                2472970   \n",
      "_________________________________________________________________\n",
      "dropout_10 (Dropout)         (None, 10)                0         \n",
      "_________________________________________________________________\n",
      "dense_14 (Dense)             (None, 4)                 44        \n",
      "=================================================================\n",
      "Total params: 4,076,942\n",
      "Trainable params: 4,076,942\n",
      "Non-trainable params: 0\n",
      "_________________________________________________________________\n",
      "None\n"
     ]
    }
   ],
   "source": [
    "# define model\n",
    "model = Sequential()\n",
    "model.add(Embedding(vocab_size, 100, input_length=max_length))\n",
    "# # CUSTOM ADD\n",
    "model.add(Dropout(0.25))\n",
    "# # CUSTOM KERNEL\n",
    "model.add(Conv1D(filters=128, kernel_size=5, activation='relu'))\n",
    "model.add(MaxPooling1D(pool_size=2))\n",
    "model.add(Flatten())\n",
    "model.add(Dense(10, activation='relu'))\n",
    "# # CUSTOM ADD\n",
    "model.add(Dropout(0.25))\n",
    "model.add(Dense(4, activation='softmax'))\n",
    "print(model.summary())"
   ]
  },
  {
   "cell_type": "code",
   "execution_count": 112,
   "metadata": {},
   "outputs": [],
   "source": [
    "# Set callback functions to early stop training and save the best model so far\n",
    "callbacks = [EarlyStopping(monitor='val_loss', patience=2),\n",
    "             ModelCheckpoint(filepath='data/best_model.h5', monitor='val_loss', save_best_only=True)]"
   ]
  },
  {
   "cell_type": "code",
   "execution_count": 114,
   "metadata": {},
   "outputs": [
    {
     "name": "stdout",
     "output_type": "stream",
     "text": [
      "Train on 3282 samples, validate on 1094 samples\n",
      "Epoch 1/10\n",
      " - 65s - loss: 1.4000 - acc: 0.3221 - val_loss: 1.3504 - val_acc: 0.3803\n",
      "Epoch 2/10\n",
      " - 84s - loss: 1.2755 - acc: 0.3818 - val_loss: 1.2180 - val_acc: 0.4570\n",
      "Epoch 3/10\n",
      " - 82s - loss: 1.0894 - acc: 0.4805 - val_loss: 1.1563 - val_acc: 0.4799\n",
      "Epoch 4/10\n",
      " - 84s - loss: 0.9192 - acc: 0.5551 - val_loss: 1.1758 - val_acc: 0.5101\n",
      "Epoch 5/10\n",
      " - 86s - loss: 0.7930 - acc: 0.5945 - val_loss: 1.2566 - val_acc: 0.4835\n"
     ]
    }
   ],
   "source": [
    "# compile network\n",
    "model.compile(loss='sparse_categorical_crossentropy', optimizer='adam', metrics=['accuracy'])\n",
    "\n",
    "num_epochs = 10\n",
    "history = model.fit(Xtrain, ytrain, epochs=num_epochs, validation_data=(Xtest, ytest), callbacks=callbacks,\n",
    "                    verbose=2)"
   ]
  },
  {
   "cell_type": "code",
   "execution_count": 115,
   "metadata": {
    "scrolled": true
   },
   "outputs": [
    {
     "data": {
      "image/png": "[encoded data removed]",
      "text/plain": [
       "<Figure size 432x288 with 1 Axes>"
      ]
     },
     "metadata": {},
     "output_type": "display_data"
    },
    {
     "data": {
      "image/png": "[encoded data removed]",
      "text/plain": [
       "<Figure size 432x288 with 1 Axes>"
      ]
     },
     "metadata": {},
     "output_type": "display_data"
    }
   ],
   "source": [
    "plot_graphs(history, \"acc\")\n",
    "plot_graphs(history, \"loss\")"
   ]
  },
  {
   "cell_type": "code",
   "execution_count": null,
   "metadata": {},
   "outputs": [],
   "source": []
  },
  {
   "cell_type": "code",
   "execution_count": 83,
   "metadata": {},
   "outputs": [
    {
     "name": "stdout",
     "output_type": "stream",
     "text": [
      "Train on 2931 samples, validate on 1445 samples\n",
      "Epoch 1/10\n",
      " - 11s - loss: 1.3812 - acc: 0.2989 - val_loss: 1.3704 - val_acc: 0.3426\n",
      "Epoch 2/10\n",
      " - 11s - loss: 1.3515 - acc: 0.3323 - val_loss: 1.3493 - val_acc: 0.3536\n",
      "Epoch 3/10\n",
      " - 11s - loss: 1.2842 - acc: 0.3896 - val_loss: 1.3347 - val_acc: 0.3578\n",
      "Epoch 4/10\n",
      " - 11s - loss: 1.1951 - acc: 0.4313 - val_loss: 1.3650 - val_acc: 0.3419\n",
      "Epoch 5/10\n",
      " - 11s - loss: 1.1408 - acc: 0.4446 - val_loss: 1.4127 - val_acc: 0.3654\n",
      "Epoch 6/10\n",
      " - 11s - loss: 1.1082 - acc: 0.4565 - val_loss: 1.4824 - val_acc: 0.3529\n",
      "Epoch 7/10\n",
      " - 11s - loss: 1.0643 - acc: 0.4691 - val_loss: 1.5949 - val_acc: 0.3661\n",
      "Epoch 8/10\n",
      " - 11s - loss: 1.0575 - acc: 0.4763 - val_loss: 1.5809 - val_acc: 0.3543\n",
      "Epoch 9/10\n",
      " - 12s - loss: 1.0457 - acc: 0.4916 - val_loss: 1.7831 - val_acc: 0.3626\n",
      "Epoch 10/10\n",
      " - 13s - loss: 1.0261 - acc: 0.5145 - val_loss: 1.7985 - val_acc: 0.3737\n"
     ]
    }
   ],
   "source": [
    "# compile network\n",
    "model.compile(loss='sparse_categorical_crossentropy', optimizer='adam', metrics=['accuracy'])\n",
    "\n",
    "num_epochs = 10\n",
    "history = model.fit(Xtrain, ytrain, epochs=num_epochs, validation_data=(Xtest, ytest),\n",
    "                    verbose=2)"
   ]
  },
  {
   "cell_type": "code",
   "execution_count": 84,
   "metadata": {},
   "outputs": [
    {
     "data": {
      "image/png": "[encoded data removed]",
      "text/plain": [
       "<Figure size 432x288 with 1 Axes>"
      ]
     },
     "metadata": {
      "needs_background": "light"
     },
     "output_type": "display_data"
    },
    {
     "data": {
      "image/png": "[encoded data removed]",
      "text/plain": [
       "<Figure size 432x288 with 1 Axes>"
      ]
     },
     "metadata": {
      "needs_background": "light"
     },
     "output_type": "display_data"
    }
   ],
   "source": [
    "def plot_graphs(history, string):\n",
    "    plt.plot(history.history[string])\n",
    "    plt.plot(history.history['val_'+string])\n",
    "    plt.xlabel(\"Epochs\")\n",
    "    plt.ylabel(string)\n",
    "    plt.legend([string, 'val_'+string])\n",
    "    plt.show()\n",
    "\n",
    "plot_graphs(history, \"acc\")\n",
    "plot_graphs(history, \"loss\")"
   ]
  },
  {
   "cell_type": "code",
   "execution_count": null,
   "metadata": {},
   "outputs": [],
   "source": [
    "max_features = 1000\n",
    "maxlen = 201\n",
    "embedding_dims = 50\n",
    "filters = 250\n",
    "kernel_size = 3\n",
    "hidden_dims = 250"
   ]
  },
  {
   "cell_type": "code",
   "execution_count": 116,
   "metadata": {},
   "outputs": [
    {
     "name": "stdout",
     "output_type": "stream",
     "text": [
      "_________________________________________________________________\n",
      "Layer (type)                 Output Shape              Param #   \n",
      "=================================================================\n",
      "embedding_10 (Embedding)     (None, 3868, 150)         2309700   \n",
      "_________________________________________________________________\n",
      "dropout_11 (Dropout)         (None, 3868, 150)         0         \n",
      "_________________________________________________________________\n",
      "conv1d_9 (Conv1D)            (None, 3864, 128)         96128     \n",
      "_________________________________________________________________\n",
      "max_pooling1d_9 (MaxPooling1 (None, 966, 128)          0         \n",
      "_________________________________________________________________\n",
      "flatten_8 (Flatten)          (None, 123648)            0         \n",
      "_________________________________________________________________\n",
      "dense_15 (Dense)             (None, 10)                1236490   \n",
      "_________________________________________________________________\n",
      "dropout_12 (Dropout)         (None, 10)                0         \n",
      "_________________________________________________________________\n",
      "dense_16 (Dense)             (None, 4)                 44        \n",
      "=================================================================\n",
      "Total params: 3,642,362\n",
      "Trainable params: 3,642,362\n",
      "Non-trainable params: 0\n",
      "_________________________________________________________________\n",
      "None\n"
     ]
    }
   ],
   "source": [
    "# define model\n",
    "model = Sequential()\n",
    "model.add(Embedding(vocab_size, 150, input_length=max_length))\n",
    "# # CUSTOM ADD\n",
    "model.add(Dropout(0.25))\n",
    "# # CUSTOM KERNEL\n",
    "model.add(Conv1D(filters=128, kernel_size=5, activation='relu'))\n",
    "model.add(MaxPooling1D(pool_size=4))\n",
    "model.add(Flatten())\n",
    "model.add(Dense(10, activation='relu', kernel_regularizer='l1'))\n",
    "# # CUSTOM ADD\n",
    "model.add(Dropout(0.25))\n",
    "model.add(Dense(4, activation='softmax'))\n",
    "print(model.summary())"
   ]
  },
  {
   "cell_type": "code",
   "execution_count": 117,
   "metadata": {},
   "outputs": [],
   "source": [
    "# Set callback functions to early stop training and save the best model so far\n",
    "callbacks2 = [EarlyStopping(monitor='val_loss', patience=3),\n",
    "             ModelCheckpoint(filepath='data/best_model2.h5', monitor='val_loss', save_best_only=True)]"
   ]
  },
  {
   "cell_type": "code",
   "execution_count": 118,
   "metadata": {},
   "outputs": [
    {
     "name": "stdout",
     "output_type": "stream",
     "text": [
      "Train on 3282 samples, validate on 1094 samples\n",
      "Epoch 1/10\n",
      " - 85s - loss: 5.2685 - acc: 0.2956 - val_loss: 2.9161 - val_acc: 0.3044\n",
      "Epoch 2/10\n",
      " - 101s - loss: 2.9124 - acc: 0.3285 - val_loss: 2.8898 - val_acc: 0.3026\n",
      "Epoch 3/10\n",
      " - 100s - loss: 2.8074 - acc: 0.3860 - val_loss: 2.7690 - val_acc: 0.4223\n",
      "Epoch 4/10\n",
      " - 103s - loss: 2.7172 - acc: 0.4625 - val_loss: 2.7368 - val_acc: 0.4360\n",
      "Epoch 5/10\n",
      " - 104s - loss: 2.5609 - acc: 0.5308 - val_loss: 2.8180 - val_acc: 0.4442\n",
      "Epoch 6/10\n",
      " - 135s - loss: 2.4080 - acc: 0.6402 - val_loss: 2.7764 - val_acc: 0.4616\n",
      "Epoch 7/10\n",
      " - 150s - loss: 2.2885 - acc: 0.7118 - val_loss: 2.9479 - val_acc: 0.4561\n"
     ]
    }
   ],
   "source": [
    "# compile network\n",
    "model.compile(loss='sparse_categorical_crossentropy', optimizer='adam', metrics=['accuracy'])\n",
    "\n",
    "num_epochs = 10\n",
    "history = model.fit(Xtrain, ytrain, epochs=num_epochs, validation_data=(Xtest, ytest), callbacks=callbacks2,\n",
    "                    verbose=2)"
   ]
  },
  {
   "cell_type": "code",
   "execution_count": 119,
   "metadata": {},
   "outputs": [
    {
     "data": {
      "image/png": "[encoded data removed]",
      "text/plain": [
       "<Figure size 432x288 with 1 Axes>"
      ]
     },
     "metadata": {},
     "output_type": "display_data"
    },
    {
     "data": {
      "image/png": "[encoded data removed]",
      "text/plain": [
       "<Figure size 432x288 with 1 Axes>"
      ]
     },
     "metadata": {},
     "output_type": "display_data"
    }
   ],
   "source": [
    "plot_graphs(history, \"acc\")\n",
    "plot_graphs(history, \"loss\")"
   ]
  },
  {
   "cell_type": "markdown",
   "metadata": {},
   "source": [
    "## Pre-trained word embeddings - GloVe\n",
    "#### The following code borrows heavily from https://www.analyticsvidhya.com/blog/2020/03/pretrained-word-embeddings-nlp/"
   ]
  },
  {
   "cell_type": "code",
   "execution_count": 7,
   "metadata": {},
   "outputs": [
    {
     "name": "stdout",
     "output_type": "stream",
     "text": [
      "Loaded 400000 word vectors.\n"
     ]
    }
   ],
   "source": [
    "# load the whole embedding into memory\n",
    "embeddings_index = dict()\n",
    "f = open('/Users/p.szymo/Documents/word_embeddings/glove6b/glove.6B.300d.txt')\n",
    "\n",
    "for line in f:\n",
    "    values = line.split()\n",
    "    word = values[0]\n",
    "    coefs = np.asarray(values[1:], dtype='float32')\n",
    "    embeddings_index[word] = coefs\n",
    "\n",
    "f.close()\n",
    "print('Loaded %s word vectors.' % len(embeddings_index))"
   ]
  },
  {
   "cell_type": "markdown",
   "metadata": {},
   "source": [
    "#### Prepare text data for sequencing"
   ]
  },
  {
   "cell_type": "code",
   "execution_count": 11,
   "metadata": {},
   "outputs": [],
   "source": [
    "# for this, we'll be using raw poems, so assign those to respective variables\n",
    "train_docs_raw = X_train.string_titled\n",
    "test_docs_raw = X_test.string_titled\n",
    "\n",
    "# create the tokenizer\n",
    "tokenizer = Tokenizer()\n",
    "\n",
    "# fit the tokenizer on the documents\n",
    "tokenizer.fit_on_texts(train_docs_raw)\n",
    "\n",
    "# converting text into integer sequences\n",
    "X_train_seq = tokenizer.texts_to_sequences(train_docs_raw) \n",
    "X_test_seq = tokenizer.texts_to_sequences(test_docs_raw)\n",
    "\n",
    "# compute the length of the longest poem, so we can use that as the maxlen of the sequences\n",
    "maxlen = max([len(poem.split()) for poem in train_docs_raw])\n",
    "\n",
    "# padding to prepare sequences of same length\n",
    "X_train_seq = pad_sequences(X_train_seq, maxlen=maxlen)\n",
    "X_test_seq = pad_sequences(X_test_seq, maxlen=maxlen)"
   ]
  },
  {
   "cell_type": "code",
   "execution_count": 14,
   "metadata": {},
   "outputs": [
    {
     "data": {
      "text/plain": [
       "46438"
      ]
     },
     "execution_count": 14,
     "metadata": {},
     "output_type": "execute_result"
    }
   ],
   "source": [
    "# define vocabulary size (largest integer value)\n",
    "vocab_size = len(tokenizer.word_index) + 1\n",
    "vocab_size"
   ]
  },
  {
   "cell_type": "markdown",
   "metadata": {},
   "source": [
    "#### Assign each token to its corresponding pretrained vector"
   ]
  },
  {
   "cell_type": "code",
   "execution_count": 15,
   "metadata": {},
   "outputs": [],
   "source": [
    "# create a weight matrix for words in training docs\n",
    "embedding_matrix = np.zeros((vocab_size, 300))\n",
    "\n",
    "for word, i in tokenizer.word_index.items():\n",
    "    embedding_vector = embeddings_index.get(word)\n",
    "    if embedding_vector is not None:\n",
    "        embedding_matrix[i] = embedding_vector"
   ]
  },
  {
   "cell_type": "markdown",
   "metadata": {},
   "source": [
    "#### Convert target classes to floats"
   ]
  },
  {
   "cell_type": "code",
   "execution_count": 19,
   "metadata": {},
   "outputs": [],
   "source": [
    "# instantiate the encoder\n",
    "le = LabelEncoder()\n",
    "\n",
    "# fit and transform the target train set\n",
    "y_train_le = le.fit_transform(y_train)\n",
    "\n",
    "# transfomr the target test set\n",
    "y_test_le = le.transform(y_test)"
   ]
  },
  {
   "cell_type": "markdown",
   "metadata": {},
   "source": [
    "### Build a model - CNN"
   ]
  },
  {
   "cell_type": "code",
   "execution_count": 26,
   "metadata": {},
   "outputs": [
    {
     "name": "stdout",
     "output_type": "stream",
     "text": [
      "_________________________________________________________________\n",
      "Layer (type)                 Output Shape              Param #   \n",
      "=================================================================\n",
      "embedding_6 (Embedding)      (None, 7408, 300)         13931400  \n",
      "_________________________________________________________________\n",
      "dropout_3 (Dropout)          (None, 7408, 300)         0         \n",
      "_________________________________________________________________\n",
      "conv1d_2 (Conv1D)            (None, 7404, 128)         192128    \n",
      "_________________________________________________________________\n",
      "max_pooling1d_2 (MaxPooling1 (None, 3702, 128)         0         \n",
      "_________________________________________________________________\n",
      "flatten_2 (Flatten)          (None, 473856)            0         \n",
      "_________________________________________________________________\n",
      "dense_11 (Dense)             (None, 10)                4738570   \n",
      "_________________________________________________________________\n",
      "dropout_4 (Dropout)          (None, 10)                0         \n",
      "_________________________________________________________________\n",
      "dense_12 (Dense)             (None, 4)                 44        \n",
      "=================================================================\n",
      "Total params: 18,862,142\n",
      "Trainable params: 4,930,742\n",
      "Non-trainable params: 13,931,400\n",
      "_________________________________________________________________\n",
      "None\n"
     ]
    }
   ],
   "source": [
    "model_cnn = Sequential()\n",
    "\n",
    "# embedding layer\n",
    "model_cnn.add(Embedding(vocab_size, 300, weights=[embedding_matrix], input_length=maxlen, trainable=False)) \n",
    "\n",
    "# dropout layer\n",
    "model_cnn.add(Dropout(0.2))\n",
    "\n",
    "# cnn layer\n",
    "model_cnn.add(Conv1D(filters=128, kernel_size=5, activation='relu'))\n",
    "\n",
    "# maxpooling\n",
    "model_cnn.add(MaxPooling1D())\n",
    "\n",
    "# flatten\n",
    "model_cnn.add(Flatten())\n",
    "\n",
    "# dense layer (with another dropout)\n",
    "model_cnn.add(Dense(10, activation='relu')) \n",
    "model_cnn.add(Dropout(0.2))\n",
    "model_cnn.add(Dense(4, activation='softmax'))\n",
    "\n",
    "# add loss function, metrics, optimizer\n",
    "model_cnn.compile(optimizer='adam', loss='sparse_categorical_crossentropy', metrics=['accuracy']) \n",
    "\n",
    "# adding callbacks\n",
    "es = EarlyStopping(monitor='val_loss', mode='min', verbose=1, patience=3)  \n",
    "mc = ModelCheckpoint('data/best_model_pretrained.h5', monitor='val_acc', mode='max', save_best_only=True, verbose=1)\n",
    "\n",
    "# print summary of model\n",
    "print(model_cnn.summary())"
   ]
  },
  {
   "cell_type": "markdown",
   "metadata": {},
   "source": [
    "#### Train that model"
   ]
  },
  {
   "cell_type": "code",
   "execution_count": 27,
   "metadata": {},
   "outputs": [
    {
     "name": "stdout",
     "output_type": "stream",
     "text": [
      "Train on 3282 samples, validate on 1094 samples\n",
      "Epoch 1/10\n",
      " - 269s - loss: 1.4164 - acc: 0.2971 - val_loss: 1.3834 - val_acc: 0.3044\n",
      "\n",
      "Epoch 00001: val_acc improved from -inf to 0.30439, saving model to data/best_model_pretrained.h5\n",
      "Epoch 2/10\n",
      " - 301s - loss: 1.3962 - acc: 0.2934 - val_loss: 1.3781 - val_acc: 0.2971\n",
      "\n",
      "Epoch 00002: val_acc did not improve from 0.30439\n",
      "Epoch 3/10\n",
      " - 314s - loss: 1.3892 - acc: 0.2940 - val_loss: 1.4109 - val_acc: 0.3007\n",
      "\n",
      "Epoch 00003: val_acc did not improve from 0.30439\n",
      "Epoch 4/10\n",
      " - 341s - loss: 1.3926 - acc: 0.2965 - val_loss: 1.3749 - val_acc: 0.2980\n",
      "\n",
      "Epoch 00004: val_acc did not improve from 0.30439\n",
      "Epoch 5/10\n",
      " - 337s - loss: 1.3816 - acc: 0.2928 - val_loss: 1.3822 - val_acc: 0.2925\n",
      "\n",
      "Epoch 00005: val_acc did not improve from 0.30439\n",
      "Epoch 6/10\n",
      " - 332s - loss: 1.3812 - acc: 0.2928 - val_loss: 1.3818 - val_acc: 0.2925\n",
      "\n",
      "Epoch 00006: val_acc did not improve from 0.30439\n",
      "Epoch 7/10\n",
      " - 394s - loss: 1.3813 - acc: 0.2925 - val_loss: 1.3815 - val_acc: 0.2925\n",
      "\n",
      "Epoch 00007: val_acc did not improve from 0.30439\n",
      "Epoch 00007: early stopping\n"
     ]
    }
   ],
   "source": [
    "history = model_cnn.fit(np.array(X_train_seq), np.array(y_train_le), \n",
    "                    batch_size=128, epochs=10, \n",
    "                    validation_data=(np.array(X_test_seq), np.array(y_test_le)), \n",
    "                    verbose=2, callbacks=[es, mc])"
   ]
  },
  {
   "cell_type": "code",
   "execution_count": 28,
   "metadata": {},
   "outputs": [
    {
     "data": {
      "text/plain": [
       "array([[   0,    0,    0, ...,   23, 1846,  121],\n",
       "       [   0,    0,    0, ...,   25,   37,   64],\n",
       "       [   0,    0,    0, ...,  305,   36, 1848],\n",
       "       ...,\n",
       "       [   0,    0,    0, ..., 4032, 2590, 8742],\n",
       "       [   0,    0,    0, ...,  995,    2, 1262],\n",
       "       [   0,    0,    0, ...,  249, 6367,  556]], dtype=int32)"
      ]
     },
     "execution_count": 28,
     "metadata": {},
     "output_type": "execute_result"
    }
   ],
   "source": [
    "X_train_seq"
   ]
  },
  {
   "cell_type": "code",
   "execution_count": 29,
   "metadata": {},
   "outputs": [
    {
     "name": "stdout",
     "output_type": "stream",
     "text": [
      "Train on 3282 samples, validate on 1094 samples\n",
      "Epoch 1/10\n",
      " - 326s - loss: 1.3806 - acc: 0.2928 - val_loss: 1.3811 - val_acc: 0.2925\n",
      "\n",
      "Epoch 00001: val_acc did not improve from 0.30439\n",
      "Epoch 2/10\n",
      " - 288s - loss: 1.3802 - acc: 0.2928 - val_loss: 1.3808 - val_acc: 0.2925\n",
      "\n",
      "Epoch 00002: val_acc did not improve from 0.30439\n",
      "Epoch 3/10\n",
      " - 266s - loss: 1.3802 - acc: 0.2928 - val_loss: 1.3808 - val_acc: 0.2925\n",
      "\n",
      "Epoch 00003: val_acc did not improve from 0.30439\n",
      "Epoch 4/10\n",
      " - 255s - loss: 1.3801 - acc: 0.2928 - val_loss: 1.3808 - val_acc: 0.2925\n",
      "\n",
      "Epoch 00004: val_acc did not improve from 0.30439\n",
      "Epoch 5/10\n",
      " - 301s - loss: 1.3801 - acc: 0.2928 - val_loss: 1.3807 - val_acc: 0.2925\n",
      "\n",
      "Epoch 00005: val_acc did not improve from 0.30439\n",
      "Epoch 6/10\n",
      " - 365s - loss: 1.3801 - acc: 0.2928 - val_loss: 1.3807 - val_acc: 0.2925\n",
      "\n",
      "Epoch 00006: val_acc did not improve from 0.30439\n",
      "Epoch 7/10\n",
      " - 381s - loss: 1.3804 - acc: 0.2925 - val_loss: 1.3807 - val_acc: 0.2925\n",
      "\n",
      "Epoch 00007: val_acc did not improve from 0.30439\n",
      "Epoch 8/10\n",
      " - 365s - loss: 1.3800 - acc: 0.2928 - val_loss: 1.3807 - val_acc: 0.2925\n",
      "\n",
      "Epoch 00008: val_acc did not improve from 0.30439\n",
      "Epoch 9/10\n",
      " - 377s - loss: 1.3801 - acc: 0.2928 - val_loss: 1.3807 - val_acc: 0.2925\n",
      "\n",
      "Epoch 00009: val_acc did not improve from 0.30439\n",
      "Epoch 10/10\n",
      " - 377s - loss: 1.3805 - acc: 0.2925 - val_loss: 1.3807 - val_acc: 0.2925\n",
      "\n",
      "Epoch 00010: val_acc did not improve from 0.30439\n"
     ]
    }
   ],
   "source": [
    "history = model_cnn.fit(np.array(X_train_seq), np.array(y_train_le), \n",
    "                        validation_data=(np.array(X_test_seq), np.array(y_test_le)), \n",
    "                        epochs=10, verbose=2, callbacks=[es, mc])"
   ]
  },
  {
   "cell_type": "markdown",
   "metadata": {},
   "source": [
    "### Build a model - LSTM"
   ]
  },
  {
   "cell_type": "code",
   "execution_count": 24,
   "metadata": {},
   "outputs": [
    {
     "name": "stdout",
     "output_type": "stream",
     "text": [
      "_________________________________________________________________\n",
      "Layer (type)                 Output Shape              Param #   \n",
      "=================================================================\n",
      "embedding_4 (Embedding)      (None, 7408, 300)         13931400  \n",
      "_________________________________________________________________\n",
      "lstm_4 (LSTM)                (None, 7408, 128)         219648    \n",
      "_________________________________________________________________\n",
      "global_max_pooling1d_4 (Glob (None, 128)               0         \n",
      "_________________________________________________________________\n",
      "dense_7 (Dense)              (None, 64)                8256      \n",
      "_________________________________________________________________\n",
      "dense_8 (Dense)              (None, 4)                 260       \n",
      "=================================================================\n",
      "Total params: 14,159,564\n",
      "Trainable params: 228,164\n",
      "Non-trainable params: 13,931,400\n",
      "_________________________________________________________________\n",
      "None\n"
     ]
    }
   ],
   "source": [
    "model_lstm = Sequential()\n",
    "\n",
    "# embedding layer\n",
    "model_lstm.add(Embedding(vocab_size, 300, weights=[embedding_matrix], input_length=maxlen, trainable=False)) \n",
    "\n",
    "# lstm layer\n",
    "model_lstm.add(LSTM(128, return_sequences=True, dropout=0.2))\n",
    "\n",
    "# global maxpooling\n",
    "model_lstm.add(GlobalMaxPooling1D())\n",
    "\n",
    "# dense Layer\n",
    "model_lstm.add(Dense(64,activation='relu')) \n",
    "model_lstm.add(Dense(4,activation='softmax'))\n",
    "\n",
    "# add loss function, metrics, optimizer\n",
    "model_lstm.compile(optimizer='adam', loss='sparse_categorical_crossentropy', metrics=['accuracy']) \n",
    "\n",
    "#Adding callbacks\n",
    "es = EarlyStopping(monitor='val_loss', mode='min', verbose=1, patience=3)  \n",
    "mc = ModelCheckpoint('data/best_model_pretrained.h5', monitor='val_acc', mode='max', save_best_only=True, verbose=1)\n",
    "\n",
    "# print summary of model\n",
    "print(model_lstm.summary())"
   ]
  },
  {
   "cell_type": "markdown",
   "metadata": {},
   "source": [
    "#### Train that model"
   ]
  },
  {
   "cell_type": "code",
   "execution_count": 23,
   "metadata": {},
   "outputs": [],
   "source": [
    "# history = model_lstm.fit(np.array(X_train_seq), np.array(y_train_le), \n",
    "#                     batch_size=128, epochs=10, \n",
    "#                     validation_data=(np.array(X_test_seq), np.array(y_test_le)), \n",
    "#                     verbose=2, callbacks=[es, mc])"
   ]
  },
  {
   "cell_type": "code",
   "execution_count": null,
   "metadata": {},
   "outputs": [],
   "source": []
  }
 ],
 "metadata": {
  "kernelspec": {
   "display_name": "Python [conda env:learn-env] *",
   "language": "python",
   "name": "conda-env-learn-env-py"
  },
  "language_info": {
   "codemirror_mode": {
    "name": "ipython",
    "version": 3
   },
   "file_extension": ".py",
   "mimetype": "text/x-python",
   "name": "python",
   "nbconvert_exporter": "python",
   "pygments_lexer": "ipython3",
   "version": "3.6.9"
  }
 },
 "nbformat": 4,
 "nbformat_minor": 2
}
