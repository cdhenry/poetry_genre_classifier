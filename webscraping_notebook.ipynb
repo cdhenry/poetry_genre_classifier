{
 "cells": [
  {
   "cell_type": "code",
   "execution_count": null,
   "metadata": {},
   "outputs": [],
   "source": [
    "from selenium import webdriver\n",
    "import re\n",
    "import time\n",
    "import requests as rq\n",
    "from bs4 import BeautifulSoup as bs\n",
    "import pytesseract\n",
    "\n",
    "def poet_urls_by_genre(genre_code, max_page_num):\n",
    "    '''Scraper for PoetryFoundation.org--scrapes urls for poets by genre.\n",
    "       Input genre code and maximum number of pages to iterate through.\n",
    "       Outputs a list of urls for each poet within the specified parameters.\n",
    "       NOTE: Selenium is known to encounter issues, so sometimes this code does not work properly. Try re-running if output\n",
    "             is not as expected.'''\n",
    "    \n",
    "    # url requirements\n",
    "    base_url = 'https://www.poetryfoundation.org/poets/browse#page='\n",
    "    genre_addon = '&sort_by=last_name&school-period='\n",
    "    \n",
    "    # create empty list\n",
    "    poet_urls = []\n",
    "    # loop through desired number of pages\n",
    "    for i in range(1,max_page_num):\n",
    "        try: \n",
    "            # instantiate a selenium browser\n",
    "            driver = webdriver.Chrome()\n",
    "            # load webpage\n",
    "            driver.get(f'{base_url}{i}{genre_addon}{genre_code}')\n",
    "            # find all links\n",
    "            hrefs = driver.find_elements_by_xpath(\"//*[@href]\")\n",
    "            # find only links that match pattern for poet url\n",
    "            pattern = re.compile('^.*/poets/(?!browse)[a-z\\-]*$')\n",
    "            poet_urls_by_page = [href.get_attribute('href') for href in hrefs if pattern.match(href.get_attribute('href'))]\n",
    "            \n",
    "            # only extend the list if there is something to extend\n",
    "            if poet_urls_by_page:\n",
    "                poet_urls.extend(poet_urls_by_page)\n",
    "                # manually create some time between selenium browser, to decrease chance of errors or IP block\n",
    "                time.sleep(2.5)\n",
    "            else:\n",
    "                break\n",
    "        # NOTE: a more specific except protocol may allow one to not have to re-run this code, could re-run the code\n",
    "        #       until all possible links are grabbed\n",
    "        except:\n",
    "            break\n",
    "            \n",
    "    return poet_urls\n",
    "\n",
    "def poem_urls_scraper(poet_url):\n",
    "    '''Scraper for PoetryFoundation.org--scrapes poem urls by poet.\n",
    "       Input the url for a poet's page on PoetryFoundation.org.\n",
    "       Output two lists: first, a list of urls for text poems; second, a list of urls for poems that are scans of the original\n",
    "       magazine page.'''\n",
    "    \n",
    "    # load a page and soupify it\n",
    "    page = rq.get(poet_url)\n",
    "    soup = bs(page.content, 'html.parser')\n",
    "    \n",
    "    # find all links that fit a certain pattern\n",
    "    # finds links to poems that are text and easily scraped\n",
    "    poems_text = soup.find_all('a',\n",
    "                               href=re.compile('https://www.poetryfoundation.org/poems/[0-9]+/.*'),\n",
    "                               attrs={'class': None})\n",
    "    # finds links to poems that are images\n",
    "    poems_scan = soup.find_all('a',\n",
    "                               href=re.compile('https://www.poetryfoundation.org/poetrymagazine/poems/[0-9]+/.*'),\n",
    "                               attrs={'class': None})\n",
    "    \n",
    "    # turn into lists\n",
    "    if poems_text:\n",
    "        poems_text_urls = [poem.get('href') for poem in poems_text]\n",
    "    else:\n",
    "        poems_text_urls = []\n",
    "        \n",
    "    if poems_scan:\n",
    "        poems_scan_urls = [poem.get('href') for poem in poems_scan]\n",
    "    else:\n",
    "        poems_scan_urls = []\n",
    "    \n",
    "    return poems_text_urls, poems_scan_urls\n",
    "\n",
    "def poem_scraper(poem_url):\n",
    "    '''Scraper for PoetryFoundation.org--scrapes poet name, poem title, poem year, list of poem's lines,\n",
    "       and the poem as a string.\n",
    "       Input the url for a poem's page on PoetryFoundation.org.\n",
    "       Output is a list.'''\n",
    "    \n",
    "    # load a page and soupify it\n",
    "    page = rq.get(poem_url)\n",
    "    soup = bs(page.content, 'html.parser')\n",
    "    \n",
    "    # series of try/except statements to scrape info or return NaN value if desired info cannot be scraped\n",
    "    try:\n",
    "        poet = soup.find('a', href=re.compile('.*/poets/.*')).contents[0]\n",
    "    except:\n",
    "        poet = np.nan\n",
    "        \n",
    "    try:\n",
    "        title = soup.find('h1').contents[-1].strip()\n",
    "    except:\n",
    "        try:\n",
    "            title_pattern = '[a-z\\-]*$'\n",
    "            title = re.search(title_pattern, poem_url, re.I).group().replace('-', ' ').title()\n",
    "        except:\n",
    "            title = np.nan\n",
    "        \n",
    "    try:\n",
    "        lines_raw = soup.find_all('div', {'style': 'text-indent: -1em; padding-left: 1em;'})\n",
    "        lines = [normalize('NFKD', str(line.contents[0])) for line in lines_raw if line.contents]\n",
    "        lines = [line.replace('<br/>', '') for line in lines]\n",
    "        line_pattern = '>(.*?)<'\n",
    "        lines = [re.search(line_pattern, line, re.I).group(1) if '<' in line else line for line in lines]\n",
    "        if lines == []:\n",
    "            try:\n",
    "                img_link = soup.find('img', src=re.compile('.*/jstor/.*'))['src']\n",
    "                img_data = rq.get(img_link).content\n",
    "                with open('poem_imgs/temp.png', 'wb') as handle:\n",
    "                    handle.write(img_data)\n",
    "                text = pytesseract.image_to_string('poem_imgs/temp.png')\n",
    "                scan_pattern = fr'{title.upper()}\\s*((.*\\s.*)*)'\n",
    "                lines = re.search(scan_pattern, text, re.I).group(1).splitlines()\n",
    "            except:\n",
    "                lines = np.nan\n",
    "    except:\n",
    "        lines = np.nan\n",
    "        \n",
    "    try:\n",
    "        poem_string = '\\n'.join(lines)\n",
    "    except:\n",
    "        poem_string = np.nan\n",
    "        \n",
    "    try:\n",
    "        year_blurb = soup.find('span', {'class': 'c-txt c-txt_note c-txt_note_mini'}).contents[2]\n",
    "        year_pattern = r'[12]\\d{3}'\n",
    "        year = int(re.search(year_pattern, year_blurb, re.I).group())\n",
    "    except:\n",
    "        try:\n",
    "            year_blurb = soup.find_all('span', {'class': 'c-txt c-txt_note c-txt_note_mini'})[-1].contents[2]\n",
    "            year_pattern = r'[12]\\d{3}'\n",
    "            year = int(re.search(year_pattern, year_blurb, re.I).group())\n",
    "        except:\n",
    "            year = np.nan\n",
    "    \n",
    "    info = [poet, title, year, lines, poem_string]\n",
    "    \n",
    "    return info\n",
    "\n",
    "def pf_scraper(poet_urls_dict, genre):\n",
    "    '''Scraper for PoetryFoundation.org--scrapes poet name, poem title, poem year, list of poem's lines,\n",
    "       and the poem as a string.\n",
    "       Input is a dictionary with genres as keys and urls to poets' pages as values, as well as the genre you wish to scrape.\n",
    "           Designed to be used in a loop, so if there is an error along the way, you could feasibly have some progress saved.\n",
    "       Output is a Pandas DataFrame.'''\n",
    "    \n",
    "    # instantiate an empty list\n",
    "    ultra_list = []\n",
    "    \n",
    "    # set up a for loop to iterate through urls in genre\n",
    "    for poet_url in poet_urls_dict[genre]:\n",
    "        \n",
    "        # scrape urls for both types of pages, text poems and scanned poems\n",
    "        poem_text_urls, poem_scan_urls = poem_urls_scraper(poet_url)\n",
    "\n",
    "        # instantiate a list with url and genre info, then scrape the rest of the info using earlier function,\n",
    "        # then add it to the list that will get converted into a dataframe\n",
    "        for poem_url in poem_text_urls:\n",
    "            info = [poet_url, genre, poem_url]\n",
    "            info.extend(poem_scraper(poem_url))\n",
    "            ultra_list.append(info)\n",
    "\n",
    "        for poem_url in poem_scan_urls:\n",
    "            info = [poet_url, genre, poem_url]\n",
    "            info.extend(poem_scraper(poem_url))\n",
    "            ultra_list.append(info)\n",
    "\n",
    "        # pause the for loop for a second to try to prevent being blocked\n",
    "        time.sleep(1)\n",
    "\n",
    "    df = pd.DataFrame(ultra_list)\n",
    "        \n",
    "    return df"
   ]
  },
  {
   "cell_type": "code",
   "execution_count": null,
   "metadata": {},
   "outputs": [],
   "source": []
  },
  {
   "cell_type": "code",
   "execution_count": null,
   "metadata": {},
   "outputs": [],
   "source": []
  },
  {
   "cell_type": "code",
   "execution_count": 11,
   "metadata": {},
   "outputs": [
    {
     "name": "stdout",
     "output_type": "stream",
     "text": [
      "The autoreload extension is already loaded. To reload it, use:\n",
      "  %reload_ext autoreload\n"
     ]
    }
   ],
   "source": [
    "import pandas as pd\n",
    "import numpy as np\n",
    "\n",
    "import matplotlib.pyplot as plt\n",
    "import seaborn as sns; sns.set_style('ticks')\n",
    "\n",
    "import re\n",
    "from unicodedata import normalize\n",
    "\n",
    "import requests as rq\n",
    "from bs4 import BeautifulSoup as bs\n",
    "from selenium import webdriver\n",
    "\n",
    "\n",
    "import time\n",
    "import pickle\n",
    "\n",
    "from functions import *\n",
    "\n",
    "%load_ext autoreload\n",
    "%autoreload 2"
   ]
  },
  {
   "cell_type": "code",
   "execution_count": 2,
   "metadata": {},
   "outputs": [],
   "source": [
    "pd.set_option('max_colwidth', 150)"
   ]
  },
  {
   "cell_type": "markdown",
   "metadata": {},
   "source": [
    "##### Manually create dictionary with url codes for each genre."
   ]
  },
  {
   "cell_type": "code",
   "execution_count": 3,
   "metadata": {},
   "outputs": [],
   "source": [
    "genre_codes = {\n",
    "    'augustan': 149,\n",
    "    'beat': 150,\n",
    "    'black_arts_movement': 304,\n",
    "    'black_mountain': 151,\n",
    "    'confessional': 152,\n",
    "    'fugitive': 153,\n",
    "    'georgian': 154,\n",
    "    'harlem_renaissance': 155,\n",
    "    'imagist': 156,\n",
    "    'language_poetry': 157,\n",
    "    'middle_english': 158,\n",
    "    'modern': 159,\n",
    "    'new_york_school': 160,\n",
    "    'new_york_school_2nd_generation': 161,\n",
    "    'objectivist': 162,\n",
    "    'renaissance': 163,\n",
    "    'romantic': 164,\n",
    "    'victorian': 165\n",
    "}"
   ]
  },
  {
   "cell_type": "markdown",
   "metadata": {},
   "source": [
    "##### Run function in a loop to create dictionary of poet urls."
   ]
  },
  {
   "cell_type": "code",
   "execution_count": 193,
   "metadata": {},
   "outputs": [
    {
     "data": {
      "text/plain": [
       "['https://www.poetryfoundation.org/poets/mary-barber',\n",
       " 'https://www.poetryfoundation.org/poets/susanna-blamire',\n",
       " 'https://www.poetryfoundation.org/poets/henry-carey',\n",
       " 'https://www.poetryfoundation.org/poets/thomas-chatterton',\n",
       " 'https://www.poetryfoundation.org/poets/william-collins',\n",
       " 'https://www.poetryfoundation.org/poets/william-cowper',\n",
       " 'https://www.poetryfoundation.org/poets/daniel-defoe',\n",
       " 'https://www.poetryfoundation.org/poets/anne-finch',\n",
       " 'https://www.poetryfoundation.org/poets/john-gay',\n",
       " 'https://www.poetryfoundation.org/poets/oliver-goldsmith',\n",
       " 'https://www.poetryfoundation.org/poets/thomas-gray',\n",
       " 'https://www.poetryfoundation.org/poets/matthew-green',\n",
       " 'https://www.poetryfoundation.org/poets/warren-hastings',\n",
       " 'https://www.poetryfoundation.org/poets/samuel-johnson',\n",
       " 'https://www.poetryfoundation.org/poets/mary-jones',\n",
       " 'https://www.poetryfoundation.org/poets/lady-mary-wortley-montagu',\n",
       " 'https://www.poetryfoundation.org/poets/alexander-pope',\n",
       " 'https://www.poetryfoundation.org/poets/matthew-prior',\n",
       " 'https://www.poetryfoundation.org/poets/richard-brinsley-sheridan',\n",
       " 'https://www.poetryfoundation.org/poets/jonathan-swift',\n",
       " 'https://www.poetryfoundation.org/poets/james-thomson',\n",
       " 'https://www.poetryfoundation.org/poets/isaac-watts',\n",
       " 'https://www.poetryfoundation.org/poets/john-wesley']"
      ]
     },
     "execution_count": 193,
     "metadata": {},
     "output_type": "execute_result"
    }
   ],
   "source": [
    "poet_urls = {genre:poet_urls_by_genre(genre_code, 3) for genre,genre_code in genre_codes.items()}\n",
    "poet_urls['augustan']"
   ]
  },
  {
   "cell_type": "markdown",
   "metadata": {},
   "source": [
    "##### Loop only partially worked, so let's re-run sections in which some urls are missing."
   ]
  },
  {
   "cell_type": "code",
   "execution_count": 196,
   "metadata": {},
   "outputs": [],
   "source": [
    "poet_urls['black_arts_movement'] = poet_urls_by_genre(genre_codes['black_arts_movement'])"
   ]
  },
  {
   "cell_type": "code",
   "execution_count": 198,
   "metadata": {},
   "outputs": [],
   "source": [
    "poet_urls['modern'] = poet_urls_by_genre(genre_codes['modern'])"
   ]
  },
  {
   "cell_type": "code",
   "execution_count": 200,
   "metadata": {},
   "outputs": [],
   "source": [
    "poet_urls['renaissance'] = poet_urls_by_genre(genre_codes['renaissance'])"
   ]
  },
  {
   "cell_type": "code",
   "execution_count": 203,
   "metadata": {},
   "outputs": [],
   "source": [
    "poet_urls['romantic'] = poet_urls_by_genre(genre_codes['romantic'])"
   ]
  },
  {
   "cell_type": "code",
   "execution_count": 206,
   "metadata": {},
   "outputs": [],
   "source": [
    "poet_urls['victorian'] = poet_urls_by_genre(genre_codes['victorian'])"
   ]
  },
  {
   "cell_type": "code",
   "execution_count": 207,
   "metadata": {},
   "outputs": [
    {
     "data": {
      "text/plain": [
       "{'augustan': 23,\n",
       " 'beat': 13,\n",
       " 'black_arts_movement': 23,\n",
       " 'black_mountain': 10,\n",
       " 'confessional': 7,\n",
       " 'fugitive': 7,\n",
       " 'georgian': 22,\n",
       " 'harlem_renaissance': 17,\n",
       " 'imagist': 6,\n",
       " 'language_poetry': 18,\n",
       " 'middle_english': 3,\n",
       " 'modern': 54,\n",
       " 'new_york_school': 9,\n",
       " 'new_york_school_2nd_generation': 16,\n",
       " 'objectivist': 5,\n",
       " 'renaissance': 41,\n",
       " 'romantic': 51,\n",
       " 'victorian': 55}"
      ]
     },
     "execution_count": 207,
     "metadata": {},
     "output_type": "execute_result"
    }
   ],
   "source": [
    "# confirm all urls have been grabbed\n",
    "url_lens = {k:len(v) for k,v in poet_urls.items()}\n",
    "url_lens"
   ]
  },
  {
   "cell_type": "markdown",
   "metadata": {},
   "source": [
    "##### Pickle it! uncomment to save/load"
   ]
  },
  {
   "cell_type": "code",
   "execution_count": 4,
   "metadata": {},
   "outputs": [],
   "source": [
    "# with open('poet_urls_dict.pickle', 'wb') as w:\n",
    "#     pickle.dump(poet_urls, w, protocol=pickle.HIGHEST_PROTOCOL)\n",
    "\n",
    "with open('poet_urls_dict.pickle', 'rb') as r:\n",
    "    poet_urls_dict = pickle.load(r)"
   ]
  },
  {
   "cell_type": "markdown",
   "metadata": {},
   "source": [
    "##### Check for duplicate values"
   ]
  },
  {
   "cell_type": "code",
   "execution_count": 5,
   "metadata": {},
   "outputs": [
    {
     "data": {
      "text/html": [
       "<div>\n",
       "<style scoped>\n",
       "    .dataframe tbody tr th:only-of-type {\n",
       "        vertical-align: middle;\n",
       "    }\n",
       "\n",
       "    .dataframe tbody tr th {\n",
       "        vertical-align: top;\n",
       "    }\n",
       "\n",
       "    .dataframe thead th {\n",
       "        text-align: right;\n",
       "    }\n",
       "</style>\n",
       "<table border=\"1\" class=\"dataframe\">\n",
       "  <thead>\n",
       "    <tr style=\"text-align: right;\">\n",
       "      <th></th>\n",
       "      <th>0</th>\n",
       "      <th>1</th>\n",
       "    </tr>\n",
       "  </thead>\n",
       "  <tbody>\n",
       "    <tr>\n",
       "      <th>126</th>\n",
       "      <td>imagist</td>\n",
       "      <td>https://www.poetryfoundation.org/poets/ezra-pound</td>\n",
       "    </tr>\n",
       "    <tr>\n",
       "      <th>186</th>\n",
       "      <td>modern</td>\n",
       "      <td>https://www.poetryfoundation.org/poets/ezra-pound</td>\n",
       "    </tr>\n",
       "    <tr>\n",
       "      <th>122</th>\n",
       "      <td>imagist</td>\n",
       "      <td>https://www.poetryfoundation.org/poets/richard-aldington</td>\n",
       "    </tr>\n",
       "    <tr>\n",
       "      <th>150</th>\n",
       "      <td>modern</td>\n",
       "      <td>https://www.poetryfoundation.org/poets/richard-aldington</td>\n",
       "    </tr>\n",
       "  </tbody>\n",
       "</table>\n",
       "</div>"
      ],
      "text/plain": [
       "           0                                                         1\n",
       "126  imagist         https://www.poetryfoundation.org/poets/ezra-pound\n",
       "186   modern         https://www.poetryfoundation.org/poets/ezra-pound\n",
       "122  imagist  https://www.poetryfoundation.org/poets/richard-aldington\n",
       "150   modern  https://www.poetryfoundation.org/poets/richard-aldington"
      ]
     },
     "execution_count": 5,
     "metadata": {},
     "output_type": "execute_result"
    }
   ],
   "source": [
    "poet_df = pd.DataFrame([(genre,v) for genre in poet_urls_dict.keys() for v in poet_urls_dict[genre]])\n",
    "pd.concat(g for _, g in poet_df.groupby(1) if len(g) > 1)"
   ]
  },
  {
   "cell_type": "markdown",
   "metadata": {},
   "source": [
    "##### We'll give those poets to the imagist genre, since it has so few already"
   ]
  },
  {
   "cell_type": "code",
   "execution_count": 6,
   "metadata": {},
   "outputs": [
    {
     "data": {
      "text/plain": [
       "['https://www.poetryfoundation.org/poets/richard-aldington',\n",
       " 'https://www.poetryfoundation.org/poets/ezra-pound']"
      ]
     },
     "execution_count": 6,
     "metadata": {},
     "output_type": "execute_result"
    }
   ],
   "source": [
    "dups = [value for value in poet_df[poet_df.duplicated(1)][1]]\n",
    "dups"
   ]
  },
  {
   "cell_type": "code",
   "execution_count": 7,
   "metadata": {},
   "outputs": [
    {
     "data": {
      "text/plain": [
       "54"
      ]
     },
     "execution_count": 7,
     "metadata": {},
     "output_type": "execute_result"
    }
   ],
   "source": [
    "len(poet_urls_dict['modern'])"
   ]
  },
  {
   "cell_type": "code",
   "execution_count": 8,
   "metadata": {},
   "outputs": [
    {
     "data": {
      "text/plain": [
       "52"
      ]
     },
     "execution_count": 8,
     "metadata": {},
     "output_type": "execute_result"
    }
   ],
   "source": [
    "poet_urls_dict['modern'] = [url for url in poet_urls_dict['modern'] if url not in dups]\n",
    "len(poet_urls_dict['modern'])"
   ]
  },
  {
   "cell_type": "markdown",
   "metadata": {},
   "source": [
    "##### Instantiate an empty dataframe, then loop over each genre in our poet urls dictionary, create a dataframe for each genre and add that to the original dataframe, saving it after each concatenation"
   ]
  },
  {
   "cell_type": "code",
   "execution_count": null,
   "metadata": {
    "scrolled": true
   },
   "outputs": [],
   "source": [
    "%%time\n",
    "\n",
    "# instantiate an empty dataframe\n",
    "df = pd.DataFrame()\n",
    "\n",
    "# loop over each genre, create dataframe with desired information,\n",
    "# concat to original dataframe, then save it before looping again\n",
    "for genre in list(poet_urls_dict.keys()):\n",
    "    genre_df = pf_scraper(poet_urls_dict, genre)\n",
    "    df = pd.concat([df, genre_df])\n",
    "    df.to_csv('data/poetry_foundation_raw.csv')"
   ]
  },
  {
   "cell_type": "markdown",
   "metadata": {},
   "source": [
    "##### Uncomment to save/load dataframe"
   ]
  },
  {
   "cell_type": "code",
   "execution_count": 142,
   "metadata": {},
   "outputs": [],
   "source": [
    "# df.to_csv('data/poetry_foundation_raw.csv')\n",
    "df = pd.read_csv('data/poetry_foundation_raw.csv', index_col=0)"
   ]
  },
  {
   "cell_type": "code",
   "execution_count": 143,
   "metadata": {},
   "outputs": [
    {
     "data": {
      "text/plain": [
       "(5442, 8)"
      ]
     },
     "execution_count": 143,
     "metadata": {},
     "output_type": "execute_result"
    }
   ],
   "source": [
    "df.shape"
   ]
  },
  {
   "cell_type": "code",
   "execution_count": 144,
   "metadata": {},
   "outputs": [
    {
     "data": {
      "text/plain": [
       "Index(['poet_url', 'genre', 'poem_url', 'poet', 'title', 'year', 'poem_lines',\n",
       "       'poem_string'],\n",
       "      dtype='object')"
      ]
     },
     "execution_count": 144,
     "metadata": {},
     "output_type": "execute_result"
    }
   ],
   "source": [
    "df.columns = ['poet_url', 'genre', 'poem_url', 'poet', 'title', 'year', 'poem_lines', 'poem_string']\n",
    "df.columns"
   ]
  },
  {
   "cell_type": "code",
   "execution_count": 145,
   "metadata": {},
   "outputs": [
    {
     "data": {
      "text/html": [
       "<div>\n",
       "<style scoped>\n",
       "    .dataframe tbody tr th:only-of-type {\n",
       "        vertical-align: middle;\n",
       "    }\n",
       "\n",
       "    .dataframe tbody tr th {\n",
       "        vertical-align: top;\n",
       "    }\n",
       "\n",
       "    .dataframe thead th {\n",
       "        text-align: right;\n",
       "    }\n",
       "</style>\n",
       "<table border=\"1\" class=\"dataframe\">\n",
       "  <thead>\n",
       "    <tr style=\"text-align: right;\">\n",
       "      <th></th>\n",
       "      <th>poet_url</th>\n",
       "      <th>genre</th>\n",
       "      <th>poem_url</th>\n",
       "      <th>poet</th>\n",
       "      <th>title</th>\n",
       "      <th>year</th>\n",
       "      <th>poem_lines</th>\n",
       "      <th>poem_string</th>\n",
       "    </tr>\n",
       "  </thead>\n",
       "  <tbody>\n",
       "    <tr>\n",
       "      <th>0</th>\n",
       "      <td>https://www.poetryfoundation.org/poets/richard-brautigan</td>\n",
       "      <td>beat</td>\n",
       "      <td>https://www.poetryfoundation.org/poems/48578/at-the-california-institute-of-technology</td>\n",
       "      <td>Richard Brautigan</td>\n",
       "      <td>At the California Institute of Technology</td>\n",
       "      <td>NaN</td>\n",
       "      <td>['I don’t care how God-damn smart', '\\r these guys are: I’m bored.', '&lt;br/&gt;', '\\r It’s been raining like hell all day long', '\\r and there’s nothi...</td>\n",
       "      <td>I don’t care how God-damn smart\\n these guys are: I’m bored.\\n\\n It’s been raining like hell all day long\\n and there’s nothing to do.\\n</td>\n",
       "    </tr>\n",
       "    <tr>\n",
       "      <th>1</th>\n",
       "      <td>https://www.poetryfoundation.org/poets/richard-brautigan</td>\n",
       "      <td>beat</td>\n",
       "      <td>https://www.poetryfoundation.org/poems/48576/a-boat</td>\n",
       "      <td>Richard Brautigan</td>\n",
       "      <td>A Boat</td>\n",
       "      <td>1968.0</td>\n",
       "      <td>['O beautiful ', 'was the werewolf   ', 'in his evil forest.   ', 'We took him ', 'to the carnival   ', 'and he started   ', '   crying ', 'when h...</td>\n",
       "      <td>O beautiful was the werewolf   in his evil forest.   We took him to the carnival   and he started      crying when he saw the Ferris wheel.   Elec...</td>\n",
       "    </tr>\n",
       "    <tr>\n",
       "      <th>2</th>\n",
       "      <td>https://www.poetryfoundation.org/poets/richard-brautigan</td>\n",
       "      <td>beat</td>\n",
       "      <td>https://www.poetryfoundation.org/poems/48580/december-30</td>\n",
       "      <td>Richard Brautigan</td>\n",
       "      <td>December 30</td>\n",
       "      <td>1968.0</td>\n",
       "      <td>['At 1:03 in the morning a fart', '\\r smells like a marriage between', '\\r an avocado and a fish head.', '&lt;br/&gt;', '\\r I have to get out of bed', '...</td>\n",
       "      <td>At 1:03 in the morning a fart\\n smells like a marriage between\\n an avocado and a fish head.\\n\\n I have to get out of bed\\n to write this down wit...</td>\n",
       "    </tr>\n",
       "    <tr>\n",
       "      <th>3</th>\n",
       "      <td>https://www.poetryfoundation.org/poets/richard-brautigan</td>\n",
       "      <td>beat</td>\n",
       "      <td>https://www.poetryfoundation.org/poems/48579/the-double-bed-dream-gallows</td>\n",
       "      <td>Richard Brautigan</td>\n",
       "      <td>The Double-Bed Dream Gallows</td>\n",
       "      <td>1968.0</td>\n",
       "      <td>['Driving through   ', '\\r hot brushy country', '\\r in the late autumn,   ', '\\r I saw a hawk', '\\r crucified on a', '\\r barbed-wire fence.', '&lt;br...</td>\n",
       "      <td>Driving through   \\n hot brushy country\\n in the late autumn,   \\n I saw a hawk\\n crucified on a\\n barbed-wire fence.\\n\\n I guess as a kind   \\n o...</td>\n",
       "    </tr>\n",
       "    <tr>\n",
       "      <th>4</th>\n",
       "      <td>https://www.poetryfoundation.org/poets/richard-brautigan</td>\n",
       "      <td>beat</td>\n",
       "      <td>https://www.poetryfoundation.org/poems/48581/haiku-ambulance</td>\n",
       "      <td>Richard Brautigan</td>\n",
       "      <td>Haiku Ambulance</td>\n",
       "      <td>1968.0</td>\n",
       "      <td>['A piece of green pepper', '\\r    fell', '\\r off the wooden salad bowl:', '\\r    so what?', '&lt;br/&gt;']</td>\n",
       "      <td>A piece of green pepper\\n    fell\\n off the wooden salad bowl:\\n    so what?\\n</td>\n",
       "    </tr>\n",
       "  </tbody>\n",
       "</table>\n",
       "</div>"
      ],
      "text/plain": [
       "                                                   poet_url genre  \\\n",
       "0  https://www.poetryfoundation.org/poets/richard-brautigan  beat   \n",
       "1  https://www.poetryfoundation.org/poets/richard-brautigan  beat   \n",
       "2  https://www.poetryfoundation.org/poets/richard-brautigan  beat   \n",
       "3  https://www.poetryfoundation.org/poets/richard-brautigan  beat   \n",
       "4  https://www.poetryfoundation.org/poets/richard-brautigan  beat   \n",
       "\n",
       "                                                                                 poem_url  \\\n",
       "0  https://www.poetryfoundation.org/poems/48578/at-the-california-institute-of-technology   \n",
       "1                                     https://www.poetryfoundation.org/poems/48576/a-boat   \n",
       "2                                https://www.poetryfoundation.org/poems/48580/december-30   \n",
       "3               https://www.poetryfoundation.org/poems/48579/the-double-bed-dream-gallows   \n",
       "4                            https://www.poetryfoundation.org/poems/48581/haiku-ambulance   \n",
       "\n",
       "                poet                                      title    year  \\\n",
       "0  Richard Brautigan  At the California Institute of Technology     NaN   \n",
       "1  Richard Brautigan                                     A Boat  1968.0   \n",
       "2  Richard Brautigan                                December 30  1968.0   \n",
       "3  Richard Brautigan               The Double-Bed Dream Gallows  1968.0   \n",
       "4  Richard Brautigan                            Haiku Ambulance  1968.0   \n",
       "\n",
       "                                                                                                                                              poem_lines  \\\n",
       "0  ['I don’t care how God-damn smart', '\\r these guys are: I’m bored.', '<br/>', '\\r It’s been raining like hell all day long', '\\r and there’s nothi...   \n",
       "1  ['O beautiful ', 'was the werewolf   ', 'in his evil forest.   ', 'We took him ', 'to the carnival   ', 'and he started   ', '   crying ', 'when h...   \n",
       "2  ['At 1:03 in the morning a fart', '\\r smells like a marriage between', '\\r an avocado and a fish head.', '<br/>', '\\r I have to get out of bed', '...   \n",
       "3  ['Driving through   ', '\\r hot brushy country', '\\r in the late autumn,   ', '\\r I saw a hawk', '\\r crucified on a', '\\r barbed-wire fence.', '<br...   \n",
       "4                                                  ['A piece of green pepper', '\\r    fell', '\\r off the wooden salad bowl:', '\\r    so what?', '<br/>']   \n",
       "\n",
       "                                                                                                                                             poem_string  \n",
       "0               I don’t care how God-damn smart\\n these guys are: I’m bored.\\n\\n It’s been raining like hell all day long\\n and there’s nothing to do.\\n  \n",
       "1  O beautiful was the werewolf   in his evil forest.   We took him to the carnival   and he started      crying when he saw the Ferris wheel.   Elec...  \n",
       "2  At 1:03 in the morning a fart\\n smells like a marriage between\\n an avocado and a fish head.\\n\\n I have to get out of bed\\n to write this down wit...  \n",
       "3  Driving through   \\n hot brushy country\\n in the late autumn,   \\n I saw a hawk\\n crucified on a\\n barbed-wire fence.\\n\\n I guess as a kind   \\n o...  \n",
       "4                                                                         A piece of green pepper\\n    fell\\n off the wooden salad bowl:\\n    so what?\\n  "
      ]
     },
     "execution_count": 145,
     "metadata": {},
     "output_type": "execute_result"
    }
   ],
   "source": [
    "df.head()"
   ]
  },
  {
   "cell_type": "code",
   "execution_count": 146,
   "metadata": {},
   "outputs": [
    {
     "data": {
      "text/plain": [
       "array(['beat', 'augustan', 'black_arts_movement', 'black_mountain',\n",
       "       'confessional', 'fugitive', 'georgian', 'harlem_renaissance',\n",
       "       'imagist', 'language_poetry', 'middle_english', 'modern',\n",
       "       'new_york_school', 'new_york_school_2nd_generation', 'objectivist',\n",
       "       'renaissance', 'romantic', 'victorian'], dtype=object)"
      ]
     },
     "execution_count": 146,
     "metadata": {},
     "output_type": "execute_result"
    }
   ],
   "source": [
    "df.genre.unique()"
   ]
  },
  {
   "cell_type": "code",
   "execution_count": 147,
   "metadata": {
    "scrolled": true
   },
   "outputs": [
    {
     "data": {
      "text/plain": [
       "modern                            1324\n",
       "victorian                          674\n",
       "renaissance                        430\n",
       "romantic                           407\n",
       "imagist                            370\n",
       "beat                               294\n",
       "new_york_school                    265\n",
       "black_mountain                     257\n",
       "new_york_school_2nd_generation     193\n",
       "language_poetry                    192\n",
       "confessional                       176\n",
       "georgian                           167\n",
       "black_arts_movement                165\n",
       "objectivist                        159\n",
       "harlem_renaissance                 148\n",
       "augustan                           121\n",
       "fugitive                            90\n",
       "middle_english                      10\n",
       "Name: genre, dtype: int64"
      ]
     },
     "execution_count": 147,
     "metadata": {},
     "output_type": "execute_result"
    }
   ],
   "source": [
    "df.genre.value_counts()"
   ]
  },
  {
   "cell_type": "code",
   "execution_count": 148,
   "metadata": {
    "scrolled": true
   },
   "outputs": [
    {
     "data": {
      "text/plain": [
       "245"
      ]
     },
     "execution_count": 148,
     "metadata": {},
     "output_type": "execute_result"
    }
   ],
   "source": [
    "df.duplicated(subset=['poet_url', 'genre', 'poem_url', 'poet', 'title', 'year', 'poem_string'], keep='last').sum()"
   ]
  },
  {
   "cell_type": "code",
   "execution_count": 149,
   "metadata": {},
   "outputs": [],
   "source": [
    "df.drop_duplicates(subset=['poet_url', 'genre', 'poem_url', 'poet', 'title', 'year', 'poem_string'],\n",
    "                   keep='last',\n",
    "                   inplace=True)"
   ]
  },
  {
   "cell_type": "code",
   "execution_count": 150,
   "metadata": {},
   "outputs": [],
   "source": [
    "df.reset_index(drop=True, inplace=True)"
   ]
  },
  {
   "cell_type": "code",
   "execution_count": 151,
   "metadata": {},
   "outputs": [
    {
     "data": {
      "text/plain": [
       "(5197, 8)"
      ]
     },
     "execution_count": 151,
     "metadata": {},
     "output_type": "execute_result"
    }
   ],
   "source": [
    "df.shape"
   ]
  },
  {
   "cell_type": "code",
   "execution_count": 152,
   "metadata": {
    "scrolled": true
   },
   "outputs": [
    {
     "data": {
      "text/plain": [
       "modern                            1284\n",
       "victorian                          643\n",
       "renaissance                        427\n",
       "romantic                           398\n",
       "imagist                            370\n",
       "new_york_school                    265\n",
       "black_mountain                     257\n",
       "new_york_school_2nd_generation     192\n",
       "language_poetry                    192\n",
       "confessional                       176\n",
       "black_arts_movement                165\n",
       "georgian                           160\n",
       "objectivist                        159\n",
       "harlem_renaissance                 148\n",
       "beat                               147\n",
       "augustan                           114\n",
       "fugitive                            90\n",
       "middle_english                      10\n",
       "Name: genre, dtype: int64"
      ]
     },
     "execution_count": 152,
     "metadata": {},
     "output_type": "execute_result"
    }
   ],
   "source": [
    "df.genre.value_counts()"
   ]
  },
  {
   "cell_type": "code",
   "execution_count": 153,
   "metadata": {},
   "outputs": [
    {
     "data": {
      "text/plain": [
       "poet_url          0\n",
       "genre             0\n",
       "poem_url          0\n",
       "poet           1858\n",
       "title          1933\n",
       "year           3736\n",
       "poem_lines       30\n",
       "poem_string    1937\n",
       "dtype: int64"
      ]
     },
     "execution_count": 153,
     "metadata": {},
     "output_type": "execute_result"
    }
   ],
   "source": [
    "df.isna().sum()"
   ]
  },
  {
   "cell_type": "code",
   "execution_count": 184,
   "metadata": {
    "scrolled": false
   },
   "outputs": [
    {
     "data": {
      "text/html": [
       "<div>\n",
       "<style scoped>\n",
       "    .dataframe tbody tr th:only-of-type {\n",
       "        vertical-align: middle;\n",
       "    }\n",
       "\n",
       "    .dataframe tbody tr th {\n",
       "        vertical-align: top;\n",
       "    }\n",
       "\n",
       "    .dataframe thead th {\n",
       "        text-align: right;\n",
       "    }\n",
       "</style>\n",
       "<table border=\"1\" class=\"dataframe\">\n",
       "  <thead>\n",
       "    <tr style=\"text-align: right;\">\n",
       "      <th></th>\n",
       "      <th>poet_url</th>\n",
       "      <th>genre</th>\n",
       "      <th>poem_url</th>\n",
       "      <th>poet</th>\n",
       "      <th>title</th>\n",
       "      <th>year</th>\n",
       "      <th>poem_lines</th>\n",
       "      <th>poem_string</th>\n",
       "    </tr>\n",
       "  </thead>\n",
       "  <tbody>\n",
       "    <tr>\n",
       "      <th>65</th>\n",
       "      <td>https://www.poetryfoundation.org/poets/lady-mary-wortley-montagu</td>\n",
       "      <td>augustan</td>\n",
       "      <td>https://www.poetryfoundation.org/poems/44765/town-eclogues-thursday-the-bassette-table</td>\n",
       "      <td>Lady Mary Wortley Montagu</td>\n",
       "      <td>Town Eclogues: Thursday; the Bassette-Table</td>\n",
       "      <td>NaN</td>\n",
       "      <td>NaN</td>\n",
       "      <td>NaN</td>\n",
       "    </tr>\n",
       "    <tr>\n",
       "      <th>306</th>\n",
       "      <td>https://www.poetryfoundation.org/poets/gwendolyn-brooks</td>\n",
       "      <td>black_arts_movement</td>\n",
       "      <td>https://www.poetryfoundation.org/poems/58377/riot-56d23cb395a01</td>\n",
       "      <td>Gwendolyn Brooks</td>\n",
       "      <td>NaN</td>\n",
       "      <td>NaN</td>\n",
       "      <td>NaN</td>\n",
       "      <td>NaN</td>\n",
       "    </tr>\n",
       "    <tr>\n",
       "      <th>408</th>\n",
       "      <td>https://www.poetryfoundation.org/poets/jay-wright</td>\n",
       "      <td>black_arts_movement</td>\n",
       "      <td>https://www.poetryfoundation.org/poems/42736/benjamin-banneker-helps-to-build-a-city</td>\n",
       "      <td>Jay Wright</td>\n",
       "      <td>Benjamin Banneker Helps to Build a City</td>\n",
       "      <td>2000.0</td>\n",
       "      <td>NaN</td>\n",
       "      <td>NaN</td>\n",
       "    </tr>\n",
       "    <tr>\n",
       "      <th>500</th>\n",
       "      <td>https://www.poetryfoundation.org/poets/robert-creeley</td>\n",
       "      <td>black_mountain</td>\n",
       "      <td>https://www.poetryfoundation.org/poetrymagazine/poems/55314/a-prayer-56d236c6bb760</td>\n",
       "      <td>Robert Creeley</td>\n",
       "      <td>A Prayer</td>\n",
       "      <td>1982.0</td>\n",
       "      <td>NaN</td>\n",
       "      <td>NaN</td>\n",
       "    </tr>\n",
       "    <tr>\n",
       "      <th>799</th>\n",
       "      <td>https://www.poetryfoundation.org/poets/frederick-seidel</td>\n",
       "      <td>confessional</td>\n",
       "      <td>https://www.poetryfoundation.org/poetrymagazine/poems/55728/snow-56d23797074a2</td>\n",
       "      <td>Frederick Seidel</td>\n",
       "      <td>Snow</td>\n",
       "      <td>2012.0</td>\n",
       "      <td>NaN</td>\n",
       "      <td>NaN</td>\n",
       "    </tr>\n",
       "    <tr>\n",
       "      <th>949</th>\n",
       "      <td>https://www.poetryfoundation.org/poets/hilaire-belloc</td>\n",
       "      <td>georgian</td>\n",
       "      <td>https://www.poetryfoundation.org/poems/46684/ballade-of-modest-confession</td>\n",
       "      <td>Hilaire Belloc</td>\n",
       "      <td>Ballade of Modest Confession</td>\n",
       "      <td>1970.0</td>\n",
       "      <td>NaN</td>\n",
       "      <td>NaN</td>\n",
       "    </tr>\n",
       "    <tr>\n",
       "      <th>1087</th>\n",
       "      <td>https://www.poetryfoundation.org/poets/siegfried-sassoon</td>\n",
       "      <td>georgian</td>\n",
       "      <td>https://www.poetryfoundation.org/poems/57215/blighters</td>\n",
       "      <td>Siegfried Sassoon</td>\n",
       "      <td>'Blighters'</td>\n",
       "      <td>1917.0</td>\n",
       "      <td>NaN</td>\n",
       "      <td>NaN</td>\n",
       "    </tr>\n",
       "    <tr>\n",
       "      <th>1165</th>\n",
       "      <td>https://www.poetryfoundation.org/poets/langston-hughes</td>\n",
       "      <td>harlem_renaissance</td>\n",
       "      <td>https://www.poetryfoundation.org/poetrymagazine/poems/55313/god-56d236c65624c</td>\n",
       "      <td>Langston Hughes</td>\n",
       "      <td>God</td>\n",
       "      <td>1994.0</td>\n",
       "      <td>NaN</td>\n",
       "      <td>NaN</td>\n",
       "    </tr>\n",
       "    <tr>\n",
       "      <th>1211</th>\n",
       "      <td>https://www.poetryfoundation.org/poets/claude-mckay</td>\n",
       "      <td>harlem_renaissance</td>\n",
       "      <td>https://www.poetryfoundation.org/poems/56983/the-lynching</td>\n",
       "      <td>Claude McKay</td>\n",
       "      <td>The Lynching</td>\n",
       "      <td>1922.0</td>\n",
       "      <td>NaN</td>\n",
       "      <td>NaN</td>\n",
       "    </tr>\n",
       "    <tr>\n",
       "      <th>1430</th>\n",
       "      <td>https://www.poetryfoundation.org/poets/ezra-pound</td>\n",
       "      <td>imagist</td>\n",
       "      <td>https://www.poetryfoundation.org/poems/44915/hugh-selwyn-mauberley-part-i</td>\n",
       "      <td>Ezra Pound</td>\n",
       "      <td>Hugh Selwyn Mauberley [Part I]</td>\n",
       "      <td>NaN</td>\n",
       "      <td>NaN</td>\n",
       "      <td>NaN</td>\n",
       "    </tr>\n",
       "    <tr>\n",
       "      <th>1431</th>\n",
       "      <td>https://www.poetryfoundation.org/poets/ezra-pound</td>\n",
       "      <td>imagist</td>\n",
       "      <td>https://www.poetryfoundation.org/poems/57353/hugh-selwyn-mauberley-part-ii</td>\n",
       "      <td>Ezra Pound</td>\n",
       "      <td>Hugh Selwyn Mauberley [Part II]</td>\n",
       "      <td>NaN</td>\n",
       "      <td>NaN</td>\n",
       "      <td>NaN</td>\n",
       "    </tr>\n",
       "    <tr>\n",
       "      <th>1646</th>\n",
       "      <td>https://www.poetryfoundation.org/poets/rae-armantrout</td>\n",
       "      <td>language_poetry</td>\n",
       "      <td>https://www.poetryfoundation.org/poetrymagazine/poems/52593/advent-56d231303d41f</td>\n",
       "      <td>Rae Armantrout</td>\n",
       "      <td>Advent</td>\n",
       "      <td>2009.0</td>\n",
       "      <td>NaN</td>\n",
       "      <td>NaN</td>\n",
       "    </tr>\n",
       "    <tr>\n",
       "      <th>1751</th>\n",
       "      <td>https://www.poetryfoundation.org/poets/fanny-howe</td>\n",
       "      <td>language_poetry</td>\n",
       "      <td>https://www.poetryfoundation.org/poetrymagazine/poems/55209/the-cenotaph</td>\n",
       "      <td>Fanny Howe</td>\n",
       "      <td>The Cenotaph</td>\n",
       "      <td>2011.0</td>\n",
       "      <td>NaN</td>\n",
       "      <td>NaN</td>\n",
       "    </tr>\n",
       "    <tr>\n",
       "      <th>1755</th>\n",
       "      <td>https://www.poetryfoundation.org/poets/fanny-howe</td>\n",
       "      <td>language_poetry</td>\n",
       "      <td>https://www.poetryfoundation.org/poetrymagazine/poems/53206/a-hymn</td>\n",
       "      <td>Fanny Howe</td>\n",
       "      <td>A Hymn</td>\n",
       "      <td>2010.0</td>\n",
       "      <td>NaN</td>\n",
       "      <td>NaN</td>\n",
       "    </tr>\n",
       "    <tr>\n",
       "      <th>1759</th>\n",
       "      <td>https://www.poetryfoundation.org/poets/fanny-howe</td>\n",
       "      <td>language_poetry</td>\n",
       "      <td>https://www.poetryfoundation.org/poetrymagazine/poems/53072/oxford-56d2320d14703</td>\n",
       "      <td>Fanny Howe</td>\n",
       "      <td>Oxford</td>\n",
       "      <td>2009.0</td>\n",
       "      <td>NaN</td>\n",
       "      <td>NaN</td>\n",
       "    </tr>\n",
       "    <tr>\n",
       "      <th>1818</th>\n",
       "      <td>https://www.poetryfoundation.org/poets/ron-silliman</td>\n",
       "      <td>language_poetry</td>\n",
       "      <td>https://www.poetryfoundation.org/poetrymagazine/poems/53579/revelator</td>\n",
       "      <td>Ron Silliman</td>\n",
       "      <td>Revelator</td>\n",
       "      <td>2010.0</td>\n",
       "      <td>NaN</td>\n",
       "      <td>NaN</td>\n",
       "    </tr>\n",
       "    <tr>\n",
       "      <th>2084</th>\n",
       "      <td>https://www.poetryfoundation.org/poets/t-s-eliot</td>\n",
       "      <td>modern</td>\n",
       "      <td>https://www.poetryfoundation.org/poems/52563/whispers-of-immortality</td>\n",
       "      <td>T. S. Eliot</td>\n",
       "      <td>Whispers of Immortality</td>\n",
       "      <td>NaN</td>\n",
       "      <td>NaN</td>\n",
       "      <td>NaN</td>\n",
       "    </tr>\n",
       "    <tr>\n",
       "      <th>2137</th>\n",
       "      <td>https://www.poetryfoundation.org/poets/ivor-gurney</td>\n",
       "      <td>modern</td>\n",
       "      <td>https://www.poetryfoundation.org/poems/57257/first-time-in-after-the-dread-tales-</td>\n",
       "      <td>Ivor Gurney</td>\n",
       "      <td>First Time In [“After the dread tales ... ”]</td>\n",
       "      <td>NaN</td>\n",
       "      <td>NaN</td>\n",
       "      <td>NaN</td>\n",
       "    </tr>\n",
       "    <tr>\n",
       "      <th>2138</th>\n",
       "      <td>https://www.poetryfoundation.org/poets/ivor-gurney</td>\n",
       "      <td>modern</td>\n",
       "      <td>https://www.poetryfoundation.org/poems/57256/i-saw-england-july-night</td>\n",
       "      <td>Ivor Gurney</td>\n",
       "      <td>I Saw England — July Night</td>\n",
       "      <td>NaN</td>\n",
       "      <td>NaN</td>\n",
       "      <td>NaN</td>\n",
       "    </tr>\n",
       "    <tr>\n",
       "      <th>2143</th>\n",
       "      <td>https://www.poetryfoundation.org/poets/ivor-gurney</td>\n",
       "      <td>modern</td>\n",
       "      <td>https://www.poetryfoundation.org/poems/57238/strange-service</td>\n",
       "      <td>Ivor Gurney</td>\n",
       "      <td>Strange Service</td>\n",
       "      <td>NaN</td>\n",
       "      <td>NaN</td>\n",
       "      <td>NaN</td>\n",
       "    </tr>\n",
       "    <tr>\n",
       "      <th>3949</th>\n",
       "      <td>https://www.poetryfoundation.org/poets/william-shakespeare</td>\n",
       "      <td>renaissance</td>\n",
       "      <td>https://www.poetryfoundation.org/poems/47418/song-full-fathom-five-thy-father-lies-</td>\n",
       "      <td>William Shakespeare</td>\n",
       "      <td>NaN</td>\n",
       "      <td>NaN</td>\n",
       "      <td>NaN</td>\n",
       "      <td>NaN</td>\n",
       "    </tr>\n",
       "    <tr>\n",
       "      <th>3958</th>\n",
       "      <td>https://www.poetryfoundation.org/poets/william-shakespeare</td>\n",
       "      <td>renaissance</td>\n",
       "      <td>https://www.poetryfoundation.org/poems/47423/song-under-the-greenwood-tree</td>\n",
       "      <td>William Shakespeare</td>\n",
       "      <td>Song: “Under the greenwood tree”</td>\n",
       "      <td>NaN</td>\n",
       "      <td>NaN</td>\n",
       "      <td>NaN</td>\n",
       "    </tr>\n",
       "    <tr>\n",
       "      <th>4238</th>\n",
       "      <td>https://www.poetryfoundation.org/poets/lord-byron</td>\n",
       "      <td>romantic</td>\n",
       "      <td>https://www.poetryfoundation.org/poems/55816/don-juan-canto-1-stanzas-217-221</td>\n",
       "      <td>Lord Byron (George Gordon)</td>\n",
       "      <td>: Canto 1, Stanzas 217-221</td>\n",
       "      <td>1986.0</td>\n",
       "      <td>NaN</td>\n",
       "      <td>NaN</td>\n",
       "    </tr>\n",
       "    <tr>\n",
       "      <th>4239</th>\n",
       "      <td>https://www.poetryfoundation.org/poets/lord-byron</td>\n",
       "      <td>romantic</td>\n",
       "      <td>https://www.poetryfoundation.org/poems/55814/don-juan-canto-1-stanzas-41-42</td>\n",
       "      <td>Lord Byron (George Gordon)</td>\n",
       "      <td>: Canto 1, Stanzas 41-42</td>\n",
       "      <td>1986.0</td>\n",
       "      <td>NaN</td>\n",
       "      <td>NaN</td>\n",
       "    </tr>\n",
       "    <tr>\n",
       "      <th>4240</th>\n",
       "      <td>https://www.poetryfoundation.org/poets/lord-byron</td>\n",
       "      <td>romantic</td>\n",
       "      <td>https://www.poetryfoundation.org/poems/55815/don-juan-canto-1-stanzas-47-48</td>\n",
       "      <td>Lord Byron (George Gordon)</td>\n",
       "      <td>: Canto 1, Stanzas 47-48</td>\n",
       "      <td>1986.0</td>\n",
       "      <td>NaN</td>\n",
       "      <td>NaN</td>\n",
       "    </tr>\n",
       "    <tr>\n",
       "      <th>4295</th>\n",
       "      <td>https://www.poetryfoundation.org/poets/samuel-taylor-coleridge</td>\n",
       "      <td>romantic</td>\n",
       "      <td>https://www.poetryfoundation.org/poems/43997/the-rime-of-the-ancient-mariner-text-of-1834</td>\n",
       "      <td>Samuel Taylor Coleridge</td>\n",
       "      <td>The Rime of the Ancient Mariner (text of 1834)</td>\n",
       "      <td>NaN</td>\n",
       "      <td>NaN</td>\n",
       "      <td>NaN</td>\n",
       "    </tr>\n",
       "    <tr>\n",
       "      <th>4303</th>\n",
       "      <td>https://www.poetryfoundation.org/poets/erasmus-darwin</td>\n",
       "      <td>romantic</td>\n",
       "      <td>https://www.poetryfoundation.org/poems/52827/the-botanic-garden-the-economy-of-vegetation-canto-i</td>\n",
       "      <td>Erasmus Darwin</td>\n",
       "      <td>The Botanic Garden, “The Economy of Vegetation”: Canto I</td>\n",
       "      <td>NaN</td>\n",
       "      <td>NaN</td>\n",
       "      <td>NaN</td>\n",
       "    </tr>\n",
       "    <tr>\n",
       "      <th>4438</th>\n",
       "      <td>https://www.poetryfoundation.org/poets/percy-bysshe-shelley</td>\n",
       "      <td>romantic</td>\n",
       "      <td>https://www.poetryfoundation.org/poems/56665/laon-and-cythna-or-the-revolution-of-the-golden-city</td>\n",
       "      <td>Percy Bysshe Shelley</td>\n",
       "      <td>Laon and Cythna; or The Revolution of the Golden City</td>\n",
       "      <td>2002.0</td>\n",
       "      <td>NaN</td>\n",
       "      <td>NaN</td>\n",
       "    </tr>\n",
       "    <tr>\n",
       "      <th>4777</th>\n",
       "      <td>https://www.poetryfoundation.org/poets/gerard-manley-hopkins</td>\n",
       "      <td>victorian</td>\n",
       "      <td>https://www.poetryfoundation.org/poems/44403/the-wreck-of-the-deutschland</td>\n",
       "      <td>Gerard Manley Hopkins</td>\n",
       "      <td>The Wreck of the Deutschland</td>\n",
       "      <td>1950.0</td>\n",
       "      <td>NaN</td>\n",
       "      <td>NaN</td>\n",
       "    </tr>\n",
       "    <tr>\n",
       "      <th>4812</th>\n",
       "      <td>https://www.poetryfoundation.org/poets/rudyard-kipling</td>\n",
       "      <td>victorian</td>\n",
       "      <td>https://www.poetryfoundation.org/poems/57409/epitaphs-of-the-war</td>\n",
       "      <td>Rudyard Kipling</td>\n",
       "      <td>Epitaphs of the War</td>\n",
       "      <td>1919.0</td>\n",
       "      <td>NaN</td>\n",
       "      <td>NaN</td>\n",
       "    </tr>\n",
       "  </tbody>\n",
       "</table>\n",
       "</div>"
      ],
      "text/plain": [
       "                                                              poet_url  \\\n",
       "65    https://www.poetryfoundation.org/poets/lady-mary-wortley-montagu   \n",
       "306            https://www.poetryfoundation.org/poets/gwendolyn-brooks   \n",
       "408                  https://www.poetryfoundation.org/poets/jay-wright   \n",
       "500              https://www.poetryfoundation.org/poets/robert-creeley   \n",
       "799            https://www.poetryfoundation.org/poets/frederick-seidel   \n",
       "949              https://www.poetryfoundation.org/poets/hilaire-belloc   \n",
       "1087          https://www.poetryfoundation.org/poets/siegfried-sassoon   \n",
       "1165            https://www.poetryfoundation.org/poets/langston-hughes   \n",
       "1211               https://www.poetryfoundation.org/poets/claude-mckay   \n",
       "1430                 https://www.poetryfoundation.org/poets/ezra-pound   \n",
       "1431                 https://www.poetryfoundation.org/poets/ezra-pound   \n",
       "1646             https://www.poetryfoundation.org/poets/rae-armantrout   \n",
       "1751                 https://www.poetryfoundation.org/poets/fanny-howe   \n",
       "1755                 https://www.poetryfoundation.org/poets/fanny-howe   \n",
       "1759                 https://www.poetryfoundation.org/poets/fanny-howe   \n",
       "1818               https://www.poetryfoundation.org/poets/ron-silliman   \n",
       "2084                  https://www.poetryfoundation.org/poets/t-s-eliot   \n",
       "2137                https://www.poetryfoundation.org/poets/ivor-gurney   \n",
       "2138                https://www.poetryfoundation.org/poets/ivor-gurney   \n",
       "2143                https://www.poetryfoundation.org/poets/ivor-gurney   \n",
       "3949        https://www.poetryfoundation.org/poets/william-shakespeare   \n",
       "3958        https://www.poetryfoundation.org/poets/william-shakespeare   \n",
       "4238                 https://www.poetryfoundation.org/poets/lord-byron   \n",
       "4239                 https://www.poetryfoundation.org/poets/lord-byron   \n",
       "4240                 https://www.poetryfoundation.org/poets/lord-byron   \n",
       "4295    https://www.poetryfoundation.org/poets/samuel-taylor-coleridge   \n",
       "4303             https://www.poetryfoundation.org/poets/erasmus-darwin   \n",
       "4438       https://www.poetryfoundation.org/poets/percy-bysshe-shelley   \n",
       "4777      https://www.poetryfoundation.org/poets/gerard-manley-hopkins   \n",
       "4812            https://www.poetryfoundation.org/poets/rudyard-kipling   \n",
       "\n",
       "                    genre  \\\n",
       "65               augustan   \n",
       "306   black_arts_movement   \n",
       "408   black_arts_movement   \n",
       "500        black_mountain   \n",
       "799          confessional   \n",
       "949              georgian   \n",
       "1087             georgian   \n",
       "1165   harlem_renaissance   \n",
       "1211   harlem_renaissance   \n",
       "1430              imagist   \n",
       "1431              imagist   \n",
       "1646      language_poetry   \n",
       "1751      language_poetry   \n",
       "1755      language_poetry   \n",
       "1759      language_poetry   \n",
       "1818      language_poetry   \n",
       "2084               modern   \n",
       "2137               modern   \n",
       "2138               modern   \n",
       "2143               modern   \n",
       "3949          renaissance   \n",
       "3958          renaissance   \n",
       "4238             romantic   \n",
       "4239             romantic   \n",
       "4240             romantic   \n",
       "4295             romantic   \n",
       "4303             romantic   \n",
       "4438             romantic   \n",
       "4777            victorian   \n",
       "4812            victorian   \n",
       "\n",
       "                                                                                               poem_url  \\\n",
       "65               https://www.poetryfoundation.org/poems/44765/town-eclogues-thursday-the-bassette-table   \n",
       "306                                     https://www.poetryfoundation.org/poems/58377/riot-56d23cb395a01   \n",
       "408                https://www.poetryfoundation.org/poems/42736/benjamin-banneker-helps-to-build-a-city   \n",
       "500                  https://www.poetryfoundation.org/poetrymagazine/poems/55314/a-prayer-56d236c6bb760   \n",
       "799                      https://www.poetryfoundation.org/poetrymagazine/poems/55728/snow-56d23797074a2   \n",
       "949                           https://www.poetryfoundation.org/poems/46684/ballade-of-modest-confession   \n",
       "1087                                             https://www.poetryfoundation.org/poems/57215/blighters   \n",
       "1165                      https://www.poetryfoundation.org/poetrymagazine/poems/55313/god-56d236c65624c   \n",
       "1211                                          https://www.poetryfoundation.org/poems/56983/the-lynching   \n",
       "1430                          https://www.poetryfoundation.org/poems/44915/hugh-selwyn-mauberley-part-i   \n",
       "1431                         https://www.poetryfoundation.org/poems/57353/hugh-selwyn-mauberley-part-ii   \n",
       "1646                   https://www.poetryfoundation.org/poetrymagazine/poems/52593/advent-56d231303d41f   \n",
       "1751                           https://www.poetryfoundation.org/poetrymagazine/poems/55209/the-cenotaph   \n",
       "1755                                 https://www.poetryfoundation.org/poetrymagazine/poems/53206/a-hymn   \n",
       "1759                   https://www.poetryfoundation.org/poetrymagazine/poems/53072/oxford-56d2320d14703   \n",
       "1818                              https://www.poetryfoundation.org/poetrymagazine/poems/53579/revelator   \n",
       "2084                               https://www.poetryfoundation.org/poems/52563/whispers-of-immortality   \n",
       "2137                  https://www.poetryfoundation.org/poems/57257/first-time-in-after-the-dread-tales-   \n",
       "2138                              https://www.poetryfoundation.org/poems/57256/i-saw-england-july-night   \n",
       "2143                                       https://www.poetryfoundation.org/poems/57238/strange-service   \n",
       "3949                https://www.poetryfoundation.org/poems/47418/song-full-fathom-five-thy-father-lies-   \n",
       "3958                         https://www.poetryfoundation.org/poems/47423/song-under-the-greenwood-tree   \n",
       "4238                      https://www.poetryfoundation.org/poems/55816/don-juan-canto-1-stanzas-217-221   \n",
       "4239                        https://www.poetryfoundation.org/poems/55814/don-juan-canto-1-stanzas-41-42   \n",
       "4240                        https://www.poetryfoundation.org/poems/55815/don-juan-canto-1-stanzas-47-48   \n",
       "4295          https://www.poetryfoundation.org/poems/43997/the-rime-of-the-ancient-mariner-text-of-1834   \n",
       "4303  https://www.poetryfoundation.org/poems/52827/the-botanic-garden-the-economy-of-vegetation-canto-i   \n",
       "4438  https://www.poetryfoundation.org/poems/56665/laon-and-cythna-or-the-revolution-of-the-golden-city   \n",
       "4777                          https://www.poetryfoundation.org/poems/44403/the-wreck-of-the-deutschland   \n",
       "4812                                   https://www.poetryfoundation.org/poems/57409/epitaphs-of-the-war   \n",
       "\n",
       "                            poet  \\\n",
       "65     Lady Mary Wortley Montagu   \n",
       "306             Gwendolyn Brooks   \n",
       "408                   Jay Wright   \n",
       "500               Robert Creeley   \n",
       "799             Frederick Seidel   \n",
       "949               Hilaire Belloc   \n",
       "1087           Siegfried Sassoon   \n",
       "1165             Langston Hughes   \n",
       "1211                Claude McKay   \n",
       "1430                  Ezra Pound   \n",
       "1431                  Ezra Pound   \n",
       "1646              Rae Armantrout   \n",
       "1751                  Fanny Howe   \n",
       "1755                  Fanny Howe   \n",
       "1759                  Fanny Howe   \n",
       "1818                Ron Silliman   \n",
       "2084                 T. S. Eliot   \n",
       "2137                 Ivor Gurney   \n",
       "2138                 Ivor Gurney   \n",
       "2143                 Ivor Gurney   \n",
       "3949         William Shakespeare   \n",
       "3958         William Shakespeare   \n",
       "4238  Lord Byron (George Gordon)   \n",
       "4239  Lord Byron (George Gordon)   \n",
       "4240  Lord Byron (George Gordon)   \n",
       "4295     Samuel Taylor Coleridge   \n",
       "4303              Erasmus Darwin   \n",
       "4438        Percy Bysshe Shelley   \n",
       "4777       Gerard Manley Hopkins   \n",
       "4812             Rudyard Kipling   \n",
       "\n",
       "                                                         title    year  \\\n",
       "65                 Town Eclogues: Thursday; the Bassette-Table     NaN   \n",
       "306                                                        NaN     NaN   \n",
       "408                    Benjamin Banneker Helps to Build a City  2000.0   \n",
       "500                                                   A Prayer  1982.0   \n",
       "799                                                       Snow  2012.0   \n",
       "949                               Ballade of Modest Confession  1970.0   \n",
       "1087                                               'Blighters'  1917.0   \n",
       "1165                                                       God  1994.0   \n",
       "1211                                              The Lynching  1922.0   \n",
       "1430                            Hugh Selwyn Mauberley [Part I]     NaN   \n",
       "1431                           Hugh Selwyn Mauberley [Part II]     NaN   \n",
       "1646                                                    Advent  2009.0   \n",
       "1751                                              The Cenotaph  2011.0   \n",
       "1755                                                    A Hymn  2010.0   \n",
       "1759                                                    Oxford  2009.0   \n",
       "1818                                                 Revelator  2010.0   \n",
       "2084                                   Whispers of Immortality     NaN   \n",
       "2137              First Time In [“After the dread tales ... ”]     NaN   \n",
       "2138                                I Saw England — July Night     NaN   \n",
       "2143                                           Strange Service     NaN   \n",
       "3949                                                       NaN     NaN   \n",
       "3958                          Song: “Under the greenwood tree”     NaN   \n",
       "4238                                : Canto 1, Stanzas 217-221  1986.0   \n",
       "4239                                  : Canto 1, Stanzas 41-42  1986.0   \n",
       "4240                                  : Canto 1, Stanzas 47-48  1986.0   \n",
       "4295            The Rime of the Ancient Mariner (text of 1834)     NaN   \n",
       "4303  The Botanic Garden, “The Economy of Vegetation”: Canto I     NaN   \n",
       "4438     Laon and Cythna; or The Revolution of the Golden City  2002.0   \n",
       "4777                              The Wreck of the Deutschland  1950.0   \n",
       "4812                                       Epitaphs of the War  1919.0   \n",
       "\n",
       "     poem_lines poem_string  \n",
       "65          NaN         NaN  \n",
       "306         NaN         NaN  \n",
       "408         NaN         NaN  \n",
       "500         NaN         NaN  \n",
       "799         NaN         NaN  \n",
       "949         NaN         NaN  \n",
       "1087        NaN         NaN  \n",
       "1165        NaN         NaN  \n",
       "1211        NaN         NaN  \n",
       "1430        NaN         NaN  \n",
       "1431        NaN         NaN  \n",
       "1646        NaN         NaN  \n",
       "1751        NaN         NaN  \n",
       "1755        NaN         NaN  \n",
       "1759        NaN         NaN  \n",
       "1818        NaN         NaN  \n",
       "2084        NaN         NaN  \n",
       "2137        NaN         NaN  \n",
       "2138        NaN         NaN  \n",
       "2143        NaN         NaN  \n",
       "3949        NaN         NaN  \n",
       "3958        NaN         NaN  \n",
       "4238        NaN         NaN  \n",
       "4239        NaN         NaN  \n",
       "4240        NaN         NaN  \n",
       "4295        NaN         NaN  \n",
       "4303        NaN         NaN  \n",
       "4438        NaN         NaN  \n",
       "4777        NaN         NaN  \n",
       "4812        NaN         NaN  "
      ]
     },
     "execution_count": 184,
     "metadata": {},
     "output_type": "execute_result"
    }
   ],
   "source": [
    "df[df.poem_lines.isna()]"
   ]
  },
  {
   "cell_type": "code",
   "execution_count": 226,
   "metadata": {},
   "outputs": [
    {
     "data": {
      "text/html": [
       "<div>\n",
       "<style scoped>\n",
       "    .dataframe tbody tr th:only-of-type {\n",
       "        vertical-align: middle;\n",
       "    }\n",
       "\n",
       "    .dataframe tbody tr th {\n",
       "        vertical-align: top;\n",
       "    }\n",
       "\n",
       "    .dataframe thead th {\n",
       "        text-align: right;\n",
       "    }\n",
       "</style>\n",
       "<table border=\"1\" class=\"dataframe\">\n",
       "  <thead>\n",
       "    <tr style=\"text-align: right;\">\n",
       "      <th></th>\n",
       "      <th>poet_url</th>\n",
       "      <th>genre</th>\n",
       "      <th>poem_url</th>\n",
       "      <th>poet</th>\n",
       "      <th>title</th>\n",
       "      <th>year</th>\n",
       "      <th>poem_lines</th>\n",
       "      <th>poem_string</th>\n",
       "    </tr>\n",
       "  </thead>\n",
       "  <tbody>\n",
       "    <tr>\n",
       "      <th>65</th>\n",
       "      <td>https://www.poetryfoundation.org/poets/lady-mary-wortley-montagu</td>\n",
       "      <td>augustan</td>\n",
       "      <td>https://www.poetryfoundation.org/poems/44765/town-eclogues-thursday-the-bassette-table</td>\n",
       "      <td>Lady Mary Wortley Montagu</td>\n",
       "      <td>Town Eclogues: Thursday; the Bassette-Table</td>\n",
       "      <td>NaN</td>\n",
       "      <td>NaN</td>\n",
       "      <td>NaN</td>\n",
       "    </tr>\n",
       "    <tr>\n",
       "      <th>126</th>\n",
       "      <td>https://www.poetryfoundation.org/poets/richard-brautigan</td>\n",
       "      <td>beat</td>\n",
       "      <td>https://www.poetryfoundation.org/poetrymagazine/poems/31338/wood</td>\n",
       "      <td>NaN</td>\n",
       "      <td>NaN</td>\n",
       "      <td>NaN</td>\n",
       "      <td>[]</td>\n",
       "      <td>NaN</td>\n",
       "    </tr>\n",
       "    <tr>\n",
       "      <th>140</th>\n",
       "      <td>https://www.poetryfoundation.org/poets/william-everson</td>\n",
       "      <td>beat</td>\n",
       "      <td>https://www.poetryfoundation.org/poetrymagazine/poems/21676/dust-and-the-glory</td>\n",
       "      <td>NaN</td>\n",
       "      <td>NaN</td>\n",
       "      <td>NaN</td>\n",
       "      <td>[]</td>\n",
       "      <td>NaN</td>\n",
       "    </tr>\n",
       "    <tr>\n",
       "      <th>141</th>\n",
       "      <td>https://www.poetryfoundation.org/poets/william-everson</td>\n",
       "      <td>beat</td>\n",
       "      <td>https://www.poetryfoundation.org/poetrymagazine/poems/21675/we-in-the-fields</td>\n",
       "      <td>NaN</td>\n",
       "      <td>NaN</td>\n",
       "      <td>NaN</td>\n",
       "      <td>[]</td>\n",
       "      <td>NaN</td>\n",
       "    </tr>\n",
       "    <tr>\n",
       "      <th>158</th>\n",
       "      <td>https://www.poetryfoundation.org/poets/lawrence-ferlinghetti</td>\n",
       "      <td>beat</td>\n",
       "      <td>https://www.poetryfoundation.org/poetrymagazine/poems/58150/beatitudes-visuales-mexicanas</td>\n",
       "      <td>Lawrence Ferlinghetti</td>\n",
       "      <td>Beatitudes Visuales Mexicanas</td>\n",
       "      <td>2015.0</td>\n",
       "      <td>[]</td>\n",
       "      <td>NaN</td>\n",
       "    </tr>\n",
       "    <tr>\n",
       "      <th>...</th>\n",
       "      <td>...</td>\n",
       "      <td>...</td>\n",
       "      <td>...</td>\n",
       "      <td>...</td>\n",
       "      <td>...</td>\n",
       "      <td>...</td>\n",
       "      <td>...</td>\n",
       "      <td>...</td>\n",
       "    </tr>\n",
       "    <tr>\n",
       "      <th>4438</th>\n",
       "      <td>https://www.poetryfoundation.org/poets/percy-bysshe-shelley</td>\n",
       "      <td>romantic</td>\n",
       "      <td>https://www.poetryfoundation.org/poems/56665/laon-and-cythna-or-the-revolution-of-the-golden-city</td>\n",
       "      <td>Percy Bysshe Shelley</td>\n",
       "      <td>Laon and Cythna; or The Revolution of the Golden City</td>\n",
       "      <td>2002.0</td>\n",
       "      <td>NaN</td>\n",
       "      <td>NaN</td>\n",
       "    </tr>\n",
       "    <tr>\n",
       "      <th>4777</th>\n",
       "      <td>https://www.poetryfoundation.org/poets/gerard-manley-hopkins</td>\n",
       "      <td>victorian</td>\n",
       "      <td>https://www.poetryfoundation.org/poems/44403/the-wreck-of-the-deutschland</td>\n",
       "      <td>Gerard Manley Hopkins</td>\n",
       "      <td>The Wreck of the Deutschland</td>\n",
       "      <td>1950.0</td>\n",
       "      <td>NaN</td>\n",
       "      <td>NaN</td>\n",
       "    </tr>\n",
       "    <tr>\n",
       "      <th>4812</th>\n",
       "      <td>https://www.poetryfoundation.org/poets/rudyard-kipling</td>\n",
       "      <td>victorian</td>\n",
       "      <td>https://www.poetryfoundation.org/poems/57409/epitaphs-of-the-war</td>\n",
       "      <td>Rudyard Kipling</td>\n",
       "      <td>Epitaphs of the War</td>\n",
       "      <td>1919.0</td>\n",
       "      <td>NaN</td>\n",
       "      <td>NaN</td>\n",
       "    </tr>\n",
       "    <tr>\n",
       "      <th>4831</th>\n",
       "      <td>https://www.poetryfoundation.org/poets/emma-lazarus</td>\n",
       "      <td>victorian</td>\n",
       "      <td>https://www.poetryfoundation.org/poems/46791/by-the-waters-of-babylon</td>\n",
       "      <td>Emma Lazarus</td>\n",
       "      <td>By the Waters of Babylon</td>\n",
       "      <td>2002.0</td>\n",
       "      <td>[]</td>\n",
       "      <td>NaN</td>\n",
       "    </tr>\n",
       "    <tr>\n",
       "      <th>4937</th>\n",
       "      <td>https://www.poetryfoundation.org/poets/alice-meynell</td>\n",
       "      <td>victorian</td>\n",
       "      <td>https://www.poetryfoundation.org/poetrymagazine/poems/12659/maternity</td>\n",
       "      <td>NaN</td>\n",
       "      <td>NaN</td>\n",
       "      <td>NaN</td>\n",
       "      <td>[]</td>\n",
       "      <td>NaN</td>\n",
       "    </tr>\n",
       "  </tbody>\n",
       "</table>\n",
       "<p>1937 rows × 8 columns</p>\n",
       "</div>"
      ],
      "text/plain": [
       "                                                              poet_url  \\\n",
       "65    https://www.poetryfoundation.org/poets/lady-mary-wortley-montagu   \n",
       "126           https://www.poetryfoundation.org/poets/richard-brautigan   \n",
       "140             https://www.poetryfoundation.org/poets/william-everson   \n",
       "141             https://www.poetryfoundation.org/poets/william-everson   \n",
       "158       https://www.poetryfoundation.org/poets/lawrence-ferlinghetti   \n",
       "...                                                                ...   \n",
       "4438       https://www.poetryfoundation.org/poets/percy-bysshe-shelley   \n",
       "4777      https://www.poetryfoundation.org/poets/gerard-manley-hopkins   \n",
       "4812            https://www.poetryfoundation.org/poets/rudyard-kipling   \n",
       "4831               https://www.poetryfoundation.org/poets/emma-lazarus   \n",
       "4937              https://www.poetryfoundation.org/poets/alice-meynell   \n",
       "\n",
       "          genre  \\\n",
       "65     augustan   \n",
       "126        beat   \n",
       "140        beat   \n",
       "141        beat   \n",
       "158        beat   \n",
       "...         ...   \n",
       "4438   romantic   \n",
       "4777  victorian   \n",
       "4812  victorian   \n",
       "4831  victorian   \n",
       "4937  victorian   \n",
       "\n",
       "                                                                                               poem_url  \\\n",
       "65               https://www.poetryfoundation.org/poems/44765/town-eclogues-thursday-the-bassette-table   \n",
       "126                                    https://www.poetryfoundation.org/poetrymagazine/poems/31338/wood   \n",
       "140                      https://www.poetryfoundation.org/poetrymagazine/poems/21676/dust-and-the-glory   \n",
       "141                        https://www.poetryfoundation.org/poetrymagazine/poems/21675/we-in-the-fields   \n",
       "158           https://www.poetryfoundation.org/poetrymagazine/poems/58150/beatitudes-visuales-mexicanas   \n",
       "...                                                                                                 ...   \n",
       "4438  https://www.poetryfoundation.org/poems/56665/laon-and-cythna-or-the-revolution-of-the-golden-city   \n",
       "4777                          https://www.poetryfoundation.org/poems/44403/the-wreck-of-the-deutschland   \n",
       "4812                                   https://www.poetryfoundation.org/poems/57409/epitaphs-of-the-war   \n",
       "4831                              https://www.poetryfoundation.org/poems/46791/by-the-waters-of-babylon   \n",
       "4937                              https://www.poetryfoundation.org/poetrymagazine/poems/12659/maternity   \n",
       "\n",
       "                           poet  \\\n",
       "65    Lady Mary Wortley Montagu   \n",
       "126                         NaN   \n",
       "140                         NaN   \n",
       "141                         NaN   \n",
       "158       Lawrence Ferlinghetti   \n",
       "...                         ...   \n",
       "4438       Percy Bysshe Shelley   \n",
       "4777      Gerard Manley Hopkins   \n",
       "4812            Rudyard Kipling   \n",
       "4831               Emma Lazarus   \n",
       "4937                        NaN   \n",
       "\n",
       "                                                      title    year  \\\n",
       "65              Town Eclogues: Thursday; the Bassette-Table     NaN   \n",
       "126                                                     NaN     NaN   \n",
       "140                                                     NaN     NaN   \n",
       "141                                                     NaN     NaN   \n",
       "158                           Beatitudes Visuales Mexicanas  2015.0   \n",
       "...                                                     ...     ...   \n",
       "4438  Laon and Cythna; or The Revolution of the Golden City  2002.0   \n",
       "4777                           The Wreck of the Deutschland  1950.0   \n",
       "4812                                    Epitaphs of the War  1919.0   \n",
       "4831                               By the Waters of Babylon  2002.0   \n",
       "4937                                                    NaN     NaN   \n",
       "\n",
       "     poem_lines poem_string  \n",
       "65          NaN         NaN  \n",
       "126          []         NaN  \n",
       "140          []         NaN  \n",
       "141          []         NaN  \n",
       "158          []         NaN  \n",
       "...         ...         ...  \n",
       "4438        NaN         NaN  \n",
       "4777        NaN         NaN  \n",
       "4812        NaN         NaN  \n",
       "4831         []         NaN  \n",
       "4937         []         NaN  \n",
       "\n",
       "[1937 rows x 8 columns]"
      ]
     },
     "execution_count": 226,
     "metadata": {},
     "output_type": "execute_result"
    }
   ],
   "source": [
    "df[df.poem_string.isna()]"
   ]
  },
  {
   "cell_type": "code",
   "execution_count": 189,
   "metadata": {},
   "outputs": [
    {
     "data": {
      "text/html": [
       "<div>\n",
       "<style scoped>\n",
       "    .dataframe tbody tr th:only-of-type {\n",
       "        vertical-align: middle;\n",
       "    }\n",
       "\n",
       "    .dataframe tbody tr th {\n",
       "        vertical-align: top;\n",
       "    }\n",
       "\n",
       "    .dataframe thead th {\n",
       "        text-align: right;\n",
       "    }\n",
       "</style>\n",
       "<table border=\"1\" class=\"dataframe\">\n",
       "  <thead>\n",
       "    <tr style=\"text-align: right;\">\n",
       "      <th></th>\n",
       "      <th>poet_url</th>\n",
       "      <th>genre</th>\n",
       "      <th>poem_url</th>\n",
       "      <th>poet</th>\n",
       "      <th>title</th>\n",
       "      <th>year</th>\n",
       "      <th>poem_lines</th>\n",
       "      <th>poem_string</th>\n",
       "    </tr>\n",
       "  </thead>\n",
       "  <tbody>\n",
       "    <tr>\n",
       "      <th>0</th>\n",
       "      <td>https://www.poetryfoundation.org/poets/mary-barber</td>\n",
       "      <td>augustan</td>\n",
       "      <td>https://www.poetryfoundation.org/poems/50523/advice-to-her-son-on-marriage</td>\n",
       "      <td>Mary Barber</td>\n",
       "      <td>Advice to Her Son on Marriage</td>\n",
       "      <td>NaN</td>\n",
       "      <td>['When you gain her Affection, take care to preserve it;\\r', 'Lest others persuade her, you do not deserve it.\\r', 'Still study to heighten the Jo...</td>\n",
       "      <td>When you gain her Affection, take care to preserve it;\\nLest others persuade her, you do not deserve it.\\nStill study to heighten the Joys of her ...</td>\n",
       "    </tr>\n",
       "    <tr>\n",
       "      <th>1</th>\n",
       "      <td>https://www.poetryfoundation.org/poets/susanna-blamire</td>\n",
       "      <td>augustan</td>\n",
       "      <td>https://www.poetryfoundation.org/poems/50534/auld-robin-forbes</td>\n",
       "      <td>Susanna Blamire</td>\n",
       "      <td>Auld Robin Forbes</td>\n",
       "      <td>NaN</td>\n",
       "      <td>['And auld Robin Forbes hes gien tem a dance,\\r', 'I pat on my speckets to see them aw prance;\\r', 'I thout o’ the days when I was but fifteen,\\r'...</td>\n",
       "      <td>And auld Robin Forbes hes gien tem a dance,\\nI pat on my speckets to see them aw prance;\\nI thout o’ the days when I was but fifteen,\\nAnd skipp’d...</td>\n",
       "    </tr>\n",
       "    <tr>\n",
       "      <th>2</th>\n",
       "      <td>https://www.poetryfoundation.org/poets/susanna-blamire</td>\n",
       "      <td>augustan</td>\n",
       "      <td>https://www.poetryfoundation.org/poems/50533/o-donald-ye-are-just-the-man</td>\n",
       "      <td>Susanna Blamire</td>\n",
       "      <td>O Donald! Ye Are Just the Man</td>\n",
       "      <td>NaN</td>\n",
       "      <td>['O Donald! ye are just the man\\r', '  Who, when he’s got a wife,\\r', 'Begins to fratch— nae notice ta’en—\\r', '  They’re strangers a’ their life....</td>\n",
       "      <td>O Donald! ye are just the man\\n  Who, when he’s got a wife,\\nBegins to fratch— nae notice ta’en—\\n  They’re strangers a’ their life.\\n\\nThe fan ma...</td>\n",
       "    </tr>\n",
       "    <tr>\n",
       "      <th>3</th>\n",
       "      <td>https://www.poetryfoundation.org/poets/susanna-blamire</td>\n",
       "      <td>augustan</td>\n",
       "      <td>https://www.poetryfoundation.org/poems/50532/the-siller-croun</td>\n",
       "      <td>Susanna Blamire</td>\n",
       "      <td>The Siller Croun</td>\n",
       "      <td>NaN</td>\n",
       "      <td>['And ye shall walk in silk attire,\\r', '   And siller hae to spare,\\r', 'Gin ye’ll consent to be his bride,\\r', '    Nor think o’ Donald mair.\\r'...</td>\n",
       "      <td>And ye shall walk in silk attire,\\n   And siller hae to spare,\\nGin ye’ll consent to be his bride,\\n    Nor think o’ Donald mair.\\nO wha wad buy a...</td>\n",
       "    </tr>\n",
       "    <tr>\n",
       "      <th>4</th>\n",
       "      <td>https://www.poetryfoundation.org/poets/henry-carey</td>\n",
       "      <td>augustan</td>\n",
       "      <td>https://www.poetryfoundation.org/poems/43884/the-ballad-of-sally-in-our-alley</td>\n",
       "      <td>Henry Carey</td>\n",
       "      <td>The Ballad of Sally in our Alley</td>\n",
       "      <td>NaN</td>\n",
       "      <td>['Of all the Girls that are so smart\\r', '     There’s none like pretty SALLY,\\r', 'She is the Darling of my Heart,\\r', '     And she lives in our...</td>\n",
       "      <td>Of all the Girls that are so smart\\n     There’s none like pretty SALLY,\\nShe is the Darling of my Heart,\\n     And she lives in our Alley.\\nThere...</td>\n",
       "    </tr>\n",
       "  </tbody>\n",
       "</table>\n",
       "</div>"
      ],
      "text/plain": [
       "                                                 poet_url     genre  \\\n",
       "0      https://www.poetryfoundation.org/poets/mary-barber  augustan   \n",
       "1  https://www.poetryfoundation.org/poets/susanna-blamire  augustan   \n",
       "2  https://www.poetryfoundation.org/poets/susanna-blamire  augustan   \n",
       "3  https://www.poetryfoundation.org/poets/susanna-blamire  augustan   \n",
       "4      https://www.poetryfoundation.org/poets/henry-carey  augustan   \n",
       "\n",
       "                                                                        poem_url  \\\n",
       "0     https://www.poetryfoundation.org/poems/50523/advice-to-her-son-on-marriage   \n",
       "1                 https://www.poetryfoundation.org/poems/50534/auld-robin-forbes   \n",
       "2      https://www.poetryfoundation.org/poems/50533/o-donald-ye-are-just-the-man   \n",
       "3                  https://www.poetryfoundation.org/poems/50532/the-siller-croun   \n",
       "4  https://www.poetryfoundation.org/poems/43884/the-ballad-of-sally-in-our-alley   \n",
       "\n",
       "              poet                             title  year  \\\n",
       "0      Mary Barber     Advice to Her Son on Marriage   NaN   \n",
       "1  Susanna Blamire                 Auld Robin Forbes   NaN   \n",
       "2  Susanna Blamire     O Donald! Ye Are Just the Man   NaN   \n",
       "3  Susanna Blamire                  The Siller Croun   NaN   \n",
       "4      Henry Carey  The Ballad of Sally in our Alley   NaN   \n",
       "\n",
       "                                                                                                                                              poem_lines  \\\n",
       "0  ['When you gain her Affection, take care to preserve it;\\r', 'Lest others persuade her, you do not deserve it.\\r', 'Still study to heighten the Jo...   \n",
       "1  ['And auld Robin Forbes hes gien tem a dance,\\r', 'I pat on my speckets to see them aw prance;\\r', 'I thout o’ the days when I was but fifteen,\\r'...   \n",
       "2  ['O Donald! ye are just the man\\r', '  Who, when he’s got a wife,\\r', 'Begins to fratch— nae notice ta’en—\\r', '  They’re strangers a’ their life....   \n",
       "3  ['And ye shall walk in silk attire,\\r', '   And siller hae to spare,\\r', 'Gin ye’ll consent to be his bride,\\r', '    Nor think o’ Donald mair.\\r'...   \n",
       "4  ['Of all the Girls that are so smart\\r', '     There’s none like pretty SALLY,\\r', 'She is the Darling of my Heart,\\r', '     And she lives in our...   \n",
       "\n",
       "                                                                                                                                             poem_string  \n",
       "0  When you gain her Affection, take care to preserve it;\\nLest others persuade her, you do not deserve it.\\nStill study to heighten the Joys of her ...  \n",
       "1  And auld Robin Forbes hes gien tem a dance,\\nI pat on my speckets to see them aw prance;\\nI thout o’ the days when I was but fifteen,\\nAnd skipp’d...  \n",
       "2  O Donald! ye are just the man\\n  Who, when he’s got a wife,\\nBegins to fratch— nae notice ta’en—\\n  They’re strangers a’ their life.\\n\\nThe fan ma...  \n",
       "3  And ye shall walk in silk attire,\\n   And siller hae to spare,\\nGin ye’ll consent to be his bride,\\n    Nor think o’ Donald mair.\\nO wha wad buy a...  \n",
       "4  Of all the Girls that are so smart\\n     There’s none like pretty SALLY,\\nShe is the Darling of my Heart,\\n     And she lives in our Alley.\\nThere...  "
      ]
     },
     "execution_count": 189,
     "metadata": {},
     "output_type": "execute_result"
    }
   ],
   "source": [
    "df.head()"
   ]
  },
  {
   "cell_type": "code",
   "execution_count": 262,
   "metadata": {},
   "outputs": [],
   "source": [
    "import urllib"
   ]
  },
  {
   "cell_type": "code",
   "execution_count": 274,
   "metadata": {},
   "outputs": [],
   "source": [
    "def poem_scraper(poem_url):\n",
    "    '''Scraper for PoetryFoundation.org--scrapes poet name, poem title, poem year, list of poem's lines,\n",
    "       and the poem as a string.\n",
    "       Input the url for a poem's page on PoetryFoundation.org.\n",
    "       Output is a list.'''\n",
    "    \n",
    "    # load a page and soupify it\n",
    "    page = rq.get(poem_url)\n",
    "    soup = bs(page.content, 'html.parser')\n",
    "    \n",
    "    # series of try/except statements to scrape info or return NaN value if desired info cannot be scraped\n",
    "    try:\n",
    "        poet = soup.find('a', href=re.compile('.*/poets/.*')).contents[0]\n",
    "    except:\n",
    "        poet = np.nan\n",
    "        \n",
    "    try:\n",
    "        title = soup.find('h1').contents[-1].strip()\n",
    "    except:\n",
    "        try:\n",
    "            title_pattern = '[a-z\\-]*$'\n",
    "            title = re.search(title_pattern, poem_url, re.I).group().replace('-', ' ').title()\n",
    "        except:\n",
    "            title = np.nan\n",
    "        \n",
    "    try:\n",
    "        lines_raw = soup.find_all('div', {'style': 'text-indent: -1em; padding-left: 1em;'})\n",
    "        lines = [normalize('NFKD', str(line.contents[0])) for line in lines_raw if line.contents]\n",
    "        lines = [line.replace('<br/>', '') for line in lines]\n",
    "        line_pattern = '>(.*?)<'\n",
    "        lines = [re.search(line_pattern, line, re.I).group(1) if '<' in line else line for line in lines]\n",
    "        if lines == []:\n",
    "            try:\n",
    "                img_link = soup.find('img', src=re.compile('.*/jstor/.*'))['src']\n",
    "                img_data = rq.get(img_link).content\n",
    "                with open('poem_imgs/temp.png', 'wb') as handle:\n",
    "                    handle.write(img_data)\n",
    "                text = pytesseract.image_to_string('poem_imgs/temp.png')\n",
    "                scan_pattern = fr'{title.upper()}\\s*((.*\\s.*)*)'\n",
    "                lines = re.search(scan_pattern, text, re.I).group(1).splitlines()\n",
    "            except:\n",
    "                lines = np.nan\n",
    "    except:\n",
    "        lines = np.nan\n",
    "        \n",
    "    try:\n",
    "        poem_string = '\\n'.join(lines)\n",
    "    except:\n",
    "        poem_string = np.nan\n",
    "        \n",
    "    try:\n",
    "        year_blurb = soup.find('span', {'class': 'c-txt c-txt_note c-txt_note_mini'}).contents[2]\n",
    "        year_pattern = r'[12]\\d{3}'\n",
    "        year = int(re.search(year_pattern, year_blurb, re.I).group())\n",
    "    except:\n",
    "        try:\n",
    "            year_blurb = soup.find_all('span', {'class': 'c-txt c-txt_note c-txt_note_mini'})[-1].contents[2]\n",
    "            year_pattern = r'[12]\\d{3}'\n",
    "            year = int(re.search(year_pattern, year_blurb, re.I).group())\n",
    "        except:\n",
    "            year = np.nan\n",
    "    \n",
    "    info = [poet, title, year, lines, poem_string]\n",
    "    \n",
    "    return info"
   ]
  },
  {
   "cell_type": "code",
   "execution_count": 275,
   "metadata": {},
   "outputs": [
    {
     "data": {
      "text/plain": [
       "['Richard Brautigan',\n",
       " 'Wood',\n",
       " 1969,\n",
       " ['We age in darkness like wood',\n",
       "  'and watch our phantoms change',\n",
       "  'eir clothes',\n",
       "  'of shingles and boards',\n",
       "  'for a purpose that can only be',\n",
       "  'described as wood.'],\n",
       " 'We age in darkness like wood\\nand watch our phantoms change\\neir clothes\\nof shingles and boards\\nfor a purpose that can only be\\ndescribed as wood.']"
      ]
     },
     "execution_count": 275,
     "metadata": {},
     "output_type": "execute_result"
    }
   ],
   "source": [
    "poem_scraper('https://www.poetryfoundation.org/poetrymagazine/poems/31338/wood')"
   ]
  },
  {
   "cell_type": "code",
   "execution_count": 266,
   "metadata": {},
   "outputs": [
    {
     "data": {
      "text/plain": [
       "'https://static.poetryfoundation.org/jstor/i20599092/pages/36.png'"
      ]
     },
     "execution_count": 266,
     "metadata": {},
     "output_type": "execute_result"
    }
   ],
   "source": [
    "img_link"
   ]
  },
  {
   "cell_type": "code",
   "execution_count": 269,
   "metadata": {},
   "outputs": [],
   "source": [
    "page = rq.get('https://www.poetryfoundation.org/poetrymagazine/poems/31338/wood')\n",
    "soup = bs(page.content, 'html.parser')\n",
    "img_link = soup.find('img', src=re.compile('.*/jstor/.*'))['src']\n",
    "\n",
    "img_data = rq.get(img_link).content\n",
    "with open('poem_imgs/temp.png', 'wb') as handle:\n",
    "    handle.write(img_data)\n",
    "# with open('poem_imgs/temp.png', 'wb') as handle:\n",
    "#     response = rq.get(img_link, stream=True)\n",
    "# text = pytesseract.image_to_string('poem_imgs/temp.png')\n",
    "# scan_pattern = fr'{title.upper()}\\s*((.*\\s.*)*)'\n",
    "# lines = re.search(scan_pattern, text, re.I).group(1).splitlines()"
   ]
  },
  {
   "cell_type": "code",
   "execution_count": null,
   "metadata": {},
   "outputs": [],
   "source": []
  },
  {
   "cell_type": "code",
   "execution_count": 272,
   "metadata": {},
   "outputs": [],
   "source": [
    "img_data = rq.get(img_link).content\n",
    "with open('poem_imgs/temp.png', 'wb') as handle:\n",
    "    handle.write(img_data)\n",
    "text = pytesseract.image_to_string('poem_imgs/temp.png')\n",
    "scan_pattern = fr'{title.upper()}\\s*((.*\\s.*)*)'\n",
    "lines = re.search(scan_pattern, text, re.I).group(1).splitlines()"
   ]
  },
  {
   "cell_type": "code",
   "execution_count": 273,
   "metadata": {},
   "outputs": [
    {
     "data": {
      "text/plain": [
       "['We age in darkness like wood',\n",
       " 'and watch our phantoms change',\n",
       " 'eir clothes',\n",
       " 'of shingles and boards',\n",
       " 'for a purpose that can only be',\n",
       " 'described as wood.']"
      ]
     },
     "execution_count": 273,
     "metadata": {},
     "output_type": "execute_result"
    }
   ],
   "source": [
    "lines"
   ]
  },
  {
   "cell_type": "code",
   "execution_count": 271,
   "metadata": {},
   "outputs": [
    {
     "data": {
      "text/plain": [
       "'POETRY\\n\\nRICHARD BRAUTIGAN\\n\\n \\n\\nWOOD\\n\\nWe age in darkness like wood\\nand watch our phantoms change\\neir clothes\\nof shingles and boards\\nfor a purpose that can only be\\ndescribed as wood.'"
      ]
     },
     "execution_count": 271,
     "metadata": {},
     "output_type": "execute_result"
    }
   ],
   "source": [
    "text"
   ]
  },
  {
   "cell_type": "code",
   "execution_count": 253,
   "metadata": {},
   "outputs": [
    {
     "data": {
      "text/plain": [
       "'https://static.poetryfoundation.org/jstor/i20599092/pages/36.png'"
      ]
     },
     "execution_count": 253,
     "metadata": {},
     "output_type": "execute_result"
    }
   ],
   "source": [
    "soup.find('img', src=re.compile('.*/jstor/.*'))['src']"
   ]
  },
  {
   "cell_type": "code",
   "execution_count": 236,
   "metadata": {},
   "outputs": [
    {
     "data": {
      "text/plain": [
       "'POETRY\\n\\nRICHARD BRAUTIGAN\\n\\n \\n\\nWOOD\\n\\nWe age in darkness like wood\\nand watch our phantoms change\\neir clothes\\nof shingles and boards\\nfor a purpose that can only be\\ndescribed as wood.'"
      ]
     },
     "execution_count": 236,
     "metadata": {},
     "output_type": "execute_result"
    }
   ],
   "source": [
    "import pytesseract\n",
    "\n",
    "text = pytesseract.image_to_string('poem_imgs/36.png')\n",
    "text"
   ]
  },
  {
   "cell_type": "code",
   "execution_count": 237,
   "metadata": {},
   "outputs": [
    {
     "data": {
      "text/plain": [
       "'WOOD'"
      ]
     },
     "execution_count": 237,
     "metadata": {},
     "output_type": "execute_result"
    }
   ],
   "source": [
    "title_test = 'Wood'.upper()\n",
    "title_test"
   ]
  },
  {
   "cell_type": "code",
   "execution_count": 241,
   "metadata": {},
   "outputs": [
    {
     "data": {
      "text/plain": [
       "['We age in darkness like wood',\n",
       " 'and watch our phantoms change',\n",
       " 'eir clothes',\n",
       " 'of shingles and boards',\n",
       " 'for a purpose that can only be',\n",
       " 'described as wood.']"
      ]
     },
     "execution_count": 241,
     "metadata": {},
     "output_type": "execute_result"
    }
   ],
   "source": [
    "scan_pattern = fr'{title_test}\\s*((.*\\s.*)*)'\n",
    "re.search(scan_pattern, text, re.I).group(1).splitlines()"
   ]
  },
  {
   "cell_type": "code",
   "execution_count": 215,
   "metadata": {},
   "outputs": [
    {
     "name": "stdout",
     "output_type": "stream",
     "text": [
      "POETRY\n",
      "\n",
      "RICHARD BRAUTIGAN\n",
      "\n",
      " \n",
      "\n",
      "WOOD\n",
      "\n",
      "We age in darkness like wood\n",
      "and watch our phantoms change\n",
      "eir clothes\n",
      "of shingles and boards\n",
      "for a purpose that can only be\n",
      "described as wood.\n"
     ]
    }
   ],
   "source": [
    "print(text)"
   ]
  },
  {
   "cell_type": "code",
   "execution_count": 196,
   "metadata": {},
   "outputs": [
    {
     "name": "stdout",
     "output_type": "stream",
     "text": [
      "William Everson\n",
      "We in the Fields\n"
     ]
    }
   ],
   "source": [
    "page = rq.get('https://www.poetryfoundation.org/poetrymagazine/poems/21676/dust-and-the-glory')\n",
    "soup = bs(page.content, 'html.parser')\n",
    "poet = soup.find('a', href=re.compile('.*/poets/.*')).contents[0]\n",
    "title = soup.find('span', attrs={'class':'c-hdgSans c-hdgSans_7'}).contents[-1].strip()\n",
    "print(poet)\n",
    "print(title)"
   ]
  },
  {
   "cell_type": "code",
   "execution_count": 207,
   "metadata": {},
   "outputs": [
    {
     "data": {
      "text/plain": [
       "1937"
      ]
     },
     "execution_count": 207,
     "metadata": {},
     "output_type": "execute_result"
    }
   ],
   "source": [
    "url = 'https://www.poetryfoundation.org/poetrymagazine/poems/21676/dust-and-the-glory'\n",
    "title_pattern = '[a-z\\-]*$'\n",
    "title = re.search(title_pattern, url, re.I).group().replace('-', ' ').title()\n",
    "year_blurb = soup.find_all('span', {'class': 'c-txt c-txt_note c-txt_note_mini'})[-1].contents[2]\n",
    "year_pattern = r'[12]\\d{3}'\n",
    "year = int(re.search(year_pattern, year_blurb, re.I).group())\n",
    "year"
   ]
  },
  {
   "cell_type": "code",
   "execution_count": null,
   "metadata": {},
   "outputs": [],
   "source": []
  },
  {
   "cell_type": "code",
   "execution_count": 159,
   "metadata": {},
   "outputs": [
    {
     "data": {
      "text/plain": [
       "{65: 'https://www.poetryfoundation.org/poems/44765/town-eclogues-thursday-the-bassette-table',\n",
       " 306: 'https://www.poetryfoundation.org/poems/58377/riot-56d23cb395a01',\n",
       " 408: 'https://www.poetryfoundation.org/poems/42736/benjamin-banneker-helps-to-build-a-city',\n",
       " 500: 'https://www.poetryfoundation.org/poetrymagazine/poems/55314/a-prayer-56d236c6bb760',\n",
       " 799: 'https://www.poetryfoundation.org/poetrymagazine/poems/55728/snow-56d23797074a2',\n",
       " 949: 'https://www.poetryfoundation.org/poems/46684/ballade-of-modest-confession',\n",
       " 1087: 'https://www.poetryfoundation.org/poems/57215/blighters',\n",
       " 1165: 'https://www.poetryfoundation.org/poetrymagazine/poems/55313/god-56d236c65624c',\n",
       " 1211: 'https://www.poetryfoundation.org/poems/56983/the-lynching',\n",
       " 1430: 'https://www.poetryfoundation.org/poems/44915/hugh-selwyn-mauberley-part-i',\n",
       " 1431: 'https://www.poetryfoundation.org/poems/57353/hugh-selwyn-mauberley-part-ii',\n",
       " 1646: 'https://www.poetryfoundation.org/poetrymagazine/poems/52593/advent-56d231303d41f',\n",
       " 1751: 'https://www.poetryfoundation.org/poetrymagazine/poems/55209/the-cenotaph',\n",
       " 1755: 'https://www.poetryfoundation.org/poetrymagazine/poems/53206/a-hymn',\n",
       " 1759: 'https://www.poetryfoundation.org/poetrymagazine/poems/53072/oxford-56d2320d14703',\n",
       " 1818: 'https://www.poetryfoundation.org/poetrymagazine/poems/53579/revelator',\n",
       " 2084: 'https://www.poetryfoundation.org/poems/52563/whispers-of-immortality',\n",
       " 2137: 'https://www.poetryfoundation.org/poems/57257/first-time-in-after-the-dread-tales-',\n",
       " 2138: 'https://www.poetryfoundation.org/poems/57256/i-saw-england-july-night',\n",
       " 2143: 'https://www.poetryfoundation.org/poems/57238/strange-service',\n",
       " 3949: 'https://www.poetryfoundation.org/poems/47418/song-full-fathom-five-thy-father-lies-',\n",
       " 3958: 'https://www.poetryfoundation.org/poems/47423/song-under-the-greenwood-tree',\n",
       " 4238: 'https://www.poetryfoundation.org/poems/55816/don-juan-canto-1-stanzas-217-221',\n",
       " 4239: 'https://www.poetryfoundation.org/poems/55814/don-juan-canto-1-stanzas-41-42',\n",
       " 4240: 'https://www.poetryfoundation.org/poems/55815/don-juan-canto-1-stanzas-47-48',\n",
       " 4295: 'https://www.poetryfoundation.org/poems/43997/the-rime-of-the-ancient-mariner-text-of-1834',\n",
       " 4303: 'https://www.poetryfoundation.org/poems/52827/the-botanic-garden-the-economy-of-vegetation-canto-i',\n",
       " 4438: 'https://www.poetryfoundation.org/poems/56665/laon-and-cythna-or-the-revolution-of-the-golden-city',\n",
       " 4777: 'https://www.poetryfoundation.org/poems/44403/the-wreck-of-the-deutschland',\n",
       " 4812: 'https://www.poetryfoundation.org/poems/57409/epitaphs-of-the-war'}"
      ]
     },
     "execution_count": 159,
     "metadata": {},
     "output_type": "execute_result"
    }
   ],
   "source": [
    "nan_lines = {ind:row.poem_url for ind,row in df[df.poem_lines.isna()].iterrows()}\n",
    "nan_lines"
   ]
  },
  {
   "cell_type": "code",
   "execution_count": null,
   "metadata": {},
   "outputs": [],
   "source": [
    "for i,url in nan_lines.items():\n",
    "    df[i]['poem_lines'] = "
   ]
  },
  {
   "cell_type": "code",
   "execution_count": 155,
   "metadata": {
    "scrolled": true
   },
   "outputs": [
    {
     "data": {
      "text/plain": [
       "poet_url                                                                                                     https://www.poetryfoundation.org/poets/gwendolyn-brooks\n",
       "genre                                                                                                                                            black_arts_movement\n",
       "poem_url                                                                                                 https://www.poetryfoundation.org/poems/43311/sadie-and-maud\n",
       "poet                                                                                                                                                Gwendolyn Brooks\n",
       "title                                                                                                                                                 Sadie and Maud\n",
       "year                                                                                                                                                             NaN\n",
       "poem_lines     ['Maud went to college.', '\\r Sadie stayed at home.', '\\r Sadie scraped life', '\\r With a fine-tooth comb.', '<br/>', '\\r She didn’t leave a tangl...\n",
       "poem_string    Maud went to college.\\n Sadie stayed at home.\\n Sadie scraped life\\n With a fine-tooth comb.\\n\\n She didn’t leave a tangle in.\\n Her comb found ev...\n",
       "Name: 308, dtype: object"
      ]
     },
     "execution_count": 155,
     "metadata": {},
     "output_type": "execute_result"
    }
   ],
   "source": [
    "df.iloc[308]"
   ]
  },
  {
   "cell_type": "code",
   "execution_count": 178,
   "metadata": {},
   "outputs": [],
   "source": [
    "def poem_scraper(poem_url):\n",
    "    '''Scraper for PoetryFoundation.org--scrapes poet name, poem title, poem year, list of poem's lines,\n",
    "       and the poem as a string.\n",
    "       Input the url for a poem's page on PoetryFoundation.org.\n",
    "       Output is a list.'''\n",
    "    \n",
    "    # load a page and soupify it\n",
    "    page = rq.get(poem_url)\n",
    "    soup = bs(page.content, 'html.parser')\n",
    "    \n",
    "    # series of try/except statements to scrape info or return NaN value if desired info cannot be scraped\n",
    "    try:\n",
    "        poet = soup.find('a', href=re.compile('.*/poets/.*'), attrs={'class': None}).contents[0]\n",
    "    except:\n",
    "        poet = np.nan\n",
    "        \n",
    "    try:\n",
    "        title = soup.find('h1').contents[-1].strip()\n",
    "    except:\n",
    "        title = np.nan\n",
    "        \n",
    "    try:\n",
    "        lines_raw = soup.find_all('div', {'style': 'text-indent: -1em; padding-left: 1em;'})\n",
    "        lines = [normalize('NFKD', str(line.contents[0])) for line in lines_raw if line.contents]\n",
    "        lines = [line.replace('<br/>', '') for line in lines]\n",
    "    except:\n",
    "        lines = np.nan\n",
    "        \n",
    "    try:\n",
    "        poem_string = '\\n'.join(lines)\n",
    "    except:\n",
    "        poem_string = np.nan\n",
    "        \n",
    "    try:\n",
    "        year_blurb = soup.find('span', {'class': 'c-txt c-txt_note c-txt_note_mini'}).contents[2]\n",
    "        year_pattern = r'[12]\\d{3}'\n",
    "        year = int(re.search(year_pattern, year_blurb, re.I).group())\n",
    "    except:\n",
    "        year = np.nan\n",
    "    \n",
    "    info = [poet, title, year, lines, poem_string]\n",
    "    \n",
    "    return info"
   ]
  },
  {
   "cell_type": "code",
   "execution_count": 181,
   "metadata": {},
   "outputs": [
    {
     "data": {
      "text/plain": [
       "['Fanny Howe',\n",
       " 'The Cenotaph',\n",
       " 2011,\n",
       " ['I want to leave this place',\n",
       "  'unremembered.',\n",
       "  'The gas stove is leaking',\n",
       "  'and the door of the refrigerator',\n",
       "  'stained with rust.',\n",
       "  'The mugs are ugly',\n",
       "  'and there are only two forks.',\n",
       "  'The walls are black',\n",
       "  'and soft, the bed a balloon',\n",
       "  'of night-clothing.',\n",
       "  'The stairwell sloped',\n",
       "  'to a dragger’s pace.',\n",
       "  '',\n",
       "  'There are big windows',\n",
       "  'with blind-slats dusty',\n",
       "  'and gray. Street life ',\n",
       "  'goes all night and at dawn',\n",
       "  'freedmen shout and ',\n",
       "  'laugh outside the kitchen.',\n",
       "  '',\n",
       "  'Where does life begin and end?',\n",
       "  'In the lamb or the cotton?',\n",
       "  'My pillow is my friend.',\n",
       "  ''],\n",
       " 'I want to leave this place\\nunremembered.\\nThe gas stove is leaking\\nand the door of the refrigerator\\nstained with rust.\\nThe mugs are ugly\\nand there are only two forks.\\nThe walls are black\\nand soft, the bed a balloon\\nof night-clothing.\\nThe stairwell sloped\\nto a dragger’s pace.\\n\\nThere are big windows\\nwith blind-slats dusty\\nand gray. Street life \\ngoes all night and at dawn\\nfreedmen shout and \\nlaugh outside the kitchen.\\n\\nWhere does life begin and end?\\nIn the lamb or the cotton?\\nMy pillow is my friend.\\n']"
      ]
     },
     "execution_count": 181,
     "metadata": {},
     "output_type": "execute_result"
    }
   ],
   "source": [
    "infor = poem_scraper('https://www.poetryfoundation.org/poetrymagazine/poems/55209/the-cenotaph')\n",
    "infor"
   ]
  },
  {
   "cell_type": "code",
   "execution_count": 182,
   "metadata": {},
   "outputs": [
    {
     "data": {
      "text/plain": [
       "<span class=\"c-txt c-txt_note c-txt_note_mini\">\n",
       "                        Source:\n",
       "                        <em>Poetry</em>\n",
       "                                                                                                                                                                    (December 2011)\n",
       "                                            </span>"
      ]
     },
     "execution_count": 182,
     "metadata": {},
     "output_type": "execute_result"
    }
   ],
   "source": [
    "page = rq.get('https://www.poetryfoundation.org/poetrymagazine/poems/55209/the-cenotaph')\n",
    "soup = bs(page.content, 'html.parser')\n",
    "lines_raw = soup.find_all('div', {'style': 'text-indent: -1em; padding-left: 1em;'})\n",
    "lines = [normalize('NFKD', str(line.contents[0])) for line in lines_raw if line.contents]\n",
    "lines = [line.replace('<br/>', '') for line in lines]\n",
    "year_blurb = soup.find('span', {'class': 'c-txt c-txt_note c-txt_note_mini'})\n",
    "year_blurb"
   ]
  },
  {
   "cell_type": "code",
   "execution_count": 175,
   "metadata": {},
   "outputs": [
    {
     "name": "stdout",
     "output_type": "stream",
     "text": [
      "I want to leave this place\n",
      "unremembered.\n",
      "The gas stove is leaking\n",
      "and the door of the refrigerator\n",
      "stained with rust.\n",
      "The mugs are ugly\n",
      "and there are only two forks.\n",
      "The walls are black\n",
      "and soft, the bed a balloon\n",
      "of night-clothing.\n",
      "The stairwell sloped\n",
      "to a dragger’s pace.\n",
      "\n",
      "There are big windows\n",
      "with blind-slats dusty\n",
      "and gray. Street life \n",
      "goes all night and at dawn\n",
      "freedmen shout and \n",
      "laugh outside the kitchen.\n",
      "\n",
      "Where does life begin and end?\n",
      "In the lamb or the cotton?\n",
      "My pillow is my friend.\n",
      "\n"
     ]
    }
   ],
   "source": [
    "print('\\n'.join(lines).replace('<br/>', '\\n'))"
   ]
  },
  {
   "cell_type": "code",
   "execution_count": 166,
   "metadata": {},
   "outputs": [
    {
     "name": "stdout",
     "output_type": "stream",
     "text": [
      "I want to leave this placeunremembered.The gas stove is leakingand the door of the refrigeratorstained with rust.The mugs are uglyand there are only two forks.The walls are blackand soft, the bed a balloonof night-clothing.The stairwell slopedto a dragger’s pace.\n",
      "There are big windowswith blind-slats dustyand gray. Street life goes all night and at dawnfreedmen shout and laugh outside the kitchen.\n",
      "Where does life begin and end?In the lamb or the cotton?My pillow is my friend.\n",
      "\n"
     ]
    }
   ],
   "source": [
    "poem_string = \"\\n\".join(''.join(lines).splitlines()).replace('<br/>', '\\n')\n",
    "print(poem_string)"
   ]
  },
  {
   "cell_type": "code",
   "execution_count": 121,
   "metadata": {},
   "outputs": [
    {
     "data": {
      "text/plain": [
       "'Fanny Howe'"
      ]
     },
     "execution_count": 121,
     "metadata": {},
     "output_type": "execute_result"
    }
   ],
   "source": [
    "poet = soup.find('a', href=re.compile('.*/poets/.*'), attrs={'class': None}).contents[0]\n",
    "poet"
   ]
  },
  {
   "cell_type": "code",
   "execution_count": 122,
   "metadata": {},
   "outputs": [
    {
     "data": {
      "text/plain": [
       "'The Cenotaph'"
      ]
     },
     "execution_count": 122,
     "metadata": {},
     "output_type": "execute_result"
    }
   ],
   "source": [
    "title = soup.find('h1').contents[-1].strip()\n",
    "title"
   ]
  },
  {
   "cell_type": "code",
   "execution_count": 124,
   "metadata": {},
   "outputs": [
    {
     "data": {
      "text/plain": [
       "[<div style=\"text-indent: -1em; padding-left: 1em;\">I want to leave this place<br/></div>,\n",
       " <div style=\"text-indent: -1em; padding-left: 1em;\">unremembered.<br/></div>,\n",
       " <div style=\"text-indent: -1em; padding-left: 1em;\">The gas stove is leaking<br/></div>,\n",
       " <div style=\"text-indent: -1em; padding-left: 1em;\">and the door of the refrigerator<br/></div>,\n",
       " <div style=\"text-indent: -1em; padding-left: 1em;\">stained with rust.<br/></div>,\n",
       " <div style=\"text-indent: -1em; padding-left: 1em;\">The mugs are ugly<br/></div>,\n",
       " <div style=\"text-indent: -1em; padding-left: 1em;\">and there are only two forks.<br/></div>,\n",
       " <div style=\"text-indent: -1em; padding-left: 1em;\">The walls are black<br/></div>,\n",
       " <div style=\"text-indent: -1em; padding-left: 1em;\">and soft, the bed a balloon<br/></div>,\n",
       " <div style=\"text-indent: -1em; padding-left: 1em;\">of night-clothing.<br/></div>,\n",
       " <div style=\"text-indent: -1em; padding-left: 1em;\">The stairwell sloped<br/></div>,\n",
       " <div style=\"text-indent: -1em; padding-left: 1em;\">to a dragger’s pace.<br/></div>,\n",
       " <div style=\"text-indent: -1em; padding-left: 1em;\"><br/></div>,\n",
       " <div style=\"text-indent: -1em; padding-left: 1em;\">There are big windows<br/></div>,\n",
       " <div style=\"text-indent: -1em; padding-left: 1em;\">with blind-slats dusty<br/></div>,\n",
       " <div style=\"text-indent: -1em; padding-left: 1em;\">and gray. Street life <br/></div>,\n",
       " <div style=\"text-indent: -1em; padding-left: 1em;\">goes all night and at dawn<br/></div>,\n",
       " <div style=\"text-indent: -1em; padding-left: 1em;\">freedmen shout and <br/></div>,\n",
       " <div style=\"text-indent: -1em; padding-left: 1em;\">laugh outside the kitchen.<br/></div>,\n",
       " <div style=\"text-indent: -1em; padding-left: 1em;\"><br/></div>,\n",
       " <div style=\"text-indent: -1em; padding-left: 1em;\">Where does life begin and end?<br/></div>,\n",
       " <div style=\"text-indent: -1em; padding-left: 1em;\">In the lamb or the cotton?<br/></div>,\n",
       " <div style=\"text-indent: -1em; padding-left: 1em;\">My pillow is my friend.<em><br/></em></div>,\n",
       " <div style=\"text-indent: -1em; padding-left: 1em;\"></div>,\n",
       " <div style=\"text-indent: -1em; padding-left: 1em;\"><br/></div>]"
      ]
     },
     "execution_count": 124,
     "metadata": {},
     "output_type": "execute_result"
    }
   ],
   "source": [
    "lines_raw = soup.find_all('div', {'style': 'text-indent: -1em; padding-left: 1em;'})\n",
    "lines_raw"
   ]
  },
  {
   "cell_type": "code",
   "execution_count": 131,
   "metadata": {},
   "outputs": [
    {
     "data": {
      "text/plain": [
       "<div style=\"text-indent: -1em; padding-left: 1em;\"></div>"
      ]
     },
     "execution_count": 131,
     "metadata": {},
     "output_type": "execute_result"
    }
   ],
   "source": [
    "lines_raw[-2]"
   ]
  },
  {
   "cell_type": "code",
   "execution_count": 129,
   "metadata": {
    "scrolled": true
   },
   "outputs": [
    {
     "ename": "IndexError",
     "evalue": "list index out of range",
     "output_type": "error",
     "traceback": [
      "\u001b[0;31m---------------------------------------------------------------------------\u001b[0m",
      "\u001b[0;31mIndexError\u001b[0m                                Traceback (most recent call last)",
      "\u001b[0;32m<ipython-input-129-33eb644260ed>\u001b[0m in \u001b[0;36m<module>\u001b[0;34m\u001b[0m\n\u001b[0;32m----> 1\u001b[0;31m \u001b[0mlines_raw\u001b[0m\u001b[0;34m[\u001b[0m\u001b[0;34m-\u001b[0m\u001b[0;36m2\u001b[0m\u001b[0;34m]\u001b[0m\u001b[0;34m.\u001b[0m\u001b[0mcontents\u001b[0m\u001b[0;34m[\u001b[0m\u001b[0;36m0\u001b[0m\u001b[0;34m]\u001b[0m\u001b[0;34m\u001b[0m\u001b[0;34m\u001b[0m\u001b[0m\n\u001b[0m",
      "\u001b[0;31mIndexError\u001b[0m: list index out of range"
     ]
    }
   ],
   "source": [
    "lines_raw[-2].contents[0]"
   ]
  },
  {
   "cell_type": "code",
   "execution_count": 132,
   "metadata": {},
   "outputs": [
    {
     "data": {
      "text/plain": [
       "['I want to leave this place',\n",
       " 'unremembered.',\n",
       " 'The gas stove is leaking',\n",
       " 'and the door of the refrigerator',\n",
       " 'stained with rust.',\n",
       " 'The mugs are ugly',\n",
       " 'and there are only two forks.',\n",
       " 'The walls are black',\n",
       " 'and soft, the bed a balloon',\n",
       " 'of night-clothing.',\n",
       " 'The stairwell sloped',\n",
       " 'to a dragger’s pace.',\n",
       " '<br/>',\n",
       " 'There are big windows',\n",
       " 'with blind-slats dusty',\n",
       " 'and gray. Street life ',\n",
       " 'goes all night and at dawn',\n",
       " 'freedmen shout and ',\n",
       " 'laugh outside the kitchen.',\n",
       " '<br/>',\n",
       " 'Where does life begin and end?',\n",
       " 'In the lamb or the cotton?',\n",
       " 'My pillow is my friend.',\n",
       " '<br/>']"
      ]
     },
     "execution_count": 132,
     "metadata": {},
     "output_type": "execute_result"
    }
   ],
   "source": [
    "lines = [normalize('NFKD', str(line.contents[0])) for line in lines_raw if line.contents]\n",
    "lines"
   ]
  },
  {
   "cell_type": "code",
   "execution_count": null,
   "metadata": {},
   "outputs": [],
   "source": [
    "\n",
    "    \n",
    "    # series of try/except statements to scrape info or return NaN value if desired info cannot be scraped\n",
    "    try:\n",
    "        poet = soup.find('a', href=re.compile('.*/poets/.*'), attrs={'class': None}).contents[0]\n",
    "    except:\n",
    "        poet = np.nan\n",
    "        \n",
    "    try:\n",
    "        title = soup.find('h1').contents[-1].strip()\n",
    "    except:\n",
    "        title = np.nan\n",
    "        \n",
    "    try:\n",
    "        lines_raw = soup.find_all('div', {'style': 'text-indent: -1em; padding-left: 1em;'})\n",
    "        lines = [normalize('NFKD', str(line.contents[0])) for line in lines_raw]\n",
    "    except:\n",
    "        lines = np.nan\n",
    "        \n",
    "    try:\n",
    "        poem_string = \"\\n\".join(''.join(lines).splitlines()).replace('<br/>', '\\n') \n",
    "    except:\n",
    "        poem_string = np.nan\n",
    "        \n",
    "    try:\n",
    "        year_blurb = soup.find('span', {'class': 'c-txt c-txt_note c-txt_note_mini'}).contents[2]\n",
    "        year_pattern = r'[12]\\d{3}'\n",
    "        year = int(re.search(year_pattern, year_blurb, re.I).group())\n",
    "    except:\n",
    "        year = np.nan\n",
    "    \n",
    "    info = [poet, title, year, lines, poem_string]\n",
    "    \n",
    "    return info"
   ]
  },
  {
   "cell_type": "code",
   "execution_count": null,
   "metadata": {},
   "outputs": [],
   "source": []
  },
  {
   "cell_type": "code",
   "execution_count": null,
   "metadata": {},
   "outputs": [],
   "source": []
  },
  {
   "cell_type": "code",
   "execution_count": 116,
   "metadata": {
    "scrolled": true
   },
   "outputs": [
    {
     "data": {
      "text/html": [
       "<div>\n",
       "<style scoped>\n",
       "    .dataframe tbody tr th:only-of-type {\n",
       "        vertical-align: middle;\n",
       "    }\n",
       "\n",
       "    .dataframe tbody tr th {\n",
       "        vertical-align: top;\n",
       "    }\n",
       "\n",
       "    .dataframe thead th {\n",
       "        text-align: right;\n",
       "    }\n",
       "</style>\n",
       "<table border=\"1\" class=\"dataframe\">\n",
       "  <thead>\n",
       "    <tr style=\"text-align: right;\">\n",
       "      <th></th>\n",
       "      <th>year</th>\n",
       "    </tr>\n",
       "    <tr>\n",
       "      <th>genre</th>\n",
       "      <th></th>\n",
       "    </tr>\n",
       "  </thead>\n",
       "  <tbody>\n",
       "    <tr>\n",
       "      <th>augustan</th>\n",
       "      <td>30930.0</td>\n",
       "    </tr>\n",
       "    <tr>\n",
       "      <th>beat</th>\n",
       "      <td>183660.0</td>\n",
       "    </tr>\n",
       "    <tr>\n",
       "      <th>black_arts_movement</th>\n",
       "      <td>271883.0</td>\n",
       "    </tr>\n",
       "    <tr>\n",
       "      <th>black_mountain</th>\n",
       "      <td>194322.0</td>\n",
       "    </tr>\n",
       "    <tr>\n",
       "      <th>confessional</th>\n",
       "      <td>150867.0</td>\n",
       "    </tr>\n",
       "    <tr>\n",
       "      <th>fugitive</th>\n",
       "      <td>62157.0</td>\n",
       "    </tr>\n",
       "    <tr>\n",
       "      <th>georgian</th>\n",
       "      <td>56322.0</td>\n",
       "    </tr>\n",
       "    <tr>\n",
       "      <th>harlem_renaissance</th>\n",
       "      <td>152419.0</td>\n",
       "    </tr>\n",
       "    <tr>\n",
       "      <th>imagist</th>\n",
       "      <td>122877.0</td>\n",
       "    </tr>\n",
       "    <tr>\n",
       "      <th>language_poetry</th>\n",
       "      <td>342601.0</td>\n",
       "    </tr>\n",
       "    <tr>\n",
       "      <th>middle_english</th>\n",
       "      <td>1891.0</td>\n",
       "    </tr>\n",
       "    <tr>\n",
       "      <th>modern</th>\n",
       "      <td>362902.0</td>\n",
       "    </tr>\n",
       "    <tr>\n",
       "      <th>new_york_school</th>\n",
       "      <td>206930.0</td>\n",
       "    </tr>\n",
       "    <tr>\n",
       "      <th>new_york_school_2nd_generation</th>\n",
       "      <td>252821.0</td>\n",
       "    </tr>\n",
       "    <tr>\n",
       "      <th>objectivist</th>\n",
       "      <td>131376.0</td>\n",
       "    </tr>\n",
       "    <tr>\n",
       "      <th>renaissance</th>\n",
       "      <td>72151.0</td>\n",
       "    </tr>\n",
       "    <tr>\n",
       "      <th>romantic</th>\n",
       "      <td>90357.0</td>\n",
       "    </tr>\n",
       "    <tr>\n",
       "      <th>victorian</th>\n",
       "      <td>196698.0</td>\n",
       "    </tr>\n",
       "  </tbody>\n",
       "</table>\n",
       "</div>"
      ],
      "text/plain": [
       "                                    year\n",
       "genre                                   \n",
       "augustan                         30930.0\n",
       "beat                            183660.0\n",
       "black_arts_movement             271883.0\n",
       "black_mountain                  194322.0\n",
       "confessional                    150867.0\n",
       "fugitive                         62157.0\n",
       "georgian                         56322.0\n",
       "harlem_renaissance              152419.0\n",
       "imagist                         122877.0\n",
       "language_poetry                 342601.0\n",
       "middle_english                    1891.0\n",
       "modern                          362902.0\n",
       "new_york_school                 206930.0\n",
       "new_york_school_2nd_generation  252821.0\n",
       "objectivist                     131376.0\n",
       "renaissance                      72151.0\n",
       "romantic                         90357.0\n",
       "victorian                       196698.0"
      ]
     },
     "execution_count": 116,
     "metadata": {},
     "output_type": "execute_result"
    }
   ],
   "source": [
    "df.groupby('genre').sum()"
   ]
  },
  {
   "cell_type": "code",
   "execution_count": 87,
   "metadata": {},
   "outputs": [
    {
     "data": {
      "text/plain": [
       "The Waste Land                         14\n",
       "The Love Song of J. Alfred Prufrock    10\n",
       "Gerontion                               6\n",
       "Rhapsody on a Windy Night               4\n",
       "Portrait of a Lady                      4\n",
       "                                       ..\n",
       "No Second Troy                          1\n",
       "Under Ben Bulben                        1\n",
       "The People, Yes                         1\n",
       "Leave-Taking                            1\n",
       "Fixed Ideas                             1\n",
       "Name: title, Length: 459, dtype: int64"
      ]
     },
     "execution_count": 87,
     "metadata": {},
     "output_type": "execute_result"
    }
   ],
   "source": [
    "df[df.genre == 'modern'].title.value_counts()"
   ]
  },
  {
   "cell_type": "code",
   "execution_count": 88,
   "metadata": {},
   "outputs": [
    {
     "data": {
      "text/html": [
       "<div>\n",
       "<style scoped>\n",
       "    .dataframe tbody tr th:only-of-type {\n",
       "        vertical-align: middle;\n",
       "    }\n",
       "\n",
       "    .dataframe tbody tr th {\n",
       "        vertical-align: top;\n",
       "    }\n",
       "\n",
       "    .dataframe thead th {\n",
       "        text-align: right;\n",
       "    }\n",
       "</style>\n",
       "<table border=\"1\" class=\"dataframe\">\n",
       "  <thead>\n",
       "    <tr style=\"text-align: right;\">\n",
       "      <th></th>\n",
       "      <th>poet_url</th>\n",
       "      <th>genre</th>\n",
       "      <th>poem_url</th>\n",
       "      <th>poet</th>\n",
       "      <th>title</th>\n",
       "      <th>year</th>\n",
       "      <th>poem_lines</th>\n",
       "      <th>poem_string</th>\n",
       "    </tr>\n",
       "  </thead>\n",
       "  <tbody>\n",
       "    <tr>\n",
       "      <th>245</th>\n",
       "      <td>https://www.poetryfoundation.org/poets/t-s-eliot</td>\n",
       "      <td>modern</td>\n",
       "      <td>https://www.poetryfoundation.org/poems/47311/the-waste-land</td>\n",
       "      <td>T. S. Eliot</td>\n",
       "      <td>The Waste Land</td>\n",
       "      <td>NaN</td>\n",
       "      <td>[             , &lt;br/&gt;, \\r   April is the cruellest month, breeding, \\r Lilacs out of the dead land, mixing, \\r Memory and desire, stirring, \\r Dul...</td>\n",
       "      <td>\\n\\n   April is the cruellest month, breeding\\n Lilacs out of the dead land, mixing\\n Memory and desire, stirring\\n Dull roots with s...</td>\n",
       "    </tr>\n",
       "    <tr>\n",
       "      <th>246</th>\n",
       "      <td>https://www.poetryfoundation.org/poets/t-s-eliot</td>\n",
       "      <td>modern</td>\n",
       "      <td>https://www.poetryfoundation.org/poems/47311/the-waste-land</td>\n",
       "      <td>T. S. Eliot</td>\n",
       "      <td>The Waste Land</td>\n",
       "      <td>NaN</td>\n",
       "      <td>[             , &lt;br/&gt;, \\r   April is the cruellest month, breeding, \\r Lilacs out of the dead land, mixing, \\r Memory and desire, stirring, \\r Dul...</td>\n",
       "      <td>\\n\\n   April is the cruellest month, breeding\\n Lilacs out of the dead land, mixing\\n Memory and desire, stirring\\n Dull roots with s...</td>\n",
       "    </tr>\n",
       "    <tr>\n",
       "      <th>247</th>\n",
       "      <td>https://www.poetryfoundation.org/poets/t-s-eliot</td>\n",
       "      <td>modern</td>\n",
       "      <td>https://www.poetryfoundation.org/poems/47311/the-waste-land</td>\n",
       "      <td>T. S. Eliot</td>\n",
       "      <td>The Waste Land</td>\n",
       "      <td>NaN</td>\n",
       "      <td>[             , &lt;br/&gt;, \\r   April is the cruellest month, breeding, \\r Lilacs out of the dead land, mixing, \\r Memory and desire, stirring, \\r Dul...</td>\n",
       "      <td>\\n\\n   April is the cruellest month, breeding\\n Lilacs out of the dead land, mixing\\n Memory and desire, stirring\\n Dull roots with s...</td>\n",
       "    </tr>\n",
       "    <tr>\n",
       "      <th>256</th>\n",
       "      <td>https://www.poetryfoundation.org/poets/t-s-eliot</td>\n",
       "      <td>modern</td>\n",
       "      <td>https://www.poetryfoundation.org/poems/47311/the-waste-land</td>\n",
       "      <td>T. S. Eliot</td>\n",
       "      <td>The Waste Land</td>\n",
       "      <td>NaN</td>\n",
       "      <td>[             , &lt;br/&gt;, \\r   April is the cruellest month, breeding, \\r Lilacs out of the dead land, mixing, \\r Memory and desire, stirring, \\r Dul...</td>\n",
       "      <td>\\n\\n   April is the cruellest month, breeding\\n Lilacs out of the dead land, mixing\\n Memory and desire, stirring\\n Dull roots with s...</td>\n",
       "    </tr>\n",
       "    <tr>\n",
       "      <th>257</th>\n",
       "      <td>https://www.poetryfoundation.org/poets/t-s-eliot</td>\n",
       "      <td>modern</td>\n",
       "      <td>https://www.poetryfoundation.org/poems/47311/the-waste-land</td>\n",
       "      <td>T. S. Eliot</td>\n",
       "      <td>The Waste Land</td>\n",
       "      <td>NaN</td>\n",
       "      <td>[             , &lt;br/&gt;, \\r   April is the cruellest month, breeding, \\r Lilacs out of the dead land, mixing, \\r Memory and desire, stirring, \\r Dul...</td>\n",
       "      <td>\\n\\n   April is the cruellest month, breeding\\n Lilacs out of the dead land, mixing\\n Memory and desire, stirring\\n Dull roots with s...</td>\n",
       "    </tr>\n",
       "    <tr>\n",
       "      <th>261</th>\n",
       "      <td>https://www.poetryfoundation.org/poets/t-s-eliot</td>\n",
       "      <td>modern</td>\n",
       "      <td>https://www.poetryfoundation.org/poems/47311/the-waste-land</td>\n",
       "      <td>T. S. Eliot</td>\n",
       "      <td>The Waste Land</td>\n",
       "      <td>NaN</td>\n",
       "      <td>[             , &lt;br/&gt;, \\r   April is the cruellest month, breeding, \\r Lilacs out of the dead land, mixing, \\r Memory and desire, stirring, \\r Dul...</td>\n",
       "      <td>\\n\\n   April is the cruellest month, breeding\\n Lilacs out of the dead land, mixing\\n Memory and desire, stirring\\n Dull roots with s...</td>\n",
       "    </tr>\n",
       "    <tr>\n",
       "      <th>262</th>\n",
       "      <td>https://www.poetryfoundation.org/poets/t-s-eliot</td>\n",
       "      <td>modern</td>\n",
       "      <td>https://www.poetryfoundation.org/poems/47311/the-waste-land</td>\n",
       "      <td>T. S. Eliot</td>\n",
       "      <td>The Waste Land</td>\n",
       "      <td>NaN</td>\n",
       "      <td>[             , &lt;br/&gt;, \\r   April is the cruellest month, breeding, \\r Lilacs out of the dead land, mixing, \\r Memory and desire, stirring, \\r Dul...</td>\n",
       "      <td>\\n\\n   April is the cruellest month, breeding\\n Lilacs out of the dead land, mixing\\n Memory and desire, stirring\\n Dull roots with s...</td>\n",
       "    </tr>\n",
       "    <tr>\n",
       "      <th>265</th>\n",
       "      <td>https://www.poetryfoundation.org/poets/t-s-eliot</td>\n",
       "      <td>modern</td>\n",
       "      <td>https://www.poetryfoundation.org/poems/47311/the-waste-land</td>\n",
       "      <td>T. S. Eliot</td>\n",
       "      <td>The Waste Land</td>\n",
       "      <td>NaN</td>\n",
       "      <td>[             , &lt;br/&gt;, \\r   April is the cruellest month, breeding, \\r Lilacs out of the dead land, mixing, \\r Memory and desire, stirring, \\r Dul...</td>\n",
       "      <td>\\n\\n   April is the cruellest month, breeding\\n Lilacs out of the dead land, mixing\\n Memory and desire, stirring\\n Dull roots with s...</td>\n",
       "    </tr>\n",
       "    <tr>\n",
       "      <th>266</th>\n",
       "      <td>https://www.poetryfoundation.org/poets/t-s-eliot</td>\n",
       "      <td>modern</td>\n",
       "      <td>https://www.poetryfoundation.org/poems/47311/the-waste-land</td>\n",
       "      <td>T. S. Eliot</td>\n",
       "      <td>The Waste Land</td>\n",
       "      <td>NaN</td>\n",
       "      <td>[             , &lt;br/&gt;, \\r   April is the cruellest month, breeding, \\r Lilacs out of the dead land, mixing, \\r Memory and desire, stirring, \\r Dul...</td>\n",
       "      <td>\\n\\n   April is the cruellest month, breeding\\n Lilacs out of the dead land, mixing\\n Memory and desire, stirring\\n Dull roots with s...</td>\n",
       "    </tr>\n",
       "    <tr>\n",
       "      <th>267</th>\n",
       "      <td>https://www.poetryfoundation.org/poets/t-s-eliot</td>\n",
       "      <td>modern</td>\n",
       "      <td>https://www.poetryfoundation.org/poems/47311/the-waste-land</td>\n",
       "      <td>T. S. Eliot</td>\n",
       "      <td>The Waste Land</td>\n",
       "      <td>NaN</td>\n",
       "      <td>[             , &lt;br/&gt;, \\r   April is the cruellest month, breeding, \\r Lilacs out of the dead land, mixing, \\r Memory and desire, stirring, \\r Dul...</td>\n",
       "      <td>\\n\\n   April is the cruellest month, breeding\\n Lilacs out of the dead land, mixing\\n Memory and desire, stirring\\n Dull roots with s...</td>\n",
       "    </tr>\n",
       "    <tr>\n",
       "      <th>268</th>\n",
       "      <td>https://www.poetryfoundation.org/poets/t-s-eliot</td>\n",
       "      <td>modern</td>\n",
       "      <td>https://www.poetryfoundation.org/poems/47311/the-waste-land</td>\n",
       "      <td>T. S. Eliot</td>\n",
       "      <td>The Waste Land</td>\n",
       "      <td>NaN</td>\n",
       "      <td>[             , &lt;br/&gt;, \\r   April is the cruellest month, breeding, \\r Lilacs out of the dead land, mixing, \\r Memory and desire, stirring, \\r Dul...</td>\n",
       "      <td>\\n\\n   April is the cruellest month, breeding\\n Lilacs out of the dead land, mixing\\n Memory and desire, stirring\\n Dull roots with s...</td>\n",
       "    </tr>\n",
       "    <tr>\n",
       "      <th>269</th>\n",
       "      <td>https://www.poetryfoundation.org/poets/t-s-eliot</td>\n",
       "      <td>modern</td>\n",
       "      <td>https://www.poetryfoundation.org/poems/47311/the-waste-land</td>\n",
       "      <td>T. S. Eliot</td>\n",
       "      <td>The Waste Land</td>\n",
       "      <td>NaN</td>\n",
       "      <td>[             , &lt;br/&gt;, \\r   April is the cruellest month, breeding, \\r Lilacs out of the dead land, mixing, \\r Memory and desire, stirring, \\r Dul...</td>\n",
       "      <td>\\n\\n   April is the cruellest month, breeding\\n Lilacs out of the dead land, mixing\\n Memory and desire, stirring\\n Dull roots with s...</td>\n",
       "    </tr>\n",
       "    <tr>\n",
       "      <th>270</th>\n",
       "      <td>https://www.poetryfoundation.org/poets/t-s-eliot</td>\n",
       "      <td>modern</td>\n",
       "      <td>https://www.poetryfoundation.org/poems/47311/the-waste-land</td>\n",
       "      <td>T. S. Eliot</td>\n",
       "      <td>The Waste Land</td>\n",
       "      <td>NaN</td>\n",
       "      <td>[             , &lt;br/&gt;, \\r   April is the cruellest month, breeding, \\r Lilacs out of the dead land, mixing, \\r Memory and desire, stirring, \\r Dul...</td>\n",
       "      <td>\\n\\n   April is the cruellest month, breeding\\n Lilacs out of the dead land, mixing\\n Memory and desire, stirring\\n Dull roots with s...</td>\n",
       "    </tr>\n",
       "    <tr>\n",
       "      <th>283</th>\n",
       "      <td>https://www.poetryfoundation.org/poets/t-s-eliot</td>\n",
       "      <td>modern</td>\n",
       "      <td>https://www.poetryfoundation.org/poems/47311/the-waste-land</td>\n",
       "      <td>T. S. Eliot</td>\n",
       "      <td>The Waste Land</td>\n",
       "      <td>NaN</td>\n",
       "      <td>[             , &lt;br/&gt;, \\r   April is the cruellest month, breeding, \\r Lilacs out of the dead land, mixing, \\r Memory and desire, stirring, \\r Dul...</td>\n",
       "      <td>\\n\\n   April is the cruellest month, breeding\\n Lilacs out of the dead land, mixing\\n Memory and desire, stirring\\n Dull roots with s...</td>\n",
       "    </tr>\n",
       "  </tbody>\n",
       "</table>\n",
       "</div>"
      ],
      "text/plain": [
       "                                             poet_url   genre  \\\n",
       "245  https://www.poetryfoundation.org/poets/t-s-eliot  modern   \n",
       "246  https://www.poetryfoundation.org/poets/t-s-eliot  modern   \n",
       "247  https://www.poetryfoundation.org/poets/t-s-eliot  modern   \n",
       "256  https://www.poetryfoundation.org/poets/t-s-eliot  modern   \n",
       "257  https://www.poetryfoundation.org/poets/t-s-eliot  modern   \n",
       "261  https://www.poetryfoundation.org/poets/t-s-eliot  modern   \n",
       "262  https://www.poetryfoundation.org/poets/t-s-eliot  modern   \n",
       "265  https://www.poetryfoundation.org/poets/t-s-eliot  modern   \n",
       "266  https://www.poetryfoundation.org/poets/t-s-eliot  modern   \n",
       "267  https://www.poetryfoundation.org/poets/t-s-eliot  modern   \n",
       "268  https://www.poetryfoundation.org/poets/t-s-eliot  modern   \n",
       "269  https://www.poetryfoundation.org/poets/t-s-eliot  modern   \n",
       "270  https://www.poetryfoundation.org/poets/t-s-eliot  modern   \n",
       "283  https://www.poetryfoundation.org/poets/t-s-eliot  modern   \n",
       "\n",
       "                                                        poem_url         poet  \\\n",
       "245  https://www.poetryfoundation.org/poems/47311/the-waste-land  T. S. Eliot   \n",
       "246  https://www.poetryfoundation.org/poems/47311/the-waste-land  T. S. Eliot   \n",
       "247  https://www.poetryfoundation.org/poems/47311/the-waste-land  T. S. Eliot   \n",
       "256  https://www.poetryfoundation.org/poems/47311/the-waste-land  T. S. Eliot   \n",
       "257  https://www.poetryfoundation.org/poems/47311/the-waste-land  T. S. Eliot   \n",
       "261  https://www.poetryfoundation.org/poems/47311/the-waste-land  T. S. Eliot   \n",
       "262  https://www.poetryfoundation.org/poems/47311/the-waste-land  T. S. Eliot   \n",
       "265  https://www.poetryfoundation.org/poems/47311/the-waste-land  T. S. Eliot   \n",
       "266  https://www.poetryfoundation.org/poems/47311/the-waste-land  T. S. Eliot   \n",
       "267  https://www.poetryfoundation.org/poems/47311/the-waste-land  T. S. Eliot   \n",
       "268  https://www.poetryfoundation.org/poems/47311/the-waste-land  T. S. Eliot   \n",
       "269  https://www.poetryfoundation.org/poems/47311/the-waste-land  T. S. Eliot   \n",
       "270  https://www.poetryfoundation.org/poems/47311/the-waste-land  T. S. Eliot   \n",
       "283  https://www.poetryfoundation.org/poems/47311/the-waste-land  T. S. Eliot   \n",
       "\n",
       "              title  year  \\\n",
       "245  The Waste Land   NaN   \n",
       "246  The Waste Land   NaN   \n",
       "247  The Waste Land   NaN   \n",
       "256  The Waste Land   NaN   \n",
       "257  The Waste Land   NaN   \n",
       "261  The Waste Land   NaN   \n",
       "262  The Waste Land   NaN   \n",
       "265  The Waste Land   NaN   \n",
       "266  The Waste Land   NaN   \n",
       "267  The Waste Land   NaN   \n",
       "268  The Waste Land   NaN   \n",
       "269  The Waste Land   NaN   \n",
       "270  The Waste Land   NaN   \n",
       "283  The Waste Land   NaN   \n",
       "\n",
       "                                                                                                                                                poem_lines  \\\n",
       "245  [             , <br/>, \\r   April is the cruellest month, breeding, \\r Lilacs out of the dead land, mixing, \\r Memory and desire, stirring, \\r Dul...   \n",
       "246  [             , <br/>, \\r   April is the cruellest month, breeding, \\r Lilacs out of the dead land, mixing, \\r Memory and desire, stirring, \\r Dul...   \n",
       "247  [             , <br/>, \\r   April is the cruellest month, breeding, \\r Lilacs out of the dead land, mixing, \\r Memory and desire, stirring, \\r Dul...   \n",
       "256  [             , <br/>, \\r   April is the cruellest month, breeding, \\r Lilacs out of the dead land, mixing, \\r Memory and desire, stirring, \\r Dul...   \n",
       "257  [             , <br/>, \\r   April is the cruellest month, breeding, \\r Lilacs out of the dead land, mixing, \\r Memory and desire, stirring, \\r Dul...   \n",
       "261  [             , <br/>, \\r   April is the cruellest month, breeding, \\r Lilacs out of the dead land, mixing, \\r Memory and desire, stirring, \\r Dul...   \n",
       "262  [             , <br/>, \\r   April is the cruellest month, breeding, \\r Lilacs out of the dead land, mixing, \\r Memory and desire, stirring, \\r Dul...   \n",
       "265  [             , <br/>, \\r   April is the cruellest month, breeding, \\r Lilacs out of the dead land, mixing, \\r Memory and desire, stirring, \\r Dul...   \n",
       "266  [             , <br/>, \\r   April is the cruellest month, breeding, \\r Lilacs out of the dead land, mixing, \\r Memory and desire, stirring, \\r Dul...   \n",
       "267  [             , <br/>, \\r   April is the cruellest month, breeding, \\r Lilacs out of the dead land, mixing, \\r Memory and desire, stirring, \\r Dul...   \n",
       "268  [             , <br/>, \\r   April is the cruellest month, breeding, \\r Lilacs out of the dead land, mixing, \\r Memory and desire, stirring, \\r Dul...   \n",
       "269  [             , <br/>, \\r   April is the cruellest month, breeding, \\r Lilacs out of the dead land, mixing, \\r Memory and desire, stirring, \\r Dul...   \n",
       "270  [             , <br/>, \\r   April is the cruellest month, breeding, \\r Lilacs out of the dead land, mixing, \\r Memory and desire, stirring, \\r Dul...   \n",
       "283  [             , <br/>, \\r   April is the cruellest month, breeding, \\r Lilacs out of the dead land, mixing, \\r Memory and desire, stirring, \\r Dul...   \n",
       "\n",
       "                                                                                                                                               poem_string  \n",
       "245               \\n\\n   April is the cruellest month, breeding\\n Lilacs out of the dead land, mixing\\n Memory and desire, stirring\\n Dull roots with s...  \n",
       "246               \\n\\n   April is the cruellest month, breeding\\n Lilacs out of the dead land, mixing\\n Memory and desire, stirring\\n Dull roots with s...  \n",
       "247               \\n\\n   April is the cruellest month, breeding\\n Lilacs out of the dead land, mixing\\n Memory and desire, stirring\\n Dull roots with s...  \n",
       "256               \\n\\n   April is the cruellest month, breeding\\n Lilacs out of the dead land, mixing\\n Memory and desire, stirring\\n Dull roots with s...  \n",
       "257               \\n\\n   April is the cruellest month, breeding\\n Lilacs out of the dead land, mixing\\n Memory and desire, stirring\\n Dull roots with s...  \n",
       "261               \\n\\n   April is the cruellest month, breeding\\n Lilacs out of the dead land, mixing\\n Memory and desire, stirring\\n Dull roots with s...  \n",
       "262               \\n\\n   April is the cruellest month, breeding\\n Lilacs out of the dead land, mixing\\n Memory and desire, stirring\\n Dull roots with s...  \n",
       "265               \\n\\n   April is the cruellest month, breeding\\n Lilacs out of the dead land, mixing\\n Memory and desire, stirring\\n Dull roots with s...  \n",
       "266               \\n\\n   April is the cruellest month, breeding\\n Lilacs out of the dead land, mixing\\n Memory and desire, stirring\\n Dull roots with s...  \n",
       "267               \\n\\n   April is the cruellest month, breeding\\n Lilacs out of the dead land, mixing\\n Memory and desire, stirring\\n Dull roots with s...  \n",
       "268               \\n\\n   April is the cruellest month, breeding\\n Lilacs out of the dead land, mixing\\n Memory and desire, stirring\\n Dull roots with s...  \n",
       "269               \\n\\n   April is the cruellest month, breeding\\n Lilacs out of the dead land, mixing\\n Memory and desire, stirring\\n Dull roots with s...  \n",
       "270               \\n\\n   April is the cruellest month, breeding\\n Lilacs out of the dead land, mixing\\n Memory and desire, stirring\\n Dull roots with s...  \n",
       "283               \\n\\n   April is the cruellest month, breeding\\n Lilacs out of the dead land, mixing\\n Memory and desire, stirring\\n Dull roots with s...  "
      ]
     },
     "execution_count": 88,
     "metadata": {},
     "output_type": "execute_result"
    }
   ],
   "source": [
    "df[df.title == 'The Waste Land']"
   ]
  },
  {
   "cell_type": "code",
   "execution_count": 82,
   "metadata": {
    "scrolled": false
   },
   "outputs": [
    {
     "data": {
      "text/plain": [
       "modern                            1324\n",
       "victorian                          674\n",
       "renaissance                        430\n",
       "romantic                           407\n",
       "imagist                            370\n",
       "beat                               294\n",
       "new_york_school                    265\n",
       "black_mountain                     257\n",
       "new_york_school_2nd_generation     193\n",
       "language_poetry                    192\n",
       "confessional                       176\n",
       "georgian                           167\n",
       "black_arts_movement                165\n",
       "objectivist                        159\n",
       "harlem_renaissance                 148\n",
       "augustan                           121\n",
       "fugitive                            90\n",
       "middle_english                      10\n",
       "Name: genre, dtype: int64"
      ]
     },
     "execution_count": 82,
     "metadata": {},
     "output_type": "execute_result"
    }
   ],
   "source": [
    "df.genre.value_counts()"
   ]
  },
  {
   "cell_type": "code",
   "execution_count": 86,
   "metadata": {
    "scrolled": true
   },
   "outputs": [
    {
     "data": {
      "text/html": [
       "<div>\n",
       "<style scoped>\n",
       "    .dataframe tbody tr th:only-of-type {\n",
       "        vertical-align: middle;\n",
       "    }\n",
       "\n",
       "    .dataframe tbody tr th {\n",
       "        vertical-align: top;\n",
       "    }\n",
       "\n",
       "    .dataframe thead th {\n",
       "        text-align: right;\n",
       "    }\n",
       "</style>\n",
       "<table border=\"1\" class=\"dataframe\">\n",
       "  <thead>\n",
       "    <tr style=\"text-align: right;\">\n",
       "      <th></th>\n",
       "      <th>poet_url</th>\n",
       "      <th>genre</th>\n",
       "      <th>poem_url</th>\n",
       "      <th>poet</th>\n",
       "      <th>title</th>\n",
       "      <th>year</th>\n",
       "      <th>poem_lines</th>\n",
       "      <th>poem_string</th>\n",
       "    </tr>\n",
       "  </thead>\n",
       "  <tbody>\n",
       "    <tr>\n",
       "      <th>0</th>\n",
       "      <td>https://www.poetryfoundation.org/poets/geoffrey-chaucer</td>\n",
       "      <td>middle_english</td>\n",
       "      <td>https://www.poetryfoundation.org/poems/43926/the-canterbury-tales-general-prologue</td>\n",
       "      <td>Geoffrey Chaucer</td>\n",
       "      <td>The Canterbury Tales: General Prologue</td>\n",
       "      <td>NaN</td>\n",
       "      <td>[Whan that Aprille with his shour, The droghte of March hath perc, And bath, Of which vertú engendr, Whan Zephirus eek with his swet, Inspir, The...</td>\n",
       "      <td>Whan that Aprille with his shourThe droghte of March hath percAnd bathOf which vertú engendrWhan Zephirus eek with his swetInspirThe tendrHath in...</td>\n",
       "    </tr>\n",
       "    <tr>\n",
       "      <th>1</th>\n",
       "      <td>https://www.poetryfoundation.org/poets/geoffrey-chaucer</td>\n",
       "      <td>middle_english</td>\n",
       "      <td>https://www.poetryfoundation.org/poems/43936/the-parlement-of-fowls</td>\n",
       "      <td>Geoffrey Chaucer</td>\n",
       "      <td>The Parlement of Fowls</td>\n",
       "      <td>NaN</td>\n",
       "      <td>[Now welcome, somer, with thy sonne softe,, \\r That hast this wintres wedres overshake,, \\r And driven away the longe nyghtes blake!, &lt;br/&gt;, \\r Sa...</td>\n",
       "      <td>Now welcome, somer, with thy sonne softe,\\n That hast this wintres wedres overshake,\\n And driven away the longe nyghtes blake!\\n\\n Saynt Valentyn...</td>\n",
       "    </tr>\n",
       "    <tr>\n",
       "      <th>2</th>\n",
       "      <td>https://www.poetryfoundation.org/poets/geoffrey-chaucer</td>\n",
       "      <td>middle_english</td>\n",
       "      <td>https://www.poetryfoundation.org/poems/45694/to-rosemounde-a-balade</td>\n",
       "      <td>Geoffrey Chaucer</td>\n",
       "      <td>To Rosemounde: A Balade</td>\n",
       "      <td>1891.0</td>\n",
       "      <td>[&lt;br/&gt;, \\r Madame, ye ben of al beaute shryne, \\r As fer as cercled is the mapamounde,, \\r For as the cristal glorious ye shyne,, \\r And lyke ruby...</td>\n",
       "      <td>\\n\\n Madame, ye ben of al beaute shryne\\n As fer as cercled is the mapamounde,\\n For as the cristal glorious ye shyne,\\n And lyke ruby ben your ch...</td>\n",
       "    </tr>\n",
       "    <tr>\n",
       "      <th>3</th>\n",
       "      <td>https://www.poetryfoundation.org/poets/geoffrey-chaucer</td>\n",
       "      <td>middle_english</td>\n",
       "      <td>https://www.poetryfoundation.org/poems/43937/troilus-and-criseyde-book-i</td>\n",
       "      <td>Geoffrey Chaucer</td>\n",
       "      <td>Troilus and Criseyde: Book I</td>\n",
       "      <td>NaN</td>\n",
       "      <td>[And so bifel, whan comen was the tym, Of Aperil, whan clothed is the med, With new, And swot, In sondry wises shew, The folk of Troie hir observa...</td>\n",
       "      <td>And so bifel, whan comen was the tymOf Aperil, whan clothed is the medWith newAnd swotIn sondry wises shewThe folk of Troie hir observaunces oldPa...</td>\n",
       "    </tr>\n",
       "    <tr>\n",
       "      <th>4</th>\n",
       "      <td>https://www.poetryfoundation.org/poets/geoffrey-chaucer</td>\n",
       "      <td>middle_english</td>\n",
       "      <td>https://www.poetryfoundation.org/poems/43938/troilus-and-criseyde-book-ii</td>\n",
       "      <td>Geoffrey Chaucer</td>\n",
       "      <td>Troilus and Criseyde: Book II</td>\n",
       "      <td>NaN</td>\n",
       "      <td>[With this he took his leve, and hom he wente; , And lord, so he was glad and wel bygon! , Criseyde aroos, no lenger she ne stente, , But streght ...</td>\n",
       "      <td>With this he took his leve, and hom he wente; And lord, so he was glad and wel bygon! Criseyde aroos, no lenger she ne stente, But streght in-to h...</td>\n",
       "    </tr>\n",
       "    <tr>\n",
       "      <th>5</th>\n",
       "      <td>https://www.poetryfoundation.org/poets/geoffrey-chaucer</td>\n",
       "      <td>middle_english</td>\n",
       "      <td>https://www.poetryfoundation.org/poems/43939/troilus-and-criseyde-book-v</td>\n",
       "      <td>Geoffrey Chaucer</td>\n",
       "      <td>Troilus and Criseyde: Book V</td>\n",
       "      <td>NaN</td>\n",
       "      <td>[The morwen com, and gostly for to speke, , This Diomede is come un-to Criseyde; , And shortly, lest that ye my tale breke, , So wel he for hym-se...</td>\n",
       "      <td>The morwen com, and gostly for to speke, This Diomede is come un-to Criseyde; And shortly, lest that ye my tale breke, So wel he for hym-selven sp...</td>\n",
       "    </tr>\n",
       "    <tr>\n",
       "      <th>6</th>\n",
       "      <td>https://www.poetryfoundation.org/poets/geoffrey-chaucer</td>\n",
       "      <td>middle_english</td>\n",
       "      <td>https://www.poetryfoundation.org/poems/43940/truth-56d222d5bf80c</td>\n",
       "      <td>Geoffrey Chaucer</td>\n",
       "      <td>Truth</td>\n",
       "      <td>NaN</td>\n",
       "      <td>[Fle fro the pres, and dwelle with sothefastnesse,, \\r Suffise thin owen thing, thei it be smal;, \\r For hord hath hate, and clymbyng tykelnesse,,...</td>\n",
       "      <td>Fle fro the pres, and dwelle with sothefastnesse,\\n Suffise thin owen thing, thei it be smal;\\n For hord hath hate, and clymbyng tykelnesse,\\n Pre...</td>\n",
       "    </tr>\n",
       "    <tr>\n",
       "      <th>7</th>\n",
       "      <td>https://www.poetryfoundation.org/poets/geoffrey-chaucer</td>\n",
       "      <td>middle_english</td>\n",
       "      <td>https://www.poetryfoundation.org/poems/50383/if-no-love-is-o-god-what-fele-i-so</td>\n",
       "      <td>Petrarch</td>\n",
       "      <td>“If no love is, O God, what fele I so?”</td>\n",
       "      <td>NaN</td>\n",
       "      <td>[If no love is, O God, what fele I so?, \\r And if love is, what thing and which is he?, \\r If love be good, from whennes cometh my woo?, \\r If it ...</td>\n",
       "      <td>If no love is, O God, what fele I so?\\n And if love is, what thing and which is he?\\n If love be good, from whennes cometh my woo?\\n If it be wikk...</td>\n",
       "    </tr>\n",
       "    <tr>\n",
       "      <th>8</th>\n",
       "      <td>https://www.poetryfoundation.org/poets/william-langland</td>\n",
       "      <td>middle_english</td>\n",
       "      <td>https://www.poetryfoundation.org/poems/47350/piers-plowman-the-prologue</td>\n",
       "      <td>William Langland</td>\n",
       "      <td>Piers Plowman: The Prologue</td>\n",
       "      <td>NaN</td>\n",
       "      <td>[&lt;br/&gt;, \\r In a somer sesun, whon softe was the sonne,, \\r I schop me into a shroud, as I a scheep were;, \\r In habite as an hermite unholy of wer...</td>\n",
       "      <td>\\n\\n In a somer sesun, whon softe was the sonne,\\n I schop me into a shroud, as I a scheep were;\\n In habite as an hermite unholy of werkes\\n Went...</td>\n",
       "    </tr>\n",
       "    <tr>\n",
       "      <th>9</th>\n",
       "      <td>https://www.poetryfoundation.org/poets/john-lydgate</td>\n",
       "      <td>middle_english</td>\n",
       "      <td>https://www.poetryfoundation.org/poems/44660/the-testament-of-john-lydgate</td>\n",
       "      <td>John Lydgate</td>\n",
       "      <td>The Testament of John Lydgate</td>\n",
       "      <td>NaN</td>\n",
       "      <td>[Beholde, o man! lyft up thyn eye and see ,       What mortall peyne I suffre for thi trespace. , With pietous voys I crye and sey to the: ,      ...</td>\n",
       "      <td>Beholde, o man! lyft up thyn eye and see       What mortall peyne I suffre for thi trespace. With pietous voys I crye and sey to the:       Behold...</td>\n",
       "    </tr>\n",
       "  </tbody>\n",
       "</table>\n",
       "</div>"
      ],
      "text/plain": [
       "                                                  poet_url           genre  \\\n",
       "0  https://www.poetryfoundation.org/poets/geoffrey-chaucer  middle_english   \n",
       "1  https://www.poetryfoundation.org/poets/geoffrey-chaucer  middle_english   \n",
       "2  https://www.poetryfoundation.org/poets/geoffrey-chaucer  middle_english   \n",
       "3  https://www.poetryfoundation.org/poets/geoffrey-chaucer  middle_english   \n",
       "4  https://www.poetryfoundation.org/poets/geoffrey-chaucer  middle_english   \n",
       "5  https://www.poetryfoundation.org/poets/geoffrey-chaucer  middle_english   \n",
       "6  https://www.poetryfoundation.org/poets/geoffrey-chaucer  middle_english   \n",
       "7  https://www.poetryfoundation.org/poets/geoffrey-chaucer  middle_english   \n",
       "8  https://www.poetryfoundation.org/poets/william-langland  middle_english   \n",
       "9      https://www.poetryfoundation.org/poets/john-lydgate  middle_english   \n",
       "\n",
       "                                                                             poem_url  \\\n",
       "0  https://www.poetryfoundation.org/poems/43926/the-canterbury-tales-general-prologue   \n",
       "1                 https://www.poetryfoundation.org/poems/43936/the-parlement-of-fowls   \n",
       "2                 https://www.poetryfoundation.org/poems/45694/to-rosemounde-a-balade   \n",
       "3            https://www.poetryfoundation.org/poems/43937/troilus-and-criseyde-book-i   \n",
       "4           https://www.poetryfoundation.org/poems/43938/troilus-and-criseyde-book-ii   \n",
       "5            https://www.poetryfoundation.org/poems/43939/troilus-and-criseyde-book-v   \n",
       "6                    https://www.poetryfoundation.org/poems/43940/truth-56d222d5bf80c   \n",
       "7     https://www.poetryfoundation.org/poems/50383/if-no-love-is-o-god-what-fele-i-so   \n",
       "8             https://www.poetryfoundation.org/poems/47350/piers-plowman-the-prologue   \n",
       "9          https://www.poetryfoundation.org/poems/44660/the-testament-of-john-lydgate   \n",
       "\n",
       "               poet                                    title    year  \\\n",
       "0  Geoffrey Chaucer   The Canterbury Tales: General Prologue     NaN   \n",
       "1  Geoffrey Chaucer                   The Parlement of Fowls     NaN   \n",
       "2  Geoffrey Chaucer                  To Rosemounde: A Balade  1891.0   \n",
       "3  Geoffrey Chaucer             Troilus and Criseyde: Book I     NaN   \n",
       "4  Geoffrey Chaucer            Troilus and Criseyde: Book II     NaN   \n",
       "5  Geoffrey Chaucer             Troilus and Criseyde: Book V     NaN   \n",
       "6  Geoffrey Chaucer                                    Truth     NaN   \n",
       "7          Petrarch  “If no love is, O God, what fele I so?”     NaN   \n",
       "8  William Langland              Piers Plowman: The Prologue     NaN   \n",
       "9      John Lydgate            The Testament of John Lydgate     NaN   \n",
       "\n",
       "                                                                                                                                              poem_lines  \\\n",
       "0  [Whan that Aprille with his shour, The droghte of March hath perc, And bath, Of which vertú engendr, Whan Zephirus eek with his swet, Inspir, The...   \n",
       "1  [Now welcome, somer, with thy sonne softe,, \\r That hast this wintres wedres overshake,, \\r And driven away the longe nyghtes blake!, <br/>, \\r Sa...   \n",
       "2  [<br/>, \\r Madame, ye ben of al beaute shryne, \\r As fer as cercled is the mapamounde,, \\r For as the cristal glorious ye shyne,, \\r And lyke ruby...   \n",
       "3  [And so bifel, whan comen was the tym, Of Aperil, whan clothed is the med, With new, And swot, In sondry wises shew, The folk of Troie hir observa...   \n",
       "4  [With this he took his leve, and hom he wente; , And lord, so he was glad and wel bygon! , Criseyde aroos, no lenger she ne stente, , But streght ...   \n",
       "5  [The morwen com, and gostly for to speke, , This Diomede is come un-to Criseyde; , And shortly, lest that ye my tale breke, , So wel he for hym-se...   \n",
       "6  [Fle fro the pres, and dwelle with sothefastnesse,, \\r Suffise thin owen thing, thei it be smal;, \\r For hord hath hate, and clymbyng tykelnesse,,...   \n",
       "7  [If no love is, O God, what fele I so?, \\r And if love is, what thing and which is he?, \\r If love be good, from whennes cometh my woo?, \\r If it ...   \n",
       "8  [<br/>, \\r In a somer sesun, whon softe was the sonne,, \\r I schop me into a shroud, as I a scheep were;, \\r In habite as an hermite unholy of wer...   \n",
       "9  [Beholde, o man! lyft up thyn eye and see ,       What mortall peyne I suffre for thi trespace. , With pietous voys I crye and sey to the: ,      ...   \n",
       "\n",
       "                                                                                                                                             poem_string  \n",
       "0  Whan that Aprille with his shourThe droghte of March hath percAnd bathOf which vertú engendrWhan Zephirus eek with his swetInspirThe tendrHath in...  \n",
       "1  Now welcome, somer, with thy sonne softe,\\n That hast this wintres wedres overshake,\\n And driven away the longe nyghtes blake!\\n\\n Saynt Valentyn...  \n",
       "2  \\n\\n Madame, ye ben of al beaute shryne\\n As fer as cercled is the mapamounde,\\n For as the cristal glorious ye shyne,\\n And lyke ruby ben your ch...  \n",
       "3  And so bifel, whan comen was the tymOf Aperil, whan clothed is the medWith newAnd swotIn sondry wises shewThe folk of Troie hir observaunces oldPa...  \n",
       "4  With this he took his leve, and hom he wente; And lord, so he was glad and wel bygon! Criseyde aroos, no lenger she ne stente, But streght in-to h...  \n",
       "5  The morwen com, and gostly for to speke, This Diomede is come un-to Criseyde; And shortly, lest that ye my tale breke, So wel he for hym-selven sp...  \n",
       "6  Fle fro the pres, and dwelle with sothefastnesse,\\n Suffise thin owen thing, thei it be smal;\\n For hord hath hate, and clymbyng tykelnesse,\\n Pre...  \n",
       "7  If no love is, O God, what fele I so?\\n And if love is, what thing and which is he?\\n If love be good, from whennes cometh my woo?\\n If it be wikk...  \n",
       "8  \\n\\n In a somer sesun, whon softe was the sonne,\\n I schop me into a shroud, as I a scheep were;\\n In habite as an hermite unholy of werkes\\n Went...  \n",
       "9  Beholde, o man! lyft up thyn eye and see       What mortall peyne I suffre for thi trespace. With pietous voys I crye and sey to the:       Behold...  "
      ]
     },
     "execution_count": 86,
     "metadata": {},
     "output_type": "execute_result"
    }
   ],
   "source": [
    "df[df.genre == 'middle_english']"
   ]
  },
  {
   "cell_type": "code",
   "execution_count": null,
   "metadata": {},
   "outputs": [],
   "source": []
  },
  {
   "cell_type": "code",
   "execution_count": null,
   "metadata": {},
   "outputs": [],
   "source": []
  },
  {
   "cell_type": "markdown",
   "metadata": {},
   "source": [
    "# SCRAP HEAP"
   ]
  },
  {
   "cell_type": "code",
   "execution_count": 526,
   "metadata": {},
   "outputs": [
    {
     "data": {
      "text/plain": [
       "{'augustan': [],\n",
       " 'beat': [],\n",
       " 'black_arts_movement': [],\n",
       " 'black_mountain': [],\n",
       " 'confessional': [],\n",
       " 'fugitive': [],\n",
       " 'georgian': [],\n",
       " 'harlem_renaissance': [],\n",
       " 'imagist': [],\n",
       " 'language_poetry': [],\n",
       " 'middle_english': [],\n",
       " 'modern': [],\n",
       " 'new_york_school': [],\n",
       " 'new_york_school_2nd_generation': [],\n",
       " 'objectivist': [],\n",
       " 'renaissance': [],\n",
       " 'romantic': [],\n",
       " 'victorian': []}"
      ]
     },
     "execution_count": 526,
     "metadata": {},
     "output_type": "execute_result"
    }
   ],
   "source": [
    "ultra_dict = {genre: [] for genre in poet_urls_dict.keys()}\n",
    "ultra_dict"
   ]
  },
  {
   "cell_type": "code",
   "execution_count": 46,
   "metadata": {},
   "outputs": [
    {
     "data": {
      "text/plain": [
       "<Response [200]>"
      ]
     },
     "execution_count": 46,
     "metadata": {},
     "output_type": "execute_result"
    }
   ],
   "source": [
    "s = rq.Session()\n",
    "s.get(genre_urls[0])"
   ]
  },
  {
   "cell_type": "markdown",
   "metadata": {},
   "source": [
    "### SCRAPER ATTEMPT READ IMAGE"
   ]
  },
  {
   "cell_type": "code",
   "execution_count": null,
   "metadata": {},
   "outputs": [],
   "source": [
    "def poem_scraper(poem_url):\n",
    "    '''Scraper for PoetryFoundation.org--scrapes poet name, poem title, poem year, list of poem's lines,\n",
    "       and the poem as a string.\n",
    "       Input the url for a poem's page on PoetryFoundation.org.\n",
    "       Output is a list.'''\n",
    "    \n",
    "    # load a page and soupify it\n",
    "    page = rq.get(poem_url)\n",
    "    soup = bs(page.content, 'html.parser')\n",
    "    \n",
    "    # series of try/except statements to scrape info or return NaN value if desired info cannot be scraped\n",
    "    try:\n",
    "        poet = soup.find('a', href=re.compile('.*/poets/.*')).contents[0]\n",
    "    except:\n",
    "        poet = np.nan\n",
    "        \n",
    "    try:\n",
    "        title = soup.find('h1').contents[-1].strip()\n",
    "    except:\n",
    "        try:\n",
    "            title_pattern = '[a-z\\-]*$'\n",
    "            title = re.search(title_pattern, poem_url, re.I).group().replace('-', ' ').title()\n",
    "        except:\n",
    "            title = np.nan\n",
    "        \n",
    "    try:\n",
    "        lines_raw = soup.find_all('div', {'style': 'text-indent: -1em; padding-left: 1em;'})\n",
    "        lines = [normalize('NFKD', str(line.contents[0])) for line in lines_raw if line.contents]\n",
    "        lines = [line.replace('<br/>', '') for line in lines]\n",
    "        line_pattern = '>(.*?)<'\n",
    "        lines = [re.search(line_pattern, line, re.I).group(1) if '<' in line else line for line in lines]\n",
    "        if lines == []:\n",
    "            try:\n",
    "                img_link = soup.find('img', src=re.compile('.*/jstor/.*'))['src']\n",
    "                resource = urlopen(img_link)\n",
    "                output = open('poem_imgs/temp.png','wb')\n",
    "                output.write(resource.read())\n",
    "                text = pytesseract.image_to_string('poem_imgs/temp.png')\n",
    "                scan_pattern = fr'{title.upper()}\\s*((.*\\s.*)*)'\n",
    "                lines = re.search(scan_pattern, text, re.I).group(1).splitlines()\n",
    "            except:\n",
    "                lines = np.nan\n",
    "    except:\n",
    "        lines = np.nan\n",
    "        \n",
    "    try:\n",
    "        poem_string = '\\n'.join(lines)\n",
    "    except:\n",
    "        poem_string = np.nan\n",
    "        \n",
    "    try:\n",
    "        year_blurb = soup.find('span', {'class': 'c-txt c-txt_note c-txt_note_mini'}).contents[2]\n",
    "        year_pattern = r'[12]\\d{3}'\n",
    "        year = int(re.search(year_pattern, year_blurb, re.I).group())\n",
    "    except:\n",
    "        try:\n",
    "            year_blurb = soup.find_all('span', {'class': 'c-txt c-txt_note c-txt_note_mini'})[-1].contents[2]\n",
    "            year_pattern = r'[12]\\d{3}'\n",
    "            year = int(re.search(year_pattern, year_blurb, re.I).group())\n",
    "        except:\n",
    "            year = np.nan\n",
    "    \n",
    "    info = [poet, title, year, lines, poem_string]\n",
    "    \n",
    "    return info"
   ]
  }
 ],
 "metadata": {
  "kernelspec": {
   "display_name": "Python [conda env:learn-env] *",
   "language": "python",
   "name": "conda-env-learn-env-py"
  },
  "language_info": {
   "codemirror_mode": {
    "name": "ipython",
    "version": 3
   },
   "file_extension": ".py",
   "mimetype": "text/x-python",
   "name": "python",
   "nbconvert_exporter": "python",
   "pygments_lexer": "ipython3",
   "version": "3.6.9"
  }
 },
 "nbformat": 4,
 "nbformat_minor": 2
}
