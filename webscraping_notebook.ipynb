{
 "cells": [
  {
   "cell_type": "code",
   "execution_count": 22,
   "metadata": {},
   "outputs": [
    {
     "name": "stdout",
     "output_type": "stream",
     "text": [
      "The autoreload extension is already loaded. To reload it, use:\n",
      "  %reload_ext autoreload\n"
     ]
    }
   ],
   "source": [
    "import pandas as pd\n",
    "import numpy as np\n",
    "\n",
    "import matplotlib.pyplot as plt\n",
    "import seaborn as sns; sns.set_style('ticks')\n",
    "\n",
    "import re\n",
    "from unicodedata import normalize\n",
    "\n",
    "import requests as rq\n",
    "from bs4 import BeautifulSoup as bs\n",
    "from selenium import webdriver\n",
    "\n",
    "\n",
    "import time\n",
    "import pickle\n",
    "\n",
    "from functions import *\n",
    "\n",
    "%load_ext autoreload\n",
    "%autoreload 2"
   ]
  },
  {
   "cell_type": "code",
   "execution_count": 2,
   "metadata": {},
   "outputs": [],
   "source": [
    "pd.set_option('max_colwidth', 150)"
   ]
  },
  {
   "cell_type": "markdown",
   "metadata": {},
   "source": [
    "##### Manually create dictionary with url codes for each genre."
   ]
  },
  {
   "cell_type": "code",
   "execution_count": 142,
   "metadata": {},
   "outputs": [],
   "source": [
    "genre_codes = {\n",
    "    'augustan': 149,\n",
    "    'beat': 150,\n",
    "    'black_arts_movement': 304,\n",
    "    'black_mountain': 151,\n",
    "    'confessional': 152,\n",
    "    'fugitive': 153,\n",
    "    'georgian': 154,\n",
    "    'harlem_renaissance': 155,\n",
    "    'imagist': 156,\n",
    "    'language_poetry': 157,\n",
    "    'middle_english': 158,\n",
    "    'modern': 159,\n",
    "    'new_york_school': 160,\n",
    "    'new_york_school_2nd_generation': 161,\n",
    "    'objectivist': 162,\n",
    "    'renaissance': 163,\n",
    "    'romantic': 164,\n",
    "    'victorian': 165\n",
    "}"
   ]
  },
  {
   "cell_type": "markdown",
   "metadata": {},
   "source": [
    "##### Run function in a loop to create dictionary of poet urls."
   ]
  },
  {
   "cell_type": "code",
   "execution_count": 193,
   "metadata": {},
   "outputs": [
    {
     "data": {
      "text/plain": [
       "['https://www.poetryfoundation.org/poets/mary-barber',\n",
       " 'https://www.poetryfoundation.org/poets/susanna-blamire',\n",
       " 'https://www.poetryfoundation.org/poets/henry-carey',\n",
       " 'https://www.poetryfoundation.org/poets/thomas-chatterton',\n",
       " 'https://www.poetryfoundation.org/poets/william-collins',\n",
       " 'https://www.poetryfoundation.org/poets/william-cowper',\n",
       " 'https://www.poetryfoundation.org/poets/daniel-defoe',\n",
       " 'https://www.poetryfoundation.org/poets/anne-finch',\n",
       " 'https://www.poetryfoundation.org/poets/john-gay',\n",
       " 'https://www.poetryfoundation.org/poets/oliver-goldsmith',\n",
       " 'https://www.poetryfoundation.org/poets/thomas-gray',\n",
       " 'https://www.poetryfoundation.org/poets/matthew-green',\n",
       " 'https://www.poetryfoundation.org/poets/warren-hastings',\n",
       " 'https://www.poetryfoundation.org/poets/samuel-johnson',\n",
       " 'https://www.poetryfoundation.org/poets/mary-jones',\n",
       " 'https://www.poetryfoundation.org/poets/lady-mary-wortley-montagu',\n",
       " 'https://www.poetryfoundation.org/poets/alexander-pope',\n",
       " 'https://www.poetryfoundation.org/poets/matthew-prior',\n",
       " 'https://www.poetryfoundation.org/poets/richard-brinsley-sheridan',\n",
       " 'https://www.poetryfoundation.org/poets/jonathan-swift',\n",
       " 'https://www.poetryfoundation.org/poets/james-thomson',\n",
       " 'https://www.poetryfoundation.org/poets/isaac-watts',\n",
       " 'https://www.poetryfoundation.org/poets/john-wesley']"
      ]
     },
     "execution_count": 193,
     "metadata": {},
     "output_type": "execute_result"
    }
   ],
   "source": [
    "poet_urls = {genre:poet_urls_by_genre(genre_code, 3) for genre,genre_code in genre_codes.items()}\n",
    "poet_urls['augustan']"
   ]
  },
  {
   "cell_type": "markdown",
   "metadata": {},
   "source": [
    "##### Loop only partially worked, so let's re-run sections in which some urls are missing."
   ]
  },
  {
   "cell_type": "code",
   "execution_count": 196,
   "metadata": {},
   "outputs": [],
   "source": [
    "poet_urls['black_arts_movement'] = poet_urls_by_genre(genre_codes['black_arts_movement'])"
   ]
  },
  {
   "cell_type": "code",
   "execution_count": 198,
   "metadata": {},
   "outputs": [],
   "source": [
    "poet_urls['modern'] = poet_urls_by_genre(genre_codes['modern'])"
   ]
  },
  {
   "cell_type": "code",
   "execution_count": 200,
   "metadata": {},
   "outputs": [],
   "source": [
    "poet_urls['renaissance'] = poet_urls_by_genre(genre_codes['renaissance'])"
   ]
  },
  {
   "cell_type": "code",
   "execution_count": 203,
   "metadata": {},
   "outputs": [],
   "source": [
    "poet_urls['romantic'] = poet_urls_by_genre(genre_codes['romantic'])"
   ]
  },
  {
   "cell_type": "code",
   "execution_count": 206,
   "metadata": {},
   "outputs": [],
   "source": [
    "poet_urls['victorian'] = poet_urls_by_genre(genre_codes['victorian'])"
   ]
  },
  {
   "cell_type": "code",
   "execution_count": 207,
   "metadata": {},
   "outputs": [
    {
     "data": {
      "text/plain": [
       "{'augustan': 23,\n",
       " 'beat': 13,\n",
       " 'black_arts_movement': 23,\n",
       " 'black_mountain': 10,\n",
       " 'confessional': 7,\n",
       " 'fugitive': 7,\n",
       " 'georgian': 22,\n",
       " 'harlem_renaissance': 17,\n",
       " 'imagist': 6,\n",
       " 'language_poetry': 18,\n",
       " 'middle_english': 3,\n",
       " 'modern': 54,\n",
       " 'new_york_school': 9,\n",
       " 'new_york_school_2nd_generation': 16,\n",
       " 'objectivist': 5,\n",
       " 'renaissance': 41,\n",
       " 'romantic': 51,\n",
       " 'victorian': 55}"
      ]
     },
     "execution_count": 207,
     "metadata": {},
     "output_type": "execute_result"
    }
   ],
   "source": [
    "# confirm all urls have been grabbed\n",
    "url_lens = {k:len(v) for k,v in poet_urls.items()}\n",
    "url_lens"
   ]
  },
  {
   "cell_type": "markdown",
   "metadata": {},
   "source": [
    "##### Pickle it! uncomment to save/load"
   ]
  },
  {
   "cell_type": "code",
   "execution_count": 5,
   "metadata": {},
   "outputs": [],
   "source": [
    "# with open('poet_urls_dict.pickle', 'wb') as w:\n",
    "#     pickle.dump(poet_urls, w, protocol=pickle.HIGHEST_PROTOCOL)\n",
    "\n",
    "with open('poet_urls_dict.pickle', 'rb') as r:\n",
    "    poet_urls_dict = pickle.load(r)"
   ]
  },
  {
   "cell_type": "markdown",
   "metadata": {},
   "source": [
    "##### Check for duplicate values"
   ]
  },
  {
   "cell_type": "code",
   "execution_count": 6,
   "metadata": {},
   "outputs": [
    {
     "data": {
      "text/html": [
       "<div>\n",
       "<style scoped>\n",
       "    .dataframe tbody tr th:only-of-type {\n",
       "        vertical-align: middle;\n",
       "    }\n",
       "\n",
       "    .dataframe tbody tr th {\n",
       "        vertical-align: top;\n",
       "    }\n",
       "\n",
       "    .dataframe thead th {\n",
       "        text-align: right;\n",
       "    }\n",
       "</style>\n",
       "<table border=\"1\" class=\"dataframe\">\n",
       "  <thead>\n",
       "    <tr style=\"text-align: right;\">\n",
       "      <th></th>\n",
       "      <th>0</th>\n",
       "      <th>1</th>\n",
       "    </tr>\n",
       "  </thead>\n",
       "  <tbody>\n",
       "    <tr>\n",
       "      <th>126</th>\n",
       "      <td>imagist</td>\n",
       "      <td>https://www.poetryfoundation.org/poets/ezra-pound</td>\n",
       "    </tr>\n",
       "    <tr>\n",
       "      <th>186</th>\n",
       "      <td>modern</td>\n",
       "      <td>https://www.poetryfoundation.org/poets/ezra-pound</td>\n",
       "    </tr>\n",
       "    <tr>\n",
       "      <th>122</th>\n",
       "      <td>imagist</td>\n",
       "      <td>https://www.poetryfoundation.org/poets/richard-aldington</td>\n",
       "    </tr>\n",
       "    <tr>\n",
       "      <th>150</th>\n",
       "      <td>modern</td>\n",
       "      <td>https://www.poetryfoundation.org/poets/richard-aldington</td>\n",
       "    </tr>\n",
       "  </tbody>\n",
       "</table>\n",
       "</div>"
      ],
      "text/plain": [
       "           0                                                         1\n",
       "126  imagist         https://www.poetryfoundation.org/poets/ezra-pound\n",
       "186   modern         https://www.poetryfoundation.org/poets/ezra-pound\n",
       "122  imagist  https://www.poetryfoundation.org/poets/richard-aldington\n",
       "150   modern  https://www.poetryfoundation.org/poets/richard-aldington"
      ]
     },
     "execution_count": 6,
     "metadata": {},
     "output_type": "execute_result"
    }
   ],
   "source": [
    "poet_df = pd.DataFrame([(genre,v) for genre in poet_urls_dict.keys() for v in poet_urls_dict[genre]])\n",
    "pd.concat(g for _, g in poet_df.groupby(1) if len(g) > 1)"
   ]
  },
  {
   "cell_type": "markdown",
   "metadata": {},
   "source": [
    "##### We'll give those poets to the imagist genre, since it has so few already"
   ]
  },
  {
   "cell_type": "code",
   "execution_count": 7,
   "metadata": {},
   "outputs": [
    {
     "data": {
      "text/plain": [
       "['https://www.poetryfoundation.org/poets/richard-aldington',\n",
       " 'https://www.poetryfoundation.org/poets/ezra-pound']"
      ]
     },
     "execution_count": 7,
     "metadata": {},
     "output_type": "execute_result"
    }
   ],
   "source": [
    "dups = [value for value in poet_df[poet_df.duplicated(1)][1]]\n",
    "dups"
   ]
  },
  {
   "cell_type": "code",
   "execution_count": 8,
   "metadata": {},
   "outputs": [
    {
     "data": {
      "text/plain": [
       "54"
      ]
     },
     "execution_count": 8,
     "metadata": {},
     "output_type": "execute_result"
    }
   ],
   "source": [
    "len(poet_urls_dict['modern'])"
   ]
  },
  {
   "cell_type": "code",
   "execution_count": 9,
   "metadata": {},
   "outputs": [
    {
     "data": {
      "text/plain": [
       "52"
      ]
     },
     "execution_count": 9,
     "metadata": {},
     "output_type": "execute_result"
    }
   ],
   "source": [
    "poet_urls_dict['modern'] = [url for url in poet_urls_dict['modern'] if url not in dups]\n",
    "len(poet_urls_dict['modern'])"
   ]
  },
  {
   "cell_type": "markdown",
   "metadata": {},
   "source": [
    "##### Instantiate an empty dataframe, then loop over each genre in our poet urls dictionary, create a dataframe for each genre and add that to the original dataframe, saving it after each concatenation"
   ]
  },
  {
   "cell_type": "code",
   "execution_count": 64,
   "metadata": {
    "scrolled": true
   },
   "outputs": [],
   "source": [
    "# instantiate an empty dataframe\n",
    "df = pd.DataFrame()\n",
    "\n",
    "# loop over each genre, create dataframe with desired information,\n",
    "# concat to original dataframe, then save it before looping again\n",
    "for genre in list(poet_urls_dict.keys()):\n",
    "    genre_df = pf_scraper(poet_urls_dict, genre)\n",
    "    df = pd.concat([df, genre_df])\n",
    "    df.to_csv('data/poetry_foundation_raw.csv')"
   ]
  },
  {
   "cell_type": "code",
   "execution_count": 65,
   "metadata": {},
   "outputs": [
    {
     "data": {
      "text/plain": [
       "(5442, 8)"
      ]
     },
     "execution_count": 65,
     "metadata": {},
     "output_type": "execute_result"
    }
   ],
   "source": [
    "df.shape"
   ]
  },
  {
   "cell_type": "code",
   "execution_count": 69,
   "metadata": {},
   "outputs": [
    {
     "data": {
      "text/plain": [
       "Index(['poet_url', 'genre', 'poem_url', 'poet', 'title', 'year', 'poem_lines',\n",
       "       'poem_string'],\n",
       "      dtype='object')"
      ]
     },
     "execution_count": 69,
     "metadata": {},
     "output_type": "execute_result"
    }
   ],
   "source": [
    "df.columns = ['poet_url', 'genre', 'poem_url', 'poet', 'title', 'year', 'poem_lines', 'poem_string']\n",
    "df.columns"
   ]
  },
  {
   "cell_type": "code",
   "execution_count": 70,
   "metadata": {},
   "outputs": [
    {
     "data": {
      "text/html": [
       "<div>\n",
       "<style scoped>\n",
       "    .dataframe tbody tr th:only-of-type {\n",
       "        vertical-align: middle;\n",
       "    }\n",
       "\n",
       "    .dataframe tbody tr th {\n",
       "        vertical-align: top;\n",
       "    }\n",
       "\n",
       "    .dataframe thead th {\n",
       "        text-align: right;\n",
       "    }\n",
       "</style>\n",
       "<table border=\"1\" class=\"dataframe\">\n",
       "  <thead>\n",
       "    <tr style=\"text-align: right;\">\n",
       "      <th></th>\n",
       "      <th>poet_url</th>\n",
       "      <th>genre</th>\n",
       "      <th>poem_url</th>\n",
       "      <th>poet</th>\n",
       "      <th>title</th>\n",
       "      <th>year</th>\n",
       "      <th>poem_lines</th>\n",
       "      <th>poem_string</th>\n",
       "    </tr>\n",
       "  </thead>\n",
       "  <tbody>\n",
       "    <tr>\n",
       "      <th>0</th>\n",
       "      <td>https://www.poetryfoundation.org/poets/richard-brautigan</td>\n",
       "      <td>beat</td>\n",
       "      <td>https://www.poetryfoundation.org/poems/48578/at-the-california-institute-of-technology</td>\n",
       "      <td>Richard Brautigan</td>\n",
       "      <td>At the California Institute of Technology</td>\n",
       "      <td>NaN</td>\n",
       "      <td>[I don’t care how God-damn smart, \\r these guys are: I’m bored., &lt;br/&gt;, \\r It’s been raining like hell all day long, \\r and there’s nothing to do....</td>\n",
       "      <td>I don’t care how God-damn smart\\n these guys are: I’m bored.\\n\\n It’s been raining like hell all day long\\n and there’s nothing to do.\\n</td>\n",
       "    </tr>\n",
       "    <tr>\n",
       "      <th>1</th>\n",
       "      <td>https://www.poetryfoundation.org/poets/richard-brautigan</td>\n",
       "      <td>beat</td>\n",
       "      <td>https://www.poetryfoundation.org/poems/48576/a-boat</td>\n",
       "      <td>Richard Brautigan</td>\n",
       "      <td>A Boat</td>\n",
       "      <td>1968.0</td>\n",
       "      <td>[O beautiful , was the werewolf   , in his evil forest.   , We took him , to the carnival   , and he started   ,    crying , when he saw , the Fer...</td>\n",
       "      <td>O beautiful was the werewolf   in his evil forest.   We took him to the carnival   and he started      crying when he saw the Ferris wheel.   Elec...</td>\n",
       "    </tr>\n",
       "    <tr>\n",
       "      <th>2</th>\n",
       "      <td>https://www.poetryfoundation.org/poets/richard-brautigan</td>\n",
       "      <td>beat</td>\n",
       "      <td>https://www.poetryfoundation.org/poems/48580/december-30</td>\n",
       "      <td>Richard Brautigan</td>\n",
       "      <td>December 30</td>\n",
       "      <td>1968.0</td>\n",
       "      <td>[At 1:03 in the morning a fart, \\r smells like a marriage between, \\r an avocado and a fish head., &lt;br/&gt;, \\r I have to get out of bed, \\r to write...</td>\n",
       "      <td>At 1:03 in the morning a fart\\n smells like a marriage between\\n an avocado and a fish head.\\n\\n I have to get out of bed\\n to write this down wit...</td>\n",
       "    </tr>\n",
       "    <tr>\n",
       "      <th>3</th>\n",
       "      <td>https://www.poetryfoundation.org/poets/richard-brautigan</td>\n",
       "      <td>beat</td>\n",
       "      <td>https://www.poetryfoundation.org/poems/48579/the-double-bed-dream-gallows</td>\n",
       "      <td>Richard Brautigan</td>\n",
       "      <td>The Double-Bed Dream Gallows</td>\n",
       "      <td>1968.0</td>\n",
       "      <td>[Driving through   , \\r hot brushy country, \\r in the late autumn,   , \\r I saw a hawk, \\r crucified on a, \\r barbed-wire fence., &lt;br/&gt;, \\r I gues...</td>\n",
       "      <td>Driving through   \\n hot brushy country\\n in the late autumn,   \\n I saw a hawk\\n crucified on a\\n barbed-wire fence.\\n\\n I guess as a kind   \\n o...</td>\n",
       "    </tr>\n",
       "    <tr>\n",
       "      <th>4</th>\n",
       "      <td>https://www.poetryfoundation.org/poets/richard-brautigan</td>\n",
       "      <td>beat</td>\n",
       "      <td>https://www.poetryfoundation.org/poems/48581/haiku-ambulance</td>\n",
       "      <td>Richard Brautigan</td>\n",
       "      <td>Haiku Ambulance</td>\n",
       "      <td>1968.0</td>\n",
       "      <td>[A piece of green pepper, \\r    fell, \\r off the wooden salad bowl:, \\r    so what?, &lt;br/&gt;]</td>\n",
       "      <td>A piece of green pepper\\n    fell\\n off the wooden salad bowl:\\n    so what?\\n</td>\n",
       "    </tr>\n",
       "  </tbody>\n",
       "</table>\n",
       "</div>"
      ],
      "text/plain": [
       "                                                   poet_url genre  \\\n",
       "0  https://www.poetryfoundation.org/poets/richard-brautigan  beat   \n",
       "1  https://www.poetryfoundation.org/poets/richard-brautigan  beat   \n",
       "2  https://www.poetryfoundation.org/poets/richard-brautigan  beat   \n",
       "3  https://www.poetryfoundation.org/poets/richard-brautigan  beat   \n",
       "4  https://www.poetryfoundation.org/poets/richard-brautigan  beat   \n",
       "\n",
       "                                                                                 poem_url  \\\n",
       "0  https://www.poetryfoundation.org/poems/48578/at-the-california-institute-of-technology   \n",
       "1                                     https://www.poetryfoundation.org/poems/48576/a-boat   \n",
       "2                                https://www.poetryfoundation.org/poems/48580/december-30   \n",
       "3               https://www.poetryfoundation.org/poems/48579/the-double-bed-dream-gallows   \n",
       "4                            https://www.poetryfoundation.org/poems/48581/haiku-ambulance   \n",
       "\n",
       "                poet                                      title    year  \\\n",
       "0  Richard Brautigan  At the California Institute of Technology     NaN   \n",
       "1  Richard Brautigan                                     A Boat  1968.0   \n",
       "2  Richard Brautigan                                December 30  1968.0   \n",
       "3  Richard Brautigan               The Double-Bed Dream Gallows  1968.0   \n",
       "4  Richard Brautigan                            Haiku Ambulance  1968.0   \n",
       "\n",
       "                                                                                                                                              poem_lines  \\\n",
       "0  [I don’t care how God-damn smart, \\r these guys are: I’m bored., <br/>, \\r It’s been raining like hell all day long, \\r and there’s nothing to do....   \n",
       "1  [O beautiful , was the werewolf   , in his evil forest.   , We took him , to the carnival   , and he started   ,    crying , when he saw , the Fer...   \n",
       "2  [At 1:03 in the morning a fart, \\r smells like a marriage between, \\r an avocado and a fish head., <br/>, \\r I have to get out of bed, \\r to write...   \n",
       "3  [Driving through   , \\r hot brushy country, \\r in the late autumn,   , \\r I saw a hawk, \\r crucified on a, \\r barbed-wire fence., <br/>, \\r I gues...   \n",
       "4                                                            [A piece of green pepper, \\r    fell, \\r off the wooden salad bowl:, \\r    so what?, <br/>]   \n",
       "\n",
       "                                                                                                                                             poem_string  \n",
       "0               I don’t care how God-damn smart\\n these guys are: I’m bored.\\n\\n It’s been raining like hell all day long\\n and there’s nothing to do.\\n  \n",
       "1  O beautiful was the werewolf   in his evil forest.   We took him to the carnival   and he started      crying when he saw the Ferris wheel.   Elec...  \n",
       "2  At 1:03 in the morning a fart\\n smells like a marriage between\\n an avocado and a fish head.\\n\\n I have to get out of bed\\n to write this down wit...  \n",
       "3  Driving through   \\n hot brushy country\\n in the late autumn,   \\n I saw a hawk\\n crucified on a\\n barbed-wire fence.\\n\\n I guess as a kind   \\n o...  \n",
       "4                                                                         A piece of green pepper\\n    fell\\n off the wooden salad bowl:\\n    so what?\\n  "
      ]
     },
     "execution_count": 70,
     "metadata": {},
     "output_type": "execute_result"
    }
   ],
   "source": [
    "df.head()"
   ]
  },
  {
   "cell_type": "code",
   "execution_count": 73,
   "metadata": {},
   "outputs": [
    {
     "data": {
      "text/plain": [
       "pandas.core.frame.DataFrame"
      ]
     },
     "execution_count": 73,
     "metadata": {},
     "output_type": "execute_result"
    }
   ],
   "source": [
    "type(df)"
   ]
  },
  {
   "cell_type": "code",
   "execution_count": 72,
   "metadata": {
    "scrolled": true
   },
   "outputs": [
    {
     "ename": "TypeError",
     "evalue": "unhashable type: 'list'",
     "output_type": "error",
     "traceback": [
      "\u001b[0;31m---------------------------------------------------------------------------\u001b[0m",
      "\u001b[0;31mTypeError\u001b[0m                                 Traceback (most recent call last)",
      "\u001b[0;32m<ipython-input-72-9e344a7ac99b>\u001b[0m in \u001b[0;36m<module>\u001b[0;34m\u001b[0m\n\u001b[0;32m----> 1\u001b[0;31m \u001b[0mdf\u001b[0m\u001b[0;34m.\u001b[0m\u001b[0mduplicated\u001b[0m\u001b[0;34m(\u001b[0m\u001b[0msubset\u001b[0m\u001b[0;34m=\u001b[0m\u001b[0;32mNone\u001b[0m\u001b[0;34m,\u001b[0m \u001b[0mkeep\u001b[0m\u001b[0;34m=\u001b[0m\u001b[0;34m'first'\u001b[0m\u001b[0;34m)\u001b[0m\u001b[0;34m.\u001b[0m\u001b[0msum\u001b[0m\u001b[0;34m(\u001b[0m\u001b[0;34m)\u001b[0m\u001b[0;34m\u001b[0m\u001b[0;34m\u001b[0m\u001b[0m\n\u001b[0m",
      "\u001b[0;32m/opt/anaconda3/envs/learn-env/lib/python3.6/site-packages/pandas/core/frame.py\u001b[0m in \u001b[0;36mduplicated\u001b[0;34m(self, subset, keep)\u001b[0m\n\u001b[1;32m   4886\u001b[0m \u001b[0;34m\u001b[0m\u001b[0m\n\u001b[1;32m   4887\u001b[0m         \u001b[0mvals\u001b[0m \u001b[0;34m=\u001b[0m \u001b[0;34m(\u001b[0m\u001b[0mcol\u001b[0m\u001b[0;34m.\u001b[0m\u001b[0mvalues\u001b[0m \u001b[0;32mfor\u001b[0m \u001b[0mname\u001b[0m\u001b[0;34m,\u001b[0m \u001b[0mcol\u001b[0m \u001b[0;32min\u001b[0m \u001b[0mself\u001b[0m\u001b[0;34m.\u001b[0m\u001b[0mitems\u001b[0m\u001b[0;34m(\u001b[0m\u001b[0;34m)\u001b[0m \u001b[0;32mif\u001b[0m \u001b[0mname\u001b[0m \u001b[0;32min\u001b[0m \u001b[0msubset\u001b[0m\u001b[0;34m)\u001b[0m\u001b[0;34m\u001b[0m\u001b[0;34m\u001b[0m\u001b[0m\n\u001b[0;32m-> 4888\u001b[0;31m         \u001b[0mlabels\u001b[0m\u001b[0;34m,\u001b[0m \u001b[0mshape\u001b[0m \u001b[0;34m=\u001b[0m \u001b[0mmap\u001b[0m\u001b[0;34m(\u001b[0m\u001b[0mlist\u001b[0m\u001b[0;34m,\u001b[0m \u001b[0mzip\u001b[0m\u001b[0;34m(\u001b[0m\u001b[0;34m*\u001b[0m\u001b[0mmap\u001b[0m\u001b[0;34m(\u001b[0m\u001b[0mf\u001b[0m\u001b[0;34m,\u001b[0m \u001b[0mvals\u001b[0m\u001b[0;34m)\u001b[0m\u001b[0;34m)\u001b[0m\u001b[0;34m)\u001b[0m\u001b[0;34m\u001b[0m\u001b[0;34m\u001b[0m\u001b[0m\n\u001b[0m\u001b[1;32m   4889\u001b[0m \u001b[0;34m\u001b[0m\u001b[0m\n\u001b[1;32m   4890\u001b[0m         \u001b[0mids\u001b[0m \u001b[0;34m=\u001b[0m \u001b[0mget_group_index\u001b[0m\u001b[0;34m(\u001b[0m\u001b[0mlabels\u001b[0m\u001b[0;34m,\u001b[0m \u001b[0mshape\u001b[0m\u001b[0;34m,\u001b[0m \u001b[0msort\u001b[0m\u001b[0;34m=\u001b[0m\u001b[0;32mFalse\u001b[0m\u001b[0;34m,\u001b[0m \u001b[0mxnull\u001b[0m\u001b[0;34m=\u001b[0m\u001b[0;32mFalse\u001b[0m\u001b[0;34m)\u001b[0m\u001b[0;34m\u001b[0m\u001b[0;34m\u001b[0m\u001b[0m\n",
      "\u001b[0;32m/opt/anaconda3/envs/learn-env/lib/python3.6/site-packages/pandas/core/frame.py\u001b[0m in \u001b[0;36mf\u001b[0;34m(vals)\u001b[0m\n\u001b[1;32m   4861\u001b[0m         \u001b[0;32mdef\u001b[0m \u001b[0mf\u001b[0m\u001b[0;34m(\u001b[0m\u001b[0mvals\u001b[0m\u001b[0;34m)\u001b[0m\u001b[0;34m:\u001b[0m\u001b[0;34m\u001b[0m\u001b[0;34m\u001b[0m\u001b[0m\n\u001b[1;32m   4862\u001b[0m             labels, shape = algorithms.factorize(\n\u001b[0;32m-> 4863\u001b[0;31m                 \u001b[0mvals\u001b[0m\u001b[0;34m,\u001b[0m \u001b[0msize_hint\u001b[0m\u001b[0;34m=\u001b[0m\u001b[0mmin\u001b[0m\u001b[0;34m(\u001b[0m\u001b[0mlen\u001b[0m\u001b[0;34m(\u001b[0m\u001b[0mself\u001b[0m\u001b[0;34m)\u001b[0m\u001b[0;34m,\u001b[0m \u001b[0m_SIZE_HINT_LIMIT\u001b[0m\u001b[0;34m)\u001b[0m\u001b[0;34m\u001b[0m\u001b[0;34m\u001b[0m\u001b[0m\n\u001b[0m\u001b[1;32m   4864\u001b[0m             )\n\u001b[1;32m   4865\u001b[0m             \u001b[0;32mreturn\u001b[0m \u001b[0mlabels\u001b[0m\u001b[0;34m.\u001b[0m\u001b[0mastype\u001b[0m\u001b[0;34m(\u001b[0m\u001b[0;34m\"i8\"\u001b[0m\u001b[0;34m,\u001b[0m \u001b[0mcopy\u001b[0m\u001b[0;34m=\u001b[0m\u001b[0;32mFalse\u001b[0m\u001b[0;34m)\u001b[0m\u001b[0;34m,\u001b[0m \u001b[0mlen\u001b[0m\u001b[0;34m(\u001b[0m\u001b[0mshape\u001b[0m\u001b[0;34m)\u001b[0m\u001b[0;34m\u001b[0m\u001b[0;34m\u001b[0m\u001b[0m\n",
      "\u001b[0;32m/opt/anaconda3/envs/learn-env/lib/python3.6/site-packages/pandas/core/algorithms.py\u001b[0m in \u001b[0;36mfactorize\u001b[0;34m(values, sort, na_sentinel, size_hint)\u001b[0m\n\u001b[1;32m    634\u001b[0m \u001b[0;34m\u001b[0m\u001b[0m\n\u001b[1;32m    635\u001b[0m         codes, uniques = _factorize_array(\n\u001b[0;32m--> 636\u001b[0;31m             \u001b[0mvalues\u001b[0m\u001b[0;34m,\u001b[0m \u001b[0mna_sentinel\u001b[0m\u001b[0;34m=\u001b[0m\u001b[0mna_sentinel\u001b[0m\u001b[0;34m,\u001b[0m \u001b[0msize_hint\u001b[0m\u001b[0;34m=\u001b[0m\u001b[0msize_hint\u001b[0m\u001b[0;34m,\u001b[0m \u001b[0mna_value\u001b[0m\u001b[0;34m=\u001b[0m\u001b[0mna_value\u001b[0m\u001b[0;34m\u001b[0m\u001b[0;34m\u001b[0m\u001b[0m\n\u001b[0m\u001b[1;32m    637\u001b[0m         )\n\u001b[1;32m    638\u001b[0m \u001b[0;34m\u001b[0m\u001b[0m\n",
      "\u001b[0;32m/opt/anaconda3/envs/learn-env/lib/python3.6/site-packages/pandas/core/algorithms.py\u001b[0m in \u001b[0;36m_factorize_array\u001b[0;34m(values, na_sentinel, size_hint, na_value)\u001b[0m\n\u001b[1;32m    482\u001b[0m \u001b[0;34m\u001b[0m\u001b[0m\n\u001b[1;32m    483\u001b[0m     \u001b[0mtable\u001b[0m \u001b[0;34m=\u001b[0m \u001b[0mhash_klass\u001b[0m\u001b[0;34m(\u001b[0m\u001b[0msize_hint\u001b[0m \u001b[0;32mor\u001b[0m \u001b[0mlen\u001b[0m\u001b[0;34m(\u001b[0m\u001b[0mvalues\u001b[0m\u001b[0;34m)\u001b[0m\u001b[0;34m)\u001b[0m\u001b[0;34m\u001b[0m\u001b[0;34m\u001b[0m\u001b[0m\n\u001b[0;32m--> 484\u001b[0;31m     \u001b[0muniques\u001b[0m\u001b[0;34m,\u001b[0m \u001b[0mcodes\u001b[0m \u001b[0;34m=\u001b[0m \u001b[0mtable\u001b[0m\u001b[0;34m.\u001b[0m\u001b[0mfactorize\u001b[0m\u001b[0;34m(\u001b[0m\u001b[0mvalues\u001b[0m\u001b[0;34m,\u001b[0m \u001b[0mna_sentinel\u001b[0m\u001b[0;34m=\u001b[0m\u001b[0mna_sentinel\u001b[0m\u001b[0;34m,\u001b[0m \u001b[0mna_value\u001b[0m\u001b[0;34m=\u001b[0m\u001b[0mna_value\u001b[0m\u001b[0;34m)\u001b[0m\u001b[0;34m\u001b[0m\u001b[0;34m\u001b[0m\u001b[0m\n\u001b[0m\u001b[1;32m    485\u001b[0m \u001b[0;34m\u001b[0m\u001b[0m\n\u001b[1;32m    486\u001b[0m     \u001b[0mcodes\u001b[0m \u001b[0;34m=\u001b[0m \u001b[0mensure_platform_int\u001b[0m\u001b[0;34m(\u001b[0m\u001b[0mcodes\u001b[0m\u001b[0;34m)\u001b[0m\u001b[0;34m\u001b[0m\u001b[0;34m\u001b[0m\u001b[0m\n",
      "\u001b[0;32mpandas/_libs/hashtable_class_helper.pxi\u001b[0m in \u001b[0;36mpandas._libs.hashtable.PyObjectHashTable.factorize\u001b[0;34m()\u001b[0m\n",
      "\u001b[0;32mpandas/_libs/hashtable_class_helper.pxi\u001b[0m in \u001b[0;36mpandas._libs.hashtable.PyObjectHashTable._unique\u001b[0;34m()\u001b[0m\n",
      "\u001b[0;31mTypeError\u001b[0m: unhashable type: 'list'"
     ]
    }
   ],
   "source": [
    "df.duplicated(subset=None, keep='first').sum()"
   ]
  },
  {
   "cell_type": "code",
   "execution_count": null,
   "metadata": {},
   "outputs": [],
   "source": []
  },
  {
   "cell_type": "code",
   "execution_count": null,
   "metadata": {},
   "outputs": [],
   "source": []
  },
  {
   "cell_type": "code",
   "execution_count": null,
   "metadata": {},
   "outputs": [],
   "source": []
  },
  {
   "cell_type": "code",
   "execution_count": null,
   "metadata": {},
   "outputs": [],
   "source": []
  },
  {
   "cell_type": "code",
   "execution_count": null,
   "metadata": {},
   "outputs": [],
   "source": []
  },
  {
   "cell_type": "markdown",
   "metadata": {},
   "source": [
    "# SCRAP HEAP"
   ]
  },
  {
   "cell_type": "code",
   "execution_count": 526,
   "metadata": {},
   "outputs": [
    {
     "data": {
      "text/plain": [
       "{'augustan': [],\n",
       " 'beat': [],\n",
       " 'black_arts_movement': [],\n",
       " 'black_mountain': [],\n",
       " 'confessional': [],\n",
       " 'fugitive': [],\n",
       " 'georgian': [],\n",
       " 'harlem_renaissance': [],\n",
       " 'imagist': [],\n",
       " 'language_poetry': [],\n",
       " 'middle_english': [],\n",
       " 'modern': [],\n",
       " 'new_york_school': [],\n",
       " 'new_york_school_2nd_generation': [],\n",
       " 'objectivist': [],\n",
       " 'renaissance': [],\n",
       " 'romantic': [],\n",
       " 'victorian': []}"
      ]
     },
     "execution_count": 526,
     "metadata": {},
     "output_type": "execute_result"
    }
   ],
   "source": [
    "ultra_dict = {genre: [] for genre in poet_urls_dict.keys()}\n",
    "ultra_dict"
   ]
  },
  {
   "cell_type": "code",
   "execution_count": 46,
   "metadata": {},
   "outputs": [
    {
     "data": {
      "text/plain": [
       "<Response [200]>"
      ]
     },
     "execution_count": 46,
     "metadata": {},
     "output_type": "execute_result"
    }
   ],
   "source": [
    "s = rq.Session()\n",
    "s.get(genre_urls[0])"
   ]
  }
 ],
 "metadata": {
  "kernelspec": {
   "display_name": "Python [conda env:learn-env] *",
   "language": "python",
   "name": "conda-env-learn-env-py"
  },
  "language_info": {
   "codemirror_mode": {
    "name": "ipython",
    "version": 3
   },
   "file_extension": ".py",
   "mimetype": "text/x-python",
   "name": "python",
   "nbconvert_exporter": "python",
   "pygments_lexer": "ipython3",
   "version": "3.6.9"
  }
 },
 "nbformat": 4,
 "nbformat_minor": 2
}
