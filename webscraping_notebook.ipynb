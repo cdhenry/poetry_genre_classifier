{
 "cells": [
  {
   "cell_type": "code",
   "execution_count": 22,
   "metadata": {},
   "outputs": [
    {
     "name": "stdout",
     "output_type": "stream",
     "text": [
      "The autoreload extension is already loaded. To reload it, use:\n",
      "  %reload_ext autoreload\n"
     ]
    }
   ],
   "source": [
    "import pandas as pd\n",
    "import numpy as np\n",
    "\n",
    "import matplotlib.pyplot as plt\n",
    "import seaborn as sns; sns.set_style('ticks')\n",
    "\n",
    "import re\n",
    "from unicodedata import normalize\n",
    "\n",
    "import requests as rq\n",
    "from bs4 import BeautifulSoup as bs\n",
    "from selenium import webdriver\n",
    "\n",
    "\n",
    "import time\n",
    "import pickle\n",
    "\n",
    "from functions import *\n",
    "\n",
    "%load_ext autoreload\n",
    "%autoreload 2"
   ]
  },
  {
   "cell_type": "code",
   "execution_count": 2,
   "metadata": {},
   "outputs": [],
   "source": [
    "pd.set_option('max_colwidth', 150)"
   ]
  },
  {
   "cell_type": "markdown",
   "metadata": {},
   "source": [
    "##### Manually create dictionary with url codes for each genre."
   ]
  },
  {
   "cell_type": "code",
   "execution_count": 142,
   "metadata": {},
   "outputs": [],
   "source": [
    "genre_codes = {\n",
    "    'augustan': 149,\n",
    "    'beat': 150,\n",
    "    'black_arts_movement': 304,\n",
    "    'black_mountain': 151,\n",
    "    'confessional': 152,\n",
    "    'fugitive': 153,\n",
    "    'georgian': 154,\n",
    "    'harlem_renaissance': 155,\n",
    "    'imagist': 156,\n",
    "    'language_poetry': 157,\n",
    "    'middle_english': 158,\n",
    "    'modern': 159,\n",
    "    'new_york_school': 160,\n",
    "    'new_york_school_2nd_generation': 161,\n",
    "    'objectivist': 162,\n",
    "    'renaissance': 163,\n",
    "    'romantic': 164,\n",
    "    'victorian': 165\n",
    "}"
   ]
  },
  {
   "cell_type": "markdown",
   "metadata": {},
   "source": [
    "##### Run function in a loop to create dictionary of poet urls."
   ]
  },
  {
   "cell_type": "code",
   "execution_count": 193,
   "metadata": {},
   "outputs": [
    {
     "data": {
      "text/plain": [
       "['https://www.poetryfoundation.org/poets/mary-barber',\n",
       " 'https://www.poetryfoundation.org/poets/susanna-blamire',\n",
       " 'https://www.poetryfoundation.org/poets/henry-carey',\n",
       " 'https://www.poetryfoundation.org/poets/thomas-chatterton',\n",
       " 'https://www.poetryfoundation.org/poets/william-collins',\n",
       " 'https://www.poetryfoundation.org/poets/william-cowper',\n",
       " 'https://www.poetryfoundation.org/poets/daniel-defoe',\n",
       " 'https://www.poetryfoundation.org/poets/anne-finch',\n",
       " 'https://www.poetryfoundation.org/poets/john-gay',\n",
       " 'https://www.poetryfoundation.org/poets/oliver-goldsmith',\n",
       " 'https://www.poetryfoundation.org/poets/thomas-gray',\n",
       " 'https://www.poetryfoundation.org/poets/matthew-green',\n",
       " 'https://www.poetryfoundation.org/poets/warren-hastings',\n",
       " 'https://www.poetryfoundation.org/poets/samuel-johnson',\n",
       " 'https://www.poetryfoundation.org/poets/mary-jones',\n",
       " 'https://www.poetryfoundation.org/poets/lady-mary-wortley-montagu',\n",
       " 'https://www.poetryfoundation.org/poets/alexander-pope',\n",
       " 'https://www.poetryfoundation.org/poets/matthew-prior',\n",
       " 'https://www.poetryfoundation.org/poets/richard-brinsley-sheridan',\n",
       " 'https://www.poetryfoundation.org/poets/jonathan-swift',\n",
       " 'https://www.poetryfoundation.org/poets/james-thomson',\n",
       " 'https://www.poetryfoundation.org/poets/isaac-watts',\n",
       " 'https://www.poetryfoundation.org/poets/john-wesley']"
      ]
     },
     "execution_count": 193,
     "metadata": {},
     "output_type": "execute_result"
    }
   ],
   "source": [
    "poet_urls = {genre:poet_urls_by_genre(genre_code, 3) for genre,genre_code in genre_codes.items()}\n",
    "poet_urls['augustan']"
   ]
  },
  {
   "cell_type": "markdown",
   "metadata": {},
   "source": [
    "##### Loop only partially worked, so let's re-run sections in which some urls are missing."
   ]
  },
  {
   "cell_type": "code",
   "execution_count": 196,
   "metadata": {},
   "outputs": [],
   "source": [
    "poet_urls['black_arts_movement'] = poet_urls_by_genre(genre_codes['black_arts_movement'])"
   ]
  },
  {
   "cell_type": "code",
   "execution_count": 198,
   "metadata": {},
   "outputs": [],
   "source": [
    "poet_urls['modern'] = poet_urls_by_genre(genre_codes['modern'])"
   ]
  },
  {
   "cell_type": "code",
   "execution_count": 200,
   "metadata": {},
   "outputs": [],
   "source": [
    "poet_urls['renaissance'] = poet_urls_by_genre(genre_codes['renaissance'])"
   ]
  },
  {
   "cell_type": "code",
   "execution_count": 203,
   "metadata": {},
   "outputs": [],
   "source": [
    "poet_urls['romantic'] = poet_urls_by_genre(genre_codes['romantic'])"
   ]
  },
  {
   "cell_type": "code",
   "execution_count": 206,
   "metadata": {},
   "outputs": [],
   "source": [
    "poet_urls['victorian'] = poet_urls_by_genre(genre_codes['victorian'])"
   ]
  },
  {
   "cell_type": "code",
   "execution_count": 207,
   "metadata": {},
   "outputs": [
    {
     "data": {
      "text/plain": [
       "{'augustan': 23,\n",
       " 'beat': 13,\n",
       " 'black_arts_movement': 23,\n",
       " 'black_mountain': 10,\n",
       " 'confessional': 7,\n",
       " 'fugitive': 7,\n",
       " 'georgian': 22,\n",
       " 'harlem_renaissance': 17,\n",
       " 'imagist': 6,\n",
       " 'language_poetry': 18,\n",
       " 'middle_english': 3,\n",
       " 'modern': 54,\n",
       " 'new_york_school': 9,\n",
       " 'new_york_school_2nd_generation': 16,\n",
       " 'objectivist': 5,\n",
       " 'renaissance': 41,\n",
       " 'romantic': 51,\n",
       " 'victorian': 55}"
      ]
     },
     "execution_count": 207,
     "metadata": {},
     "output_type": "execute_result"
    }
   ],
   "source": [
    "# confirm all urls have been grabbed\n",
    "url_lens = {k:len(v) for k,v in poet_urls.items()}\n",
    "url_lens"
   ]
  },
  {
   "cell_type": "markdown",
   "metadata": {},
   "source": [
    "##### Pickle it! uncomment to save/load"
   ]
  },
  {
   "cell_type": "code",
   "execution_count": 5,
   "metadata": {},
   "outputs": [],
   "source": [
    "# with open('poet_urls_dict.pickle', 'wb') as w:\n",
    "#     pickle.dump(poet_urls, w, protocol=pickle.HIGHEST_PROTOCOL)\n",
    "\n",
    "with open('poet_urls_dict.pickle', 'rb') as r:\n",
    "    poet_urls_dict = pickle.load(r)"
   ]
  },
  {
   "cell_type": "markdown",
   "metadata": {},
   "source": [
    "##### Check for duplicate values"
   ]
  },
  {
   "cell_type": "code",
   "execution_count": 6,
   "metadata": {},
   "outputs": [
    {
     "data": {
      "text/html": [
       "<div>\n",
       "<style scoped>\n",
       "    .dataframe tbody tr th:only-of-type {\n",
       "        vertical-align: middle;\n",
       "    }\n",
       "\n",
       "    .dataframe tbody tr th {\n",
       "        vertical-align: top;\n",
       "    }\n",
       "\n",
       "    .dataframe thead th {\n",
       "        text-align: right;\n",
       "    }\n",
       "</style>\n",
       "<table border=\"1\" class=\"dataframe\">\n",
       "  <thead>\n",
       "    <tr style=\"text-align: right;\">\n",
       "      <th></th>\n",
       "      <th>0</th>\n",
       "      <th>1</th>\n",
       "    </tr>\n",
       "  </thead>\n",
       "  <tbody>\n",
       "    <tr>\n",
       "      <th>126</th>\n",
       "      <td>imagist</td>\n",
       "      <td>https://www.poetryfoundation.org/poets/ezra-pound</td>\n",
       "    </tr>\n",
       "    <tr>\n",
       "      <th>186</th>\n",
       "      <td>modern</td>\n",
       "      <td>https://www.poetryfoundation.org/poets/ezra-pound</td>\n",
       "    </tr>\n",
       "    <tr>\n",
       "      <th>122</th>\n",
       "      <td>imagist</td>\n",
       "      <td>https://www.poetryfoundation.org/poets/richard-aldington</td>\n",
       "    </tr>\n",
       "    <tr>\n",
       "      <th>150</th>\n",
       "      <td>modern</td>\n",
       "      <td>https://www.poetryfoundation.org/poets/richard-aldington</td>\n",
       "    </tr>\n",
       "  </tbody>\n",
       "</table>\n",
       "</div>"
      ],
      "text/plain": [
       "           0                                                         1\n",
       "126  imagist         https://www.poetryfoundation.org/poets/ezra-pound\n",
       "186   modern         https://www.poetryfoundation.org/poets/ezra-pound\n",
       "122  imagist  https://www.poetryfoundation.org/poets/richard-aldington\n",
       "150   modern  https://www.poetryfoundation.org/poets/richard-aldington"
      ]
     },
     "execution_count": 6,
     "metadata": {},
     "output_type": "execute_result"
    }
   ],
   "source": [
    "poet_df = pd.DataFrame([(genre,v) for genre in poet_urls_dict.keys() for v in poet_urls_dict[genre]])\n",
    "pd.concat(g for _, g in poet_df.groupby(1) if len(g) > 1)"
   ]
  },
  {
   "cell_type": "markdown",
   "metadata": {},
   "source": [
    "##### We'll give those poets to the imagist genre, since it has so few already"
   ]
  },
  {
   "cell_type": "code",
   "execution_count": 7,
   "metadata": {},
   "outputs": [
    {
     "data": {
      "text/plain": [
       "['https://www.poetryfoundation.org/poets/richard-aldington',\n",
       " 'https://www.poetryfoundation.org/poets/ezra-pound']"
      ]
     },
     "execution_count": 7,
     "metadata": {},
     "output_type": "execute_result"
    }
   ],
   "source": [
    "dups = [value for value in poet_df[poet_df.duplicated(1)][1]]\n",
    "dups"
   ]
  },
  {
   "cell_type": "code",
   "execution_count": 8,
   "metadata": {},
   "outputs": [
    {
     "data": {
      "text/plain": [
       "54"
      ]
     },
     "execution_count": 8,
     "metadata": {},
     "output_type": "execute_result"
    }
   ],
   "source": [
    "len(poet_urls_dict['modern'])"
   ]
  },
  {
   "cell_type": "code",
   "execution_count": 9,
   "metadata": {},
   "outputs": [
    {
     "data": {
      "text/plain": [
       "52"
      ]
     },
     "execution_count": 9,
     "metadata": {},
     "output_type": "execute_result"
    }
   ],
   "source": [
    "poet_urls_dict['modern'] = [url for url in poet_urls_dict['modern'] if url not in dups]\n",
    "len(poet_urls_dict['modern'])"
   ]
  },
  {
   "cell_type": "markdown",
   "metadata": {},
   "source": [
    "##### Instantiate an empty dataframe, then loop over each genre in our poet urls dictionary, create a dataframe for each genre and add that to the original dataframe, saving it after each concatenation"
   ]
  },
  {
   "cell_type": "code",
   "execution_count": null,
   "metadata": {
    "scrolled": true
   },
   "outputs": [],
   "source": [
    "# instantiate an empty dataframe\n",
    "df = pd.DataFrame()\n",
    "\n",
    "# loop over each genre, create dataframe with desired information,\n",
    "# concat to original dataframe, then save it before looping again\n",
    "for genre in list(poet_urls_dict.keys()):\n",
    "    genre_df = pf_scraper(poet_urls_dict, genre)\n",
    "    df = pd.concat([df, genre_df])\n",
    "    df.to_csv('data/poetry_foundation_raw.csv')"
   ]
  },
  {
   "cell_type": "code",
   "execution_count": null,
   "metadata": {},
   "outputs": [],
   "source": []
  },
  {
   "cell_type": "code",
   "execution_count": null,
   "metadata": {},
   "outputs": [],
   "source": []
  },
  {
   "cell_type": "markdown",
   "metadata": {},
   "source": [
    "# SCRAP HEAP"
   ]
  },
  {
   "cell_type": "code",
   "execution_count": 526,
   "metadata": {},
   "outputs": [
    {
     "data": {
      "text/plain": [
       "{'augustan': [],\n",
       " 'beat': [],\n",
       " 'black_arts_movement': [],\n",
       " 'black_mountain': [],\n",
       " 'confessional': [],\n",
       " 'fugitive': [],\n",
       " 'georgian': [],\n",
       " 'harlem_renaissance': [],\n",
       " 'imagist': [],\n",
       " 'language_poetry': [],\n",
       " 'middle_english': [],\n",
       " 'modern': [],\n",
       " 'new_york_school': [],\n",
       " 'new_york_school_2nd_generation': [],\n",
       " 'objectivist': [],\n",
       " 'renaissance': [],\n",
       " 'romantic': [],\n",
       " 'victorian': []}"
      ]
     },
     "execution_count": 526,
     "metadata": {},
     "output_type": "execute_result"
    }
   ],
   "source": [
    "ultra_dict = {genre: [] for genre in poet_urls_dict.keys()}\n",
    "ultra_dict"
   ]
  },
  {
   "cell_type": "code",
   "execution_count": 46,
   "metadata": {},
   "outputs": [
    {
     "data": {
      "text/plain": [
       "<Response [200]>"
      ]
     },
     "execution_count": 46,
     "metadata": {},
     "output_type": "execute_result"
    }
   ],
   "source": [
    "s = rq.Session()\n",
    "s.get(genre_urls[0])"
   ]
  }
 ],
 "metadata": {
  "kernelspec": {
   "display_name": "Python [conda env:learn-env] *",
   "language": "python",
   "name": "conda-env-learn-env-py"
  },
  "language_info": {
   "codemirror_mode": {
    "name": "ipython",
    "version": 3
   },
   "file_extension": ".py",
   "mimetype": "text/x-python",
   "name": "python",
   "nbconvert_exporter": "python",
   "pygments_lexer": "ipython3",
   "version": "3.6.9"
  }
 },
 "nbformat": 4,
 "nbformat_minor": 2
}
